{
 "cells": [
  {
   "cell_type": "code",
   "execution_count": null,
   "metadata": {
    "vscode": {
     "languageId": "plaintext"
    }
   },
   "outputs": [],
   "source": [
    "def generate_func(sample, distro, *args, n_samples=200):\n",
    "    if distro == 'gaussian' or distro == 'normal':\n",
    "        def var_func(var):\n",
    "            cdf = scipy.stats.norm(scale=var).cdf\n",
    "            return compute_ksstat(sample, cdf)\n",
    "        return var_func\n",
    "    elif distro == 'laplace':\n",
    "        def var_func(var):\n",
    "            cdf = scipy.stats.laplace(scale=var).cdf\n",
    "            return compute_ksstat(sample, cdf)\n",
    "        return var_func\n",
    "    elif distro == 't':\n",
    "        def var_func(var):\n",
    "            cdf = scipy.stats.t(df=2, scale=var).cdf\n",
    "            return compute_ksstat(sample, cdf)\n",
    "        return var_func\n",
    "    elif distro == 'prior_r':\n",
    "        eta = args[0]\n",
    "        def r_func(r):\n",
    "            cdf = compute_prior_cdf(r, eta, n_samples=n_samples)\n",
    "            return compute_ksstat(sample, cdf)\n",
    "        return r_func\n",
    "    elif distro == 'prior_eta':\n",
    "        r = args[0]\n",
    "        def eta_func(eta):\n",
    "            cdf = compute_prior_cdf(r, eta, n_samples=n_samples)\n",
    "            return compute_ksstat(sample, cdf)\n",
    "        return eta_func\n",
    "    elif distro == 'prior':\n",
    "        def r_eta_func(params):\n",
    "            r = params[0]\n",
    "            eta = params[1]\n",
    "            cdf = compute_prior_cdf(r, eta, n_samples=n_samples, debug=False)\n",
    "            return compute_ksstat(sample, cdf)\n",
    "        return r_eta_func\n",
    "\n",
    "    print(\"Please enter a valid argument for `distro`: 'gaussian', 'laplace', 'prior_r', 'prior_eta', 'prior', 't'\")\n",
    "\n",
    "for i, group in enumerate(GROUPS):\n",
    "    initial_param = np.array([master_df.loc[group, 'initial_r'], master_df.loc[group, 'initial_eta']])\n",
    "    print(f\"\\n{GROUP.capitalize()} {group}\\nInitial param:\", initial_param)\n",
    "    bounds = np.array(list(zip(initial_param - 0.1, initial_param + 0.1))) \n",
    "    bounds = np.where(bounds < 0, 0, bounds)\n",
    "    print(\"Bounds:\", bounds)\n",
    "    result = scipy.optimize.minimize(generate_func(group_data_map[group], distro='prior'),\n",
    "                                        x0=initial_param, \n",
    "                                        bounds=bounds)\n",
    "    print(result)\n",
    "    best_r, best_eta = result.x[0], result.x[1]\n",
    "    if result.fun < master_df.loc[group, 'kstest_stat_initial']:\n",
    "        master_df.loc[group, 'best_r'], master_df.loc[group, 'best_eta'] = best_r, best_eta\n",
    "        master_df.loc[group, 'kstest_stat_best'] = result.fun\n",
    "    else:\n",
    "        master_df.loc[group, 'best_r'], master_df.loc[group, 'best_eta'] = master_df.loc[group, 'initial_r'], master_df.loc[group, 'initial_eta'] \n",
    "        master_df.loc[group, 'kstest_stat_best'] = master_df.loc[group, 'kstest_stat_initial']\n",
    "    print(f\"% Reduction: {(master_df.loc[group,'kstest_stat_initial'] - result.fun)*100/result.fun}%\")\n",
    "master_df.to_csv(os.path.join(CWD, \"CSVs\", \"master_df_scipyoptimize.csv\"))\n",
    "\n",
    "master_df = pd.read_csv(os.path.join(CWD, \"CSVs\", \"master_df_scipyoptimize.csv\"), index_col=GROUP)\n",
    "master_df"
   ]
  }
 ],
 "metadata": {
  "language_info": {
   "name": "python"
  }
 },
 "nbformat": 4,
 "nbformat_minor": 2
}
