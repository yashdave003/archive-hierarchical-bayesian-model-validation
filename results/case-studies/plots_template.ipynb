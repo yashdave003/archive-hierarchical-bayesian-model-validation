{
 "cells": [
  {
   "cell_type": "markdown",
   "metadata": {},
   "source": [
    "#### After running main `<size>_<name>_<transform>_<channel>.ipynb` notebook, use this to regenerate plots as needed."
   ]
  },
  {
   "cell_type": "code",
   "execution_count": null,
   "metadata": {},
   "outputs": [],
   "source": [
    "DATA_NAME = 'approx1e5-pastis-wavelet-green' # size-name-transform-channel\n",
    "import git\n",
    "from pathlib import Path\n",
    "import os\n",
    "\n",
    "ROOT_DIR = Path(git.Repo('.', search_parent_directories=True).working_tree_dir)\n",
    "path_dict = dict(zip(['size', 'name', 'transform', 'channel'], DATA_NAME.split(\"-\")))\n",
    "CWD = os.path.join(ROOT_DIR, os.path.join(\"results\", \"case-studies\", path_dict['name'], path_dict['transform'], path_dict['size'], path_dict['channel']))\n",
    "assert CWD == os.getcwd()\n",
    "\n",
    "os.chdir(os.path.join(ROOT_DIR, \"utilities\"))\n",
    "from testing import * # If MATLAB is not installed, open utilities and set to False\n",
    "from plotting import *\n",
    "os.chdir(CWD)\n",
    "np.random.seed(0)\n",
    "\n",
    "GROUP = 'layer' if path_dict['transform'] == 'wavelet' else ('band' if path_dict['transform'] == 'fourier' else 'group')\n",
    "master_df = pd.read_csv(os.path.join(CWD, \"CSVs\", \"master_df.csv\"), index_col=GROUP)\n",
    "group_data_map = pd.read_pickle(os.path.join(ROOT_DIR, \"transformed-data\", f'{DATA_NAME}.pickle'))\n",
    "group_total_samples = pd.read_pickle(os.path.join(ROOT_DIR, \"transformed-data\", f'{DATA_NAME}-size.pickle'))\n",
    "GROUPS = sorted(master_df.index)\n",
    "SAVE_FIGS = False"
   ]
  },
  {
   "cell_type": "code",
   "execution_count": null,
   "metadata": {},
   "outputs": [],
   "source": [
    "n_bootstrap = int(1e5)\n",
    "bootstrap_size = int(1e4)\n",
    "ci = 0.99\n",
    "master_df"
   ]
  },
  {
   "cell_type": "code",
   "execution_count": null,
   "metadata": {},
   "outputs": [],
   "source": [
    "rEtaKsstats_dict = pd.read_pickle(os.path.join(CWD, \"cache\", \"rEtaKsstats_dict.pickle\"))\n",
    "group_cdf_df_dict = dict()\n",
    "for group in master_df.index:\n",
    "    group_cdf_df = pd.DataFrame(dict(zip(['r', 'eta', 'ksstat'], rEtaKsstats_dict[group])))\n",
    "    group_cdf_df['variance'] = np.nan_to_num(group_cdf_df.apply(lambda row : variance_prior(row.loc['r'], row.loc['eta']), axis = 1))\n",
    "    group_cdf_df['kurtosis'] = group_cdf_df.apply(lambda row : kurtosis_prior(row.loc['r'], row.loc['eta']), axis = 1)\n",
    "    group_cdf_df = add_tests_to_df(cdfs_df=group_cdf_df, group=group, var_kurt_df=master_df, ksstats=group_cdf_df['ksstat']).sort_values(['r', 'eta'])\n",
    "    group_cdf_df_dict[group] = group_cdf_df"
   ]
  },
  {
   "cell_type": "code",
   "execution_count": null,
   "metadata": {},
   "outputs": [],
   "source": [
    "for i, group in enumerate(GROUPS):\n",
    "    print(f\"####\\n{GROUP.capitalize()} \", group)\n",
    "    cols = ['pass_var', 'pass_kstest', 'pass_kurt']\n",
    "    fig = combo_test_plot(group_cdf_df_dict[group], cols, \n",
    "                            plot_name=f\"{GROUP.capitalize()} {group}: {', '.join([col[5:].capitalize() for col in cols])}\", \n",
    "                            target_var = master_df.loc[group, 'obs_var'],\n",
    "                            best_param = (master_df.loc[group, 'initial_r'], master_df.loc[group, 'initial_eta']))\n",
    "    if SAVE_FIGS:\n",
    "        fig.figure.savefig(os.path.join(CWD, \"plots\", f\"full_grid_search_combo_plot_layer{group}.jpg\"), bbox_inches = 'tight', dpi=600)"
   ]
  },
  {
   "cell_type": "code",
   "execution_count": null,
   "metadata": {},
   "outputs": [],
   "source": [
    "for group in GROUPS: \n",
    "    temp_df = group_cdf_df_dict[group]\n",
    "    eps = 0.5\n",
    "    filtered_df = temp_df[(temp_df['r'] > master_df.loc[group, 'initial_r'] - eps) & \n",
    "                    (temp_df['r'] < master_df.loc[group, 'initial_r'] + eps) &\n",
    "                    (temp_df['eta'] > master_df.loc[group, 'initial_eta'] - eps) &\n",
    "                    (temp_df['eta'] < master_df.loc[group, 'initial_eta'] + eps)]\n",
    "    \n",
    "    cols = ['pass_var', 'pass_kstest', 'pass_kurt']\n",
    "    fig = combo_test_plot(filtered_df, cols, \n",
    "                            plot_name=f\"{GROUP.capitalize()} {group} zoomed in: {', '.join([col[5:].capitalize() for col in cols])}\",\n",
    "                            best_param=(master_df.loc[group, 'best_r'], master_df.loc[group, f'best_eta']))\n",
    "    if SAVE_FIGS:\n",
    "        fig.figure.savefig(os.path.join(CWD, \"plots\", f\"optimized_full_grid_search_combo_plot_layer{group}.jpg\"), bbox_inches = 'tight', dpi=600)\n",
    "\n",
    "master_df"
   ]
  },
  {
   "cell_type": "code",
   "execution_count": null,
   "metadata": {},
   "outputs": [],
   "source": [
    "for group in GROUPS:\n",
    "    fig = visualize_cdf_pdf(sample = group_data_map[group], \n",
    "                    params = (master_df.loc[group]['best_r'], master_df.loc[group]['best_eta']), \n",
    "                    log_scale = True,\n",
    "                    group = group,\n",
    "                    interval = (-1000, 1000))\n",
    "    if SAVE_FIGS:\n",
    "        fig.savefig(os.path.join(CWD, \"plots\", f'compare_cdf_pdf_layer_{group}.jpg'), bbox_inches = 'tight', dpi = 600)"
   ]
  },
  {
   "cell_type": "code",
   "execution_count": null,
   "metadata": {},
   "outputs": [],
   "source": []
  }
 ],
 "metadata": {
  "kernelspec": {
   "display_name": "hbmv_backup2",
   "language": "python",
   "name": "python3"
  },
  "language_info": {
   "codemirror_mode": {
    "name": "ipython",
    "version": 3
   },
   "file_extension": ".py",
   "mimetype": "text/x-python",
   "name": "python",
   "nbconvert_exporter": "python",
   "pygments_lexer": "ipython3",
   "version": "3.11.9"
  }
 },
 "nbformat": 4,
 "nbformat_minor": 2
}
