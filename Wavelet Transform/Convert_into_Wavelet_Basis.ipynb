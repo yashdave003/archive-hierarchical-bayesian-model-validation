{
 "cells": [
  {
   "cell_type": "code",
   "execution_count": 5,
   "source": [
    "import numpy as np\n",
    "import pywt\n",
    "import matplotlib.pyplot as plt\n",
    "import random\n",
    "from scipy import stats\n",
    "import random\n",
    "import pywt.data\n",
    "from PIL import Image\n",
    "import pandas as pd\n",
    "import seaborn as sns\n",
    "import os\n",
    "import pickle"
   ],
   "outputs": [],
   "metadata": {}
  },
  {
   "cell_type": "code",
   "execution_count": 6,
   "source": [
    "\n",
    "# assign directory\n",
    "directory = '/Users/brandonmarks/Desktop/Research Materials/hierarchical-bayesian-model-validation/Data/Panoptic Agriculture/Original 400 Images'\n",
    " \n",
    "# iterate over files in\n",
    "# that directory\n",
    "file_list = [os.path.join(directory, filename) for filename in os.listdir(directory)]\n",
    "file_names = os.listdir(directory)"
   ],
   "outputs": [],
   "metadata": {}
  },
  {
   "cell_type": "code",
   "execution_count": 7,
   "source": [
    "df_dict = dict()\n",
    "image = Image.open(file_list[0]).convert('L')\n",
    "first_image = pywt.wavedec2(image, 'db1')\n",
    "layer_len = len(first_image)\n",
    "print(str(layer_len) + \" layers being used\")\n",
    "for i in range(layer_len):\n",
    "        df = pd.DataFrame(columns=[\"Image ID\", \"Orientation\", \"Data\"])\n",
    "        #df = pd.DataFrame(columns=[\"Image ID\", \"Orientation\", \"Data\", \"Flattened Data\"])\n",
    "        df_dict[i+1] = df"
   ],
   "outputs": [
    {
     "output_type": "stream",
     "name": "stdout",
     "text": [
      "8 layers being used\n"
     ]
    }
   ],
   "metadata": {}
  },
  {
   "cell_type": "code",
   "execution_count": 8,
   "source": [
    "for k in range(len(file_list)):\n",
    "    image = Image.open(file_list[k]).convert('L')\n",
    "    image = np.array(image)\n",
    "   \n",
    "    name = file_names[k].split(\".\")[0]\n",
    "    transformed = pywt.wavedec2(image, 'db1')\n",
    "    #df_dict[1].loc[len(df_dict[1].index)] = [name, \"ONELAYER\", np.array(transformed[0][0]), np.array(transformed[0][0]).flatten()]\n",
    "    df_dict[1].loc[len(df_dict[1].index)] = [name, \"ONELAYER\", np.array(transformed[0][0])]\n",
    "    direction_names = ['Horizontal detail', 'Vertical detail', 'Diagonal detail']\n",
    "\n",
    "    for i in range(1, layer_len): \n",
    "        for j in range(len(transformed[i])):\n",
    "            arr = np.array(transformed[i][j])\n",
    "            #df_dict[i+1].loc[len(df_dict[i+1].index)] = [name, direction_names[j], arr, arr.flatten()]\n",
    "            df_dict[i+1].loc[len(df_dict[i+1].index)] = [name, direction_names[j], arr]\n"
   ],
   "outputs": [],
   "metadata": {}
  },
  {
   "cell_type": "code",
   "execution_count": 9,
   "source": [
    "def convert_to_wavelet_basis(folder_dir,  normalized = True, basis=\"db1\"):\n",
    "    file_list = [os.path.join(folder_dir, filename) for filename in os.listdir(folder_dir)]\n",
    "    file_names = os.listdir(folder_dir)\n",
    "    #Setup df Dict\n",
    "    df_dict = dict()\n",
    "    image = Image.open(file_list[0]).convert('L')\n",
    "    first_image = pywt.wavedec2(image, basis)\n",
    "    layer_len = len(first_image)\n",
    "    print(str(layer_len) + \" layers being used\")\n",
    "    for i in range(layer_len):\n",
    "        #df = pd.DataFrame(columns=[\"Image ID\", \"Orientation\", \"Data\", \"Flattened Data\"])\n",
    "        df = pd.DataFrame(columns=[\"Image ID\", \"Orientation\", \"Data\"])\n",
    "        df_dict[i+1] = df\n",
    "    \n",
    "    \n",
    "    #Fill DF DICT\n",
    "    for k in range(len(file_list)):\n",
    "        image = Image.open(file_list[k]).convert('L')\n",
    "        image = np.array(image)\n",
    "        if normalized:\n",
    "            std= np.std(image)\n",
    "            mean = np.mean(image)\n",
    "            image = (image- mean)/std \n",
    "            #image = image * 255\n",
    "            \n",
    "        name = file_names[k].split(\".\")[0]\n",
    "        transformed = pywt.wavedec2(image, basis)\n",
    "        #df_dict[1].loc[len(df_dict[1].index)] = [name, \"ONELAYER\", np.array(transformed[0][0]), np.array(transformed[0][0]).flatten()]\n",
    "        df_dict[1].loc[len(df_dict[1].index)] = [name, \"ONELAYER\", np.array(transformed[0][0])]\n",
    "        direction_names = ['Horizontal detail', 'Vertical detail', 'Diagonal detail']\n",
    "\n",
    "        for i in range(1, layer_len): \n",
    "            for j in range(len(transformed[i])):\n",
    "                arr = np.array(transformed[i][j])\n",
    "                df_dict[i+1].loc[len(df_dict[i+1].index)] = [name, direction_names[j], arr]\n",
    "                #df_dict[i+1].loc[len(df_dict[i+1].index)] = [name, direction_names[j], arr.flatten()]\n",
    "\n",
    "    return df_dict"
   ],
   "outputs": [],
   "metadata": {}
  },
  {
   "cell_type": "code",
   "execution_count": 10,
   "source": [
    "converted = convert_to_wavelet_basis(directory, normalized = False)"
   ],
   "outputs": [
    {
     "output_type": "stream",
     "name": "stdout",
     "text": [
      "8 layers being used\n"
     ]
    }
   ],
   "metadata": {}
  },
  {
   "cell_type": "code",
   "execution_count": 11,
   "source": [
    "converted[4]"
   ],
   "outputs": [
    {
     "output_type": "execute_result",
     "data": {
      "text/html": [
       "<div>\n",
       "<style scoped>\n",
       "    .dataframe tbody tr th:only-of-type {\n",
       "        vertical-align: middle;\n",
       "    }\n",
       "\n",
       "    .dataframe tbody tr th {\n",
       "        vertical-align: top;\n",
       "    }\n",
       "\n",
       "    .dataframe thead th {\n",
       "        text-align: right;\n",
       "    }\n",
       "</style>\n",
       "<table border=\"1\" class=\"dataframe\">\n",
       "  <thead>\n",
       "    <tr style=\"text-align: right;\">\n",
       "      <th></th>\n",
       "      <th>Image ID</th>\n",
       "      <th>Orientation</th>\n",
       "      <th>Data</th>\n",
       "    </tr>\n",
       "  </thead>\n",
       "  <tbody>\n",
       "    <tr>\n",
       "      <th>0</th>\n",
       "      <td>test280</td>\n",
       "      <td>Horizontal detail</td>\n",
       "      <td>[[-26.062500000000057, 110.53125000000006, -35...</td>\n",
       "    </tr>\n",
       "    <tr>\n",
       "      <th>1</th>\n",
       "      <td>test280</td>\n",
       "      <td>Vertical detail</td>\n",
       "      <td>[[437.81250000000057, -17.031249999999886, -16...</td>\n",
       "    </tr>\n",
       "    <tr>\n",
       "      <th>2</th>\n",
       "      <td>test280</td>\n",
       "      <td>Diagonal detail</td>\n",
       "      <td>[[-103.56249999999997, 158.21875000000006, 205...</td>\n",
       "    </tr>\n",
       "    <tr>\n",
       "      <th>3</th>\n",
       "      <td>test294</td>\n",
       "      <td>Horizontal detail</td>\n",
       "      <td>[[-226.12499999999994, -114.18750000000016, 26...</td>\n",
       "    </tr>\n",
       "    <tr>\n",
       "      <th>4</th>\n",
       "      <td>test294</td>\n",
       "      <td>Vertical detail</td>\n",
       "      <td>[[729.4375000000014, 24.5625, -19.062500000000...</td>\n",
       "    </tr>\n",
       "    <tr>\n",
       "      <th>...</th>\n",
       "      <td>...</td>\n",
       "      <td>...</td>\n",
       "      <td>...</td>\n",
       "    </tr>\n",
       "    <tr>\n",
       "      <th>1198</th>\n",
       "      <td>test266</td>\n",
       "      <td>Vertical detail</td>\n",
       "      <td>[[17.812500000000455, 105.96875000000023, -156...</td>\n",
       "    </tr>\n",
       "    <tr>\n",
       "      <th>1199</th>\n",
       "      <td>test266</td>\n",
       "      <td>Diagonal detail</td>\n",
       "      <td>[[203.49999999999997, 130.09374999999997, -183...</td>\n",
       "    </tr>\n",
       "    <tr>\n",
       "      <th>1200</th>\n",
       "      <td>test299</td>\n",
       "      <td>Horizontal detail</td>\n",
       "      <td>[[-32.906250000000014, 70.375, 99.062500000000...</td>\n",
       "    </tr>\n",
       "    <tr>\n",
       "      <th>1201</th>\n",
       "      <td>test299</td>\n",
       "      <td>Vertical detail</td>\n",
       "      <td>[[-7.343749999999943, -83.75000000000006, -7.1...</td>\n",
       "    </tr>\n",
       "    <tr>\n",
       "      <th>1202</th>\n",
       "      <td>test299</td>\n",
       "      <td>Diagonal detail</td>\n",
       "      <td>[[16.96875000000001, -78.25000000000006, -1.37...</td>\n",
       "    </tr>\n",
       "  </tbody>\n",
       "</table>\n",
       "<p>1203 rows × 3 columns</p>\n",
       "</div>"
      ],
      "text/plain": [
       "     Image ID        Orientation  \\\n",
       "0     test280  Horizontal detail   \n",
       "1     test280    Vertical detail   \n",
       "2     test280    Diagonal detail   \n",
       "3     test294  Horizontal detail   \n",
       "4     test294    Vertical detail   \n",
       "...       ...                ...   \n",
       "1198  test266    Vertical detail   \n",
       "1199  test266    Diagonal detail   \n",
       "1200  test299  Horizontal detail   \n",
       "1201  test299    Vertical detail   \n",
       "1202  test299    Diagonal detail   \n",
       "\n",
       "                                                   Data  \n",
       "0     [[-26.062500000000057, 110.53125000000006, -35...  \n",
       "1     [[437.81250000000057, -17.031249999999886, -16...  \n",
       "2     [[-103.56249999999997, 158.21875000000006, 205...  \n",
       "3     [[-226.12499999999994, -114.18750000000016, 26...  \n",
       "4     [[729.4375000000014, 24.5625, -19.062500000000...  \n",
       "...                                                 ...  \n",
       "1198  [[17.812500000000455, 105.96875000000023, -156...  \n",
       "1199  [[203.49999999999997, 130.09374999999997, -183...  \n",
       "1200  [[-32.906250000000014, 70.375, 99.062500000000...  \n",
       "1201  [[-7.343749999999943, -83.75000000000006, -7.1...  \n",
       "1202  [[16.96875000000001, -78.25000000000006, -1.37...  \n",
       "\n",
       "[1203 rows x 3 columns]"
      ]
     },
     "metadata": {},
     "execution_count": 11
    }
   ],
   "metadata": {}
  },
  {
   "cell_type": "code",
   "execution_count": null,
   "source": [],
   "outputs": [],
   "metadata": {}
  },
  {
   "cell_type": "code",
   "execution_count": 12,
   "source": [
    "def dict_to_pickle(converted_directory, converted, name):\n",
    "    filename = name\n",
    "    filename = os.path.join(converted_directory, filename)\n",
    "    #converted[keys].to_csv(filename, sep=',', index=False, encoding='utf-8')\n",
    "    with open(filename+\".pickle\", 'wb') as handle:\n",
    "        pickle.dump(converted, handle, protocol=pickle.HIGHEST_PROTOCOL)"
   ],
   "outputs": [],
   "metadata": {}
  },
  {
   "cell_type": "code",
   "execution_count": 14,
   "source": [
    "norm_converted_directory = \"/Users/brandonmarks/Desktop/Research Materials/hierarchical-bayesian-model-validation/Wavelet Transform/Converted Panoptic Agricultural Data\"\n",
    "norm_converted = convert_to_wavelet_basis(directory, normalized = True)\n"
   ],
   "outputs": [
    {
     "output_type": "stream",
     "name": "stdout",
     "text": [
      "8 layers being used\n"
     ]
    }
   ],
   "metadata": {}
  },
  {
   "cell_type": "code",
   "execution_count": 15,
   "source": [
    "dict_to_pickle(norm_converted_directory, norm_converted, \"Toy_Data_Dict_Normalized\")"
   ],
   "outputs": [],
   "metadata": {}
  },
  {
   "cell_type": "code",
   "execution_count": 16,
   "source": [
    "wavedict = dict()\n",
    "for wv in pywt.wavelist(family=\"db\", kind='all'):\n",
    "    wavedict[wv] = convert_to_wavelet_basis(directory, normalized = True, basis= wv)"
   ],
   "outputs": [
    {
     "output_type": "stream",
     "name": "stdout",
     "text": [
      "8 layers being used\n",
      "6 layers being used\n",
      "5 layers being used\n",
      "5 layers being used\n",
      "4 layers being used\n",
      "4 layers being used\n",
      "4 layers being used\n",
      "4 layers being used\n",
      "3 layers being used\n",
      "3 layers being used\n",
      "3 layers being used\n",
      "3 layers being used\n",
      "3 layers being used\n",
      "3 layers being used\n",
      "3 layers being used\n",
      "3 layers being used\n",
      "2 layers being used\n",
      "2 layers being used\n",
      "2 layers being used\n",
      "2 layers being used\n",
      "2 layers being used\n",
      "2 layers being used\n",
      "2 layers being used\n",
      "2 layers being used\n",
      "2 layers being used\n",
      "2 layers being used\n",
      "2 layers being used\n",
      "2 layers being used\n",
      "2 layers being used\n",
      "2 layers being used\n",
      "2 layers being used\n",
      "2 layers being used\n",
      "1 layers being used\n",
      "1 layers being used\n",
      "1 layers being used\n",
      "1 layers being used\n",
      "1 layers being used\n",
      "1 layers being used\n"
     ]
    }
   ],
   "metadata": {}
  },
  {
   "cell_type": "code",
   "execution_count": 24,
   "source": [
    "wavedict[\"db1\"][2]"
   ],
   "outputs": [
    {
     "output_type": "execute_result",
     "data": {
      "text/html": [
       "<div>\n",
       "<style scoped>\n",
       "    .dataframe tbody tr th:only-of-type {\n",
       "        vertical-align: middle;\n",
       "    }\n",
       "\n",
       "    .dataframe tbody tr th {\n",
       "        vertical-align: top;\n",
       "    }\n",
       "\n",
       "    .dataframe thead th {\n",
       "        text-align: right;\n",
       "    }\n",
       "</style>\n",
       "<table border=\"1\" class=\"dataframe\">\n",
       "  <thead>\n",
       "    <tr style=\"text-align: right;\">\n",
       "      <th></th>\n",
       "      <th>Image ID</th>\n",
       "      <th>Orientation</th>\n",
       "      <th>Data</th>\n",
       "    </tr>\n",
       "  </thead>\n",
       "  <tbody>\n",
       "    <tr>\n",
       "      <th>0</th>\n",
       "      <td>test280</td>\n",
       "      <td>Horizontal detail</td>\n",
       "      <td>[[15.097398379511953]]</td>\n",
       "    </tr>\n",
       "    <tr>\n",
       "      <th>1</th>\n",
       "      <td>test280</td>\n",
       "      <td>Vertical detail</td>\n",
       "      <td>[[4.01584112136266]]</td>\n",
       "    </tr>\n",
       "    <tr>\n",
       "      <th>2</th>\n",
       "      <td>test280</td>\n",
       "      <td>Diagonal detail</td>\n",
       "      <td>[[-40.29709225846689]]</td>\n",
       "    </tr>\n",
       "    <tr>\n",
       "      <th>3</th>\n",
       "      <td>test294</td>\n",
       "      <td>Horizontal detail</td>\n",
       "      <td>[[-9.48243891349189]]</td>\n",
       "    </tr>\n",
       "    <tr>\n",
       "      <th>4</th>\n",
       "      <td>test294</td>\n",
       "      <td>Vertical detail</td>\n",
       "      <td>[[25.425022566466232]]</td>\n",
       "    </tr>\n",
       "    <tr>\n",
       "      <th>...</th>\n",
       "      <td>...</td>\n",
       "      <td>...</td>\n",
       "      <td>...</td>\n",
       "    </tr>\n",
       "    <tr>\n",
       "      <th>1198</th>\n",
       "      <td>test266</td>\n",
       "      <td>Vertical detail</td>\n",
       "      <td>[[27.03492226503848]]</td>\n",
       "    </tr>\n",
       "    <tr>\n",
       "      <th>1199</th>\n",
       "      <td>test266</td>\n",
       "      <td>Diagonal detail</td>\n",
       "      <td>[[-8.645539343005757]]</td>\n",
       "    </tr>\n",
       "    <tr>\n",
       "      <th>1200</th>\n",
       "      <td>test299</td>\n",
       "      <td>Horizontal detail</td>\n",
       "      <td>[[-29.398485388556086]]</td>\n",
       "    </tr>\n",
       "    <tr>\n",
       "      <th>1201</th>\n",
       "      <td>test299</td>\n",
       "      <td>Vertical detail</td>\n",
       "      <td>[[37.359392048426656]]</td>\n",
       "    </tr>\n",
       "    <tr>\n",
       "      <th>1202</th>\n",
       "      <td>test299</td>\n",
       "      <td>Diagonal detail</td>\n",
       "      <td>[[-47.050038954517035]]</td>\n",
       "    </tr>\n",
       "  </tbody>\n",
       "</table>\n",
       "<p>1203 rows × 3 columns</p>\n",
       "</div>"
      ],
      "text/plain": [
       "     Image ID        Orientation                     Data\n",
       "0     test280  Horizontal detail   [[15.097398379511953]]\n",
       "1     test280    Vertical detail     [[4.01584112136266]]\n",
       "2     test280    Diagonal detail   [[-40.29709225846689]]\n",
       "3     test294  Horizontal detail    [[-9.48243891349189]]\n",
       "4     test294    Vertical detail   [[25.425022566466232]]\n",
       "...       ...                ...                      ...\n",
       "1198  test266    Vertical detail    [[27.03492226503848]]\n",
       "1199  test266    Diagonal detail   [[-8.645539343005757]]\n",
       "1200  test299  Horizontal detail  [[-29.398485388556086]]\n",
       "1201  test299    Vertical detail   [[37.359392048426656]]\n",
       "1202  test299    Diagonal detail  [[-47.050038954517035]]\n",
       "\n",
       "[1203 rows x 3 columns]"
      ]
     },
     "metadata": {},
     "execution_count": 24
    }
   ],
   "metadata": {}
  },
  {
   "cell_type": "markdown",
   "source": [],
   "metadata": {}
  }
 ],
 "metadata": {
  "orig_nbformat": 4,
  "language_info": {
   "name": "python",
   "version": "3.8.8",
   "mimetype": "text/x-python",
   "codemirror_mode": {
    "name": "ipython",
    "version": 3
   },
   "pygments_lexer": "ipython3",
   "nbconvert_exporter": "python",
   "file_extension": ".py"
  },
  "kernelspec": {
   "name": "python3",
   "display_name": "Python 3.8.8 64-bit ('base': conda)"
  },
  "interpreter": {
   "hash": "7e5f984cc8cd8c47dcd3acda73327432e6be76c353527f01c56663ba6bbc3ba9"
  }
 },
 "nbformat": 4,
 "nbformat_minor": 2
}