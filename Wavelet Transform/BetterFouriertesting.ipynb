{
 "cells": [
  {
   "cell_type": "code",
   "execution_count": null,
   "source": [
    "import numpy as np\n",
    "import pywt\n",
    "import matplotlib.pyplot as plt\n",
    "import random\n",
    "from scipy import stats\n",
    "from scipy import fft\n",
    "import random\n",
    "import pywt.data\n",
    "from PIL import Image\n",
    "import pandas as pd\n",
    "import seaborn as sns\n",
    "import os\n",
    "import pickle"
   ],
   "outputs": [],
   "metadata": {}
  },
  {
   "cell_type": "code",
   "execution_count": null,
   "source": [
    "# assign directory\n",
    "ROOT_DIR = '/Users/brandonmarks/Desktop/Research Materials/hierarchical-bayesian-model-validation/'\n",
    "data_dir = ROOT_DIR + 'Data/Panoptic Argiculture 2/Toy dataset - rgb cleaned'\n",
    " \n",
    "# iterate over files in that directory\n",
    "file_list = [os.path.join(data_dir, filename) for filename in os.listdir(data_dir)]\n",
    "file_names = os.listdir(data_dir)\n"
   ],
   "outputs": [],
   "metadata": {}
  },
  {
   "cell_type": "code",
   "execution_count": null,
   "source": [
    "def getIndexDF(image, no_zero =False):\n",
    "    x_freqs = fft.fftfreq(image.shape[0])\n",
    "    y_freqs = fft.fftfreq(image.shape[1])\n",
    "    coord_df = pd.DataFrame()\n",
    "    coord_df[\"index_coords\"] = [(x,y) for x in np.arange(image.shape[0]) for y in np.arange(image.shape[0])]\n",
    "    coord_df[\"x_index\"] = [x for x in np.arange(image.shape[0]) for y in np.arange(image.shape[0])]\n",
    "    coord_df[\"y_index\"] = [y for x in np.arange(image.shape[0]) for y in np.arange(image.shape[0])]\n",
    "    coord_df[\"x_freq\"] = [x_freqs[x] for x in np.arange(image.shape[0]) for y in np.arange(image.shape[0])]\n",
    "    coord_df[\"y_freq\"] = [y_freqs[y] for x in np.arange(image.shape[0]) for y in np.arange(image.shape[0])]\n",
    "    coord_df[\"magnitude\"] = np.sqrt(coord_df[\"x_freq\"] ** 2 + coord_df[\"y_freq\"] **2)\n",
    "    coord_df = coord_df.set_index([\"index_coords\"])\n",
    "    coord_df = coord_df[(coord_df[\"x_freq\"] >= 0 )& (coord_df[\"y_freq\"] >= 0)]\n",
    "    if no_zero:\n",
    "        coord_df = coord_df[(coord_df[\"x_freq\"] != 0 )| (coord_df[\"y_freq\"] != 0)]\n",
    "    return coord_df"
   ],
   "outputs": [],
   "metadata": {}
  },
  {
   "cell_type": "code",
   "execution_count": null,
   "source": [
    "def convert_fourier_list(folder_dir, c):\n",
    "    file_list = [os.path.join(folder_dir, filename) for filename in os.listdir(folder_dir)]\n",
    "    image = np.array(Image.open(file_list[0]).convert('L'))\n",
    "    coord_df = getIndexDF(image, no_zero =False).sort_values([\"magnitude\"])\n",
    "    x = coord_df[\"x_index\"].to_numpy()\n",
    "    y = coord_df[\"y_index\"].to_numpy()\n",
    "    magnitudes = coord_df[\"magnitude\"]\n",
    "    freq_arr = []\n",
    "    mag_arr =  []\n",
    "    for k in range(len(file_list)):\n",
    "        if c == 3:\n",
    "            image = np.array(Image.open(file_list[k]).convert('L'))\n",
    "        else:\n",
    "            image = np.array(Image.open(file_list[k]))[:,:,c]\n",
    "        transformed = np.array(fft.fft2(image))\n",
    "        freq_arr.append(transformed[tuple(x), tuple(y)])\n",
    "        mag_arr.append(magnitudes)\n",
    "    sample = np.concatenate(np.array(freq_arr).T)\n",
    "    mag_flat = np.concatenate(np.array(mag_arr).T)\n",
    "    return sample, mag_flat"
   ],
   "outputs": [],
   "metadata": {}
  },
  {
   "cell_type": "code",
   "execution_count": null,
   "source": [
    "freqs, mags = convert_fourier_list(data_dir, 3)\n"
   ],
   "outputs": [],
   "metadata": {}
  },
  {
   "cell_type": "code",
   "execution_count": null,
   "source": [
    "n = (mags[-1] + mags[0])/2\n",
    "idx = np.argmax(mags>n)\n",
    "first_sample = np.concatenate([np.real(freqs[:idx]),np.imag(freqs[:idx])])\n",
    "second_sample = np.concatenate([np.real(freqs[idx:]),np.imag(freqs[idx:])])\n",
    "first_sample,second_sample"
   ],
   "outputs": [],
   "metadata": {}
  },
  {
   "cell_type": "code",
   "execution_count": null,
   "source": [
    "mags,freqs = mags[idx:], freqs[idx:]\n"
   ],
   "outputs": [],
   "metadata": {}
  },
  {
   "cell_type": "code",
   "execution_count": null,
   "source": [
    "n = (mags[-1] + mags[0])/2\n",
    "idx = np.argmax(mags>n)\n",
    "first_sample = np.concatenate([np.real(freqs[:idx]),np.imag(freqs[:idx])])\n",
    "second_sample = np.concatenate([np.real(freqs[idx:]),np.imag(freqs[idx:])])\n",
    "first_sample,second_sample"
   ],
   "outputs": [],
   "metadata": {}
  },
  {
   "cell_type": "code",
   "execution_count": null,
   "source": [
    "stats.ks_2samp(first_sample, second_sample).statistic"
   ],
   "outputs": [],
   "metadata": {}
  },
  {
   "cell_type": "code",
   "execution_count": null,
   "source": [
    "def recursive_split(freqs, mags, threshold =0.05, max_depth = 5):\n",
    "    magnitude_splits = []\n",
    "    def recursive_helper(freqs, mags, magnitude_splits, depth):\n",
    "        n = (mags[-1] + mags[0])/2\n",
    "        idx = np.argmax(mags>n)\n",
    "        first_sample = np.concatenate([np.real(freqs[:idx]),np.imag(freqs[:idx])])\n",
    "        second_sample = np.concatenate([np.real(freqs[idx:]),np.imag(freqs[idx:])])\n",
    "        stat = stats.ks_2samp(first_sample, second_sample).statistic\n",
    "        if stat > threshold and depth > 0:\n",
    "            magnitude_splits.append(n)\n",
    "            recursive_helper(freqs[:idx], mags[:idx], magnitude_splits, depth-1)\n",
    "            recursive_helper(freqs[idx:], mags[idx:], magnitude_splits, depth-1)\n",
    "    recursive_helper(freqs, mags, magnitude_splits, max_depth)\n",
    "    return magnitude_splits\n",
    "\n",
    "\n",
    "\n"
   ],
   "outputs": [],
   "metadata": {}
  },
  {
   "cell_type": "code",
   "execution_count": null,
   "source": [
    "mag_splits = recursive_split(freqs, mags, threshold =0.05)\n",
    "mag_splits"
   ],
   "outputs": [],
   "metadata": {}
  },
  {
   "cell_type": "code",
   "execution_count": null,
   "source": [
    "df = pd.DataFrame(columns=[\"Band\", \"Channel\", \"Magnitudes\", \"Data\"])\n",
    "sorted_mag_split = np.sort(mag_splits)\n",
    "prev = 0\n",
    "for i in range(len(mag_splits)):\n",
    "    next_idx = np.argmax(mags>sorted_mag_split[i])\n",
    "    next_freqs = freqs[prev:next_idx]\n",
    "    next_mags = mags[prev:next_idx]\n",
    "    df.loc[len(df.index)] = [i+1, \"Gray\", next_mags, next_freqs]\n",
    "    prev = next_idx\n",
    "\n",
    "df"
   ],
   "outputs": [],
   "metadata": {}
  },
  {
   "cell_type": "code",
   "execution_count": null,
   "source": [
    "def convert_to_fourier_basis(folder_dir, color, threshold =0.05, max_depth = 5):\n",
    "    color_dict = {\"Red\":0, \"Green\":1, \"Blue\":2, \"Gray\":3}\n",
    "    c = color_dict[color]\n",
    "    freqs, mags = convert_fourier_list(folder_dir, c)\n",
    "    \n",
    "    mag_splits = recursive_split(freqs, mags, threshold, max_depth)\n",
    "    df = pd.DataFrame(columns=[\"Band\", \"Channel\", \"Magnitudes\", \"Data\"])\n",
    "    sorted_mag_split = np.sort(mag_splits)\n",
    "    prev = 0\n",
    "    for i in range(len(mag_splits)):\n",
    "        next_idx = np.argmax(mags>sorted_mag_split[i])\n",
    "        next_freqs = np.concatenate([np.real(freqs[prev:next_idx]),np.imag(freqs[prev:next_idx])])\n",
    "        next_mags = np.concatenate([mags[prev:next_idx],mags[prev:next_idx]])\n",
    "        df.loc[len(df.index)] = [i+1, color, next_mags, next_freqs]\n",
    "        prev = next_idx\n",
    "\n",
    "    return df"
   ],
   "outputs": [],
   "metadata": {}
  },
  {
   "cell_type": "code",
   "execution_count": null,
   "source": [
    "converted = convert_to_fourier_basis(data_dir, \"Gray\", threshold =0.05)\n",
    "converted"
   ],
   "outputs": [],
   "metadata": {}
  },
  {
   "cell_type": "code",
   "execution_count": null,
   "source": [
    "len(converted[\"Data\"][7])"
   ],
   "outputs": [],
   "metadata": {}
  },
  {
   "cell_type": "code",
   "execution_count": null,
   "source": [],
   "outputs": [],
   "metadata": {}
  }
 ],
 "metadata": {
  "orig_nbformat": 4,
  "language_info": {
   "name": "python",
   "version": "3.8.8",
   "mimetype": "text/x-python",
   "codemirror_mode": {
    "name": "ipython",
    "version": 3
   },
   "pygments_lexer": "ipython3",
   "nbconvert_exporter": "python",
   "file_extension": ".py"
  },
  "kernelspec": {
   "name": "python3",
   "display_name": "Python 3.8.8 64-bit ('base': conda)"
  },
  "interpreter": {
   "hash": "7e5f984cc8cd8c47dcd3acda73327432e6be76c353527f01c56663ba6bbc3ba9"
  }
 },
 "nbformat": 4,
 "nbformat_minor": 2
}