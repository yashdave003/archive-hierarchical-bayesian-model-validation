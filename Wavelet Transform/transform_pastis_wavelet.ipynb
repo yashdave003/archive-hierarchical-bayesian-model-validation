{
 "cells": [
  {
   "cell_type": "code",
   "execution_count": 1,
   "metadata": {},
   "outputs": [],
   "source": [
    "import numpy as np\n",
    "import pywt\n",
    "import matplotlib.pyplot as plt\n",
    "import random\n",
    "from scipy import stats\n",
    "import random\n",
    "import pywt.data\n",
    "from PIL import Image\n",
    "import pandas as pd\n",
    "import seaborn as sns\n",
    "import os\n",
    "import pickle"
   ]
  },
  {
   "cell_type": "code",
   "execution_count": 2,
   "metadata": {},
   "outputs": [],
   "source": [
    "# assign directory\n",
    "ROOT_DIR = '/Users/yashd/Desktop/hierarchical-bayesian-model-validation/'\n",
    "data_dir = ROOT_DIR + 'raw-data/pastis/full-pastis-grey/'\n",
    " \n",
    "# iterate over files in that directory\n",
    "file_list = [os.path.join(data_dir, filename) for filename in os.listdir(data_dir)]\n",
    "file_names = os.listdir(data_dir)"
   ]
  },
  {
   "cell_type": "code",
   "execution_count": 3,
   "metadata": {},
   "outputs": [
    {
     "name": "stdout",
     "output_type": "stream",
     "text": [
      "8 layers being used\n"
     ]
    }
   ],
   "source": [
    "df_dict = dict()\n",
    "image = Image.open(file_list[0]).convert('L')\n",
    "first_image = pywt.wavedec2(image, 'db1')\n",
    "layer_len = len(first_image)\n",
    "print(str(layer_len) + \" layers being used\")\n",
    "for i in range(layer_len):\n",
    "        df = pd.DataFrame(columns=[\"Image ID\", \"Orientation\", \"Data\"])\n",
    "        df_dict[i+1] = df"
   ]
  },
  {
   "cell_type": "code",
   "execution_count": 4,
   "metadata": {},
   "outputs": [],
   "source": [
    "for k in range(len(file_list)):\n",
    "    image = Image.open(file_list[k]).convert('L')\n",
    "    image = np.array(image)\n",
    "   \n",
    "    name = file_names[k].split(\".\")[0]\n",
    "    transformed = pywt.wavedec2(image, 'db1')\n",
    "    df_dict[1].loc[len(df_dict[1].index)] = [name, \"L1\", np.array(transformed[0][0]).flatten()]\n",
    "    direction_names = ['H', 'V', 'D']\n",
    "\n",
    "    for i in range(1, layer_len): \n",
    "        for j in range(len(transformed[i])):\n",
    "            arr = np.array(transformed[i][j])\n",
    "            df_dict[i+1].loc[len(df_dict[i+1].index)] = [name, direction_names[j], arr.flatten()]\n"
   ]
  },
  {
   "cell_type": "code",
   "execution_count": 5,
   "metadata": {},
   "outputs": [],
   "source": [
    "def convert_to_wavelet_basis(folder_dir,  normalized = True, basis=\"db1\"):\n",
    "    \n",
    "    file_list = [os.path.join(folder_dir, filename) for filename in os.listdir(folder_dir)]\n",
    "    file_names = os.listdir(folder_dir)\n",
    "    # Setup df dict\n",
    "    df_dict = dict()\n",
    "    image = Image.open(file_list[0]).convert('L')\n",
    "    first_image = pywt.wavedec2(image, basis)\n",
    "    layer_len = len(first_image)\n",
    "    print(str(layer_len) + \" layers being used\")\n",
    "    for i in range(layer_len):\n",
    "        df = pd.DataFrame(columns=[\"Image ID\", \"Orientation\", \"Data\"])\n",
    "        df_dict[i+1] = df\n",
    "    \n",
    "    \n",
    "    # fill df dict\n",
    "    for k in range(len(file_list)):\n",
    "        image = Image.open(file_list[k]).convert('L')\n",
    "        image = np.array(image)\n",
    "        if normalized:\n",
    "            std= np.std(image)\n",
    "            mean = np.mean(image)\n",
    "            image = (image- mean)/std \n",
    "            \n",
    "        name = file_names[k].split(\".\")[0]\n",
    "        transformed = pywt.wavedec2(image, basis)\n",
    "        df_dict[1].loc[len(df_dict[1].index)] = [name, \"L1\", np.array(transformed[0][0]).flatten()]\n",
    "        direction_names = ['H', 'V', 'D']\n",
    "\n",
    "        for i in range(1, layer_len): \n",
    "            for j in range(len(transformed[i])):\n",
    "                arr = np.array(transformed[i][j])\n",
    "                df_dict[i+1].loc[len(df_dict[i+1].index)] = [name, direction_names[j], arr.flatten()]\n",
    "\n",
    "    return df_dict"
   ]
  },
  {
   "cell_type": "code",
   "execution_count": 6,
   "metadata": {},
   "outputs": [
    {
     "name": "stdout",
     "output_type": "stream",
     "text": [
      "8 layers being used\n"
     ]
    }
   ],
   "source": [
    "converted = convert_to_wavelet_basis(data_dir, normalized = False)"
   ]
  },
  {
   "cell_type": "code",
   "execution_count": 7,
   "metadata": {},
   "outputs": [
    {
     "data": {
      "text/html": [
       "<div>\n",
       "<style scoped>\n",
       "    .dataframe tbody tr th:only-of-type {\n",
       "        vertical-align: middle;\n",
       "    }\n",
       "\n",
       "    .dataframe tbody tr th {\n",
       "        vertical-align: top;\n",
       "    }\n",
       "\n",
       "    .dataframe thead th {\n",
       "        text-align: right;\n",
       "    }\n",
       "</style>\n",
       "<table border=\"1\" class=\"dataframe\">\n",
       "  <thead>\n",
       "    <tr style=\"text-align: right;\">\n",
       "      <th></th>\n",
       "      <th>Image ID</th>\n",
       "      <th>Orientation</th>\n",
       "      <th>Data</th>\n",
       "    </tr>\n",
       "  </thead>\n",
       "  <tbody>\n",
       "    <tr>\n",
       "      <th>0</th>\n",
       "      <td>test0</td>\n",
       "      <td>H</td>\n",
       "      <td>[-54.179687499999915]</td>\n",
       "    </tr>\n",
       "    <tr>\n",
       "      <th>1</th>\n",
       "      <td>test0</td>\n",
       "      <td>V</td>\n",
       "      <td>[-287.7421875]</td>\n",
       "    </tr>\n",
       "    <tr>\n",
       "      <th>2</th>\n",
       "      <td>test0</td>\n",
       "      <td>D</td>\n",
       "      <td>[-425.6171874999998]</td>\n",
       "    </tr>\n",
       "    <tr>\n",
       "      <th>3</th>\n",
       "      <td>test1</td>\n",
       "      <td>H</td>\n",
       "      <td>[-304.5703125000002]</td>\n",
       "    </tr>\n",
       "    <tr>\n",
       "      <th>4</th>\n",
       "      <td>test1</td>\n",
       "      <td>V</td>\n",
       "      <td>[625.9453124999991]</td>\n",
       "    </tr>\n",
       "    <tr>\n",
       "      <th>...</th>\n",
       "      <td>...</td>\n",
       "      <td>...</td>\n",
       "      <td>...</td>\n",
       "    </tr>\n",
       "    <tr>\n",
       "      <th>4765</th>\n",
       "      <td>test996</td>\n",
       "      <td>V</td>\n",
       "      <td>[1853.7500000000023]</td>\n",
       "    </tr>\n",
       "    <tr>\n",
       "      <th>4766</th>\n",
       "      <td>test996</td>\n",
       "      <td>D</td>\n",
       "      <td>[390.04687500000017]</td>\n",
       "    </tr>\n",
       "    <tr>\n",
       "      <th>4767</th>\n",
       "      <td>test998</td>\n",
       "      <td>H</td>\n",
       "      <td>[-6.374999999999773]</td>\n",
       "    </tr>\n",
       "    <tr>\n",
       "      <th>4768</th>\n",
       "      <td>test998</td>\n",
       "      <td>V</td>\n",
       "      <td>[252.18750000000045]</td>\n",
       "    </tr>\n",
       "    <tr>\n",
       "      <th>4769</th>\n",
       "      <td>test998</td>\n",
       "      <td>D</td>\n",
       "      <td>[-340.2968750000003]</td>\n",
       "    </tr>\n",
       "  </tbody>\n",
       "</table>\n",
       "<p>4770 rows × 3 columns</p>\n",
       "</div>"
      ],
      "text/plain": [
       "     Image ID Orientation                   Data\n",
       "0       test0           H  [-54.179687499999915]\n",
       "1       test0           V         [-287.7421875]\n",
       "2       test0           D   [-425.6171874999998]\n",
       "3       test1           H   [-304.5703125000002]\n",
       "4       test1           V    [625.9453124999991]\n",
       "...       ...         ...                    ...\n",
       "4765  test996           V   [1853.7500000000023]\n",
       "4766  test996           D   [390.04687500000017]\n",
       "4767  test998           H   [-6.374999999999773]\n",
       "4768  test998           V   [252.18750000000045]\n",
       "4769  test998           D   [-340.2968750000003]\n",
       "\n",
       "[4770 rows x 3 columns]"
      ]
     },
     "execution_count": 7,
     "metadata": {},
     "output_type": "execute_result"
    }
   ],
   "source": [
    "converted[2]"
   ]
  },
  {
   "cell_type": "code",
   "execution_count": 8,
   "metadata": {},
   "outputs": [],
   "source": [
    "def dict_to_pickle(converted_directory, converted, name):\n",
    "    filename = name\n",
    "    filename = os.path.join(converted_directory, filename)\n",
    "    with open(filename+\".pickle\", 'wb') as handle:\n",
    "        pickle.dump(converted, handle, protocol=pickle.HIGHEST_PROTOCOL)"
   ]
  },
  {
   "cell_type": "code",
   "execution_count": 10,
   "metadata": {},
   "outputs": [
    {
     "name": "stdout",
     "output_type": "stream",
     "text": [
      "8 layers being used\n"
     ]
    }
   ],
   "source": [
    "norm_converted_directory = ROOT_DIR + 'transformed-data/'\n",
    "norm_converted = convert_to_wavelet_basis(data_dir, normalized = True)"
   ]
  },
  {
   "cell_type": "code",
   "execution_count": 11,
   "metadata": {},
   "outputs": [
    {
     "data": {
      "text/plain": [
       "'/Users/yashd/Desktop/hierarchical-bayesian-model-validation/transformed-data/'"
      ]
     },
     "execution_count": 11,
     "metadata": {},
     "output_type": "execute_result"
    }
   ],
   "source": [
    "norm_converted_directory"
   ]
  },
  {
   "cell_type": "code",
   "execution_count": 13,
   "metadata": {},
   "outputs": [],
   "source": [
    "dict_to_pickle(norm_converted_directory, norm_converted, \"full-pastis-grey-wavelet\")"
   ]
  },
  {
   "cell_type": "markdown",
   "metadata": {},
   "source": []
  }
 ],
 "metadata": {
  "interpreter": {
   "hash": "7e5f984cc8cd8c47dcd3acda73327432e6be76c353527f01c56663ba6bbc3ba9"
  },
  "kernelspec": {
   "display_name": "Python 3.8.8 64-bit ('base': conda)",
   "name": "python3"
  },
  "language_info": {
   "codemirror_mode": {
    "name": "ipython",
    "version": 3
   },
   "file_extension": ".py",
   "mimetype": "text/x-python",
   "name": "python",
   "nbconvert_exporter": "python",
   "pygments_lexer": "ipython3",
   "version": "3.11.9"
  },
  "orig_nbformat": 4
 },
 "nbformat": 4,
 "nbformat_minor": 2
}
