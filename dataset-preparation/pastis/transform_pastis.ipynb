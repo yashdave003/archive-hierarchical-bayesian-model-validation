{
 "cells": [
  {
   "cell_type": "code",
   "execution_count": 2,
   "metadata": {},
   "outputs": [],
   "source": [
    "# assign directory\n",
    "import os\n",
    "BRANDON = '/Users/brandonmarks/Desktop/Research Materials/hierarchical-bayesian-model-validation/'\n",
    "YASH = '/Users/yashd/Desktop/hierarchical-bayesian-model-validation/'\n",
    "\n",
    "ROOT_DIR = YASH\n",
    "data_dir = ROOT_DIR + 'raw-data/pastis/full-pastis-grey'\n",
    "# iterate over files in that directory\n",
    "file_list = [os.path.join(data_dir, filename) for filename in os.listdir(data_dir)]\n",
    "file_names = os.listdir(data_dir)"
   ]
  },
  {
   "cell_type": "code",
   "execution_count": 3,
   "metadata": {},
   "outputs": [],
   "source": [
    "os.chdir(ROOT_DIR + \"dataset-preparation/\")\n",
    "from transform_utilities import *"
   ]
  },
  {
   "cell_type": "markdown",
   "metadata": {},
   "source": [
    "# WAVELET"
   ]
  },
  {
   "cell_type": "code",
   "execution_count": 5,
   "metadata": {},
   "outputs": [
    {
     "name": "stdout",
     "output_type": "stream",
     "text": [
      "8 layers being used\n"
     ]
    },
    {
     "data": {
      "text/html": [
       "<div>\n",
       "<style scoped>\n",
       "    .dataframe tbody tr th:only-of-type {\n",
       "        vertical-align: middle;\n",
       "    }\n",
       "\n",
       "    .dataframe tbody tr th {\n",
       "        vertical-align: top;\n",
       "    }\n",
       "\n",
       "    .dataframe thead th {\n",
       "        text-align: right;\n",
       "    }\n",
       "</style>\n",
       "<table border=\"1\" class=\"dataframe\">\n",
       "  <thead>\n",
       "    <tr style=\"text-align: right;\">\n",
       "      <th></th>\n",
       "      <th>channel</th>\n",
       "      <th>layer</th>\n",
       "      <th>orientation</th>\n",
       "      <th>data</th>\n",
       "    </tr>\n",
       "  </thead>\n",
       "  <tbody>\n",
       "    <tr>\n",
       "      <th>0</th>\n",
       "      <td>Gray</td>\n",
       "      <td>2</td>\n",
       "      <td>D</td>\n",
       "      <td>[-12.878235063866539, -20.30660991719943, -25....</td>\n",
       "    </tr>\n",
       "    <tr>\n",
       "      <th>1</th>\n",
       "      <td>Gray</td>\n",
       "      <td>2</td>\n",
       "      <td>H</td>\n",
       "      <td>[-1.6393575536980212, -7.578021649152555, 13.1...</td>\n",
       "    </tr>\n",
       "    <tr>\n",
       "      <th>2</th>\n",
       "      <td>Gray</td>\n",
       "      <td>2</td>\n",
       "      <td>V</td>\n",
       "      <td>[-8.706442402343445, 15.574161153052504, -7.22...</td>\n",
       "    </tr>\n",
       "    <tr>\n",
       "      <th>3</th>\n",
       "      <td>Gray</td>\n",
       "      <td>3</td>\n",
       "      <td>D</td>\n",
       "      <td>[7.737956764636047, -15.505225762387965, -18.0...</td>\n",
       "    </tr>\n",
       "    <tr>\n",
       "      <th>4</th>\n",
       "      <td>Gray</td>\n",
       "      <td>3</td>\n",
       "      <td>H</td>\n",
       "      <td>[-5.13484135276545, -6.090325596752094, 20.429...</td>\n",
       "    </tr>\n",
       "  </tbody>\n",
       "</table>\n",
       "</div>"
      ],
      "text/plain": [
       "  channel  layer orientation  \\\n",
       "0    Gray      2           D   \n",
       "1    Gray      2           H   \n",
       "2    Gray      2           V   \n",
       "3    Gray      3           D   \n",
       "4    Gray      3           H   \n",
       "\n",
       "                                                data  \n",
       "0  [-12.878235063866539, -20.30660991719943, -25....  \n",
       "1  [-1.6393575536980212, -7.578021649152555, 13.1...  \n",
       "2  [-8.706442402343445, 15.574161153052504, -7.22...  \n",
       "3  [7.737956764636047, -15.505225762387965, -18.0...  \n",
       "4  [-5.13484135276545, -6.090325596752094, 20.429...  "
      ]
     },
     "execution_count": 5,
     "metadata": {},
     "output_type": "execute_result"
    }
   ],
   "source": [
    "gray_wv = convert_to_wavelet_basis(data_dir, \"Gray\", normalized = True)\n",
    "pd.to_pickle(gray_wv, '../transformed-data/full-pastis-gray-wavelet.pickle')\n",
    "gray_wv.head()"
   ]
  }
 ],
 "metadata": {
  "interpreter": {
   "hash": "7e5f984cc8cd8c47dcd3acda73327432e6be76c353527f01c56663ba6bbc3ba9"
  },
  "kernelspec": {
   "display_name": "Python 3.8.8 64-bit ('base': conda)",
   "name": "python3"
  },
  "language_info": {
   "codemirror_mode": {
    "name": "ipython",
    "version": 3
   },
   "file_extension": ".py",
   "mimetype": "text/x-python",
   "name": "python",
   "nbconvert_exporter": "python",
   "pygments_lexer": "ipython3",
   "version": "3.11.9"
  },
  "orig_nbformat": 4
 },
 "nbformat": 4,
 "nbformat_minor": 2
}
