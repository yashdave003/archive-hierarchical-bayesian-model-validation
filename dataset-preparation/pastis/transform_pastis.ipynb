{
 "cells": [
  {
   "cell_type": "code",
   "execution_count": 1,
   "source": [
    "# assign directory\n",
    "import os\n",
    "BRANDON = '/Users/brandonmarks/Desktop/Research Materials/hierarchical-bayesian-model-validation/'\n",
    "YASH = '/Users/yashd/Desktop/hierarchical-bayesian-model-validation/'\n",
    "\n",
    "ROOT_DIR = YASH\n",
    "data_dir = ROOT_DIR + 'raw-data/pastis/full-pastis-grey'\n",
    "# iterate over files in that directory\n",
    "file_list = [os.path.join(data_dir, filename) for filename in os.listdir(data_dir)]\n",
    "file_names = os.listdir(data_dir)"
   ],
   "outputs": [],
   "metadata": {}
  },
  {
   "cell_type": "code",
   "execution_count": 2,
   "source": [
    "os.chdir(ROOT_DIR + \"dataset-preparation/\")\n",
    "from transform_utilities import *"
   ],
   "outputs": [],
   "metadata": {}
  },
  {
   "cell_type": "markdown",
   "source": [
    "# WAVELET"
   ],
   "metadata": {}
  },
  {
   "cell_type": "code",
   "execution_count": 4,
   "source": [
    "normalizer = lambda x: (x-np.mean(x))/np.std(x)\n",
    "gray_wv = convert_to_wavelet_basis(data_dir, \"Gray\", image_func = normalizer)\n",
    "#pd.to_pickle(gray_wv, '../transformed-data/full-pastis-gray-wavelet.pickle')\n",
    "gray_wv.head()"
   ],
   "outputs": [
    {
     "output_type": "stream",
     "name": "stdout",
     "text": [
      "8 layers being used\n"
     ]
    },
    {
     "output_type": "execute_result",
     "data": {
      "text/plain": [
       "0     [0.0, -8.881784197001252e-16, -2.2204460492503...\n",
       "1     [-12.878235063866539, -20.30660991719943, -25....\n",
       "2     [-1.6393575536980212, -7.578021649152555, 13.1...\n",
       "3     [-8.706442402343445, 15.574161153052504, -7.22...\n",
       "4     [7.737956764636047, -15.505225762387965, -18.0...\n",
       "5     [-5.13484135276545, -6.090325596752094, 20.429...\n",
       "6     [6.332860686888242, -7.259978253665985, -32.13...\n",
       "7     [-3.2413656490709797, -3.692395816692585, 1.51...\n",
       "8     [-3.9108192312011583, -2.5804220701034737, -4....\n",
       "9     [4.831790684583638, 5.806658824663036, -4.2379...\n",
       "10    [-6.461929068188763, 0.7375336074315529, -0.24...\n",
       "11    [-10.928735172684476, 1.1195381938448197, 0.13...\n",
       "12    [8.073156333654616, 3.396436817812999, -0.4141...\n",
       "13    [1.7927739996028518, 0.461431282598203, -0.786...\n",
       "14    [-0.7867025145936568, -2.776152142844923, -0.5...\n",
       "15    [-2.2315119404339305, -0.5219468606438689, 0.2...\n",
       "16    [-0.17398228688128958, -0.21936897041553904, -...\n",
       "17    [0.8245247508721973, -0.9606848014749456, -0.1...\n",
       "18    [-1.1724893246347767, 1.248133797191859, -0.04...\n",
       "19    [-0.07564447255708234, -0.0907733670684988, -0...\n",
       "20    [0.37822236278541177, 0.12103115609133173, -0....\n",
       "21    [-0.4084801518082447, -0.21180452315983053, 0....\n",
       "Name: data, dtype: object"
      ]
     },
     "metadata": {},
     "execution_count": 4
    }
   ],
   "metadata": {}
  },
  {
   "cell_type": "code",
   "execution_count": null,
   "source": [],
   "outputs": [],
   "metadata": {}
  }
 ],
 "metadata": {
  "interpreter": {
   "hash": "7e5f984cc8cd8c47dcd3acda73327432e6be76c353527f01c56663ba6bbc3ba9"
  },
  "kernelspec": {
   "name": "python3",
   "display_name": "Python 3.8.8 64-bit ('base': conda)"
  },
  "language_info": {
   "codemirror_mode": {
    "name": "ipython",
    "version": 3
   },
   "file_extension": ".py",
   "mimetype": "text/x-python",
   "name": "python",
   "nbconvert_exporter": "python",
   "pygments_lexer": "ipython3",
   "version": "3.8.8"
  },
  "orig_nbformat": 4
 },
 "nbformat": 4,
 "nbformat_minor": 2
}