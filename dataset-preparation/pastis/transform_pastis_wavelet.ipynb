{
 "cells": [
  {
   "cell_type": "code",
   "execution_count": 1,
   "source": [
    "import numpy as np\n",
    "import pywt\n",
    "import matplotlib.pyplot as plt\n",
    "import random\n",
    "from scipy import stats\n",
    "import random\n",
    "import pywt.data\n",
    "from PIL import Image\n",
    "import pandas as pd\n",
    "import seaborn as sns\n",
    "import os\n",
    "import pickle"
   ],
   "outputs": [],
   "metadata": {}
  },
  {
   "cell_type": "code",
   "execution_count": 2,
   "source": [
    "# assign directory\n",
    "ROOT_DIR = '/Users/brandonmarks/Desktop/Research Materials/hierarchical-bayesian-model-validation/'\n",
    "data_dir = ROOT_DIR + 'Data/Panoptic Agriculture/Cleaned Dataset'\n",
    " \n",
    "# iterate over files in that directory\n",
    "file_list = [os.path.join(data_dir, filename) for filename in os.listdir(data_dir)]\n",
    "file_names = os.listdir(data_dir)"
   ],
   "outputs": [],
   "metadata": {}
  },
  {
   "cell_type": "code",
   "execution_count": 3,
   "source": [
    "df_dict = dict()\n",
    "image = Image.open(file_list[0]).convert('L')\n",
    "first_image = pywt.wavedec2(image, 'db1')\n",
    "layer_len = len(first_image)\n",
    "print(str(layer_len) + \" layers being used\")\n",
    "for i in range(layer_len):\n",
    "        df = pd.DataFrame(columns=[\"Image ID\", \"Orientation\", \"Data\"])\n",
    "        df_dict[i+1] = df"
   ],
   "outputs": [
    {
     "output_type": "stream",
     "name": "stdout",
     "text": [
      "8 layers being used\n"
     ]
    }
   ],
   "metadata": {}
  },
  {
   "cell_type": "code",
   "execution_count": 4,
   "source": [
    "for k in range(len(file_list)):\n",
    "    image = Image.open(file_list[k]).convert('L')\n",
    "    image = np.array(image)\n",
    "   \n",
    "    name = file_names[k].split(\".\")[0]\n",
    "    transformed = pywt.wavedec2(image, 'db1')\n",
    "    df_dict[1].loc[len(df_dict[1].index)] = [name, \"L1\", np.array(transformed[0][0]).flatten()]\n",
    "    direction_names = ['H', 'V', 'D']\n",
    "\n",
    "    for i in range(1, layer_len): \n",
    "        for j in range(len(transformed[i])):\n",
    "            arr = np.array(transformed[i][j])\n",
    "            df_dict[i+1].loc[len(df_dict[i+1].index)] = [name, direction_names[j], arr.flatten()]\n"
   ],
   "outputs": [],
   "metadata": {}
  },
  {
   "cell_type": "code",
   "execution_count": 5,
   "source": [
    "def convert_to_wavelet_basis(folder_dir,  normalized = True, basis=\"db1\"):\n",
    "    file_list = [os.path.join(folder_dir, filename) for filename in os.listdir(folder_dir)]\n",
    "    file_names = os.listdir(folder_dir)\n",
    "    #Setup df Dict\n",
    "    df_dict = dict()\n",
    "    image = Image.open(file_list[0]).convert('L')\n",
    "    first_image = pywt.wavedec2(image, basis)\n",
    "    layer_len = len(first_image)\n",
    "    print(str(layer_len) + \" layers being used\")\n",
    "    for i in range(layer_len):\n",
    "        df = pd.DataFrame(columns=[\"Image ID\", \"Orientation\", \"Data\"])\n",
    "        df_dict[i+1] = df\n",
    "    \n",
    "    \n",
    "    #Fill DF DICT\n",
    "    for k in range(len(file_list)):\n",
    "        image = Image.open(file_list[k]).convert('L')\n",
    "        image = np.array(image)\n",
    "        if normalized:\n",
    "            std= np.std(image)\n",
    "            mean = np.mean(image)\n",
    "            image = (image- mean)/std \n",
    "            \n",
    "        name = file_names[k].split(\".\")[0]\n",
    "        transformed = pywt.wavedec2(image, basis)\n",
    "        df_dict[1].loc[len(df_dict[1].index)] = [name, \"L1\", np.array(transformed[0][0]).flatten()]\n",
    "        direction_names = ['H', 'V', 'D']\n",
    "\n",
    "        for i in range(1, layer_len): \n",
    "            for j in range(len(transformed[i])):\n",
    "                arr = np.array(transformed[i][j])\n",
    "                df_dict[i+1].loc[len(df_dict[i+1].index)] = [name, direction_names[j], arr.flatten()]\n",
    "\n",
    "    return df_dict"
   ],
   "outputs": [],
   "metadata": {}
  },
  {
   "cell_type": "code",
   "execution_count": 6,
   "source": [
    "converted = convert_to_wavelet_basis(data_dir, normalized = False)"
   ],
   "outputs": [
    {
     "output_type": "stream",
     "name": "stdout",
     "text": [
      "8 layers being used\n"
     ]
    }
   ],
   "metadata": {}
  },
  {
   "cell_type": "code",
   "execution_count": 7,
   "source": [
    "converted[2]"
   ],
   "outputs": [
    {
     "output_type": "execute_result",
     "data": {
      "text/html": [
       "<div>\n",
       "<style scoped>\n",
       "    .dataframe tbody tr th:only-of-type {\n",
       "        vertical-align: middle;\n",
       "    }\n",
       "\n",
       "    .dataframe tbody tr th {\n",
       "        vertical-align: top;\n",
       "    }\n",
       "\n",
       "    .dataframe thead th {\n",
       "        text-align: right;\n",
       "    }\n",
       "</style>\n",
       "<table border=\"1\" class=\"dataframe\">\n",
       "  <thead>\n",
       "    <tr style=\"text-align: right;\">\n",
       "      <th></th>\n",
       "      <th>Image ID</th>\n",
       "      <th>Orientation</th>\n",
       "      <th>Data</th>\n",
       "    </tr>\n",
       "  </thead>\n",
       "  <tbody>\n",
       "    <tr>\n",
       "      <th>0</th>\n",
       "      <td>test900</td>\n",
       "      <td>H</td>\n",
       "      <td>[2441.0703125000023]</td>\n",
       "    </tr>\n",
       "    <tr>\n",
       "      <th>1</th>\n",
       "      <td>test900</td>\n",
       "      <td>V</td>\n",
       "      <td>[991.3515625000009]</td>\n",
       "    </tr>\n",
       "    <tr>\n",
       "      <th>2</th>\n",
       "      <td>test900</td>\n",
       "      <td>D</td>\n",
       "      <td>[1248.6328125000014]</td>\n",
       "    </tr>\n",
       "    <tr>\n",
       "      <th>3</th>\n",
       "      <td>test1629</td>\n",
       "      <td>H</td>\n",
       "      <td>[-310.8281249999998]</td>\n",
       "    </tr>\n",
       "    <tr>\n",
       "      <th>4</th>\n",
       "      <td>test1629</td>\n",
       "      <td>V</td>\n",
       "      <td>[-326.2343750000009]</td>\n",
       "    </tr>\n",
       "    <tr>\n",
       "      <th>...</th>\n",
       "      <td>...</td>\n",
       "      <td>...</td>\n",
       "      <td>...</td>\n",
       "    </tr>\n",
       "    <tr>\n",
       "      <th>4765</th>\n",
       "      <td>test1156</td>\n",
       "      <td>V</td>\n",
       "      <td>[-166.89843750000045]</td>\n",
       "    </tr>\n",
       "    <tr>\n",
       "      <th>4766</th>\n",
       "      <td>test1156</td>\n",
       "      <td>D</td>\n",
       "      <td>[359.1484375000007]</td>\n",
       "    </tr>\n",
       "    <tr>\n",
       "      <th>4767</th>\n",
       "      <td>test2339</td>\n",
       "      <td>H</td>\n",
       "      <td>[2388.1640625000027]</td>\n",
       "    </tr>\n",
       "    <tr>\n",
       "      <th>4768</th>\n",
       "      <td>test2339</td>\n",
       "      <td>V</td>\n",
       "      <td>[1628.7734375000032]</td>\n",
       "    </tr>\n",
       "    <tr>\n",
       "      <th>4769</th>\n",
       "      <td>test2339</td>\n",
       "      <td>D</td>\n",
       "      <td>[-48.13281249999977]</td>\n",
       "    </tr>\n",
       "  </tbody>\n",
       "</table>\n",
       "<p>4770 rows × 3 columns</p>\n",
       "</div>"
      ],
      "text/plain": [
       "      Image ID Orientation                   Data\n",
       "0      test900           H   [2441.0703125000023]\n",
       "1      test900           V    [991.3515625000009]\n",
       "2      test900           D   [1248.6328125000014]\n",
       "3     test1629           H   [-310.8281249999998]\n",
       "4     test1629           V   [-326.2343750000009]\n",
       "...        ...         ...                    ...\n",
       "4765  test1156           V  [-166.89843750000045]\n",
       "4766  test1156           D    [359.1484375000007]\n",
       "4767  test2339           H   [2388.1640625000027]\n",
       "4768  test2339           V   [1628.7734375000032]\n",
       "4769  test2339           D   [-48.13281249999977]\n",
       "\n",
       "[4770 rows x 3 columns]"
      ]
     },
     "metadata": {},
     "execution_count": 7
    }
   ],
   "metadata": {}
  },
  {
   "cell_type": "code",
   "execution_count": 8,
   "source": [
    "def dict_to_pickle(converted_directory, converted, name):\n",
    "    filename = name\n",
    "    filename = os.path.join(converted_directory, filename)\n",
    "    with open(filename+\".pickle\", 'wb') as handle:\n",
    "        pickle.dump(converted, handle, protocol=pickle.HIGHEST_PROTOCOL)"
   ],
   "outputs": [],
   "metadata": {}
  },
  {
   "cell_type": "code",
   "execution_count": 9,
   "source": [
    "norm_converted_directory = ROOT_DIR + 'data/Panoptic Agriculture/Transformed Dataset/'\n",
    "norm_converted = convert_to_wavelet_basis(data_dir, normalized = True)\n"
   ],
   "outputs": [
    {
     "output_type": "stream",
     "name": "stdout",
     "text": [
      "8 layers being used\n"
     ]
    }
   ],
   "metadata": {}
  },
  {
   "cell_type": "code",
   "execution_count": 11,
   "source": [
    "norm_converted_directory"
   ],
   "outputs": [
    {
     "output_type": "execute_result",
     "data": {
      "text/plain": [
       "'/Users/brandonmarks/Desktop/Research Materials/hierarchical-bayesian-model-validation/data/Panoptic Agriculture/Transformed Dataset/'"
      ]
     },
     "metadata": {},
     "execution_count": 11
    }
   ],
   "metadata": {}
  },
  {
   "cell_type": "code",
   "execution_count": 12,
   "source": [
    "dict_to_pickle(norm_converted_directory, norm_converted, \"Panoptic_Data_Dict_Normalized\")"
   ],
   "outputs": [],
   "metadata": {}
  },
  {
   "cell_type": "markdown",
   "source": [],
   "metadata": {}
  }
 ],
 "metadata": {
  "interpreter": {
   "hash": "7e5f984cc8cd8c47dcd3acda73327432e6be76c353527f01c56663ba6bbc3ba9"
  },
  "kernelspec": {
   "name": "python3",
   "display_name": "Python 3.8.8 64-bit ('base': conda)"
  },
  "language_info": {
   "codemirror_mode": {
    "name": "ipython",
    "version": 3
   },
   "file_extension": ".py",
   "mimetype": "text/x-python",
   "name": "python",
   "nbconvert_exporter": "python",
   "pygments_lexer": "ipython3",
   "version": "3.8.8"
  },
  "orig_nbformat": 4
 },
 "nbformat": 4,
 "nbformat_minor": 2
}