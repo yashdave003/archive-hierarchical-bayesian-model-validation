{
 "cells": [
  {
   "cell_type": "code",
   "execution_count": 10,
   "source": [
    "import numpy as np\n",
    "import pywt\n",
    "import matplotlib.pyplot as plt\n",
    "import nibabel as nib\n",
    "import random\n",
    "from scipy import stats\n",
    "from scipy import fft\n",
    "import random\n",
    "import pywt.data\n",
    "from PIL import Image\n",
    "import pandas as pd\n",
    "import seaborn as sns\n",
    "import os\n",
    "import pickle"
   ],
   "outputs": [],
   "metadata": {}
  },
  {
   "cell_type": "code",
   "execution_count": 22,
   "source": [
    "# assign directory\n",
    "import os\n",
    "BRANDON = '/Users/brandonmarks/Desktop/Research Materials/hierarchical-bayesian-model-validation/'\n",
    "YASH = '/Users/yashd/Desktop/hierarchical-bayesian-model-validation/'\n",
    "\n",
    "ROOT_DIR = BRANDON\n",
    "data_dir = ROOT_DIR + 'raw-data/1000_mri_2d'\n",
    "# iterate over files in that directory\n",
    "file_list = [os.path.join(data_dir, filename) for filename in os.listdir(data_dir) if filename != \".DS_Store\"]\n",
    "file_names = os.listdir(data_dir)"
   ],
   "outputs": [],
   "metadata": {}
  },
  {
   "cell_type": "code",
   "execution_count": 23,
   "source": [
    "for i in range(len(file_list)):\n",
    "    axial = Image.open(file_list[i] + \"/axial_slice.png\")\n",
    "    axial.save(ROOT_DIR +\"raw-data/axial-slice/\" + file_names[i] + \"-axial-slice.png\")\n",
    "    coronal = Image.open(file_list[i] + \"/coronal_slice.png\")\n",
    "    coronal.save(ROOT_DIR + \"raw-data/coronal-slice/\" + file_names[i] + \"-coronal-slice.png\")\n",
    "    sagittal = Image.open(file_list[i] + \"/sagittal_slice.png\")\n",
    "    sagittal.save(ROOT_DIR + \"raw-data/sagittal-slice/\" + file_names[i] + \"-sagittal-slice.png\")"
   ],
   "outputs": [],
   "metadata": {}
  },
  {
   "cell_type": "code",
   "execution_count": null,
   "source": [],
   "outputs": [],
   "metadata": {}
  }
 ],
 "metadata": {
  "orig_nbformat": 4,
  "language_info": {
   "name": "python",
   "version": "3.10.14",
   "mimetype": "text/x-python",
   "codemirror_mode": {
    "name": "ipython",
    "version": 3
   },
   "pygments_lexer": "ipython3",
   "nbconvert_exporter": "python",
   "file_extension": ".py"
  },
  "kernelspec": {
   "name": "python3",
   "display_name": "Python 3.10.14 64-bit ('Research': conda)"
  },
  "interpreter": {
   "hash": "83635bb4831aedbea94bec2369092292994a8fbbb881bb3adfcb1b33cd30abe3"
  }
 },
 "nbformat": 4,
 "nbformat_minor": 2
}