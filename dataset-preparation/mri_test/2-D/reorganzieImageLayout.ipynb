{
 "cells": [
  {
   "cell_type": "code",
   "execution_count": 1,
   "metadata": {},
   "outputs": [],
   "source": [
    "import git\n",
    "from pathlib import Path\n",
    "import os\n",
    "ROOT_DIR = Path(git.Repo('.', search_parent_directories=True).working_tree_dir)\n",
    "os.chdir(os.path.join(ROOT_DIR, \"utilities\"))\n",
    "from transform import *\n",
    "from plotting import *\n",
    "os.chdir(os.path.join(ROOT_DIR, \"dataset-preparation\"))\n",
    "\n",
    "data_dir = data_dir = os.path.join(ROOT_DIR, 'raw-data','5000_mri_2d')\n",
    "file_list = [os.path.join(data_dir, filename) for filename in os.listdir(data_dir) if filename != \".DS_Store\"]\n",
    "file_names = os.listdir(data_dir)"
   ]
  },
  {
   "cell_type": "code",
   "execution_count": 2,
   "metadata": {},
   "outputs": [],
   "source": [
    "\"\"\"\n",
    "for i in range(len(file_list)):\n",
    "    axial = Image.open(file_list[i] + \"/axial.png\")\n",
    "    axial.save(ROOT_DIR +\"raw-data/axial-slice/\" + file_names[i] + \"-axial-slice.png\")\n",
    "    coronal = Image.open(file_list[i] + \"/coronal_slice.png\")\n",
    "    coronal.save(ROOT_DIR + \"raw-data/coronal-slice/\" + file_names[i] + \"-coronal-slice.png\")\n",
    "    sagittal = Image.open(file_list[i] + \"/sagittal_slice.png\")\n",
    "    sagittal.save(ROOT_DIR + \"raw-data/sagittal-slice/\" + file_names[i] + \"-sagittal-slice.png\")\n",
    "\"\"\";\n"
   ]
  },
  {
   "cell_type": "code",
   "execution_count": 7,
   "metadata": {},
   "outputs": [
    {
     "name": "stderr",
     "output_type": "stream",
     "text": [
      "100%|██████████| 5000/5000 [08:18<00:00, 10.03it/s]\n"
     ]
    }
   ],
   "source": [
    "for i in tqdm(range(len(file_list))):\n",
    "    axial = Image.open(file_list[i] + \"/axial_slice.png\")\n",
    "    axial.save(os.path.join(ROOT_DIR, 'raw-data','syntheticMRI2d',\"axial\", \"full-raw\", file_names[i] + \"-axial-slice.png\"))\n",
    "    coronal = Image.open(file_list[i] + \"/coronal_slice.png\")\n",
    "    coronal.save(os.path.join(ROOT_DIR, 'raw-data','syntheticMRI2d',\"coronal\", \"full-raw\", file_names[i] + \"-coronal-slice.png\"))\n",
    "    sagittal = Image.open(file_list[i] + \"/sagittal_slice.png\")\n",
    "    sagittal.save(os.path.join(ROOT_DIR, 'raw-data','syntheticMRI2d',\"sagittal\", \"full-raw\",file_names[i] + \"-sagittal-slice.png\"))"
   ]
  },
  {
   "cell_type": "code",
   "execution_count": null,
   "metadata": {},
   "outputs": [],
   "source": []
  }
 ],
 "metadata": {
  "kernelspec": {
   "display_name": "HBMV",
   "language": "python",
   "name": "python3"
  },
  "language_info": {
   "codemirror_mode": {
    "name": "ipython",
    "version": 3
   },
   "file_extension": ".py",
   "mimetype": "text/x-python",
   "name": "python",
   "nbconvert_exporter": "python",
   "pygments_lexer": "ipython3",
   "version": "3.10.14"
  },
  "orig_nbformat": 4
 },
 "nbformat": 4,
 "nbformat_minor": 2
}
