{
 "cells": [
  {
   "cell_type": "code",
   "execution_count": 1,
   "source": [
    "# assign directory\n",
    "import os\n",
    "BRANDON = '/Users/brandonmarks/Desktop/Research Materials/hierarchical-bayesian-model-validation/'\n",
    "YASH = '/Users/yashd/Desktop/hierarchical-bayesian-model-validation/'\n",
    "\n",
    "ROOT_DIR = BRANDON\n",
    "data_dir = ROOT_DIR + 'raw-data/toy-syntheticMRI-2D/coronal-slice'\n",
    "# iterate over files in that directory\n",
    "file_list = [os.path.join(data_dir, filename) for filename in os.listdir(data_dir)]\n",
    "file_names = os.listdir(data_dir)"
   ],
   "outputs": [],
   "metadata": {}
  },
  {
   "cell_type": "code",
   "execution_count": 2,
   "source": [
    "os.chdir(ROOT_DIR + \"dataset-preparation/\")\n",
    "from transform_utilities import *"
   ],
   "outputs": [],
   "metadata": {}
  },
  {
   "cell_type": "code",
   "execution_count": null,
   "source": [],
   "outputs": [],
   "metadata": {}
  },
  {
   "cell_type": "markdown",
   "source": [
    "# Fourier"
   ],
   "metadata": {}
  },
  {
   "cell_type": "code",
   "execution_count": 3,
   "source": [
    "#Values obtained from plots in axial_coronal.ipynb\n",
    "splits = getSplits(0.09890670780972716,0.5288928769850599, 1.066)\n",
    "print(splits)"
   ],
   "outputs": [
    {
     "output_type": "stream",
     "name": "stdout",
     "text": [
      "[0.09890670780972716, 0.10543455052516916, 0.11239323085983033, 0.11981118409657913, 0.12771872224695335, 0.13614815791525228, 0.14513393633765895, 0.15471277613594445, 0.1649238193609168, 0.17580879143873732, 0.18741217167369398, 0.1997813750041578, 0.21296694575443223, 0.22702276417422476, 0.2420062666097236, 0.25797868020596537, 0.2750052730995591, 0.29315562112413, 0.31250389211832263, 0.33312914899813195, 0.3551156728320087, 0.3785533072389213, 0.4035378255166901, 0.43017132200079167, 0.45856262925284397, 0.4888277627835317, 0.5210903951272448]\n"
     ]
    }
   ],
   "metadata": {}
  },
  {
   "cell_type": "code",
   "execution_count": 4,
   "source": [
    "gray_fr = convert_to_fourier_basis(data_dir, \"Gray\", split_list = splits)\n",
    "#pd.to_pickle(gray_fr, '../transformed-data/toy-agriVision-red-fourier.pickle')\n",
    "gray_fr.head()"
   ],
   "outputs": [
    {
     "output_type": "stream",
     "name": "stdout",
     "text": [
      "[0.09890671 0.10543455 0.11239323 0.11981118 0.12771872 0.13614816\n",
      " 0.14513394 0.15471278 0.16492382 0.17580879 0.18741217 0.19978138\n",
      " 0.21296695 0.22702276 0.24200627 0.25797868 0.27500527 0.29315562\n",
      " 0.31250389 0.33312915 0.35511567 0.37855331 0.40353783 0.43017132\n",
      " 0.45856263 0.48882776 0.5210904 ]\n"
     ]
    },
    {
     "output_type": "execute_result",
     "data": {
      "text/html": [
       "<div>\n",
       "<style scoped>\n",
       "    .dataframe tbody tr th:only-of-type {\n",
       "        vertical-align: middle;\n",
       "    }\n",
       "\n",
       "    .dataframe tbody tr th {\n",
       "        vertical-align: top;\n",
       "    }\n",
       "\n",
       "    .dataframe thead th {\n",
       "        text-align: right;\n",
       "    }\n",
       "</style>\n",
       "<table border=\"1\" class=\"dataframe\">\n",
       "  <thead>\n",
       "    <tr style=\"text-align: right;\">\n",
       "      <th></th>\n",
       "      <th>band</th>\n",
       "      <th>channel</th>\n",
       "      <th>magnitude_endpoints</th>\n",
       "      <th>unique_magnitudes</th>\n",
       "      <th>data</th>\n",
       "    </tr>\n",
       "  </thead>\n",
       "  <tbody>\n",
       "    <tr>\n",
       "      <th>0</th>\n",
       "      <td>1</td>\n",
       "      <td>Gray</td>\n",
       "      <td>(0.0, 0.09864647546450567)</td>\n",
       "      <td>470</td>\n",
       "      <td>[7893848.0, 7835687.0, 7853553.0, 7185685.0, 7...</td>\n",
       "    </tr>\n",
       "    <tr>\n",
       "      <th>1</th>\n",
       "      <td>2</td>\n",
       "      <td>Gray</td>\n",
       "      <td>(0.09890670780972716, 0.10541273896355949)</td>\n",
       "      <td>64</td>\n",
       "      <td>[10601.347654057496, 18432.64220423276, 7274.1...</td>\n",
       "    </tr>\n",
       "    <tr>\n",
       "      <th>2</th>\n",
       "      <td>3</td>\n",
       "      <td>Gray</td>\n",
       "      <td>(0.10544756887991176, 0.11229457645041009)</td>\n",
       "      <td>72</td>\n",
       "      <td>[-12929.453998616944, -3987.731651157528, 1217...</td>\n",
       "    </tr>\n",
       "    <tr>\n",
       "      <th>3</th>\n",
       "      <td>4</td>\n",
       "      <td>Gray</td>\n",
       "      <td>(0.11242530359182408, 0.11979423363306418)</td>\n",
       "      <td>81</td>\n",
       "      <td>[13075.838762499945, 15788.450388472149, -8437...</td>\n",
       "    </tr>\n",
       "    <tr>\n",
       "      <th>4</th>\n",
       "      <td>5</td>\n",
       "      <td>Gray</td>\n",
       "      <td>(0.11997801420693037, 0.12771676604821874)</td>\n",
       "      <td>86</td>\n",
       "      <td>[-9859.518331772837, -3038.7475709868513, 4673...</td>\n",
       "    </tr>\n",
       "  </tbody>\n",
       "</table>\n",
       "</div>"
      ],
      "text/plain": [
       "   band channel                         magnitude_endpoints  \\\n",
       "0     1    Gray                  (0.0, 0.09864647546450567)   \n",
       "1     2    Gray  (0.09890670780972716, 0.10541273896355949)   \n",
       "2     3    Gray  (0.10544756887991176, 0.11229457645041009)   \n",
       "3     4    Gray  (0.11242530359182408, 0.11979423363306418)   \n",
       "4     5    Gray  (0.11997801420693037, 0.12771676604821874)   \n",
       "\n",
       "   unique_magnitudes                                               data  \n",
       "0                470  [7893848.0, 7835687.0, 7853553.0, 7185685.0, 7...  \n",
       "1                 64  [10601.347654057496, 18432.64220423276, 7274.1...  \n",
       "2                 72  [-12929.453998616944, -3987.731651157528, 1217...  \n",
       "3                 81  [13075.838762499945, 15788.450388472149, -8437...  \n",
       "4                 86  [-9859.518331772837, -3038.7475709868513, 4673...  "
      ]
     },
     "metadata": {},
     "execution_count": 4
    }
   ],
   "metadata": {}
  },
  {
   "cell_type": "markdown",
   "source": [
    "# Wavelet"
   ],
   "metadata": {}
  },
  {
   "cell_type": "code",
   "execution_count": 5,
   "source": [
    "def filter_func(x):\n",
    "    x_copy = x.copy().astype(float)\n",
    "    filtered = ndimage.uniform_filter(x, size = 7)\n",
    "    x_copy[filtered == 0] = np.nan\n",
    "    return x_copy\n",
    "\n",
    "gray_wv = convert_to_wavelet_basis(data_dir, \"Gray\", image_func = filter_func)\n",
    "gray_wv[\"data\"] = gray_wv[\"data\"].apply(lambda x: x[~np.isnan(x)])\n",
    "#pd.to_pickle(gray_wv, '../transformed-data/full-pastis-gray-wavelet.pickle')\n",
    "gray_wv.head(10)"
   ],
   "outputs": [
    {
     "output_type": "stream",
     "name": "stdout",
     "text": [
      "9 layers being used\n"
     ]
    },
    {
     "output_type": "execute_result",
     "data": {
      "text/html": [
       "<div>\n",
       "<style scoped>\n",
       "    .dataframe tbody tr th:only-of-type {\n",
       "        vertical-align: middle;\n",
       "    }\n",
       "\n",
       "    .dataframe tbody tr th {\n",
       "        vertical-align: top;\n",
       "    }\n",
       "\n",
       "    .dataframe thead th {\n",
       "        text-align: right;\n",
       "    }\n",
       "</style>\n",
       "<table border=\"1\" class=\"dataframe\">\n",
       "  <thead>\n",
       "    <tr style=\"text-align: right;\">\n",
       "      <th></th>\n",
       "      <th>channel</th>\n",
       "      <th>layer</th>\n",
       "      <th>orientation</th>\n",
       "      <th>data</th>\n",
       "    </tr>\n",
       "  </thead>\n",
       "  <tbody>\n",
       "    <tr>\n",
       "      <th>0</th>\n",
       "      <td>Gray</td>\n",
       "      <td>1</td>\n",
       "      <td>L1</td>\n",
       "      <td>[]</td>\n",
       "    </tr>\n",
       "    <tr>\n",
       "      <th>1</th>\n",
       "      <td>Gray</td>\n",
       "      <td>2</td>\n",
       "      <td>D</td>\n",
       "      <td>[]</td>\n",
       "    </tr>\n",
       "    <tr>\n",
       "      <th>2</th>\n",
       "      <td>Gray</td>\n",
       "      <td>2</td>\n",
       "      <td>H</td>\n",
       "      <td>[]</td>\n",
       "    </tr>\n",
       "    <tr>\n",
       "      <th>3</th>\n",
       "      <td>Gray</td>\n",
       "      <td>2</td>\n",
       "      <td>V</td>\n",
       "      <td>[]</td>\n",
       "    </tr>\n",
       "    <tr>\n",
       "      <th>4</th>\n",
       "      <td>Gray</td>\n",
       "      <td>3</td>\n",
       "      <td>D</td>\n",
       "      <td>[257.15625000000057, 27.164062499999744, 352.7...</td>\n",
       "    </tr>\n",
       "    <tr>\n",
       "      <th>5</th>\n",
       "      <td>Gray</td>\n",
       "      <td>3</td>\n",
       "      <td>H</td>\n",
       "      <td>[480.1250000000007, -62.11718750000014, -205.3...</td>\n",
       "    </tr>\n",
       "    <tr>\n",
       "      <th>6</th>\n",
       "      <td>Gray</td>\n",
       "      <td>3</td>\n",
       "      <td>V</td>\n",
       "      <td>[133.359375, 752.3203125000009, 1301.546875000...</td>\n",
       "    </tr>\n",
       "    <tr>\n",
       "      <th>7</th>\n",
       "      <td>Gray</td>\n",
       "      <td>4</td>\n",
       "      <td>D</td>\n",
       "      <td>[162.92187500000023, -20.921874999999716, -48....</td>\n",
       "    </tr>\n",
       "    <tr>\n",
       "      <th>8</th>\n",
       "      <td>Gray</td>\n",
       "      <td>4</td>\n",
       "      <td>H</td>\n",
       "      <td>[-212.109375, 48.828124999999844, -724.9843750...</td>\n",
       "    </tr>\n",
       "    <tr>\n",
       "      <th>9</th>\n",
       "      <td>Gray</td>\n",
       "      <td>4</td>\n",
       "      <td>V</td>\n",
       "      <td>[933.1093750000007, -694.7343750000009, -115.3...</td>\n",
       "    </tr>\n",
       "  </tbody>\n",
       "</table>\n",
       "</div>"
      ],
      "text/plain": [
       "  channel  layer orientation  \\\n",
       "0    Gray      1          L1   \n",
       "1    Gray      2           D   \n",
       "2    Gray      2           H   \n",
       "3    Gray      2           V   \n",
       "4    Gray      3           D   \n",
       "5    Gray      3           H   \n",
       "6    Gray      3           V   \n",
       "7    Gray      4           D   \n",
       "8    Gray      4           H   \n",
       "9    Gray      4           V   \n",
       "\n",
       "                                                data  \n",
       "0                                                 []  \n",
       "1                                                 []  \n",
       "2                                                 []  \n",
       "3                                                 []  \n",
       "4  [257.15625000000057, 27.164062499999744, 352.7...  \n",
       "5  [480.1250000000007, -62.11718750000014, -205.3...  \n",
       "6  [133.359375, 752.3203125000009, 1301.546875000...  \n",
       "7  [162.92187500000023, -20.921874999999716, -48....  \n",
       "8  [-212.109375, 48.828124999999844, -724.9843750...  \n",
       "9  [933.1093750000007, -694.7343750000009, -115.3...  "
      ]
     },
     "metadata": {},
     "execution_count": 5
    }
   ],
   "metadata": {}
  },
  {
   "cell_type": "code",
   "execution_count": null,
   "source": [],
   "outputs": [],
   "metadata": {}
  }
 ],
 "metadata": {
  "orig_nbformat": 4,
  "language_info": {
   "name": "python",
   "version": "3.10.14",
   "mimetype": "text/x-python",
   "codemirror_mode": {
    "name": "ipython",
    "version": 3
   },
   "pygments_lexer": "ipython3",
   "nbconvert_exporter": "python",
   "file_extension": ".py"
  },
  "kernelspec": {
   "name": "python3",
   "display_name": "Python 3.10.14 64-bit ('Research': conda)"
  },
  "interpreter": {
   "hash": "83635bb4831aedbea94bec2369092292994a8fbbb881bb3adfcb1b33cd30abe3"
  }
 },
 "nbformat": 4,
 "nbformat_minor": 2
}