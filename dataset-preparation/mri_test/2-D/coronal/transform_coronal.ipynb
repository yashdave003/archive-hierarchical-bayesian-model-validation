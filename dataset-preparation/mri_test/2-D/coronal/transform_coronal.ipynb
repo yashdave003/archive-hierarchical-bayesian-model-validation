{
 "cells": [
  {
   "cell_type": "code",
   "execution_count": 1,
   "source": [
    "# assign directory\n",
    "import os\n",
    "BRANDON = '/Users/brandonmarks/Desktop/Research Materials/hierarchical-bayesian-model-validation/'\n",
    "YASH = '/Users/yashd/Desktop/hierarchical-bayesian-model-validation/'\n",
    "\n",
    "ROOT_DIR = BRANDON\n",
    "data_dir = ROOT_DIR + 'raw-data/toy-syntheticMRI-2D/coronal-slice'\n",
    "# iterate over files in that directory\n",
    "file_list = [os.path.join(data_dir, filename) for filename in os.listdir(data_dir)]\n",
    "file_names = os.listdir(data_dir)"
   ],
   "outputs": [],
   "metadata": {}
  },
  {
   "cell_type": "code",
   "execution_count": 2,
   "source": [
    "os.chdir(ROOT_DIR + \"dataset-preparation/\")\n",
    "from transform_utilities import *"
   ],
   "outputs": [],
   "metadata": {}
  },
  {
   "cell_type": "code",
   "execution_count": null,
   "source": [],
   "outputs": [],
   "metadata": {}
  },
  {
   "cell_type": "markdown",
   "source": [
    "# Wavelet"
   ],
   "metadata": {}
  },
  {
   "cell_type": "code",
   "execution_count": 3,
   "source": [
    "def filter_func(x):\n",
    "    x_copy = x.copy().astype(float)\n",
    "    filtered = ndimage.uniform_filter(x, size = 7)\n",
    "    x_copy[filtered == 0] = np.nan\n",
    "    return x_copy\n",
    "\n",
    "gray_wv = convert_to_wavelet_basis(data_dir, \"Gray\", image_func = filter_func)\n",
    "gray_wv[\"data\"] = gray_wv[\"data\"].apply(lambda x: x[~np.isnan(x)])\n",
    "#pd.to_pickle(gray_wv, '../transformed-data/full-pastis-gray-wavelet.pickle')\n",
    "gray_wv.head(10)"
   ],
   "outputs": [
    {
     "output_type": "stream",
     "name": "stdout",
     "text": [
      "9 layers being used\n"
     ]
    },
    {
     "output_type": "execute_result",
     "data": {
      "text/html": [
       "<div>\n",
       "<style scoped>\n",
       "    .dataframe tbody tr th:only-of-type {\n",
       "        vertical-align: middle;\n",
       "    }\n",
       "\n",
       "    .dataframe tbody tr th {\n",
       "        vertical-align: top;\n",
       "    }\n",
       "\n",
       "    .dataframe thead th {\n",
       "        text-align: right;\n",
       "    }\n",
       "</style>\n",
       "<table border=\"1\" class=\"dataframe\">\n",
       "  <thead>\n",
       "    <tr style=\"text-align: right;\">\n",
       "      <th></th>\n",
       "      <th>channel</th>\n",
       "      <th>layer</th>\n",
       "      <th>orientation</th>\n",
       "      <th>data</th>\n",
       "    </tr>\n",
       "  </thead>\n",
       "  <tbody>\n",
       "    <tr>\n",
       "      <th>0</th>\n",
       "      <td>Gray</td>\n",
       "      <td>1</td>\n",
       "      <td>L1</td>\n",
       "      <td>[]</td>\n",
       "    </tr>\n",
       "    <tr>\n",
       "      <th>1</th>\n",
       "      <td>Gray</td>\n",
       "      <td>2</td>\n",
       "      <td>D</td>\n",
       "      <td>[]</td>\n",
       "    </tr>\n",
       "    <tr>\n",
       "      <th>2</th>\n",
       "      <td>Gray</td>\n",
       "      <td>2</td>\n",
       "      <td>H</td>\n",
       "      <td>[]</td>\n",
       "    </tr>\n",
       "    <tr>\n",
       "      <th>3</th>\n",
       "      <td>Gray</td>\n",
       "      <td>2</td>\n",
       "      <td>V</td>\n",
       "      <td>[]</td>\n",
       "    </tr>\n",
       "    <tr>\n",
       "      <th>4</th>\n",
       "      <td>Gray</td>\n",
       "      <td>3</td>\n",
       "      <td>D</td>\n",
       "      <td>[257.15625000000057, 27.164062499999744, 352.7...</td>\n",
       "    </tr>\n",
       "    <tr>\n",
       "      <th>5</th>\n",
       "      <td>Gray</td>\n",
       "      <td>3</td>\n",
       "      <td>H</td>\n",
       "      <td>[480.1250000000007, -62.11718750000014, -205.3...</td>\n",
       "    </tr>\n",
       "    <tr>\n",
       "      <th>6</th>\n",
       "      <td>Gray</td>\n",
       "      <td>3</td>\n",
       "      <td>V</td>\n",
       "      <td>[133.359375, 752.3203125000009, 1301.546875000...</td>\n",
       "    </tr>\n",
       "    <tr>\n",
       "      <th>7</th>\n",
       "      <td>Gray</td>\n",
       "      <td>4</td>\n",
       "      <td>D</td>\n",
       "      <td>[162.92187500000023, -20.921874999999716, -48....</td>\n",
       "    </tr>\n",
       "    <tr>\n",
       "      <th>8</th>\n",
       "      <td>Gray</td>\n",
       "      <td>4</td>\n",
       "      <td>H</td>\n",
       "      <td>[-212.109375, 48.828124999999844, -724.9843750...</td>\n",
       "    </tr>\n",
       "    <tr>\n",
       "      <th>9</th>\n",
       "      <td>Gray</td>\n",
       "      <td>4</td>\n",
       "      <td>V</td>\n",
       "      <td>[933.1093750000007, -694.7343750000009, -115.3...</td>\n",
       "    </tr>\n",
       "  </tbody>\n",
       "</table>\n",
       "</div>"
      ],
      "text/plain": [
       "  channel  layer orientation  \\\n",
       "0    Gray      1          L1   \n",
       "1    Gray      2           D   \n",
       "2    Gray      2           H   \n",
       "3    Gray      2           V   \n",
       "4    Gray      3           D   \n",
       "5    Gray      3           H   \n",
       "6    Gray      3           V   \n",
       "7    Gray      4           D   \n",
       "8    Gray      4           H   \n",
       "9    Gray      4           V   \n",
       "\n",
       "                                                data  \n",
       "0                                                 []  \n",
       "1                                                 []  \n",
       "2                                                 []  \n",
       "3                                                 []  \n",
       "4  [257.15625000000057, 27.164062499999744, 352.7...  \n",
       "5  [480.1250000000007, -62.11718750000014, -205.3...  \n",
       "6  [133.359375, 752.3203125000009, 1301.546875000...  \n",
       "7  [162.92187500000023, -20.921874999999716, -48....  \n",
       "8  [-212.109375, 48.828124999999844, -724.9843750...  \n",
       "9  [933.1093750000007, -694.7343750000009, -115.3...  "
      ]
     },
     "metadata": {},
     "execution_count": 3
    }
   ],
   "metadata": {}
  },
  {
   "cell_type": "code",
   "execution_count": null,
   "source": [],
   "outputs": [],
   "metadata": {}
  }
 ],
 "metadata": {
  "orig_nbformat": 4,
  "language_info": {
   "name": "python",
   "version": "3.10.14",
   "mimetype": "text/x-python",
   "codemirror_mode": {
    "name": "ipython",
    "version": 3
   },
   "pygments_lexer": "ipython3",
   "nbconvert_exporter": "python",
   "file_extension": ".py"
  },
  "kernelspec": {
   "name": "python3",
   "display_name": "Python 3.10.14 64-bit ('Research': conda)"
  },
  "interpreter": {
   "hash": "83635bb4831aedbea94bec2369092292994a8fbbb881bb3adfcb1b33cd30abe3"
  }
 },
 "nbformat": 4,
 "nbformat_minor": 2
}