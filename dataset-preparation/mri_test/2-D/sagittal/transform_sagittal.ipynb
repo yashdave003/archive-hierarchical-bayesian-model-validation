{
 "cells": [
  {
   "cell_type": "code",
   "execution_count": 1,
   "source": [
    "# assign directory\n",
    "import os\n",
    "BRANDON = '/Users/brandonmarks/Desktop/Research Materials/hierarchical-bayesian-model-validation/'\n",
    "YASH = '/Users/yashd/Desktop/hierarchical-bayesian-model-validation/'\n",
    "\n",
    "ROOT_DIR = BRANDON\n",
    "data_dir = ROOT_DIR + 'raw-data/toy-syntheticMRI-2D/sagittal-slice'\n",
    "# iterate over files in that directory\n",
    "file_list = [os.path.join(data_dir, filename) for filename in os.listdir(data_dir)]\n",
    "file_names = os.listdir(data_dir)"
   ],
   "outputs": [],
   "metadata": {}
  },
  {
   "cell_type": "code",
   "execution_count": 2,
   "source": [
    "os.chdir(ROOT_DIR + \"dataset-preparation/\")\n",
    "from transform_utilities import *"
   ],
   "outputs": [],
   "metadata": {}
  },
  {
   "cell_type": "code",
   "execution_count": null,
   "source": [],
   "outputs": [],
   "metadata": {}
  },
  {
   "cell_type": "markdown",
   "source": [
    "# Fourier"
   ],
   "metadata": {}
  },
  {
   "cell_type": "code",
   "execution_count": 3,
   "source": [
    "#Values obtained from plots in axial_sagittal.ipynb\n",
    "splits = getSplits(0.06315556633711404,0.5277542315403191, 1.066)\n",
    "print(splits)"
   ],
   "outputs": [
    {
     "output_type": "stream",
     "name": "stdout",
     "text": [
      "[0.06315556633711404, 0.06732383371536357, 0.07176720674057757, 0.0765038423854557, 0.08155309598289578, 0.08693560031776691, 0.09267334993873953, 0.09878979103469634, 0.10530991724298631, 0.11226037178102342, 0.11966955631857097, 0.12756774703559667, 0.13598721833994606, 0.1449623747503825, 0.15452989148390778, 0.1647288643218457, 0.17560096936708752, 0.1871906333453153, 0.19954521514610613, 0.21271519934574915, 0.2267544025025686, 0.24172019306773812, 0.25767372581020886, 0.2746801917136827, 0.29280908436678577, 0.31213448393499366, 0.33273535987470326, 0.3546958936264337, 0.37810582260577835, 0.40306080689775975, 0.42966282015301194, 0.4580205662831108, 0.4882499236577961, 0.5204744186192107]\n"
     ]
    }
   ],
   "metadata": {}
  },
  {
   "cell_type": "code",
   "execution_count": 4,
   "source": [
    "gray_fr = convert_to_fourier_basis(data_dir, \"Gray\", split_list = splits)\n",
    "#pd.to_pickle(gray_fr, '../transformed-data/toy-agriVision-red-fourier.pickle')\n",
    "gray_fr.head()"
   ],
   "outputs": [
    {
     "output_type": "stream",
     "name": "stdout",
     "text": [
      "[0.06315557 0.06732383 0.07176721 0.07650384 0.0815531  0.0869356\n",
      " 0.09267335 0.09878979 0.10530992 0.11226037 0.11966956 0.12756775\n",
      " 0.13598722 0.14496237 0.15452989 0.16472886 0.17560097 0.18719063\n",
      " 0.19954522 0.2127152  0.2267544  0.24172019 0.25767373 0.27468019\n",
      " 0.29280908 0.31213448 0.33273536 0.35469589 0.37810582 0.40306081\n",
      " 0.42966282 0.45802057 0.48824992 0.52047442]\n"
     ]
    },
    {
     "output_type": "execute_result",
     "data": {
      "text/html": [
       "<div>\n",
       "<style scoped>\n",
       "    .dataframe tbody tr th:only-of-type {\n",
       "        vertical-align: middle;\n",
       "    }\n",
       "\n",
       "    .dataframe tbody tr th {\n",
       "        vertical-align: top;\n",
       "    }\n",
       "\n",
       "    .dataframe thead th {\n",
       "        text-align: right;\n",
       "    }\n",
       "</style>\n",
       "<table border=\"1\" class=\"dataframe\">\n",
       "  <thead>\n",
       "    <tr style=\"text-align: right;\">\n",
       "      <th></th>\n",
       "      <th>band</th>\n",
       "      <th>channel</th>\n",
       "      <th>magnitude_endpoints</th>\n",
       "      <th>unique_magnitudes</th>\n",
       "      <th>data</th>\n",
       "    </tr>\n",
       "  </thead>\n",
       "  <tbody>\n",
       "    <tr>\n",
       "      <th>0</th>\n",
       "      <td>1</td>\n",
       "      <td>Gray</td>\n",
       "      <td>(0.0, 0.06312501326028154)</td>\n",
       "      <td>579</td>\n",
       "      <td>[8208036.0, 8653454.0, 10060947.0, 8514950.0, ...</td>\n",
       "    </tr>\n",
       "    <tr>\n",
       "      <th>1</th>\n",
       "      <td>2</td>\n",
       "      <td>Gray</td>\n",
       "      <td>(0.06315557733711404, 0.06728497600316972)</td>\n",
       "      <td>72</td>\n",
       "      <td>[4767.518941383358, -4641.407653600238, 28077....</td>\n",
       "    </tr>\n",
       "    <tr>\n",
       "      <th>2</th>\n",
       "      <td>3</td>\n",
       "      <td>Gray</td>\n",
       "      <td>(0.0673451955370828, 0.07172875445535908)</td>\n",
       "      <td>91</td>\n",
       "      <td>[27975.19455626599, 6136.731146741515, 26162.4...</td>\n",
       "    </tr>\n",
       "    <tr>\n",
       "      <th>3</th>\n",
       "      <td>4</td>\n",
       "      <td>Gray</td>\n",
       "      <td>(0.07182814570836266, 0.07649805547847523)</td>\n",
       "      <td>98</td>\n",
       "      <td>[50889.20541991507, 11870.94086902578, 9902.38...</td>\n",
       "    </tr>\n",
       "    <tr>\n",
       "      <th>4</th>\n",
       "      <td>5</td>\n",
       "      <td>Gray</td>\n",
       "      <td>(0.07651063238231065, 0.08143291270426077)</td>\n",
       "      <td>111</td>\n",
       "      <td>[2623.9268908146696, 24006.75690830736, -23175...</td>\n",
       "    </tr>\n",
       "  </tbody>\n",
       "</table>\n",
       "</div>"
      ],
      "text/plain": [
       "   band channel                         magnitude_endpoints  \\\n",
       "0     1    Gray                  (0.0, 0.06312501326028154)   \n",
       "1     2    Gray  (0.06315557733711404, 0.06728497600316972)   \n",
       "2     3    Gray   (0.0673451955370828, 0.07172875445535908)   \n",
       "3     4    Gray  (0.07182814570836266, 0.07649805547847523)   \n",
       "4     5    Gray  (0.07651063238231065, 0.08143291270426077)   \n",
       "\n",
       "   unique_magnitudes                                               data  \n",
       "0                579  [8208036.0, 8653454.0, 10060947.0, 8514950.0, ...  \n",
       "1                 72  [4767.518941383358, -4641.407653600238, 28077....  \n",
       "2                 91  [27975.19455626599, 6136.731146741515, 26162.4...  \n",
       "3                 98  [50889.20541991507, 11870.94086902578, 9902.38...  \n",
       "4                111  [2623.9268908146696, 24006.75690830736, -23175...  "
      ]
     },
     "metadata": {},
     "execution_count": 4
    }
   ],
   "metadata": {}
  },
  {
   "cell_type": "markdown",
   "source": [
    "# Wavelet"
   ],
   "metadata": {}
  },
  {
   "cell_type": "code",
   "execution_count": 5,
   "source": [
    "def filter_func(x):\n",
    "    x_copy = x.copy().astype(float)\n",
    "    filtered = ndimage.uniform_filter(x, size = 7)\n",
    "    x_copy[filtered == 0] = np.nan\n",
    "    return x_copy\n",
    "\n",
    "gray_wv = convert_to_wavelet_basis(data_dir, \"Gray\", image_func = filter_func)\n",
    "gray_wv[\"data\"] = gray_wv[\"data\"].apply(lambda x: x[~np.isnan(x)])\n",
    "#pd.to_pickle(gray_wv, '../transformed-data/full-pastis-gray-wavelet.pickle')\n",
    "gray_wv.head(10)"
   ],
   "outputs": [
    {
     "output_type": "stream",
     "name": "stdout",
     "text": [
      "9 layers being used\n"
     ]
    },
    {
     "output_type": "execute_result",
     "data": {
      "text/html": [
       "<div>\n",
       "<style scoped>\n",
       "    .dataframe tbody tr th:only-of-type {\n",
       "        vertical-align: middle;\n",
       "    }\n",
       "\n",
       "    .dataframe tbody tr th {\n",
       "        vertical-align: top;\n",
       "    }\n",
       "\n",
       "    .dataframe thead th {\n",
       "        text-align: right;\n",
       "    }\n",
       "</style>\n",
       "<table border=\"1\" class=\"dataframe\">\n",
       "  <thead>\n",
       "    <tr style=\"text-align: right;\">\n",
       "      <th></th>\n",
       "      <th>channel</th>\n",
       "      <th>layer</th>\n",
       "      <th>orientation</th>\n",
       "      <th>data</th>\n",
       "    </tr>\n",
       "  </thead>\n",
       "  <tbody>\n",
       "    <tr>\n",
       "      <th>0</th>\n",
       "      <td>Gray</td>\n",
       "      <td>1</td>\n",
       "      <td>L1</td>\n",
       "      <td>[]</td>\n",
       "    </tr>\n",
       "    <tr>\n",
       "      <th>1</th>\n",
       "      <td>Gray</td>\n",
       "      <td>2</td>\n",
       "      <td>D</td>\n",
       "      <td>[]</td>\n",
       "    </tr>\n",
       "    <tr>\n",
       "      <th>2</th>\n",
       "      <td>Gray</td>\n",
       "      <td>2</td>\n",
       "      <td>H</td>\n",
       "      <td>[]</td>\n",
       "    </tr>\n",
       "    <tr>\n",
       "      <th>3</th>\n",
       "      <td>Gray</td>\n",
       "      <td>2</td>\n",
       "      <td>V</td>\n",
       "      <td>[]</td>\n",
       "    </tr>\n",
       "    <tr>\n",
       "      <th>4</th>\n",
       "      <td>Gray</td>\n",
       "      <td>3</td>\n",
       "      <td>D</td>\n",
       "      <td>[618.3750000000006, -152.3046875000004, 15.171...</td>\n",
       "    </tr>\n",
       "    <tr>\n",
       "      <th>5</th>\n",
       "      <td>Gray</td>\n",
       "      <td>3</td>\n",
       "      <td>H</td>\n",
       "      <td>[-831.3281250000008, -871.1796875000007, -435....</td>\n",
       "    </tr>\n",
       "    <tr>\n",
       "      <th>6</th>\n",
       "      <td>Gray</td>\n",
       "      <td>3</td>\n",
       "      <td>V</td>\n",
       "      <td>[1578.7187500000005, -454.9609375000009, 1012....</td>\n",
       "    </tr>\n",
       "    <tr>\n",
       "      <th>7</th>\n",
       "      <td>Gray</td>\n",
       "      <td>4</td>\n",
       "      <td>D</td>\n",
       "      <td>[563.3750000000005, -409.2187500000002, -131.6...</td>\n",
       "    </tr>\n",
       "    <tr>\n",
       "      <th>8</th>\n",
       "      <td>Gray</td>\n",
       "      <td>4</td>\n",
       "      <td>H</td>\n",
       "      <td>[-135.8125000000001, -610.0312500000002, -479....</td>\n",
       "    </tr>\n",
       "    <tr>\n",
       "      <th>9</th>\n",
       "      <td>Gray</td>\n",
       "      <td>4</td>\n",
       "      <td>V</td>\n",
       "      <td>[-634.3750000000002, -387.46875000000045, -322...</td>\n",
       "    </tr>\n",
       "  </tbody>\n",
       "</table>\n",
       "</div>"
      ],
      "text/plain": [
       "  channel  layer orientation  \\\n",
       "0    Gray      1          L1   \n",
       "1    Gray      2           D   \n",
       "2    Gray      2           H   \n",
       "3    Gray      2           V   \n",
       "4    Gray      3           D   \n",
       "5    Gray      3           H   \n",
       "6    Gray      3           V   \n",
       "7    Gray      4           D   \n",
       "8    Gray      4           H   \n",
       "9    Gray      4           V   \n",
       "\n",
       "                                                data  \n",
       "0                                                 []  \n",
       "1                                                 []  \n",
       "2                                                 []  \n",
       "3                                                 []  \n",
       "4  [618.3750000000006, -152.3046875000004, 15.171...  \n",
       "5  [-831.3281250000008, -871.1796875000007, -435....  \n",
       "6  [1578.7187500000005, -454.9609375000009, 1012....  \n",
       "7  [563.3750000000005, -409.2187500000002, -131.6...  \n",
       "8  [-135.8125000000001, -610.0312500000002, -479....  \n",
       "9  [-634.3750000000002, -387.46875000000045, -322...  "
      ]
     },
     "metadata": {},
     "execution_count": 5
    }
   ],
   "metadata": {}
  },
  {
   "cell_type": "code",
   "execution_count": null,
   "source": [],
   "outputs": [],
   "metadata": {}
  }
 ],
 "metadata": {
  "orig_nbformat": 4,
  "language_info": {
   "name": "python",
   "version": "3.10.14",
   "mimetype": "text/x-python",
   "codemirror_mode": {
    "name": "ipython",
    "version": 3
   },
   "pygments_lexer": "ipython3",
   "nbconvert_exporter": "python",
   "file_extension": ".py"
  },
  "kernelspec": {
   "name": "python3",
   "display_name": "Python 3.10.14 64-bit ('Research': conda)"
  },
  "interpreter": {
   "hash": "83635bb4831aedbea94bec2369092292994a8fbbb881bb3adfcb1b33cd30abe3"
  }
 },
 "nbformat": 4,
 "nbformat_minor": 2
}