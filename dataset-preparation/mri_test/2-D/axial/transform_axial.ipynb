{
 "cells": [
  {
   "cell_type": "code",
   "execution_count": 1,
   "source": [
    "# assign directory\n",
    "import os\n",
    "BRANDON = '/Users/brandonmarks/Desktop/Research Materials/hierarchical-bayesian-model-validation/'\n",
    "YASH = '/Users/yashd/Desktop/hierarchical-bayesian-model-validation/'\n",
    "\n",
    "ROOT_DIR = BRANDON\n",
    "data_dir = ROOT_DIR + 'raw-data/toy-syntheticMRI-2D/axial-slice'\n",
    "# iterate over files in that directory\n",
    "file_list = [os.path.join(data_dir, filename) for filename in os.listdir(data_dir)]\n",
    "file_names = os.listdir(data_dir)"
   ],
   "outputs": [],
   "metadata": {}
  },
  {
   "cell_type": "code",
   "execution_count": 2,
   "source": [
    "os.chdir(ROOT_DIR + \"dataset-preparation/\")\n",
    "from transform_utilities import *"
   ],
   "outputs": [],
   "metadata": {}
  },
  {
   "cell_type": "code",
   "execution_count": null,
   "source": [],
   "outputs": [],
   "metadata": {}
  },
  {
   "cell_type": "markdown",
   "source": [
    "# Fourier"
   ],
   "metadata": {}
  },
  {
   "cell_type": "code",
   "execution_count": 3,
   "source": [
    "#Values obtained from plots in axial_fourier.ipynb\n",
    "splits = getSplits(0.07959160499529569,0.5275932800266083, 1.066)\n",
    "print(splits)"
   ],
   "outputs": [
    {
     "output_type": "stream",
     "name": "stdout",
     "text": [
      "[0.07959160499529569, 0.08484465092498521, 0.09044439788603424, 0.0964137281465125, 0.10277703420418233, 0.10956031846165837, 0.11679129948012783, 0.12449952524581627, 0.13271649391204016, 0.14147578251023482, 0.15081318415591033, 0.1607668543102004, 0.17137746669467363, 0.1826883794965221, 0.1947458125432926, 0.20759903617114991, 0.22130057255844582, 0.23590641034730325, 0.2514762334302253, 0.26807366483662015, 0.2857665267158371, 0.30462711747908233, 0.3247325072327018, 0.34616485271006014, 0.36901173298892415, 0.39336650736619316, 0.41932869685236196, 0.44700439084461785, 0.47650668064036267, 0.5079561215626266]\n"
     ]
    }
   ],
   "metadata": {}
  },
  {
   "cell_type": "code",
   "execution_count": 4,
   "source": [
    "gray_fr = convert_to_fourier_basis(data_dir, \"Gray\", split_list = splits)\n",
    "#pd.to_pickle(gray_fr, '../transformed-data/toy-agriVision-red-fourier.pickle')\n",
    "gray_fr.head()"
   ],
   "outputs": [
    {
     "output_type": "stream",
     "name": "stdout",
     "text": [
      "[0.0795916  0.08484465 0.0904444  0.09641373 0.10277703 0.10956032\n",
      " 0.1167913  0.12449953 0.13271649 0.14147578 0.15081318 0.16076685\n",
      " 0.17137747 0.18268838 0.19474581 0.20759904 0.22130057 0.23590641\n",
      " 0.25147623 0.26807366 0.28576653 0.30462712 0.32473251 0.34616485\n",
      " 0.36901173 0.39336651 0.4193287  0.44700439 0.47650668 0.50795612]\n"
     ]
    },
    {
     "output_type": "execute_result",
     "data": {
      "text/html": [
       "<div>\n",
       "<style scoped>\n",
       "    .dataframe tbody tr th:only-of-type {\n",
       "        vertical-align: middle;\n",
       "    }\n",
       "\n",
       "    .dataframe tbody tr th {\n",
       "        vertical-align: top;\n",
       "    }\n",
       "\n",
       "    .dataframe thead th {\n",
       "        text-align: right;\n",
       "    }\n",
       "</style>\n",
       "<table border=\"1\" class=\"dataframe\">\n",
       "  <thead>\n",
       "    <tr style=\"text-align: right;\">\n",
       "      <th></th>\n",
       "      <th>band</th>\n",
       "      <th>channel</th>\n",
       "      <th>magnitude_endpoints</th>\n",
       "      <th>unique_magnitudes</th>\n",
       "      <th>data</th>\n",
       "    </tr>\n",
       "  </thead>\n",
       "  <tbody>\n",
       "    <tr>\n",
       "      <th>0</th>\n",
       "      <td>1</td>\n",
       "      <td>Gray</td>\n",
       "      <td>(0.0, 0.07958702332846287)</td>\n",
       "      <td>512</td>\n",
       "      <td>[3710897.0, 3892908.0, 3690392.0, 4036826.0, 4...</td>\n",
       "    </tr>\n",
       "    <tr>\n",
       "      <th>1</th>\n",
       "      <td>2</td>\n",
       "      <td>Gray</td>\n",
       "      <td>(0.07959160499529569, 0.08480974076355595)</td>\n",
       "      <td>68</td>\n",
       "      <td>[14650.11723414603, 2276.965665419626, 2811.44...</td>\n",
       "    </tr>\n",
       "    <tr>\n",
       "      <th>2</th>\n",
       "      <td>3</td>\n",
       "      <td>Gray</td>\n",
       "      <td>(0.08490487225286758, 0.09036685796280594)</td>\n",
       "      <td>71</td>\n",
       "      <td>[13213.367343535561, 12087.876639120928, 10571...</td>\n",
       "    </tr>\n",
       "    <tr>\n",
       "      <th>3</th>\n",
       "      <td>4</td>\n",
       "      <td>Gray</td>\n",
       "      <td>(0.09045831030085763, 0.09640449043804551)</td>\n",
       "      <td>92</td>\n",
       "      <td>[18080.957101150885, -15767.449784966255, -552...</td>\n",
       "    </tr>\n",
       "    <tr>\n",
       "      <th>4</th>\n",
       "      <td>5</td>\n",
       "      <td>Gray</td>\n",
       "      <td>(0.09655068286264279, 0.10275098804461226)</td>\n",
       "      <td>98</td>\n",
       "      <td>[-5040.489743227421, 2042.7003602301907, -9498...</td>\n",
       "    </tr>\n",
       "  </tbody>\n",
       "</table>\n",
       "</div>"
      ],
      "text/plain": [
       "   band channel                         magnitude_endpoints  \\\n",
       "0     1    Gray                  (0.0, 0.07958702332846287)   \n",
       "1     2    Gray  (0.07959160499529569, 0.08480974076355595)   \n",
       "2     3    Gray  (0.08490487225286758, 0.09036685796280594)   \n",
       "3     4    Gray  (0.09045831030085763, 0.09640449043804551)   \n",
       "4     5    Gray  (0.09655068286264279, 0.10275098804461226)   \n",
       "\n",
       "   unique_magnitudes                                               data  \n",
       "0                512  [3710897.0, 3892908.0, 3690392.0, 4036826.0, 4...  \n",
       "1                 68  [14650.11723414603, 2276.965665419626, 2811.44...  \n",
       "2                 71  [13213.367343535561, 12087.876639120928, 10571...  \n",
       "3                 92  [18080.957101150885, -15767.449784966255, -552...  \n",
       "4                 98  [-5040.489743227421, 2042.7003602301907, -9498...  "
      ]
     },
     "metadata": {},
     "execution_count": 4
    }
   ],
   "metadata": {}
  },
  {
   "cell_type": "markdown",
   "source": [
    "# Wavelet"
   ],
   "metadata": {}
  },
  {
   "cell_type": "code",
   "execution_count": 5,
   "source": [
    "def filter_func(x):\n",
    "    x_copy = x.copy().astype(float)\n",
    "    filtered = ndimage.uniform_filter(x, size = 3)\n",
    "    #filtered = ndimage.median_filter(x.astype(\"float\"), size = 7)\n",
    "    x_copy[np.isclose(filtered, 0)] = np.nan\n",
    "    return x_copy\n",
    "\n",
    "gray_wv = convert_to_wavelet_basis(data_dir, \"Gray\", image_func = filter_func)\n",
    "gray_wv[\"data\"] = gray_wv[\"data\"].apply(lambda x: x[~np.isnan(x)])\n",
    "#pd.to_pickle(gray_wv, '../transformed-data/full-pastis-gray-wavelet.pickle')\n",
    "gray_wv.head(10)"
   ],
   "outputs": [
    {
     "output_type": "stream",
     "name": "stdout",
     "text": [
      "9 layers being used\n"
     ]
    },
    {
     "output_type": "execute_result",
     "data": {
      "text/html": [
       "<div>\n",
       "<style scoped>\n",
       "    .dataframe tbody tr th:only-of-type {\n",
       "        vertical-align: middle;\n",
       "    }\n",
       "\n",
       "    .dataframe tbody tr th {\n",
       "        vertical-align: top;\n",
       "    }\n",
       "\n",
       "    .dataframe thead th {\n",
       "        text-align: right;\n",
       "    }\n",
       "</style>\n",
       "<table border=\"1\" class=\"dataframe\">\n",
       "  <thead>\n",
       "    <tr style=\"text-align: right;\">\n",
       "      <th></th>\n",
       "      <th>channel</th>\n",
       "      <th>layer</th>\n",
       "      <th>orientation</th>\n",
       "      <th>data</th>\n",
       "    </tr>\n",
       "  </thead>\n",
       "  <tbody>\n",
       "    <tr>\n",
       "      <th>0</th>\n",
       "      <td>Gray</td>\n",
       "      <td>1</td>\n",
       "      <td>L1</td>\n",
       "      <td>[]</td>\n",
       "    </tr>\n",
       "    <tr>\n",
       "      <th>1</th>\n",
       "      <td>Gray</td>\n",
       "      <td>2</td>\n",
       "      <td>D</td>\n",
       "      <td>[]</td>\n",
       "    </tr>\n",
       "    <tr>\n",
       "      <th>2</th>\n",
       "      <td>Gray</td>\n",
       "      <td>2</td>\n",
       "      <td>H</td>\n",
       "      <td>[]</td>\n",
       "    </tr>\n",
       "    <tr>\n",
       "      <th>3</th>\n",
       "      <td>Gray</td>\n",
       "      <td>2</td>\n",
       "      <td>V</td>\n",
       "      <td>[]</td>\n",
       "    </tr>\n",
       "    <tr>\n",
       "      <th>4</th>\n",
       "      <td>Gray</td>\n",
       "      <td>3</td>\n",
       "      <td>D</td>\n",
       "      <td>[313.15625000000074, -419.8750000000002, -317....</td>\n",
       "    </tr>\n",
       "    <tr>\n",
       "      <th>5</th>\n",
       "      <td>Gray</td>\n",
       "      <td>3</td>\n",
       "      <td>H</td>\n",
       "      <td>[-939.7656250000007, -1609.6250000000018, -184...</td>\n",
       "    </tr>\n",
       "    <tr>\n",
       "      <th>6</th>\n",
       "      <td>Gray</td>\n",
       "      <td>3</td>\n",
       "      <td>V</td>\n",
       "      <td>[599.9687500000009, -235.57812499999955, 152.5...</td>\n",
       "    </tr>\n",
       "    <tr>\n",
       "      <th>7</th>\n",
       "      <td>Gray</td>\n",
       "      <td>4</td>\n",
       "      <td>D</td>\n",
       "      <td>[184.96875000000028, -554.5000000000007, 35.17...</td>\n",
       "    </tr>\n",
       "    <tr>\n",
       "      <th>8</th>\n",
       "      <td>Gray</td>\n",
       "      <td>4</td>\n",
       "      <td>H</td>\n",
       "      <td>[-788.7500000000007, 392.8125000000005, -190.6...</td>\n",
       "    </tr>\n",
       "    <tr>\n",
       "      <th>9</th>\n",
       "      <td>Gray</td>\n",
       "      <td>4</td>\n",
       "      <td>V</td>\n",
       "      <td>[-96.93750000000023, -468.68750000000045, 621....</td>\n",
       "    </tr>\n",
       "  </tbody>\n",
       "</table>\n",
       "</div>"
      ],
      "text/plain": [
       "  channel  layer orientation  \\\n",
       "0    Gray      1          L1   \n",
       "1    Gray      2           D   \n",
       "2    Gray      2           H   \n",
       "3    Gray      2           V   \n",
       "4    Gray      3           D   \n",
       "5    Gray      3           H   \n",
       "6    Gray      3           V   \n",
       "7    Gray      4           D   \n",
       "8    Gray      4           H   \n",
       "9    Gray      4           V   \n",
       "\n",
       "                                                data  \n",
       "0                                                 []  \n",
       "1                                                 []  \n",
       "2                                                 []  \n",
       "3                                                 []  \n",
       "4  [313.15625000000074, -419.8750000000002, -317....  \n",
       "5  [-939.7656250000007, -1609.6250000000018, -184...  \n",
       "6  [599.9687500000009, -235.57812499999955, 152.5...  \n",
       "7  [184.96875000000028, -554.5000000000007, 35.17...  \n",
       "8  [-788.7500000000007, 392.8125000000005, -190.6...  \n",
       "9  [-96.93750000000023, -468.68750000000045, 621....  "
      ]
     },
     "metadata": {},
     "execution_count": 5
    }
   ],
   "metadata": {}
  },
  {
   "cell_type": "code",
   "execution_count": null,
   "source": [],
   "outputs": [],
   "metadata": {}
  }
 ],
 "metadata": {
  "orig_nbformat": 4,
  "language_info": {
   "name": "python",
   "version": "3.10.14",
   "mimetype": "text/x-python",
   "codemirror_mode": {
    "name": "ipython",
    "version": 3
   },
   "pygments_lexer": "ipython3",
   "nbconvert_exporter": "python",
   "file_extension": ".py"
  },
  "kernelspec": {
   "name": "python3",
   "display_name": "Python 3.10.14 64-bit ('Research': conda)"
  },
  "interpreter": {
   "hash": "83635bb4831aedbea94bec2369092292994a8fbbb881bb3adfcb1b33cd30abe3"
  }
 },
 "nbformat": 4,
 "nbformat_minor": 2
}