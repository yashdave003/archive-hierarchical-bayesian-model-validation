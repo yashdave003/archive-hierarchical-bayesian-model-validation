{
 "cells": [
  {
   "cell_type": "code",
   "execution_count": 1,
   "source": [
    "# assign directory\n",
    "import os\n",
    "BRANDON = '/Users/brandonmarks/Desktop/Research Materials/hierarchical-bayesian-model-validation/'\n",
    "YASH = '/Users/yashd/Desktop/hierarchical-bayesian-model-validation/'\n",
    "\n",
    "ROOT_DIR = BRANDON\n",
    "data_dir = ROOT_DIR + 'raw-data/100_syntheticMRI-3d'\n",
    "# iterate over files in that directory\n",
    "file_list = [os.path.join(data_dir, filename) for filename in os.listdir(data_dir)]\n",
    "file_names = os.listdir(data_dir)"
   ],
   "outputs": [],
   "metadata": {}
  },
  {
   "cell_type": "code",
   "execution_count": 2,
   "source": [
    "os.chdir(ROOT_DIR + \"dataset-preparation/\")\n",
    "from transform_utilities import *"
   ],
   "outputs": [],
   "metadata": {}
  },
  {
   "cell_type": "markdown",
   "source": [
    "# Fourier"
   ],
   "metadata": {}
  },
  {
   "cell_type": "code",
   "execution_count": 3,
   "source": [
    "first_image = nib.load(file_list[0]).get_fdata()\n",
    "mri_coord_df = getIndexDF_3d(first_image).sort_values([\"magnitude\"])"
   ],
   "outputs": [],
   "metadata": {}
  },
  {
   "cell_type": "code",
   "execution_count": 4,
   "source": [
    "#Values obtained from plots in axial_fourier.ipynb\n",
    "splits = getSplits(0.14717525215517308, 0.7491928054205256, 1.05)\n",
    "print(splits)"
   ],
   "outputs": [
    {
     "output_type": "stream",
     "name": "stdout",
     "text": [
      "[0.14717525215517308, 0.15453401476293174, 0.16226071550107835, 0.17037375127613227, 0.17889243883993888, 0.18783706078193582, 0.1972289138210326, 0.20709035951208424, 0.21744487748768845, 0.22831712136207288, 0.23973297743017655, 0.2517196263016854, 0.26430560761676963, 0.2775208879976081, 0.29139693239748854, 0.30596677901736297, 0.32126511796823115, 0.3373283738666427, 0.3541947925599749, 0.37190453218797365, 0.39049975879737236, 0.410024746737241, 0.43052598407410303, 0.4520522832778082, 0.47465489744169864, 0.4983876423137836, 0.5233070244294727, 0.5494723756509464, 0.5769459944334938, 0.6057932941551686, 0.636082958862927, 0.6678871068060733, 0.701281462146377, 0.7363455352536958]\n"
     ]
    }
   ],
   "metadata": {}
  },
  {
   "cell_type": "code",
   "execution_count": 5,
   "source": [
    "gray_fr = convert_to_fourier_basis_3d(data_dir, split_list = splits, coord_df=mri_coord_df, debug= True)\n",
    "#pd.to_pickle(gray_fr, '../transformed-data/toy-agriVision-red-fourier.pickle')\n",
    "gray_fr.head()"
   ],
   "outputs": [
    {
     "output_type": "stream",
     "name": "stderr",
     "text": [
      "100%|██████████| 100/100 [00:35<00:00,  2.85it/s]\n"
     ]
    },
    {
     "output_type": "stream",
     "name": "stdout",
     "text": [
      "[0.14717525 0.15453401 0.16226072 0.17037375 0.17889244 0.18783706\n",
      " 0.19722891 0.20709036 0.21744488 0.22831712 0.23973298 0.25171963\n",
      " 0.26430561 0.27752089 0.29139693 0.30596678 0.32126512 0.33732837\n",
      " 0.35419479 0.37190453 0.39049976 0.41002475 0.43052598 0.45205228\n",
      " 0.4746549  0.49838764 0.52330702 0.54947238 0.57694599 0.60579329\n",
      " 0.63608296 0.66788711 0.70128146 0.73634554]\n"
     ]
    },
    {
     "output_type": "stream",
     "name": "stderr",
     "text": [
      "100%|██████████| 34/34 [00:11<00:00,  2.98it/s]\n"
     ]
    },
    {
     "output_type": "execute_result",
     "data": {
      "text/html": [
       "<div>\n",
       "<style scoped>\n",
       "    .dataframe tbody tr th:only-of-type {\n",
       "        vertical-align: middle;\n",
       "    }\n",
       "\n",
       "    .dataframe tbody tr th {\n",
       "        vertical-align: top;\n",
       "    }\n",
       "\n",
       "    .dataframe thead th {\n",
       "        text-align: right;\n",
       "    }\n",
       "</style>\n",
       "<table border=\"1\" class=\"dataframe\">\n",
       "  <thead>\n",
       "    <tr style=\"text-align: right;\">\n",
       "      <th></th>\n",
       "      <th>band</th>\n",
       "      <th>magnitude_endpoints</th>\n",
       "      <th>unique_magnitudes</th>\n",
       "      <th>data</th>\n",
       "    </tr>\n",
       "  </thead>\n",
       "  <tbody>\n",
       "    <tr>\n",
       "      <th>0</th>\n",
       "      <td>1</td>\n",
       "      <td>(0.0, 0.1471698354255507)</td>\n",
       "      <td>4577</td>\n",
       "      <td>[49257324416.0, 49257324416.0, 49257324416.0, ...</td>\n",
       "    </tr>\n",
       "    <tr>\n",
       "      <th>1</th>\n",
       "      <td>2</td>\n",
       "      <td>(0.14717525215517308, 0.15452878504719844)</td>\n",
       "      <td>621</td>\n",
       "      <td>[-27141263.44444302, -27141263.44444302, -2714...</td>\n",
       "    </tr>\n",
       "    <tr>\n",
       "      <th>2</th>\n",
       "      <td>3</td>\n",
       "      <td>(0.1545365231581063, 0.16225943732183962)</td>\n",
       "      <td>707</td>\n",
       "      <td>[-50701152.42484738, -50701152.42484738, -5070...</td>\n",
       "    </tr>\n",
       "    <tr>\n",
       "      <th>3</th>\n",
       "      <td>4</td>\n",
       "      <td>(0.16226926318779597, 0.17037202315964378)</td>\n",
       "      <td>800</td>\n",
       "      <td>[-44436270.390244916, -44436270.390244916, -44...</td>\n",
       "    </tr>\n",
       "    <tr>\n",
       "      <th>4</th>\n",
       "      <td>5</td>\n",
       "      <td>(0.17038839934882027, 0.178888112049552)</td>\n",
       "      <td>938</td>\n",
       "      <td>[12953747.345902056, 12953747.345902056, 12953...</td>\n",
       "    </tr>\n",
       "  </tbody>\n",
       "</table>\n",
       "</div>"
      ],
      "text/plain": [
       "   band                         magnitude_endpoints  unique_magnitudes  \\\n",
       "0     1                   (0.0, 0.1471698354255507)               4577   \n",
       "1     2  (0.14717525215517308, 0.15452878504719844)                621   \n",
       "2     3   (0.1545365231581063, 0.16225943732183962)                707   \n",
       "3     4  (0.16226926318779597, 0.17037202315964378)                800   \n",
       "4     5    (0.17038839934882027, 0.178888112049552)                938   \n",
       "\n",
       "                                                data  \n",
       "0  [49257324416.0, 49257324416.0, 49257324416.0, ...  \n",
       "1  [-27141263.44444302, -27141263.44444302, -2714...  \n",
       "2  [-50701152.42484738, -50701152.42484738, -5070...  \n",
       "3  [-44436270.390244916, -44436270.390244916, -44...  \n",
       "4  [12953747.345902056, 12953747.345902056, 12953...  "
      ]
     },
     "metadata": {},
     "execution_count": 5
    }
   ],
   "metadata": {}
  },
  {
   "cell_type": "code",
   "execution_count": 6,
   "source": [
    "gray_fr = fourier_full_decomp_3d(data_dir, coord_df= mri_coord_df, debug = True)\n",
    "gray_fr.head()"
   ],
   "outputs": [
    {
     "output_type": "stream",
     "name": "stderr",
     "text": [
      "100%|██████████| 100/100 [00:36<00:00,  2.77it/s]\n"
     ]
    },
    {
     "output_type": "execute_result",
     "data": {
      "text/html": [
       "<div>\n",
       "<style scoped>\n",
       "    .dataframe tbody tr th:only-of-type {\n",
       "        vertical-align: middle;\n",
       "    }\n",
       "\n",
       "    .dataframe tbody tr th {\n",
       "        vertical-align: top;\n",
       "    }\n",
       "\n",
       "    .dataframe thead th {\n",
       "        text-align: right;\n",
       "    }\n",
       "</style>\n",
       "<table border=\"1\" class=\"dataframe\">\n",
       "  <thead>\n",
       "    <tr style=\"text-align: right;\">\n",
       "      <th></th>\n",
       "      <th>x_index</th>\n",
       "      <th>y_index</th>\n",
       "      <th>z_index</th>\n",
       "      <th>x_freq</th>\n",
       "      <th>y_freq</th>\n",
       "      <th>z_freq</th>\n",
       "      <th>magnitude</th>\n",
       "      <th>Data</th>\n",
       "    </tr>\n",
       "    <tr>\n",
       "      <th>index_coords</th>\n",
       "      <th></th>\n",
       "      <th></th>\n",
       "      <th></th>\n",
       "      <th></th>\n",
       "      <th></th>\n",
       "      <th></th>\n",
       "      <th></th>\n",
       "      <th></th>\n",
       "    </tr>\n",
       "  </thead>\n",
       "  <tbody>\n",
       "    <tr>\n",
       "      <th>(0, 0, 0)</th>\n",
       "      <td>0</td>\n",
       "      <td>0</td>\n",
       "      <td>0</td>\n",
       "      <td>0.00000</td>\n",
       "      <td>0.000000</td>\n",
       "      <td>0.00000</td>\n",
       "      <td>0.000000</td>\n",
       "      <td>[(49257324416-0j), (49257324416-0j), (49257324...</td>\n",
       "    </tr>\n",
       "    <tr>\n",
       "      <th>(0, 1, 0)</th>\n",
       "      <td>0</td>\n",
       "      <td>1</td>\n",
       "      <td>0</td>\n",
       "      <td>0.00000</td>\n",
       "      <td>0.004464</td>\n",
       "      <td>0.00000</td>\n",
       "      <td>0.004464</td>\n",
       "      <td>[(-18493530034.481766-3943535717.4455204j), (-...</td>\n",
       "    </tr>\n",
       "    <tr>\n",
       "      <th>(0, 0, 1)</th>\n",
       "      <td>0</td>\n",
       "      <td>0</td>\n",
       "      <td>1</td>\n",
       "      <td>0.00000</td>\n",
       "      <td>0.000000</td>\n",
       "      <td>0.00625</td>\n",
       "      <td>0.006250</td>\n",
       "      <td>[(-10388715531.239899-9243585541.701508j), (-1...</td>\n",
       "    </tr>\n",
       "    <tr>\n",
       "      <th>(1, 0, 0)</th>\n",
       "      <td>1</td>\n",
       "      <td>0</td>\n",
       "      <td>0</td>\n",
       "      <td>0.00625</td>\n",
       "      <td>0.000000</td>\n",
       "      <td>0.00000</td>\n",
       "      <td>0.006250</td>\n",
       "      <td>[(-13007545690.156769+810555099.807267j), (-13...</td>\n",
       "    </tr>\n",
       "    <tr>\n",
       "      <th>(1, 1, 0)</th>\n",
       "      <td>1</td>\n",
       "      <td>1</td>\n",
       "      <td>0</td>\n",
       "      <td>0.00625</td>\n",
       "      <td>0.004464</td>\n",
       "      <td>0.00000</td>\n",
       "      <td>0.007681</td>\n",
       "      <td>[(1550923540.2460556+1526898431.9516926j), (15...</td>\n",
       "    </tr>\n",
       "  </tbody>\n",
       "</table>\n",
       "</div>"
      ],
      "text/plain": [
       "              x_index  y_index  z_index   x_freq    y_freq   z_freq  \\\n",
       "index_coords                                                          \n",
       "(0, 0, 0)           0        0        0  0.00000  0.000000  0.00000   \n",
       "(0, 1, 0)           0        1        0  0.00000  0.004464  0.00000   \n",
       "(0, 0, 1)           0        0        1  0.00000  0.000000  0.00625   \n",
       "(1, 0, 0)           1        0        0  0.00625  0.000000  0.00000   \n",
       "(1, 1, 0)           1        1        0  0.00625  0.004464  0.00000   \n",
       "\n",
       "              magnitude                                               Data  \n",
       "index_coords                                                                \n",
       "(0, 0, 0)      0.000000  [(49257324416-0j), (49257324416-0j), (49257324...  \n",
       "(0, 1, 0)      0.004464  [(-18493530034.481766-3943535717.4455204j), (-...  \n",
       "(0, 0, 1)      0.006250  [(-10388715531.239899-9243585541.701508j), (-1...  \n",
       "(1, 0, 0)      0.006250  [(-13007545690.156769+810555099.807267j), (-13...  \n",
       "(1, 1, 0)      0.007681  [(1550923540.2460556+1526898431.9516926j), (15...  "
      ]
     },
     "metadata": {},
     "execution_count": 6
    }
   ],
   "metadata": {}
  },
  {
   "cell_type": "markdown",
   "source": [
    "# Wavelet"
   ],
   "metadata": {}
  },
  {
   "cell_type": "code",
   "execution_count": 7,
   "source": [
    "def filter_func(x):\n",
    "    x_copy = x.copy().astype(float)\n",
    "    filtered = ndimage.uniform_filter(x, size = 3)\n",
    "    #filtered = ndimage.median_filter(x.astype(\"float\"), size = 7)\n",
    "    x_copy[np.isclose(filtered, 0)] = np.nan\n",
    "    #x_copy[filtered <= 0.05] = np.nan\n",
    "    return x_copy\n",
    "gray_wv = convert_to_wavelet_basis_3d(data_dir, image_func= filter_func, debug = True)\n",
    "gray_wv[\"data\"] = gray_wv[\"data\"].apply(lambda x: x[~np.isnan(x)])\n",
    "gray_wv.head(10)"
   ],
   "outputs": [
    {
     "output_type": "stream",
     "name": "stdout",
     "text": [
      "8 layers being used\n"
     ]
    },
    {
     "output_type": "stream",
     "name": "stderr",
     "text": [
      "100%|██████████| 100/100 [00:38<00:00,  2.61it/s]\n"
     ]
    },
    {
     "output_type": "execute_result",
     "data": {
      "text/html": [
       "<div>\n",
       "<style scoped>\n",
       "    .dataframe tbody tr th:only-of-type {\n",
       "        vertical-align: middle;\n",
       "    }\n",
       "\n",
       "    .dataframe tbody tr th {\n",
       "        vertical-align: top;\n",
       "    }\n",
       "\n",
       "    .dataframe thead th {\n",
       "        text-align: right;\n",
       "    }\n",
       "</style>\n",
       "<table border=\"1\" class=\"dataframe\">\n",
       "  <thead>\n",
       "    <tr style=\"text-align: right;\">\n",
       "      <th></th>\n",
       "      <th>layer</th>\n",
       "      <th>orientation</th>\n",
       "      <th>data</th>\n",
       "    </tr>\n",
       "  </thead>\n",
       "  <tbody>\n",
       "    <tr>\n",
       "      <th>0</th>\n",
       "      <td>1</td>\n",
       "      <td>L1</td>\n",
       "      <td>[]</td>\n",
       "    </tr>\n",
       "    <tr>\n",
       "      <th>1</th>\n",
       "      <td>2</td>\n",
       "      <td>aad</td>\n",
       "      <td>[]</td>\n",
       "    </tr>\n",
       "    <tr>\n",
       "      <th>2</th>\n",
       "      <td>2</td>\n",
       "      <td>ada</td>\n",
       "      <td>[]</td>\n",
       "    </tr>\n",
       "    <tr>\n",
       "      <th>3</th>\n",
       "      <td>2</td>\n",
       "      <td>add</td>\n",
       "      <td>[]</td>\n",
       "    </tr>\n",
       "    <tr>\n",
       "      <th>4</th>\n",
       "      <td>2</td>\n",
       "      <td>daa</td>\n",
       "      <td>[]</td>\n",
       "    </tr>\n",
       "    <tr>\n",
       "      <th>5</th>\n",
       "      <td>2</td>\n",
       "      <td>dad</td>\n",
       "      <td>[]</td>\n",
       "    </tr>\n",
       "    <tr>\n",
       "      <th>6</th>\n",
       "      <td>2</td>\n",
       "      <td>dda</td>\n",
       "      <td>[]</td>\n",
       "    </tr>\n",
       "    <tr>\n",
       "      <th>7</th>\n",
       "      <td>2</td>\n",
       "      <td>ddd</td>\n",
       "      <td>[]</td>\n",
       "    </tr>\n",
       "    <tr>\n",
       "      <th>8</th>\n",
       "      <td>3</td>\n",
       "      <td>aad</td>\n",
       "      <td>[-1178617.707031251, -180064.888671875, -10603...</td>\n",
       "    </tr>\n",
       "    <tr>\n",
       "      <th>9</th>\n",
       "      <td>3</td>\n",
       "      <td>ada</td>\n",
       "      <td>[-163132.13281250038, -128205.81445312491, -28...</td>\n",
       "    </tr>\n",
       "  </tbody>\n",
       "</table>\n",
       "</div>"
      ],
      "text/plain": [
       "   layer orientation                                               data\n",
       "0      1          L1                                                 []\n",
       "1      2         aad                                                 []\n",
       "2      2         ada                                                 []\n",
       "3      2         add                                                 []\n",
       "4      2         daa                                                 []\n",
       "5      2         dad                                                 []\n",
       "6      2         dda                                                 []\n",
       "7      2         ddd                                                 []\n",
       "8      3         aad  [-1178617.707031251, -180064.888671875, -10603...\n",
       "9      3         ada  [-163132.13281250038, -128205.81445312491, -28..."
      ]
     },
     "metadata": {},
     "execution_count": 7
    }
   ],
   "metadata": {}
  },
  {
   "cell_type": "code",
   "execution_count": null,
   "source": [],
   "outputs": [],
   "metadata": {}
  }
 ],
 "metadata": {
  "orig_nbformat": 4,
  "language_info": {
   "name": "python",
   "version": "3.10.14",
   "mimetype": "text/x-python",
   "codemirror_mode": {
    "name": "ipython",
    "version": 3
   },
   "pygments_lexer": "ipython3",
   "nbconvert_exporter": "python",
   "file_extension": ".py"
  },
  "kernelspec": {
   "name": "python3",
   "display_name": "Python 3.10.14 64-bit ('NewResearch': conda)"
  },
  "interpreter": {
   "hash": "26f46df99c92824998f7c0f025f59877ecc4414f4acde0109b9ec8a8b8d773e9"
  }
 },
 "nbformat": 4,
 "nbformat_minor": 2
}