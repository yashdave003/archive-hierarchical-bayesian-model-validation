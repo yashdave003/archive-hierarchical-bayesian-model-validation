{
 "cells": [
  {
   "cell_type": "code",
   "execution_count": 7,
   "metadata": {},
   "outputs": [],
   "source": [
    "# assign directory\n",
    "import git\n",
    "from pathlib import Path\n",
    "import os\n",
    "from rembg import remove \n",
    "ROOT_DIR = Path(git.Repo('.', search_parent_directories=True).working_tree_dir)\n",
    "os.chdir(os.path.join(ROOT_DIR, \"utilities\"))\n",
    "from transform import *\n",
    "from plotting import *\n",
    "os.chdir(os.path.join(ROOT_DIR, \"dataset-preparation\"))\n",
    "\n",
    "data_dir = data_dir = os.path.join(ROOT_DIR, 'raw-data','toy-syntheticMRI-2D','axial', 'raw')\n",
    "# iterate over files in that directory\n",
    "file_list = [os.path.join(data_dir, filename) for filename in os.listdir(data_dir) if filename != \".DS_Store\"]\n",
    "file_names = os.listdir(data_dir)\n",
    "LAYER_MAX = 8"
   ]
  },
  {
   "cell_type": "code",
   "execution_count": 8,
   "metadata": {},
   "outputs": [],
   "source": [
    "def filter_func_new(x):\n",
    "    x_copy = x.copy()\n",
    "    og_mask = np.array(remove(x_copy))[:,:,3]\n",
    "    mask = og_mask.copy()\n",
    "    mask[mask > 0] = 1\n",
    "    float_mask = mask.astype(float)\n",
    "    float_mask[mask == 0.0] = np.nan\n",
    "    \n",
    "    return float_mask*x_copy"
   ]
  },
  {
   "cell_type": "code",
   "execution_count": null,
   "metadata": {},
   "outputs": [
    {
     "name": "stderr",
     "output_type": "stream",
     "text": [
      "100%|██████████| 10/10 [02:06<00:00, 12.62s/it]\n"
     ]
    }
   ],
   "source": [
    "for i in tqdm(range(len(file_list))[:10]):\n",
    "    image = np.array(Image.open(file_list[i]).convert(\"L\"))\n",
    "    np.savez(os.path.join(ROOT_DIR, 'raw-data','toy-syntheticMRI-2D','axial', 'cleaned', file_names[i]+\".tiff\"), filter_func_new(image))"
   ]
  },
  {
   "cell_type": "code",
   "execution_count": null,
   "metadata": {},
   "outputs": [],
   "source": []
  },
  {
   "cell_type": "code",
   "execution_count": null,
   "metadata": {},
   "outputs": [],
   "source": []
  }
 ],
 "metadata": {
  "kernelspec": {
   "display_name": "NewResearch",
   "language": "python",
   "name": "python3"
  },
  "language_info": {
   "codemirror_mode": {
    "name": "ipython",
    "version": 3
   },
   "file_extension": ".py",
   "mimetype": "text/x-python",
   "name": "python",
   "nbconvert_exporter": "python",
   "pygments_lexer": "ipython3",
   "version": "3.10.14"
  }
 },
 "nbformat": 4,
 "nbformat_minor": 2
}
