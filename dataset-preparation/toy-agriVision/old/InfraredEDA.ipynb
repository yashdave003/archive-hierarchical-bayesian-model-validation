{
 "cells": [
  {
   "cell_type": "code",
   "execution_count": null,
   "source": [
    "import numpy as np\n",
    "import pywt\n",
    "import matplotlib.pyplot as plt\n",
    "import random\n",
    "from scipy import stats\n",
    "from scipy import fft\n",
    "import random\n",
    "import pywt.data\n",
    "from PIL import Image\n",
    "import pandas as pd\n",
    "import seaborn as sns\n",
    "import os\n",
    "import pickle"
   ],
   "outputs": [],
   "metadata": {}
  },
  {
   "cell_type": "code",
   "execution_count": null,
   "source": [
    "# assign directory\n",
    "ROOT_DIR = '/Users/brandonmarks/Desktop/Research Materials/hierarchical-bayesian-model-validation/'\n",
    "data_dir = ROOT_DIR + 'Data/Panoptic Argiculture 2/Toy dataset - Near Infra Red'\n",
    " \n",
    "# iterate over files in that directory\n",
    "file_list = [os.path.join(data_dir, filename) for filename in os.listdir(data_dir)]\n",
    "file_names = os.listdir(data_dir)\n"
   ],
   "outputs": [],
   "metadata": {}
  },
  {
   "cell_type": "code",
   "execution_count": null,
   "source": [
    "def getIndexDF(image):\n",
    "    x_freqs = fft.fftfreq(image.shape[0])\n",
    "    y_freqs = fft.fftfreq(image.shape[1])\n",
    "    coord_df = pd.DataFrame()\n",
    "    coord_df[\"index_coords\"] = [(x,y) for x in np.arange(image.shape[0]) for y in np.arange(image.shape[0])]\n",
    "    coord_df[\"x_index\"] = [x for x in np.arange(image.shape[0]) for y in np.arange(image.shape[0])]\n",
    "    coord_df[\"y_index\"] = [y for x in np.arange(image.shape[0]) for y in np.arange(image.shape[0])]\n",
    "    coord_df[\"x_freq\"] = [x_freqs[x] for x in np.arange(image.shape[0]) for y in np.arange(image.shape[0])]\n",
    "    coord_df[\"y_freq\"] = [y_freqs[y] for x in np.arange(image.shape[0]) for y in np.arange(image.shape[0])]\n",
    "    coord_df[\"magnitude\"] = np.sqrt(coord_df[\"x_freq\"] ** 2 + coord_df[\"y_freq\"] **2)\n",
    "    coord_df = coord_df.set_index([\"index_coords\"])\n",
    "    coord_df = coord_df[(coord_df[\"x_freq\"] >= 0 )& (coord_df[\"y_freq\"] >= 0)]\n",
    "    return coord_df"
   ],
   "outputs": [],
   "metadata": {}
  },
  {
   "cell_type": "code",
   "execution_count": null,
   "source": [
    "def convert_to_fourier_basis(folder_dir, k, grey_scale_only=False):\n",
    "    file_list = [os.path.join(folder_dir, filename) for filename in os.listdir(folder_dir)]\n",
    "    file_names = os.listdir(folder_dir)\n",
    "    \n",
    "    image = Image.open(file_list[0]).convert('L')\n",
    "    image = np.array(image)\n",
    "    coord_df = getIndexDF(image)\n",
    "    max_mag = max(coord_df[\"magnitude\"].to_numpy())\n",
    "    cuttoffs = np.linspace(0, max_mag, k+1)\n",
    "    cuttoffs[-1] += 0.0001\n",
    "    \n",
    "\n",
    "    df = pd.DataFrame(columns=[\"Image ID\", \"Band\", \"Channel\", \"Data\"])\n",
    "    \n",
    "    coord_arr = []\n",
    "    for j in range(k):\n",
    "        filtered = coord_df[(coord_df[\"magnitude\"] >= cuttoffs[j] )&  (coord_df[\"magnitude\"] < cuttoffs[j+1])]\n",
    "        x = filtered[\"x_index\"].to_numpy()\n",
    "        y = filtered[\"y_index\"].to_numpy()\n",
    "        coord_arr.append([tuple(x),tuple(y)])\n",
    "\n",
    "    if grey_scale_only == True:\n",
    "            colors_id = [3]\n",
    "    else:\n",
    "        colors_id = np.arange(4)\n",
    "    colors = [\"Red\", \"Green\", \"Blue\", \"Gray\"]\n",
    "    #Fill DF DICT\n",
    "\n",
    "\n",
    "    for i in range(len(file_list)):\n",
    "        name = file_names[i].split(\".\")[0]\n",
    "        for c in colors_id:\n",
    "            if c == 3:\n",
    "                image = Image.open(file_list[k]).convert('L')\n",
    "                \n",
    "            else:\n",
    "                image = np.array(Image.open(file_list[k]))[:,:,c]\n",
    "        \n",
    "            image = np.array(image)\n",
    "            \n",
    "            transformed = np.array(fft.fft2(image))\n",
    "            for j in range(k):\n",
    "                x_ind,y_ind = coord_arr[j]\n",
    "                \n",
    "                df.loc[len(df.index)] = [name, j+1,colors[c], transformed[y_ind, x_ind]]\n",
    "\n",
    "        \n",
    "\n",
    "        \n",
    "    return df"
   ],
   "outputs": [],
   "metadata": {}
  },
  {
   "cell_type": "code",
   "execution_count": null,
   "source": [
    "converted = convert_to_fourier_basis(data_dir, 7, grey_scale_only=True)\n",
    "converted"
   ],
   "outputs": [],
   "metadata": {}
  },
  {
   "cell_type": "code",
   "execution_count": null,
   "source": [
    "sum(test[\"Size\"])"
   ],
   "outputs": [],
   "metadata": {}
  },
  {
   "cell_type": "markdown",
   "source": [
    "# ANALYSIS OF COMPLEX COMPONENTS"
   ],
   "metadata": {}
  },
  {
   "cell_type": "code",
   "execution_count": null,
   "source": [
    "def ComplexStudy(convertedDF, band, bound = 1e7, bw = 0.02):\n",
    "    complex_data = np.concatenate(convertedDF[convertedDF[\"Band\"] == band][\"Data\"].to_numpy())\n",
    "    real_data = np.real(complex_data)\n",
    "    imag_data = np.imag(complex_data)\n",
    "\n",
    "\n",
    "    n_r = len(real_data)\n",
    "    n_c = len(imag_data)\n",
    "    fig, axes = plt.subplots(1, 3, figsize=(24, 6))\n",
    "    #axes[0].set_xlim(left = -.25*bound, right = .25*bound)\n",
    "    #axes[1].set_xlim(left = -.25*bound, right = .25*bound)\n",
    "    axes[1].set_ylim(bottom = 10**-6, top= 10)\n",
    "    #axes[2].set_xlim(left = -.25*bound, right = .25*bound)\n",
    "    sns.kdeplot(ax = axes[0], x = real_data, bw_method=bw, label = \"Real\")\n",
    "    sns.kdeplot(ax = axes[0], x = imag_data,bw_method = bw, label = \"Imaginary\")\n",
    "    sns.kdeplot(ax = axes[1], x = real_data, bw_method = bw, log_scale=[False, True], label = \"Real\")\n",
    "    sns.kdeplot(ax = axes[1], x = imag_data, bw_method = bw, log_scale=[False, True], label = \"Imaginary\")\n",
    "    axes[2].plot(np.sort(real_data), np.arange(1, n_r+1)/n_r, label='Real CDF')\n",
    "    axes[2].plot(np.sort(imag_data), np.arange(1, n_c+1)/n_c, label='Imaginary CDF')\n",
    "    axes[0].set_title(\"Non Log Scale Pdf\")\n",
    "    axes[1].set_title(\"Log Scale Pdf\")\n",
    "    axes[2].set_title(\"CDF\")\n",
    "    fig.suptitle(\"Band \" + str(band))\n",
    "    axes[0].legend()\n",
    "    axes[1].legend()\n",
    "    axes[2].legend()"
   ],
   "outputs": [],
   "metadata": {}
  },
  {
   "cell_type": "code",
   "execution_count": null,
   "source": [
    "ComplexStudy(converted, 2)"
   ],
   "outputs": [],
   "metadata": {}
  },
  {
   "cell_type": "code",
   "execution_count": null,
   "source": [
    "for i in range(1, 8):\n",
    "    ComplexStudy(converted, i)"
   ],
   "outputs": [],
   "metadata": {}
  },
  {
   "cell_type": "code",
   "execution_count": null,
   "source": [
    "for i in range(1, 8):\n",
    "    ComplexStudy(converted, i, bw = 0.2)"
   ],
   "outputs": [],
   "metadata": {}
  },
  {
   "cell_type": "code",
   "execution_count": null,
   "source": [],
   "outputs": [],
   "metadata": {}
  },
  {
   "cell_type": "markdown",
   "source": [
    "# Color Analysis"
   ],
   "metadata": {}
  },
  {
   "cell_type": "code",
   "execution_count": null,
   "source": [
    "def LayerAnalysis(convertedDF, channel, band, bound = 1e7, bw = 0.02):\n",
    "    convertedDF_channel = convertedDF[convertedDF[\"Channel\"] ==channel]\n",
    "    fig, axes = plt.subplots(1, 3, figsize=(24, 6))\n",
    "\n",
    "    complex_data_first = np.concatenate(convertedDF_channel[convertedDF_channel[\"Band\"] == 2 * band -1][\"Data\"].to_numpy())\n",
    "    real_data_first = np.real(complex_data_first)\n",
    "    imag_data_first = np.imag(complex_data_first)\n",
    "    first_band = np.append(real_data_first, imag_data_first)\n",
    "\n",
    "    complex_data_second = np.concatenate(convertedDF_channel[convertedDF_channel[\"Band\"] == 2 * band][\"Data\"].to_numpy())\n",
    "    real_data_second = np.real(complex_data_second)\n",
    "    imag_data_second = np.imag(complex_data_second)\n",
    "    second_band = np.append(real_data_second, imag_data_second)\n",
    "        \n",
    "\n",
    "\n",
    "    n_first = len(first_band)\n",
    "    n_second = len(second_band)\n",
    "    \n",
    "    #axes[0].set_xlim(left = -.25*bound, right = .25*bound)\n",
    "    #axes[1].set_xlim(left = -.25*bound, right = .25*bound)\n",
    "    axes[1].set_ylim(bottom = 10**-6, top= 10)\n",
    "    #axes[2].set_xlim(left = -.25*bound, right = .25*bound)\n",
    "    sns.kdeplot(ax = axes[0], x = first_band, bw_method=bw, label = \"First Half\")\n",
    "    sns.kdeplot(ax = axes[0], x = second_band, bw_method=bw, label = \"Second Half\")\n",
    "\n",
    "    sns.kdeplot(ax = axes[1], x = first_band, bw_method = bw, log_scale=[False, True], label = \"First Half\")\n",
    "    sns.kdeplot(ax = axes[1], x = second_band, bw_method = bw, log_scale=[False, True],label = \"Second Half\")\n",
    "\n",
    "    axes[2].plot(np.sort(first_band), np.arange(1, n_first+1)/n_first, label=\"First Half\")\n",
    "    axes[2].plot(np.sort(second_band), np.arange(1, n_second+1)/n_second, label=\"Second Half\")\n",
    "\n",
    "    axes[0].set_title(\"Non Log Scale Pdf\")\n",
    "    axes[1].set_title(\"Log Scale Pdf\")\n",
    "    axes[2].set_title(\"CDF\")\n",
    "    fig.suptitle(\"Band \" + str(band))\n",
    "    axes[0].legend()\n",
    "    axes[1].legend()\n",
    "    axes[2].legend()"
   ],
   "outputs": [],
   "metadata": {}
  },
  {
   "cell_type": "markdown",
   "source": [
    "## Gray"
   ],
   "metadata": {}
  },
  {
   "cell_type": "markdown",
   "source": [
    "### 8 Layers"
   ],
   "metadata": {}
  },
  {
   "cell_type": "code",
   "execution_count": null,
   "source": [
    "layer_num = 8\n",
    "channel_color = \"Gray\"\n",
    "converted_layer = convert_to_fourier_basis(data_dir, layer_num*2, grey_scale_only=True)"
   ],
   "outputs": [],
   "metadata": {}
  },
  {
   "cell_type": "code",
   "execution_count": null,
   "source": [
    "for i in range(1, layer_num+1):\n",
    "    LayerAnalysis(converted_layer, channel_color, i, bw = 0.2)"
   ],
   "outputs": [],
   "metadata": {}
  },
  {
   "cell_type": "markdown",
   "source": [
    "### 16 Layers"
   ],
   "metadata": {}
  },
  {
   "cell_type": "code",
   "execution_count": null,
   "source": [
    "layer_num = 16\n",
    "channel_color = \"Gray\"\n",
    "converted_layer = convert_to_fourier_basis(data_dir, layer_num*2, grey_scale_only=True)"
   ],
   "outputs": [],
   "metadata": {}
  },
  {
   "cell_type": "code",
   "execution_count": null,
   "source": [
    "for i in range(1, layer_num+1):\n",
    "    LayerAnalysis(converted_layer, channel_color, i, bw = 0.2)"
   ],
   "outputs": [],
   "metadata": {}
  },
  {
   "cell_type": "markdown",
   "source": [
    "### 32 Layers"
   ],
   "metadata": {}
  },
  {
   "cell_type": "code",
   "execution_count": null,
   "source": [
    "layer_num = 32\n",
    "channel_color = \"Gray\"\n",
    "converted_layer = convert_to_fourier_basis(data_dir, layer_num*2, grey_scale_only=True)"
   ],
   "outputs": [],
   "metadata": {}
  },
  {
   "cell_type": "code",
   "execution_count": null,
   "source": [
    "for i in range(1, 17):\n",
    "    LayerAnalysis(converted_layer, channel_color, i, bw = 0.2)"
   ],
   "outputs": [],
   "metadata": {}
  },
  {
   "cell_type": "code",
   "execution_count": null,
   "source": [
    "for i in range(17, layer_num+1):\n",
    "    LayerAnalysis(converted_layer, channel_color, i, bw = 0.2)"
   ],
   "outputs": [],
   "metadata": {}
  },
  {
   "cell_type": "code",
   "execution_count": null,
   "source": [],
   "outputs": [],
   "metadata": {}
  }
 ],
 "metadata": {
  "orig_nbformat": 4,
  "language_info": {
   "name": "python",
   "version": "3.8.8",
   "mimetype": "text/x-python",
   "codemirror_mode": {
    "name": "ipython",
    "version": 3
   },
   "pygments_lexer": "ipython3",
   "nbconvert_exporter": "python",
   "file_extension": ".py"
  },
  "kernelspec": {
   "name": "python3",
   "display_name": "Python 3.8.8 64-bit ('base': conda)"
  },
  "interpreter": {
   "hash": "7e5f984cc8cd8c47dcd3acda73327432e6be76c353527f01c56663ba6bbc3ba9"
  }
 },
 "nbformat": 4,
 "nbformat_minor": 2
}