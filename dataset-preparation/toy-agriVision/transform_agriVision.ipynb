{
 "cells": [
  {
   "cell_type": "code",
   "execution_count": 26,
   "source": [
    "# assign directory\n",
    "import os\n",
    "BRANDON = '/Users/brandonmarks/Desktop/Research Materials/hierarchical-bayesian-model-validation/'\n",
    "YASH = '/Users/yashd/Desktop/hierarchical-bayesian-model-validation/'\n",
    "\n",
    "ROOT_DIR = BRANDON\n",
    "data_dir = ROOT_DIR + 'raw-data/agriVision/full-agriVision-RGB-cleaned'\n",
    "# iterate over files in that directory\n",
    "file_list = [os.path.join(data_dir, filename) for filename in os.listdir(data_dir)]\n",
    "file_names = os.listdir(data_dir)"
   ],
   "outputs": [],
   "metadata": {}
  },
  {
   "cell_type": "code",
   "execution_count": 21,
   "source": [
    "os.chdir(ROOT_DIR + \"dataset-preparation/\")\n",
    "from transform_utilities import *"
   ],
   "outputs": [],
   "metadata": {}
  },
  {
   "cell_type": "code",
   "execution_count": 32,
   "source": [
    "len(file_names)"
   ],
   "outputs": [
    {
     "output_type": "execute_result",
     "data": {
      "text/plain": [
       "94986"
      ]
     },
     "metadata": {},
     "execution_count": 32
    }
   ],
   "metadata": {}
  },
  {
   "cell_type": "code",
   "execution_count": 42,
   "source": [
    "target_dir = ROOT_DIR + 'raw-data/agriVision'\n",
    "directorySplit(data_dir, target_dir, \"agriVision-RGB-cleaned\", 10000)"
   ],
   "outputs": [
    {
     "output_type": "stream",
     "name": "stderr",
     "text": [
      "  0%|          | 0/10554 [00:00<?, ?it/s]"
     ]
    },
    {
     "output_type": "stream",
     "name": "stdout",
     "text": [
      "94986 9\n"
     ]
    },
    {
     "output_type": "stream",
     "name": "stderr",
     "text": [
      "100%|██████████| 10554/10554 [00:53<00:00, 198.63it/s]\n",
      "100%|██████████| 10554/10554 [00:52<00:00, 201.16it/s]\n",
      "100%|██████████| 10554/10554 [00:53<00:00, 195.89it/s]\n",
      "100%|██████████| 10554/10554 [00:52<00:00, 199.98it/s]\n",
      "100%|██████████| 10554/10554 [00:53<00:00, 198.59it/s]\n",
      "100%|██████████| 10554/10554 [00:52<00:00, 200.57it/s]\n",
      "100%|██████████| 10554/10554 [00:55<00:00, 189.54it/s]\n",
      "100%|██████████| 10554/10554 [00:54<00:00, 195.31it/s]\n",
      "100%|██████████| 10554/10554 [00:53<00:00, 196.32it/s]\n"
     ]
    }
   ],
   "metadata": {}
  },
  {
   "cell_type": "markdown",
   "source": [
    "# Fourier"
   ],
   "metadata": {}
  },
  {
   "cell_type": "code",
   "execution_count": 43,
   "source": [
    "#Values obtained from plots in agriVisionFourierEDA.ipynb\n",
    "batch_dir = ROOT_DIR + 'raw-data/agriVision/batch0-agriVision-RGB-cleaned'\n",
    "splits = getSplits(0.008052940675034493,0.5282291467669505, 1.35)\n",
    "print(splits)"
   ],
   "outputs": [
    {
     "output_type": "stream",
     "name": "stdout",
     "text": [
      "[0.008052940675034493, 0.010871469911296566, 0.014676484380250364, 0.01981325391333799, 0.02674789278300629, 0.0361096552570585, 0.04874803459702898, 0.06580984670598912, 0.08884329305308532, 0.11993844562166518, 0.161916901589248, 0.21858781714548484, 0.29509355314640456, 0.3983762967476462]\n"
     ]
    }
   ],
   "metadata": {}
  },
  {
   "cell_type": "code",
   "execution_count": 44,
   "source": [
    "red_fr = convert_to_fourier_basis(batch_dir, \"Red\", split_list = splits, debug = True)\n",
    "#pd.to_pickle(red_fr, '../transformed-data/toy-agriVision-red-fourier.pickle')\n",
    "red_fr.head()"
   ],
   "outputs": [
    {
     "output_type": "stream",
     "name": "stderr",
     "text": [
      "100%|██████████| 10554/10554 [02:42<00:00, 65.10it/s]\n"
     ]
    },
    {
     "output_type": "stream",
     "name": "stdout",
     "text": [
      "[0.00805294 0.01087147 0.01467648 0.01981325 0.02674789 0.03610966\n",
      " 0.04874803 0.06580985 0.08884329 0.11993845 0.1619169  0.21858782\n",
      " 0.29509355 0.3983763 ]\n"
     ]
    },
    {
     "output_type": "stream",
     "name": "stderr",
     "text": [
      "100%|██████████| 14/14 [01:45<00:00,  7.50s/it]\n"
     ]
    },
    {
     "output_type": "execute_result",
     "data": {
      "text/html": [
       "<div>\n",
       "<style scoped>\n",
       "    .dataframe tbody tr th:only-of-type {\n",
       "        vertical-align: middle;\n",
       "    }\n",
       "\n",
       "    .dataframe tbody tr th {\n",
       "        vertical-align: top;\n",
       "    }\n",
       "\n",
       "    .dataframe thead th {\n",
       "        text-align: right;\n",
       "    }\n",
       "</style>\n",
       "<table border=\"1\" class=\"dataframe\">\n",
       "  <thead>\n",
       "    <tr style=\"text-align: right;\">\n",
       "      <th></th>\n",
       "      <th>band</th>\n",
       "      <th>channel</th>\n",
       "      <th>magnitude_endpoints</th>\n",
       "      <th>unique_magnitudes</th>\n",
       "      <th>data</th>\n",
       "    </tr>\n",
       "  </thead>\n",
       "  <tbody>\n",
       "    <tr>\n",
       "      <th>0</th>\n",
       "      <td>1</td>\n",
       "      <td>Red</td>\n",
       "      <td>(0.0, 0.0078125)</td>\n",
       "      <td>10</td>\n",
       "      <td>[137112.0, 198767.0, 483929.0, 526386.0, 2098....</td>\n",
       "    </tr>\n",
       "    <tr>\n",
       "      <th>1</th>\n",
       "      <td>2</td>\n",
       "      <td>Red</td>\n",
       "      <td>(0.008052940675034493, 0.010517900013934578)</td>\n",
       "      <td>6</td>\n",
       "      <td>[-3571.0613883717597, -1500.3777691454366, -12...</td>\n",
       "    </tr>\n",
       "    <tr>\n",
       "      <th>2</th>\n",
       "      <td>3</td>\n",
       "      <td>Red</td>\n",
       "      <td>(0.011048543456039806, 0.014218964627501012)</td>\n",
       "      <td>11</td>\n",
       "      <td>[-1249.994314969014, -1741.9432750260853, -128...</td>\n",
       "    </tr>\n",
       "    <tr>\n",
       "      <th>3</th>\n",
       "      <td>4</td>\n",
       "      <td>Red</td>\n",
       "      <td>(0.014874556847390447, 0.019628663322501738)</td>\n",
       "      <td>18</td>\n",
       "      <td>[-2769.4591104640263, -754.7832337278137, -851...</td>\n",
       "    </tr>\n",
       "    <tr>\n",
       "      <th>4</th>\n",
       "      <td>5</td>\n",
       "      <td>Red</td>\n",
       "      <td>(0.019918044974971814, 0.026565372087373914)</td>\n",
       "      <td>30</td>\n",
       "      <td>[-1216.2109775617303, -1469.6377541926686, -59...</td>\n",
       "    </tr>\n",
       "  </tbody>\n",
       "</table>\n",
       "</div>"
      ],
      "text/plain": [
       "  band channel                           magnitude_endpoints  \\\n",
       "0    1     Red                              (0.0, 0.0078125)   \n",
       "1    2     Red  (0.008052940675034493, 0.010517900013934578)   \n",
       "2    3     Red  (0.011048543456039806, 0.014218964627501012)   \n",
       "3    4     Red  (0.014874556847390447, 0.019628663322501738)   \n",
       "4    5     Red  (0.019918044974971814, 0.026565372087373914)   \n",
       "\n",
       "  unique_magnitudes                                               data  \n",
       "0                10  [137112.0, 198767.0, 483929.0, 526386.0, 2098....  \n",
       "1                 6  [-3571.0613883717597, -1500.3777691454366, -12...  \n",
       "2                11  [-1249.994314969014, -1741.9432750260853, -128...  \n",
       "3                18  [-2769.4591104640263, -754.7832337278137, -851...  \n",
       "4                30  [-1216.2109775617303, -1469.6377541926686, -59...  "
      ]
     },
     "metadata": {},
     "execution_count": 44
    }
   ],
   "metadata": {}
  },
  {
   "cell_type": "code",
   "execution_count": 5,
   "source": [
    "green_fr = convert_to_fourier_basis(data_dir, \"Green\", split_list = splits)\n",
    "#pd.to_pickle(green_fr, '../transformed-data/toy-agriVision-green-fourier.pickle')\n",
    "green_fr.head()"
   ],
   "outputs": [
    {
     "output_type": "stream",
     "name": "stdout",
     "text": [
      "[0.00805294 0.01087147 0.01467648 0.01981325 0.02674789 0.03610966\n",
      " 0.04874803 0.06580985 0.08884329 0.11993845 0.1619169  0.21858782\n",
      " 0.29509355 0.3983763 ]\n"
     ]
    },
    {
     "output_type": "execute_result",
     "data": {
      "text/html": [
       "<div>\n",
       "<style scoped>\n",
       "    .dataframe tbody tr th:only-of-type {\n",
       "        vertical-align: middle;\n",
       "    }\n",
       "\n",
       "    .dataframe tbody tr th {\n",
       "        vertical-align: top;\n",
       "    }\n",
       "\n",
       "    .dataframe thead th {\n",
       "        text-align: right;\n",
       "    }\n",
       "</style>\n",
       "<table border=\"1\" class=\"dataframe\">\n",
       "  <thead>\n",
       "    <tr style=\"text-align: right;\">\n",
       "      <th></th>\n",
       "      <th>band</th>\n",
       "      <th>channel</th>\n",
       "      <th>magnitude_endpoints</th>\n",
       "      <th>unique_magnitudes</th>\n",
       "      <th>data</th>\n",
       "    </tr>\n",
       "  </thead>\n",
       "  <tbody>\n",
       "    <tr>\n",
       "      <th>0</th>\n",
       "      <td>1</td>\n",
       "      <td>Green</td>\n",
       "      <td>(0.0, 0.0078125)</td>\n",
       "      <td>10</td>\n",
       "      <td>[81813.0, 467467.0, 225750.0, 233632.0, 471000...</td>\n",
       "    </tr>\n",
       "    <tr>\n",
       "      <th>1</th>\n",
       "      <td>2</td>\n",
       "      <td>Green</td>\n",
       "      <td>(0.008052940675034493, 0.010517900013934578)</td>\n",
       "      <td>6</td>\n",
       "      <td>[-667.9157639064135, 2428.1412724772617, -804....</td>\n",
       "    </tr>\n",
       "    <tr>\n",
       "      <th>2</th>\n",
       "      <td>3</td>\n",
       "      <td>Green</td>\n",
       "      <td>(0.011048543456039806, 0.014218964627501012)</td>\n",
       "      <td>11</td>\n",
       "      <td>[-407.11342573213653, -2893.7565435238716, -91...</td>\n",
       "    </tr>\n",
       "    <tr>\n",
       "      <th>3</th>\n",
       "      <td>4</td>\n",
       "      <td>Green</td>\n",
       "      <td>(0.014874556847390447, 0.019628663322501738)</td>\n",
       "      <td>18</td>\n",
       "      <td>[-1927.641998561064, -2252.719116308643, 913.6...</td>\n",
       "    </tr>\n",
       "    <tr>\n",
       "      <th>4</th>\n",
       "      <td>5</td>\n",
       "      <td>Green</td>\n",
       "      <td>(0.019918044974971814, 0.026565372087373914)</td>\n",
       "      <td>30</td>\n",
       "      <td>[-1528.412988984921, 970.1548344899536, 492.94...</td>\n",
       "    </tr>\n",
       "  </tbody>\n",
       "</table>\n",
       "</div>"
      ],
      "text/plain": [
       "  band channel                           magnitude_endpoints  \\\n",
       "0    1   Green                              (0.0, 0.0078125)   \n",
       "1    2   Green  (0.008052940675034493, 0.010517900013934578)   \n",
       "2    3   Green  (0.011048543456039806, 0.014218964627501012)   \n",
       "3    4   Green  (0.014874556847390447, 0.019628663322501738)   \n",
       "4    5   Green  (0.019918044974971814, 0.026565372087373914)   \n",
       "\n",
       "  unique_magnitudes                                               data  \n",
       "0                10  [81813.0, 467467.0, 225750.0, 233632.0, 471000...  \n",
       "1                 6  [-667.9157639064135, 2428.1412724772617, -804....  \n",
       "2                11  [-407.11342573213653, -2893.7565435238716, -91...  \n",
       "3                18  [-1927.641998561064, -2252.719116308643, 913.6...  \n",
       "4                30  [-1528.412988984921, 970.1548344899536, 492.94...  "
      ]
     },
     "metadata": {},
     "execution_count": 5
    }
   ],
   "metadata": {}
  },
  {
   "cell_type": "code",
   "execution_count": 6,
   "source": [
    "blue_fr = convert_to_fourier_basis(data_dir, \"Blue\", split_list = splits)\n",
    "#pd.to_pickle(blue_fr, '../transformed-data/toy-agriVision-blue-fourier.pickle')\n",
    "blue_fr.head()"
   ],
   "outputs": [
    {
     "output_type": "stream",
     "name": "stdout",
     "text": [
      "[0.00805294 0.01087147 0.01467648 0.01981325 0.02674789 0.03610966\n",
      " 0.04874803 0.06580985 0.08884329 0.11993845 0.1619169  0.21858782\n",
      " 0.29509355 0.3983763 ]\n"
     ]
    },
    {
     "output_type": "execute_result",
     "data": {
      "text/html": [
       "<div>\n",
       "<style scoped>\n",
       "    .dataframe tbody tr th:only-of-type {\n",
       "        vertical-align: middle;\n",
       "    }\n",
       "\n",
       "    .dataframe tbody tr th {\n",
       "        vertical-align: top;\n",
       "    }\n",
       "\n",
       "    .dataframe thead th {\n",
       "        text-align: right;\n",
       "    }\n",
       "</style>\n",
       "<table border=\"1\" class=\"dataframe\">\n",
       "  <thead>\n",
       "    <tr style=\"text-align: right;\">\n",
       "      <th></th>\n",
       "      <th>band</th>\n",
       "      <th>channel</th>\n",
       "      <th>magnitude_endpoints</th>\n",
       "      <th>unique_magnitudes</th>\n",
       "      <th>data</th>\n",
       "    </tr>\n",
       "  </thead>\n",
       "  <tbody>\n",
       "    <tr>\n",
       "      <th>0</th>\n",
       "      <td>1</td>\n",
       "      <td>Blue</td>\n",
       "      <td>(0.0, 0.0078125)</td>\n",
       "      <td>10</td>\n",
       "      <td>[97520.0, 462386.0, 242847.0, 232402.0, 545272...</td>\n",
       "    </tr>\n",
       "    <tr>\n",
       "      <th>1</th>\n",
       "      <td>2</td>\n",
       "      <td>Blue</td>\n",
       "      <td>(0.008052940675034493, 0.010517900013934578)</td>\n",
       "      <td>6</td>\n",
       "      <td>[3090.289989974526, 2403.0111444213394, 2139.3...</td>\n",
       "    </tr>\n",
       "    <tr>\n",
       "      <th>2</th>\n",
       "      <td>3</td>\n",
       "      <td>Blue</td>\n",
       "      <td>(0.011048543456039806, 0.014218964627501012)</td>\n",
       "      <td>11</td>\n",
       "      <td>[890.9303517748317, -2177.084315505193, 1404.6...</td>\n",
       "    </tr>\n",
       "    <tr>\n",
       "      <th>3</th>\n",
       "      <td>4</td>\n",
       "      <td>Blue</td>\n",
       "      <td>(0.014874556847390447, 0.019628663322501738)</td>\n",
       "      <td>18</td>\n",
       "      <td>[-2410.603341947007, -2085.6461772618304, 348....</td>\n",
       "    </tr>\n",
       "    <tr>\n",
       "      <th>4</th>\n",
       "      <td>5</td>\n",
       "      <td>Blue</td>\n",
       "      <td>(0.019918044974971814, 0.026565372087373914)</td>\n",
       "      <td>30</td>\n",
       "      <td>[-1414.6228429148193, 193.0102091905245, -3249...</td>\n",
       "    </tr>\n",
       "  </tbody>\n",
       "</table>\n",
       "</div>"
      ],
      "text/plain": [
       "  band channel                           magnitude_endpoints  \\\n",
       "0    1    Blue                              (0.0, 0.0078125)   \n",
       "1    2    Blue  (0.008052940675034493, 0.010517900013934578)   \n",
       "2    3    Blue  (0.011048543456039806, 0.014218964627501012)   \n",
       "3    4    Blue  (0.014874556847390447, 0.019628663322501738)   \n",
       "4    5    Blue  (0.019918044974971814, 0.026565372087373914)   \n",
       "\n",
       "  unique_magnitudes                                               data  \n",
       "0                10  [97520.0, 462386.0, 242847.0, 232402.0, 545272...  \n",
       "1                 6  [3090.289989974526, 2403.0111444213394, 2139.3...  \n",
       "2                11  [890.9303517748317, -2177.084315505193, 1404.6...  \n",
       "3                18  [-2410.603341947007, -2085.6461772618304, 348....  \n",
       "4                30  [-1414.6228429148193, 193.0102091905245, -3249...  "
      ]
     },
     "metadata": {},
     "execution_count": 6
    }
   ],
   "metadata": {}
  },
  {
   "cell_type": "code",
   "execution_count": 7,
   "source": [
    "gray_fr = convert_to_fourier_basis(data_dir, \"Gray\", split_list = splits)\n",
    "#pd.to_pickle(gray_fr, '../transformed-data/toy-agriVision-gray-fourier.pickle')\n",
    "gray_fr.head()"
   ],
   "outputs": [
    {
     "output_type": "stream",
     "name": "stdout",
     "text": [
      "[0.00805294 0.01087147 0.01467648 0.01981325 0.02674789 0.03610966\n",
      " 0.04874803 0.06580985 0.08884329 0.11993845 0.1619169  0.21858782\n",
      " 0.29509355 0.3983763 ]\n"
     ]
    },
    {
     "output_type": "execute_result",
     "data": {
      "text/html": [
       "<div>\n",
       "<style scoped>\n",
       "    .dataframe tbody tr th:only-of-type {\n",
       "        vertical-align: middle;\n",
       "    }\n",
       "\n",
       "    .dataframe tbody tr th {\n",
       "        vertical-align: top;\n",
       "    }\n",
       "\n",
       "    .dataframe thead th {\n",
       "        text-align: right;\n",
       "    }\n",
       "</style>\n",
       "<table border=\"1\" class=\"dataframe\">\n",
       "  <thead>\n",
       "    <tr style=\"text-align: right;\">\n",
       "      <th></th>\n",
       "      <th>band</th>\n",
       "      <th>channel</th>\n",
       "      <th>magnitude_endpoints</th>\n",
       "      <th>unique_magnitudes</th>\n",
       "      <th>data</th>\n",
       "    </tr>\n",
       "  </thead>\n",
       "  <tbody>\n",
       "    <tr>\n",
       "      <th>0</th>\n",
       "      <td>1</td>\n",
       "      <td>Gray</td>\n",
       "      <td>(0.0, 0.0078125)</td>\n",
       "      <td>10</td>\n",
       "      <td>[80367.0, 464026.0, 265558.0, 232272.0, 394565...</td>\n",
       "    </tr>\n",
       "    <tr>\n",
       "      <th>1</th>\n",
       "      <td>2</td>\n",
       "      <td>Gray</td>\n",
       "      <td>(0.008052940675034493, 0.010517900013934578)</td>\n",
       "      <td>6</td>\n",
       "      <td>[-671.8820488918707, 2292.7830400318353, -270....</td>\n",
       "    </tr>\n",
       "    <tr>\n",
       "      <th>2</th>\n",
       "      <td>3</td>\n",
       "      <td>Gray</td>\n",
       "      <td>(0.011048543456039806, 0.014218964627501012)</td>\n",
       "      <td>11</td>\n",
       "      <td>[-596.3965045249346, -2458.981803649216, 759.5...</td>\n",
       "    </tr>\n",
       "    <tr>\n",
       "      <th>3</th>\n",
       "      <td>4</td>\n",
       "      <td>Gray</td>\n",
       "      <td>(0.014874556847390447, 0.019628663322501738)</td>\n",
       "      <td>18</td>\n",
       "      <td>[-1869.7239977786285, -2382.1295181624646, 108...</td>\n",
       "    </tr>\n",
       "    <tr>\n",
       "      <th>4</th>\n",
       "      <td>5</td>\n",
       "      <td>Gray</td>\n",
       "      <td>(0.019918044974971814, 0.026565372087373914)</td>\n",
       "      <td>30</td>\n",
       "      <td>[-1665.8794472636714, 359.6725136568671, -538....</td>\n",
       "    </tr>\n",
       "  </tbody>\n",
       "</table>\n",
       "</div>"
      ],
      "text/plain": [
       "  band channel                           magnitude_endpoints  \\\n",
       "0    1    Gray                              (0.0, 0.0078125)   \n",
       "1    2    Gray  (0.008052940675034493, 0.010517900013934578)   \n",
       "2    3    Gray  (0.011048543456039806, 0.014218964627501012)   \n",
       "3    4    Gray  (0.014874556847390447, 0.019628663322501738)   \n",
       "4    5    Gray  (0.019918044974971814, 0.026565372087373914)   \n",
       "\n",
       "  unique_magnitudes                                               data  \n",
       "0                10  [80367.0, 464026.0, 265558.0, 232272.0, 394565...  \n",
       "1                 6  [-671.8820488918707, 2292.7830400318353, -270....  \n",
       "2                11  [-596.3965045249346, -2458.981803649216, 759.5...  \n",
       "3                18  [-1869.7239977786285, -2382.1295181624646, 108...  \n",
       "4                30  [-1665.8794472636714, 359.6725136568671, -538....  "
      ]
     },
     "metadata": {},
     "execution_count": 7
    }
   ],
   "metadata": {}
  },
  {
   "cell_type": "code",
   "execution_count": 8,
   "source": [
    "ir_fr = convert_to_fourier_basis(data_dir, \"Infrared\", split_list = splits)\n",
    "#pd.to_pickle(ir_fr, '../transformed-data/toy-agriVision-ir-fourier.pickle')\n",
    "ir_fr.head()"
   ],
   "outputs": [
    {
     "output_type": "stream",
     "name": "stdout",
     "text": [
      "[0.00805294 0.01087147 0.01467648 0.01981325 0.02674789 0.03610966\n",
      " 0.04874803 0.06580985 0.08884329 0.11993845 0.1619169  0.21858782\n",
      " 0.29509355 0.3983763 ]\n"
     ]
    },
    {
     "output_type": "execute_result",
     "data": {
      "text/html": [
       "<div>\n",
       "<style scoped>\n",
       "    .dataframe tbody tr th:only-of-type {\n",
       "        vertical-align: middle;\n",
       "    }\n",
       "\n",
       "    .dataframe tbody tr th {\n",
       "        vertical-align: top;\n",
       "    }\n",
       "\n",
       "    .dataframe thead th {\n",
       "        text-align: right;\n",
       "    }\n",
       "</style>\n",
       "<table border=\"1\" class=\"dataframe\">\n",
       "  <thead>\n",
       "    <tr style=\"text-align: right;\">\n",
       "      <th></th>\n",
       "      <th>band</th>\n",
       "      <th>channel</th>\n",
       "      <th>magnitude_endpoints</th>\n",
       "      <th>unique_magnitudes</th>\n",
       "      <th>data</th>\n",
       "    </tr>\n",
       "  </thead>\n",
       "  <tbody>\n",
       "    <tr>\n",
       "      <th>0</th>\n",
       "      <td>1</td>\n",
       "      <td>Infrared</td>\n",
       "      <td>(0.0, 0.0078125)</td>\n",
       "      <td>10</td>\n",
       "      <td>[80367.0, 464026.0, 265558.0, 232272.0, 394565...</td>\n",
       "    </tr>\n",
       "    <tr>\n",
       "      <th>1</th>\n",
       "      <td>2</td>\n",
       "      <td>Infrared</td>\n",
       "      <td>(0.008052940675034493, 0.010517900013934578)</td>\n",
       "      <td>6</td>\n",
       "      <td>[-671.8820488918707, 2292.7830400318353, -270....</td>\n",
       "    </tr>\n",
       "    <tr>\n",
       "      <th>2</th>\n",
       "      <td>3</td>\n",
       "      <td>Infrared</td>\n",
       "      <td>(0.011048543456039806, 0.014218964627501012)</td>\n",
       "      <td>11</td>\n",
       "      <td>[-596.3965045249346, -2458.981803649216, 759.5...</td>\n",
       "    </tr>\n",
       "    <tr>\n",
       "      <th>3</th>\n",
       "      <td>4</td>\n",
       "      <td>Infrared</td>\n",
       "      <td>(0.014874556847390447, 0.019628663322501738)</td>\n",
       "      <td>18</td>\n",
       "      <td>[-1869.7239977786285, -2382.1295181624646, 108...</td>\n",
       "    </tr>\n",
       "    <tr>\n",
       "      <th>4</th>\n",
       "      <td>5</td>\n",
       "      <td>Infrared</td>\n",
       "      <td>(0.019918044974971814, 0.026565372087373914)</td>\n",
       "      <td>30</td>\n",
       "      <td>[-1665.8794472636714, 359.6725136568671, -538....</td>\n",
       "    </tr>\n",
       "  </tbody>\n",
       "</table>\n",
       "</div>"
      ],
      "text/plain": [
       "  band   channel                           magnitude_endpoints  \\\n",
       "0    1  Infrared                              (0.0, 0.0078125)   \n",
       "1    2  Infrared  (0.008052940675034493, 0.010517900013934578)   \n",
       "2    3  Infrared  (0.011048543456039806, 0.014218964627501012)   \n",
       "3    4  Infrared  (0.014874556847390447, 0.019628663322501738)   \n",
       "4    5  Infrared  (0.019918044974971814, 0.026565372087373914)   \n",
       "\n",
       "  unique_magnitudes                                               data  \n",
       "0                10  [80367.0, 464026.0, 265558.0, 232272.0, 394565...  \n",
       "1                 6  [-671.8820488918707, 2292.7830400318353, -270....  \n",
       "2                11  [-596.3965045249346, -2458.981803649216, 759.5...  \n",
       "3                18  [-1869.7239977786285, -2382.1295181624646, 108...  \n",
       "4                30  [-1665.8794472636714, 359.6725136568671, -538....  "
      ]
     },
     "metadata": {},
     "execution_count": 8
    }
   ],
   "metadata": {}
  },
  {
   "cell_type": "markdown",
   "source": [
    "# Wavelet"
   ],
   "metadata": {}
  },
  {
   "cell_type": "code",
   "execution_count": 50,
   "source": [
    "red_wv = convert_to_wavelet_basis(batch_dir, \"Red\", debug=True)\n",
    "#pd.to_pickle(red_wv, '../transformed-data/toy-agriVision-red-wavelet.pickle')\n",
    "red_wv.head()"
   ],
   "outputs": [
    {
     "output_type": "stream",
     "name": "stdout",
     "text": [
      "10 layers being used\n"
     ]
    },
    {
     "output_type": "stream",
     "name": "stderr",
     "text": [
      "100%|██████████| 10554/10554 [01:28<00:00, 118.69it/s]\n"
     ]
    },
    {
     "output_type": "execute_result",
     "data": {
      "text/html": [
       "<div>\n",
       "<style scoped>\n",
       "    .dataframe tbody tr th:only-of-type {\n",
       "        vertical-align: middle;\n",
       "    }\n",
       "\n",
       "    .dataframe tbody tr th {\n",
       "        vertical-align: top;\n",
       "    }\n",
       "\n",
       "    .dataframe thead th {\n",
       "        text-align: right;\n",
       "    }\n",
       "</style>\n",
       "<table border=\"1\" class=\"dataframe\">\n",
       "  <thead>\n",
       "    <tr style=\"text-align: right;\">\n",
       "      <th></th>\n",
       "      <th>channel</th>\n",
       "      <th>layer</th>\n",
       "      <th>orientation</th>\n",
       "      <th>data</th>\n",
       "    </tr>\n",
       "  </thead>\n",
       "  <tbody>\n",
       "    <tr>\n",
       "      <th>0</th>\n",
       "      <td>Red</td>\n",
       "      <td>1</td>\n",
       "      <td>L1</td>\n",
       "      <td>[267.7968750000003, 388.21679687500034, 945.17...</td>\n",
       "    </tr>\n",
       "    <tr>\n",
       "      <th>1</th>\n",
       "      <td>Red</td>\n",
       "      <td>2</td>\n",
       "      <td>D</td>\n",
       "      <td>[-7.015624999999998, 5.251953124999998, -13.79...</td>\n",
       "    </tr>\n",
       "    <tr>\n",
       "      <th>2</th>\n",
       "      <td>Red</td>\n",
       "      <td>2</td>\n",
       "      <td>H</td>\n",
       "      <td>[6.765624999999998, -31.357421875000036, 78.32...</td>\n",
       "    </tr>\n",
       "    <tr>\n",
       "      <th>3</th>\n",
       "      <td>Red</td>\n",
       "      <td>2</td>\n",
       "      <td>V</td>\n",
       "      <td>[-267.5468750000003, -60.439453125000085, -209...</td>\n",
       "    </tr>\n",
       "    <tr>\n",
       "      <th>4</th>\n",
       "      <td>Red</td>\n",
       "      <td>3</td>\n",
       "      <td>D</td>\n",
       "      <td>[0.0, -8.875000000000002, 0.25000000000000006,...</td>\n",
       "    </tr>\n",
       "  </tbody>\n",
       "</table>\n",
       "</div>"
      ],
      "text/plain": [
       "  channel layer orientation                                               data\n",
       "0     Red     1          L1  [267.7968750000003, 388.21679687500034, 945.17...\n",
       "1     Red     2           D  [-7.015624999999998, 5.251953124999998, -13.79...\n",
       "2     Red     2           H  [6.765624999999998, -31.357421875000036, 78.32...\n",
       "3     Red     2           V  [-267.5468750000003, -60.439453125000085, -209...\n",
       "4     Red     3           D  [0.0, -8.875000000000002, 0.25000000000000006,..."
      ]
     },
     "metadata": {},
     "execution_count": 50
    }
   ],
   "metadata": {}
  },
  {
   "cell_type": "code",
   "execution_count": 10,
   "source": [
    "green_wv = convert_to_wavelet_basis(data_dir, \"Green\")\n",
    "#pd.to_pickle(green_wv, '../transformed-data/toy-agriVision-green-wavelet.pickle')\n",
    "green_wv.head()"
   ],
   "outputs": [
    {
     "output_type": "stream",
     "name": "stdout",
     "text": [
      "10 layers being used\n"
     ]
    },
    {
     "output_type": "execute_result",
     "data": {
      "text/html": [
       "<div>\n",
       "<style scoped>\n",
       "    .dataframe tbody tr th:only-of-type {\n",
       "        vertical-align: middle;\n",
       "    }\n",
       "\n",
       "    .dataframe tbody tr th {\n",
       "        vertical-align: top;\n",
       "    }\n",
       "\n",
       "    .dataframe thead th {\n",
       "        text-align: right;\n",
       "    }\n",
       "</style>\n",
       "<table border=\"1\" class=\"dataframe\">\n",
       "  <thead>\n",
       "    <tr style=\"text-align: right;\">\n",
       "      <th></th>\n",
       "      <th>channel</th>\n",
       "      <th>layer</th>\n",
       "      <th>orientation</th>\n",
       "      <th>data</th>\n",
       "    </tr>\n",
       "  </thead>\n",
       "  <tbody>\n",
       "    <tr>\n",
       "      <th>0</th>\n",
       "      <td>Green</td>\n",
       "      <td>1</td>\n",
       "      <td>L1</td>\n",
       "      <td>[159.79101562500017, 913.0214843750011, 440.91...</td>\n",
       "    </tr>\n",
       "    <tr>\n",
       "      <th>1</th>\n",
       "      <td>Green</td>\n",
       "      <td>2</td>\n",
       "      <td>D</td>\n",
       "      <td>[-54.748046875000064, 60.771484375000185, 6.72...</td>\n",
       "    </tr>\n",
       "    <tr>\n",
       "      <th>2</th>\n",
       "      <td>Green</td>\n",
       "      <td>2</td>\n",
       "      <td>H</td>\n",
       "      <td>[64.33007812500007, 52.45507812500003, 16.5664...</td>\n",
       "    </tr>\n",
       "    <tr>\n",
       "      <th>3</th>\n",
       "      <td>Green</td>\n",
       "      <td>2</td>\n",
       "      <td>V</td>\n",
       "      <td>[-90.8027343750001, 0.33007812499994316, -6.49...</td>\n",
       "    </tr>\n",
       "    <tr>\n",
       "      <th>4</th>\n",
       "      <td>Green</td>\n",
       "      <td>3</td>\n",
       "      <td>D</td>\n",
       "      <td>[9.527343750000007, 5.507812500000005, -2.4296...</td>\n",
       "    </tr>\n",
       "  </tbody>\n",
       "</table>\n",
       "</div>"
      ],
      "text/plain": [
       "  channel layer orientation                                               data\n",
       "0   Green     1          L1  [159.79101562500017, 913.0214843750011, 440.91...\n",
       "1   Green     2           D  [-54.748046875000064, 60.771484375000185, 6.72...\n",
       "2   Green     2           H  [64.33007812500007, 52.45507812500003, 16.5664...\n",
       "3   Green     2           V  [-90.8027343750001, 0.33007812499994316, -6.49...\n",
       "4   Green     3           D  [9.527343750000007, 5.507812500000005, -2.4296..."
      ]
     },
     "metadata": {},
     "execution_count": 10
    }
   ],
   "metadata": {}
  },
  {
   "cell_type": "code",
   "execution_count": 11,
   "source": [
    "blue_wv = convert_to_wavelet_basis(data_dir, \"Blue\")\n",
    "#pd.to_pickle(blue_wv, '../transformed-data/toy-agriVision-blue-wavelet.pickle')\n",
    "blue_wv.head()"
   ],
   "outputs": [
    {
     "output_type": "stream",
     "name": "stdout",
     "text": [
      "10 layers being used\n"
     ]
    },
    {
     "output_type": "execute_result",
     "data": {
      "text/html": [
       "<div>\n",
       "<style scoped>\n",
       "    .dataframe tbody tr th:only-of-type {\n",
       "        vertical-align: middle;\n",
       "    }\n",
       "\n",
       "    .dataframe tbody tr th {\n",
       "        vertical-align: top;\n",
       "    }\n",
       "\n",
       "    .dataframe thead th {\n",
       "        text-align: right;\n",
       "    }\n",
       "</style>\n",
       "<table border=\"1\" class=\"dataframe\">\n",
       "  <thead>\n",
       "    <tr style=\"text-align: right;\">\n",
       "      <th></th>\n",
       "      <th>channel</th>\n",
       "      <th>layer</th>\n",
       "      <th>orientation</th>\n",
       "      <th>data</th>\n",
       "    </tr>\n",
       "  </thead>\n",
       "  <tbody>\n",
       "    <tr>\n",
       "      <th>0</th>\n",
       "      <td>Blue</td>\n",
       "      <td>1</td>\n",
       "      <td>L1</td>\n",
       "      <td>[190.46875000000023, 903.0976562500011, 474.31...</td>\n",
       "    </tr>\n",
       "    <tr>\n",
       "      <th>1</th>\n",
       "      <td>Blue</td>\n",
       "      <td>2</td>\n",
       "      <td>D</td>\n",
       "      <td>[-79.18359375000007, 59.93750000000008, -0.888...</td>\n",
       "    </tr>\n",
       "    <tr>\n",
       "      <th>2</th>\n",
       "      <td>Blue</td>\n",
       "      <td>2</td>\n",
       "      <td>H</td>\n",
       "      <td>[90.8710937500001, 49.05078124999999, -14.1269...</td>\n",
       "    </tr>\n",
       "    <tr>\n",
       "      <th>3</th>\n",
       "      <td>Blue</td>\n",
       "      <td>2</td>\n",
       "      <td>V</td>\n",
       "      <td>[-121.25781250000013, -5.492187500000057, -8.1...</td>\n",
       "    </tr>\n",
       "    <tr>\n",
       "      <th>4</th>\n",
       "      <td>Blue</td>\n",
       "      <td>3</td>\n",
       "      <td>D</td>\n",
       "      <td>[8.69140625000001, 37.976562500000036, -2.8476...</td>\n",
       "    </tr>\n",
       "  </tbody>\n",
       "</table>\n",
       "</div>"
      ],
      "text/plain": [
       "  channel layer orientation                                               data\n",
       "0    Blue     1          L1  [190.46875000000023, 903.0976562500011, 474.31...\n",
       "1    Blue     2           D  [-79.18359375000007, 59.93750000000008, -0.888...\n",
       "2    Blue     2           H  [90.8710937500001, 49.05078124999999, -14.1269...\n",
       "3    Blue     2           V  [-121.25781250000013, -5.492187500000057, -8.1...\n",
       "4    Blue     3           D  [8.69140625000001, 37.976562500000036, -2.8476..."
      ]
     },
     "metadata": {},
     "execution_count": 11
    }
   ],
   "metadata": {}
  },
  {
   "cell_type": "code",
   "execution_count": 12,
   "source": [
    "gray_wv = convert_to_wavelet_basis(data_dir, \"Gray\")\n",
    "#pd.to_pickle(gray_wv, '../transformed-data/toy-agriVision-gray-wavelet.pickle')\n",
    "gray_wv.head()"
   ],
   "outputs": [
    {
     "output_type": "stream",
     "name": "stdout",
     "text": [
      "10 layers being used\n"
     ]
    },
    {
     "output_type": "execute_result",
     "data": {
      "text/html": [
       "<div>\n",
       "<style scoped>\n",
       "    .dataframe tbody tr th:only-of-type {\n",
       "        vertical-align: middle;\n",
       "    }\n",
       "\n",
       "    .dataframe tbody tr th {\n",
       "        vertical-align: top;\n",
       "    }\n",
       "\n",
       "    .dataframe thead th {\n",
       "        text-align: right;\n",
       "    }\n",
       "</style>\n",
       "<table border=\"1\" class=\"dataframe\">\n",
       "  <thead>\n",
       "    <tr style=\"text-align: right;\">\n",
       "      <th></th>\n",
       "      <th>channel</th>\n",
       "      <th>layer</th>\n",
       "      <th>orientation</th>\n",
       "      <th>data</th>\n",
       "    </tr>\n",
       "  </thead>\n",
       "  <tbody>\n",
       "    <tr>\n",
       "      <th>0</th>\n",
       "      <td>Gray</td>\n",
       "      <td>1</td>\n",
       "      <td>L1</td>\n",
       "      <td>[156.96679687500017, 906.3007812500011, 518.66...</td>\n",
       "    </tr>\n",
       "    <tr>\n",
       "      <th>1</th>\n",
       "      <td>Gray</td>\n",
       "      <td>2</td>\n",
       "      <td>D</td>\n",
       "      <td>[-54.38085937500006, 60.472656250000114, 4.378...</td>\n",
       "    </tr>\n",
       "    <tr>\n",
       "      <th>2</th>\n",
       "      <td>Gray</td>\n",
       "      <td>2</td>\n",
       "      <td>H</td>\n",
       "      <td>[63.78320312500007, 51.61328125000003, 8.80468...</td>\n",
       "    </tr>\n",
       "    <tr>\n",
       "      <th>3</th>\n",
       "      <td>Gray</td>\n",
       "      <td>2</td>\n",
       "      <td>V</td>\n",
       "      <td>[-89.6035156250001, -4.45703125, -11.328124999...</td>\n",
       "    </tr>\n",
       "    <tr>\n",
       "      <th>4</th>\n",
       "      <td>Gray</td>\n",
       "      <td>3</td>\n",
       "      <td>D</td>\n",
       "      <td>[8.62500000000001, 6.179687500000009, -2.51953...</td>\n",
       "    </tr>\n",
       "  </tbody>\n",
       "</table>\n",
       "</div>"
      ],
      "text/plain": [
       "  channel layer orientation                                               data\n",
       "0    Gray     1          L1  [156.96679687500017, 906.3007812500011, 518.66...\n",
       "1    Gray     2           D  [-54.38085937500006, 60.472656250000114, 4.378...\n",
       "2    Gray     2           H  [63.78320312500007, 51.61328125000003, 8.80468...\n",
       "3    Gray     2           V  [-89.6035156250001, -4.45703125, -11.328124999...\n",
       "4    Gray     3           D  [8.62500000000001, 6.179687500000009, -2.51953..."
      ]
     },
     "metadata": {},
     "execution_count": 12
    }
   ],
   "metadata": {}
  },
  {
   "cell_type": "code",
   "execution_count": 13,
   "source": [
    "ir_wv = convert_to_wavelet_basis(data_dir, \"Infrared\")\n",
    "#pd.to_pickle(red_wv, '../transformed-data/toy-agriVision-red-wavelet.pickle')\n",
    "ir_wv.head()"
   ],
   "outputs": [
    {
     "output_type": "stream",
     "name": "stdout",
     "text": [
      "10 layers being used\n"
     ]
    },
    {
     "output_type": "execute_result",
     "data": {
      "text/html": [
       "<div>\n",
       "<style scoped>\n",
       "    .dataframe tbody tr th:only-of-type {\n",
       "        vertical-align: middle;\n",
       "    }\n",
       "\n",
       "    .dataframe tbody tr th {\n",
       "        vertical-align: top;\n",
       "    }\n",
       "\n",
       "    .dataframe thead th {\n",
       "        text-align: right;\n",
       "    }\n",
       "</style>\n",
       "<table border=\"1\" class=\"dataframe\">\n",
       "  <thead>\n",
       "    <tr style=\"text-align: right;\">\n",
       "      <th></th>\n",
       "      <th>channel</th>\n",
       "      <th>layer</th>\n",
       "      <th>orientation</th>\n",
       "      <th>data</th>\n",
       "    </tr>\n",
       "  </thead>\n",
       "  <tbody>\n",
       "    <tr>\n",
       "      <th>0</th>\n",
       "      <td>Infrared</td>\n",
       "      <td>1</td>\n",
       "      <td>L1</td>\n",
       "      <td>[156.96679687500017, 906.3007812500011, 518.66...</td>\n",
       "    </tr>\n",
       "    <tr>\n",
       "      <th>1</th>\n",
       "      <td>Infrared</td>\n",
       "      <td>2</td>\n",
       "      <td>D</td>\n",
       "      <td>[-54.38085937500006, 60.472656250000114, 4.378...</td>\n",
       "    </tr>\n",
       "    <tr>\n",
       "      <th>2</th>\n",
       "      <td>Infrared</td>\n",
       "      <td>2</td>\n",
       "      <td>H</td>\n",
       "      <td>[63.78320312500007, 51.61328125000003, 8.80468...</td>\n",
       "    </tr>\n",
       "    <tr>\n",
       "      <th>3</th>\n",
       "      <td>Infrared</td>\n",
       "      <td>2</td>\n",
       "      <td>V</td>\n",
       "      <td>[-89.6035156250001, -4.45703125, -11.328124999...</td>\n",
       "    </tr>\n",
       "    <tr>\n",
       "      <th>4</th>\n",
       "      <td>Infrared</td>\n",
       "      <td>3</td>\n",
       "      <td>D</td>\n",
       "      <td>[8.62500000000001, 6.179687500000009, -2.51953...</td>\n",
       "    </tr>\n",
       "  </tbody>\n",
       "</table>\n",
       "</div>"
      ],
      "text/plain": [
       "    channel layer orientation  \\\n",
       "0  Infrared     1          L1   \n",
       "1  Infrared     2           D   \n",
       "2  Infrared     2           H   \n",
       "3  Infrared     2           V   \n",
       "4  Infrared     3           D   \n",
       "\n",
       "                                                data  \n",
       "0  [156.96679687500017, 906.3007812500011, 518.66...  \n",
       "1  [-54.38085937500006, 60.472656250000114, 4.378...  \n",
       "2  [63.78320312500007, 51.61328125000003, 8.80468...  \n",
       "3  [-89.6035156250001, -4.45703125, -11.328124999...  \n",
       "4  [8.62500000000001, 6.179687500000009, -2.51953...  "
      ]
     },
     "metadata": {},
     "execution_count": 13
    }
   ],
   "metadata": {}
  },
  {
   "cell_type": "code",
   "execution_count": null,
   "source": [],
   "outputs": [],
   "metadata": {}
  }
 ],
 "metadata": {
  "interpreter": {
   "hash": "7e5f984cc8cd8c47dcd3acda73327432e6be76c353527f01c56663ba6bbc3ba9"
  },
  "kernelspec": {
   "name": "python3",
   "display_name": "Python 3.8.8 64-bit ('base': conda)"
  },
  "language_info": {
   "codemirror_mode": {
    "name": "ipython",
    "version": 3
   },
   "file_extension": ".py",
   "mimetype": "text/x-python",
   "name": "python",
   "nbconvert_exporter": "python",
   "pygments_lexer": "ipython3",
   "version": "3.8.8"
  },
  "orig_nbformat": 4
 },
 "nbformat": 4,
 "nbformat_minor": 2
}