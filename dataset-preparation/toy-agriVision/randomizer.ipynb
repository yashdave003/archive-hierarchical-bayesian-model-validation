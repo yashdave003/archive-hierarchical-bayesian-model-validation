{
 "cells": [
  {
   "cell_type": "code",
   "execution_count": 4,
   "metadata": {},
   "outputs": [
    {
     "name": "stdout",
     "output_type": "stream",
     "text": [
      "Files renamed successfully!\n",
      "['V4EJX3X8K_1048-3815-1560-4327.npz', 'XNKGLTAMZ_1324-3860-1836-4372.npz', 'MVEJ4886I_3122-4418-3634-4930.npz', 'UQWBZ1G4Y_5569-2376-6081-2888.npz', '8EF9M4P6Y_13515-9079-14027-9591.npz']\n"
     ]
    }
   ],
   "source": [
    "import os\n",
    "import random\n",
    "\n",
    "# Path to the folder where files are located\n",
    "folder_path = r'D:\\Second Dataset\\cleaned'\n",
    "\n",
    "# Get a list of all files in the folder\n",
    "files = os.listdir(folder_path)\n",
    "\n",
    "# Shuffle the list of files\n",
    "random.shuffle(files)\n",
    "\n",
    "print(\"Files renamed successfully!\")\n",
    "print(files[:5])"
   ]
  },
  {
   "cell_type": "code",
   "execution_count": 6,
   "metadata": {},
   "outputs": [
    {
     "name": "stdout",
     "output_type": "stream",
     "text": [
      "First 1500 files copied successfully!\n",
      "D:\\Second \n"
     ]
    }
   ],
   "source": [
    "import os\n",
    "import random\n",
    "import shutil\n",
    "\n",
    "# Path to the folder where files are located\n",
    "source_folder = r'D:\\Second Dataset\\cleaned'\n",
    "# Path to the destination folder\n",
    "destination_folder = r'D:\\Second Dataset\\first_1500'\n",
    "\n",
    "# Ensure the destination folder exists; if not, create it\n",
    "os.makedirs(destination_folder, exist_ok=True)\n",
    "\n",
    "# Get a list of all files in the folder\n",
    "files = os.listdir(source_folder)\n",
    "\n",
    "# Shuffle the list of files\n",
    "random.shuffle(files)\n",
    "\n",
    "# Take the first 1500 files\n",
    "files_to_copy = files[:1500]\n",
    "\n",
    "# Copy each file to the destination folder\n",
    "for file_name in files_to_copy:\n",
    "    source_path = os.path.join(source_folder, file_name)\n",
    "    destination_path = os.path.join(destination_folder, file_name)\n",
    "    shutil.copy2(source_path, destination_path)\n",
    "\n",
    "print(\"First 1500 files copied successfully!\")\n",
    "print(destination_folder[:10])"
   ]
  },
  {
   "cell_type": "code",
   "execution_count": 7,
   "metadata": {},
   "outputs": [
    {
     "name": "stdout",
     "output_type": "stream",
     "text": [
      "Batch 1 created with 1500 files.\n",
      "Batch 2 created with 1500 files.\n",
      "Batch 3 created with 1500 files.\n",
      "Batch 4 created with 1500 files.\n",
      "Batch 5 created with 1500 files.\n",
      "Batch 6 created with 1500 files.\n",
      "Batch 7 created with 1500 files.\n",
      "Batch 8 created with 1500 files.\n",
      "Batch 9 created with 1500 files.\n",
      "Batch 10 created with 1500 files.\n",
      "All batches created successfully!\n"
     ]
    }
   ],
   "source": [
    "import os\n",
    "import random\n",
    "import shutil\n",
    "\n",
    "# Path to the folder where files are located\n",
    "source_folder = r'D:\\Second Dataset\\cleaned'\n",
    "\n",
    "# Destination base folder where batch folders will be created\n",
    "destination_base_folder = r'D:\\Second Dataset\\Batches'\n",
    "\n",
    "# Ensure the destination base folder exists; if not, create it\n",
    "os.makedirs(destination_base_folder, exist_ok=True)\n",
    "\n",
    "# Get a list of all files in the source folder\n",
    "files = os.listdir(source_folder)\n",
    "\n",
    "# Shuffle the list of files\n",
    "random.shuffle(files)\n",
    "\n",
    "# Define the number of batches and files per batch\n",
    "num_batches = 10\n",
    "files_per_batch = 1500\n",
    "\n",
    "# Create each batch folder and copy 1500 files into it\n",
    "for batch_num in range(1, num_batches + 1):\n",
    "    # Create the batch folder\n",
    "    batch_folder = os.path.join(destination_base_folder, f\"batch {batch_num}\")\n",
    "    os.makedirs(batch_folder, exist_ok=True)\n",
    "    \n",
    "    # Get the subset of files for this batch\n",
    "    batch_files = files[(batch_num - 1) * files_per_batch : batch_num * files_per_batch]\n",
    "    \n",
    "    # Copy each file to the batch folder\n",
    "    for file_name in batch_files:\n",
    "        source_path = os.path.join(source_folder, file_name)\n",
    "        destination_path = os.path.join(batch_folder, file_name)\n",
    "        shutil.copy2(source_path, destination_path)\n",
    "\n",
    "    print(f\"Batch {batch_num} created with {len(batch_files)} files.\")\n",
    "\n",
    "print(\"All batches created successfully!\")\n"
   ]
  }
 ],
 "metadata": {
  "kernelspec": {
   "display_name": "Python 3",
   "language": "python",
   "name": "python3"
  },
  "language_info": {
   "codemirror_mode": {
    "name": "ipython",
    "version": 3
   },
   "file_extension": ".py",
   "mimetype": "text/x-python",
   "name": "python",
   "nbconvert_exporter": "python",
   "pygments_lexer": "ipython3",
   "version": "3.9.0"
  }
 },
 "nbformat": 4,
 "nbformat_minor": 2
}
