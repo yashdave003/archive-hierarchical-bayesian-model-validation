{
 "cells": [
  {
   "cell_type": "code",
   "execution_count": 1,
   "metadata": {},
   "outputs": [
    {
     "data": {
      "text/plain": [
       "'/Users/brandonmarks/Desktop/Research Materials/hierarchical-bayesian-model-validation/raw-data/spaceNet/full-spaceNet-cleaned'"
      ]
     },
     "execution_count": 1,
     "metadata": {},
     "output_type": "execute_result"
    }
   ],
   "source": [
    "import git\n",
    "from pathlib import Path\n",
    "import os\n",
    "\n",
    "ROOT_DIR = Path(git.Repo('.', search_parent_directories=True).working_tree_dir)\n",
    "\n",
    "FINAL_DATA_NAME = 'approx1e5-spaceNet-fourier' # + channel\n",
    "CONSTANT_SAMPLE_SIZE = int(1e5)\n",
    "RAW_DATA_SUFFIX = \"full-spaceNet-cleaned\"\n",
    "\n",
    "data_dir = os.path.join(ROOT_DIR, 'raw-data', \"spaceNet\", RAW_DATA_SUFFIX)\n",
    "file_list = [os.path.join(data_dir, filename) for filename in os.listdir(data_dir)]\n",
    "file_names = os.listdir(data_dir)\n",
    "data_dir"
   ]
  },
  {
   "cell_type": "code",
   "execution_count": 2,
   "metadata": {},
   "outputs": [],
   "source": [
    "os.chdir(os.path.join(ROOT_DIR, \"utilities\"))\n",
    "from transform import *\n",
    "os.chdir(os.path.join(ROOT_DIR, \"dataset-preparation\"))"
   ]
  },
  {
   "cell_type": "code",
   "execution_count": 3,
   "metadata": {},
   "outputs": [
    {
     "data": {
      "text/plain": [
       "['SN6_Train_AOI_11_Rotterdam_PS-RGB_20190822134835_20190822135131_tile_4495.npz',\n",
       " 'SN6_Train_AOI_11_Rotterdam_PS-RGB_20190823153025_20190823153316_tile_5080.npz',\n",
       " 'SN6_Train_AOI_11_Rotterdam_PS-RGB_20190822134835_20190822135131_tile_4481.npz',\n",
       " 'SN6_Train_AOI_11_Rotterdam_PS-RGB_20190823065021_20190823065333_tile_9156.npz',\n",
       " 'SN6_Train_AOI_11_Rotterdam_PS-RGB_20190822075219_20190822075510_tile_8135.npz']"
      ]
     },
     "execution_count": 3,
     "metadata": {},
     "output_type": "execute_result"
    }
   ],
   "source": [
    "file_list = [os.path.join(data_dir, f\"{RAW_DATA_SUFFIX}\", filename) for filename in os.listdir(data_dir)]\n",
    "file_names = os.listdir(os.path.join(data_dir))\n",
    "file_names[:5]"
   ]
  },
  {
   "cell_type": "code",
   "execution_count": 4,
   "metadata": {},
   "outputs": [],
   "source": [
    "def npz_opener(path):\n",
    "    return np.load(path)[\"image\"]"
   ]
  },
  {
   "cell_type": "markdown",
   "metadata": {},
   "source": [
    "# Fourier"
   ]
  },
  {
   "cell_type": "code",
   "execution_count": null,
   "metadata": {},
   "outputs": [
    {
     "name": "stdout",
     "output_type": "stream",
     "text": [
      "[0.009013878188659973, 0.010852709339146607, 0.013066662044332515, 0.015732261101376346, 0.01894164236605712, 0.022805737408732773, 0.02745810784011426, 0.03305956183949756, 0.039803712454755065, 0.0479236697955251, 0.05770009843381222, 0.0694709185143099, 0.08364298589122912, 0.10070615501303985, 0.12125021063569998, 0.14598525360538275, 0.17576624534088084, 0.21162255939042052, 0.2547935615060663, 0.3067714480533038, 0.36935282345617776, 0.444700799441238, 0.5354197625272505]\n"
     ]
    }
   ],
   "source": [
    "#Values obtained from plots in spaceNet_normalized_fourier.ipynb\n",
    "splits = getSplits(0.009013878188659973,0.6155586893221474, 1.204)\n",
    "print(splits)"
   ]
  },
  {
   "cell_type": "code",
   "execution_count": 6,
   "metadata": {},
   "outputs": [
    {
     "name": "stderr",
     "output_type": "stream",
     "text": [
      "100%|██████████| 3401/3401 [00:33<00:00, 100.04it/s]\n"
     ]
    },
    {
     "name": "stdout",
     "output_type": "stream",
     "text": [
      "[0.00901388 0.01085271 0.01306666 0.01573226 0.01894164 0.02280574\n",
      " 0.02745811 0.03305956 0.03980371 0.04792367 0.0577001  0.06947092\n",
      " 0.08364299 0.10070616 0.12125021 0.14598525 0.17576625 0.21162256\n",
      " 0.25479356 0.30677145 0.36935282 0.4447008  0.53541976]\n"
     ]
    },
    {
     "name": "stderr",
     "output_type": "stream",
     "text": [
      "100%|██████████| 23/23 [00:16<00:00,  1.36it/s]\n"
     ]
    },
    {
     "data": {
      "text/html": [
       "<div>\n",
       "<style scoped>\n",
       "    .dataframe tbody tr th:only-of-type {\n",
       "        vertical-align: middle;\n",
       "    }\n",
       "\n",
       "    .dataframe tbody tr th {\n",
       "        vertical-align: top;\n",
       "    }\n",
       "\n",
       "    .dataframe thead th {\n",
       "        text-align: right;\n",
       "    }\n",
       "</style>\n",
       "<table border=\"1\" class=\"dataframe\">\n",
       "  <thead>\n",
       "    <tr style=\"text-align: right;\">\n",
       "      <th></th>\n",
       "      <th>band</th>\n",
       "      <th>channel</th>\n",
       "      <th>magnitude_endpoints</th>\n",
       "      <th>unique_magnitudes</th>\n",
       "      <th>data</th>\n",
       "    </tr>\n",
       "  </thead>\n",
       "  <tbody>\n",
       "    <tr>\n",
       "      <th>0</th>\n",
       "      <td>1</td>\n",
       "      <td>red</td>\n",
       "      <td>(0.0, 0.007905694150420948)</td>\n",
       "      <td>8</td>\n",
       "      <td>[-225381.5, -88415.5, 66055.734, 139714.08, -4...</td>\n",
       "    </tr>\n",
       "    <tr>\n",
       "      <th>1</th>\n",
       "      <td>2</td>\n",
       "      <td>red</td>\n",
       "      <td>(0.009013878188659973, 0.010606601717798213)</td>\n",
       "      <td>4</td>\n",
       "      <td>[1183.9634, -7624.4336, 600.58984, 17710.637, ...</td>\n",
       "    </tr>\n",
       "    <tr>\n",
       "      <th>2</th>\n",
       "      <td>3</td>\n",
       "      <td>red</td>\n",
       "      <td>(0.011180339887498949, 0.012747548783981964)</td>\n",
       "      <td>3</td>\n",
       "      <td>[-1582.5763, -3120.0176, 3747.4946, -8780.537,...</td>\n",
       "    </tr>\n",
       "    <tr>\n",
       "      <th>3</th>\n",
       "      <td>4</td>\n",
       "      <td>red</td>\n",
       "      <td>(0.013462912017836262, 0.01520690632574555)</td>\n",
       "      <td>5</td>\n",
       "      <td>[-1604.8646, -3262.9648, -8762.0205, -5663.167...</td>\n",
       "    </tr>\n",
       "    <tr>\n",
       "      <th>4</th>\n",
       "      <td>5</td>\n",
       "      <td>red</td>\n",
       "      <td>(0.015811388300841896, 0.018200274723201296)</td>\n",
       "      <td>7</td>\n",
       "      <td>[2051.6567, -183.48495, -1254.544, -8608.934, ...</td>\n",
       "    </tr>\n",
       "  </tbody>\n",
       "</table>\n",
       "</div>"
      ],
      "text/plain": [
       "   band channel                           magnitude_endpoints  \\\n",
       "0     1     red                   (0.0, 0.007905694150420948)   \n",
       "1     2     red  (0.009013878188659973, 0.010606601717798213)   \n",
       "2     3     red  (0.011180339887498949, 0.012747548783981964)   \n",
       "3     4     red   (0.013462912017836262, 0.01520690632574555)   \n",
       "4     5     red  (0.015811388300841896, 0.018200274723201296)   \n",
       "\n",
       "   unique_magnitudes                                               data  \n",
       "0                  8  [-225381.5, -88415.5, 66055.734, 139714.08, -4...  \n",
       "1                  4  [1183.9634, -7624.4336, 600.58984, 17710.637, ...  \n",
       "2                  3  [-1582.5763, -3120.0176, 3747.4946, -8780.537,...  \n",
       "3                  5  [-1604.8646, -3262.9648, -8762.0205, -5663.167...  \n",
       "4                  7  [2051.6567, -183.48495, -1254.544, -8608.934, ...  "
      ]
     },
     "execution_count": 6,
     "metadata": {},
     "output_type": "execute_result"
    }
   ],
   "source": [
    "channel = \"red\"\n",
    "\n",
    "channel_fr = convert_to_fourier_basis(data_dir, channel, split_list = splits, debug = True, image_opener = npz_opener)\n",
    "pd.to_pickle(channel_fr, os.path.join(ROOT_DIR, \"transformed-data\", f\"{FINAL_DATA_NAME}-{channel}-df.pickle\"))\n",
    "\n",
    "\n",
    "min_group, max_group = 2, max(channel_fr['band'])\n",
    "group_data_map = dict()\n",
    "group_data_map_size = dict()\n",
    "for group in np.arange(min_group, max_group + 1):\n",
    "    data = channel_fr[(channel_fr['band'] == group)]['data'].iloc[0]\n",
    "    group_data_map[group] = np.sort(data)[np.round(np.linspace(0, data.size - 1, min(data.size, CONSTANT_SAMPLE_SIZE))).astype(int)] \n",
    "    group_data_map_size[group] = data.size\n",
    "    \n",
    "    pd.to_pickle(group_data_map, os.path.join(ROOT_DIR, \"transformed-data\", f\"{FINAL_DATA_NAME}-{channel}.pickle\"))\n",
    "    pd.to_pickle(group_data_map_size, os.path.join(ROOT_DIR, \"transformed-data\", f\"{FINAL_DATA_NAME}-{channel}-size.pickle\"))\n",
    "\n",
    "channel_fr.head()"
   ]
  },
  {
   "cell_type": "code",
   "execution_count": 7,
   "metadata": {},
   "outputs": [
    {
     "name": "stderr",
     "output_type": "stream",
     "text": [
      "100%|██████████| 3401/3401 [00:31<00:00, 108.38it/s]\n"
     ]
    },
    {
     "name": "stdout",
     "output_type": "stream",
     "text": [
      "[0.00901388 0.01085271 0.01306666 0.01573226 0.01894164 0.02280574\n",
      " 0.02745811 0.03305956 0.03980371 0.04792367 0.0577001  0.06947092\n",
      " 0.08364299 0.10070616 0.12125021 0.14598525 0.17576625 0.21162256\n",
      " 0.25479356 0.30677145 0.36935282 0.4447008  0.53541976]\n"
     ]
    },
    {
     "name": "stderr",
     "output_type": "stream",
     "text": [
      "100%|██████████| 23/23 [00:16<00:00,  1.39it/s]\n"
     ]
    },
    {
     "data": {
      "text/html": [
       "<div>\n",
       "<style scoped>\n",
       "    .dataframe tbody tr th:only-of-type {\n",
       "        vertical-align: middle;\n",
       "    }\n",
       "\n",
       "    .dataframe tbody tr th {\n",
       "        vertical-align: top;\n",
       "    }\n",
       "\n",
       "    .dataframe thead th {\n",
       "        text-align: right;\n",
       "    }\n",
       "</style>\n",
       "<table border=\"1\" class=\"dataframe\">\n",
       "  <thead>\n",
       "    <tr style=\"text-align: right;\">\n",
       "      <th></th>\n",
       "      <th>band</th>\n",
       "      <th>channel</th>\n",
       "      <th>magnitude_endpoints</th>\n",
       "      <th>unique_magnitudes</th>\n",
       "      <th>data</th>\n",
       "    </tr>\n",
       "  </thead>\n",
       "  <tbody>\n",
       "    <tr>\n",
       "      <th>0</th>\n",
       "      <td>1</td>\n",
       "      <td>blue</td>\n",
       "      <td>(0.0, 0.007905694150420948)</td>\n",
       "      <td>8</td>\n",
       "      <td>[-235394.38, -95414.47, 41927.14, 161107.16, -...</td>\n",
       "    </tr>\n",
       "    <tr>\n",
       "      <th>1</th>\n",
       "      <td>2</td>\n",
       "      <td>blue</td>\n",
       "      <td>(0.009013878188659973, 0.010606601717798213)</td>\n",
       "      <td>4</td>\n",
       "      <td>[1516.748, -8982.9375, -1112.3767, 20238.117, ...</td>\n",
       "    </tr>\n",
       "    <tr>\n",
       "      <th>2</th>\n",
       "      <td>3</td>\n",
       "      <td>blue</td>\n",
       "      <td>(0.011180339887498949, 0.012747548783981964)</td>\n",
       "      <td>3</td>\n",
       "      <td>[-1424.0557, -3558.286, 4503.3486, -5744.296, ...</td>\n",
       "    </tr>\n",
       "    <tr>\n",
       "      <th>3</th>\n",
       "      <td>4</td>\n",
       "      <td>blue</td>\n",
       "      <td>(0.013462912017836262, 0.01520690632574555)</td>\n",
       "      <td>5</td>\n",
       "      <td>[-777.61816, -3698.5503, -6166.797, -3189.1292...</td>\n",
       "    </tr>\n",
       "    <tr>\n",
       "      <th>4</th>\n",
       "      <td>5</td>\n",
       "      <td>blue</td>\n",
       "      <td>(0.015811388300841896, 0.018200274723201296)</td>\n",
       "      <td>7</td>\n",
       "      <td>[1559.6672, -1105.499, -858.263, -6951.5225, 1...</td>\n",
       "    </tr>\n",
       "  </tbody>\n",
       "</table>\n",
       "</div>"
      ],
      "text/plain": [
       "   band channel                           magnitude_endpoints  \\\n",
       "0     1    blue                   (0.0, 0.007905694150420948)   \n",
       "1     2    blue  (0.009013878188659973, 0.010606601717798213)   \n",
       "2     3    blue  (0.011180339887498949, 0.012747548783981964)   \n",
       "3     4    blue   (0.013462912017836262, 0.01520690632574555)   \n",
       "4     5    blue  (0.015811388300841896, 0.018200274723201296)   \n",
       "\n",
       "   unique_magnitudes                                               data  \n",
       "0                  8  [-235394.38, -95414.47, 41927.14, 161107.16, -...  \n",
       "1                  4  [1516.748, -8982.9375, -1112.3767, 20238.117, ...  \n",
       "2                  3  [-1424.0557, -3558.286, 4503.3486, -5744.296, ...  \n",
       "3                  5  [-777.61816, -3698.5503, -6166.797, -3189.1292...  \n",
       "4                  7  [1559.6672, -1105.499, -858.263, -6951.5225, 1...  "
      ]
     },
     "execution_count": 7,
     "metadata": {},
     "output_type": "execute_result"
    }
   ],
   "source": [
    "channel = \"blue\"\n",
    "\n",
    "channel_fr = convert_to_fourier_basis(data_dir, channel, split_list = splits, debug = True, image_opener = npz_opener)\n",
    "pd.to_pickle(channel_fr, os.path.join(ROOT_DIR, \"transformed-data\", f\"{FINAL_DATA_NAME}-{channel}-df.pickle\"))\n",
    "\n",
    "\n",
    "min_group, max_group = 2, max(channel_fr['band'])\n",
    "group_data_map = dict()\n",
    "group_data_map_size = dict()\n",
    "for group in np.arange(min_group, max_group + 1):\n",
    "    data = channel_fr[(channel_fr['band'] == group)]['data'].iloc[0]\n",
    "    group_data_map[group] = np.sort(data)[np.round(np.linspace(0, data.size - 1, min(data.size, CONSTANT_SAMPLE_SIZE))).astype(int)] \n",
    "    group_data_map_size[group] = data.size\n",
    "    \n",
    "    pd.to_pickle(group_data_map, os.path.join(ROOT_DIR, \"transformed-data\", f\"{FINAL_DATA_NAME}-{channel}.pickle\"))\n",
    "    pd.to_pickle(group_data_map_size, os.path.join(ROOT_DIR, \"transformed-data\", f\"{FINAL_DATA_NAME}-{channel}-size.pickle\"))\n",
    "\n",
    "channel_fr.head()"
   ]
  },
  {
   "cell_type": "code",
   "execution_count": 8,
   "metadata": {},
   "outputs": [
    {
     "name": "stderr",
     "output_type": "stream",
     "text": [
      "100%|██████████| 3401/3401 [00:31<00:00, 107.11it/s]\n"
     ]
    },
    {
     "name": "stdout",
     "output_type": "stream",
     "text": [
      "[0.00901388 0.01085271 0.01306666 0.01573226 0.01894164 0.02280574\n",
      " 0.02745811 0.03305956 0.03980371 0.04792367 0.0577001  0.06947092\n",
      " 0.08364299 0.10070616 0.12125021 0.14598525 0.17576625 0.21162256\n",
      " 0.25479356 0.30677145 0.36935282 0.4447008  0.53541976]\n"
     ]
    },
    {
     "name": "stderr",
     "output_type": "stream",
     "text": [
      "100%|██████████| 23/23 [00:19<00:00,  1.20it/s]\n"
     ]
    },
    {
     "data": {
      "text/html": [
       "<div>\n",
       "<style scoped>\n",
       "    .dataframe tbody tr th:only-of-type {\n",
       "        vertical-align: middle;\n",
       "    }\n",
       "\n",
       "    .dataframe tbody tr th {\n",
       "        vertical-align: top;\n",
       "    }\n",
       "\n",
       "    .dataframe thead th {\n",
       "        text-align: right;\n",
       "    }\n",
       "</style>\n",
       "<table border=\"1\" class=\"dataframe\">\n",
       "  <thead>\n",
       "    <tr style=\"text-align: right;\">\n",
       "      <th></th>\n",
       "      <th>band</th>\n",
       "      <th>channel</th>\n",
       "      <th>magnitude_endpoints</th>\n",
       "      <th>unique_magnitudes</th>\n",
       "      <th>data</th>\n",
       "    </tr>\n",
       "  </thead>\n",
       "  <tbody>\n",
       "    <tr>\n",
       "      <th>0</th>\n",
       "      <td>1</td>\n",
       "      <td>green</td>\n",
       "      <td>(0.0, 0.007905694150420948)</td>\n",
       "      <td>8</td>\n",
       "      <td>[-241985.28, -93609.14, 50907.438, 155699.75, ...</td>\n",
       "    </tr>\n",
       "    <tr>\n",
       "      <th>1</th>\n",
       "      <td>2</td>\n",
       "      <td>green</td>\n",
       "      <td>(0.009013878188659973, 0.010606601717798213)</td>\n",
       "      <td>4</td>\n",
       "      <td>[2984.446, -8057.0024, -3461.5234, 16566.46, -...</td>\n",
       "    </tr>\n",
       "    <tr>\n",
       "      <th>2</th>\n",
       "      <td>3</td>\n",
       "      <td>green</td>\n",
       "      <td>(0.011180339887498949, 0.012747548783981964)</td>\n",
       "      <td>3</td>\n",
       "      <td>[-2009.4049, -2990.0815, 4617.9043, -8877.848,...</td>\n",
       "    </tr>\n",
       "    <tr>\n",
       "      <th>3</th>\n",
       "      <td>4</td>\n",
       "      <td>green</td>\n",
       "      <td>(0.013462912017836262, 0.01520690632574555)</td>\n",
       "      <td>5</td>\n",
       "      <td>[-3171.9854, -3322.4683, -7803.6294, -6461.945...</td>\n",
       "    </tr>\n",
       "    <tr>\n",
       "      <th>4</th>\n",
       "      <td>5</td>\n",
       "      <td>green</td>\n",
       "      <td>(0.015811388300841896, 0.018200274723201296)</td>\n",
       "      <td>7</td>\n",
       "      <td>[2961.0078, -108.251755, -2008.8635, -7558.117...</td>\n",
       "    </tr>\n",
       "  </tbody>\n",
       "</table>\n",
       "</div>"
      ],
      "text/plain": [
       "   band channel                           magnitude_endpoints  \\\n",
       "0     1   green                   (0.0, 0.007905694150420948)   \n",
       "1     2   green  (0.009013878188659973, 0.010606601717798213)   \n",
       "2     3   green  (0.011180339887498949, 0.012747548783981964)   \n",
       "3     4   green   (0.013462912017836262, 0.01520690632574555)   \n",
       "4     5   green  (0.015811388300841896, 0.018200274723201296)   \n",
       "\n",
       "   unique_magnitudes                                               data  \n",
       "0                  8  [-241985.28, -93609.14, 50907.438, 155699.75, ...  \n",
       "1                  4  [2984.446, -8057.0024, -3461.5234, 16566.46, -...  \n",
       "2                  3  [-2009.4049, -2990.0815, 4617.9043, -8877.848,...  \n",
       "3                  5  [-3171.9854, -3322.4683, -7803.6294, -6461.945...  \n",
       "4                  7  [2961.0078, -108.251755, -2008.8635, -7558.117...  "
      ]
     },
     "execution_count": 8,
     "metadata": {},
     "output_type": "execute_result"
    }
   ],
   "source": [
    "channel = \"green\"\n",
    "\n",
    "channel_fr = convert_to_fourier_basis(data_dir, channel, split_list = splits, debug = True, image_opener = npz_opener)\n",
    "pd.to_pickle(channel_fr, os.path.join(ROOT_DIR, \"transformed-data\", f\"{FINAL_DATA_NAME}-{channel}-df.pickle\"))\n",
    "\n",
    "\n",
    "min_group, max_group = 2, max(channel_fr['band'])\n",
    "group_data_map = dict()\n",
    "group_data_map_size = dict()\n",
    "for group in np.arange(min_group, max_group + 1):\n",
    "    data = channel_fr[(channel_fr['band'] == group)]['data'].iloc[0]\n",
    "    group_data_map[group] = np.sort(data)[np.round(np.linspace(0, data.size - 1, min(data.size, CONSTANT_SAMPLE_SIZE))).astype(int)] \n",
    "    group_data_map_size[group] = data.size\n",
    "    \n",
    "    pd.to_pickle(group_data_map, os.path.join(ROOT_DIR, \"transformed-data\", f\"{FINAL_DATA_NAME}-{channel}.pickle\"))\n",
    "    pd.to_pickle(group_data_map_size, os.path.join(ROOT_DIR, \"transformed-data\", f\"{FINAL_DATA_NAME}-{channel}-size.pickle\"))\n",
    "\n",
    "channel_fr.head()"
   ]
  },
  {
   "cell_type": "code",
   "execution_count": 9,
   "metadata": {},
   "outputs": [
    {
     "name": "stderr",
     "output_type": "stream",
     "text": [
      "100%|██████████| 3401/3401 [00:45<00:00, 74.43it/s]\n"
     ]
    },
    {
     "name": "stdout",
     "output_type": "stream",
     "text": [
      "[0.00901388 0.01085271 0.01306666 0.01573226 0.01894164 0.02280574\n",
      " 0.02745811 0.03305956 0.03980371 0.04792367 0.0577001  0.06947092\n",
      " 0.08364299 0.10070616 0.12125021 0.14598525 0.17576625 0.21162256\n",
      " 0.25479356 0.30677145 0.36935282 0.4447008  0.53541976]\n"
     ]
    },
    {
     "name": "stderr",
     "output_type": "stream",
     "text": [
      "100%|██████████| 23/23 [00:19<00:00,  1.17it/s]\n"
     ]
    },
    {
     "data": {
      "text/html": [
       "<div>\n",
       "<style scoped>\n",
       "    .dataframe tbody tr th:only-of-type {\n",
       "        vertical-align: middle;\n",
       "    }\n",
       "\n",
       "    .dataframe tbody tr th {\n",
       "        vertical-align: top;\n",
       "    }\n",
       "\n",
       "    .dataframe thead th {\n",
       "        text-align: right;\n",
       "    }\n",
       "</style>\n",
       "<table border=\"1\" class=\"dataframe\">\n",
       "  <thead>\n",
       "    <tr style=\"text-align: right;\">\n",
       "      <th></th>\n",
       "      <th>band</th>\n",
       "      <th>channel</th>\n",
       "      <th>magnitude_endpoints</th>\n",
       "      <th>unique_magnitudes</th>\n",
       "      <th>data</th>\n",
       "    </tr>\n",
       "  </thead>\n",
       "  <tbody>\n",
       "    <tr>\n",
       "      <th>0</th>\n",
       "      <td>1</td>\n",
       "      <td>gray</td>\n",
       "      <td>(0.0, 0.007905694150420948)</td>\n",
       "      <td>8</td>\n",
       "      <td>[-236246.84936129604, -92253.20943942029, 5440...</td>\n",
       "    </tr>\n",
       "    <tr>\n",
       "      <th>1</th>\n",
       "      <td>2</td>\n",
       "      <td>gray</td>\n",
       "      <td>(0.009013878188659973, 0.010606601717798213)</td>\n",
       "      <td>4</td>\n",
       "      <td>[2278.665535828136, -8032.458520327632, -1979....</td>\n",
       "    </tr>\n",
       "    <tr>\n",
       "      <th>2</th>\n",
       "      <td>3</td>\n",
       "      <td>gray</td>\n",
       "      <td>(0.011180339887498949, 0.012747548783981964)</td>\n",
       "      <td>3</td>\n",
       "      <td>[-1814.8950446699823, -3093.395631401825, 4344...</td>\n",
       "    </tr>\n",
       "    <tr>\n",
       "      <th>3</th>\n",
       "      <td>4</td>\n",
       "      <td>gray</td>\n",
       "      <td>(0.013462912017836262, 0.01520690632574555)</td>\n",
       "      <td>5</td>\n",
       "      <td>[-2430.297845347779, -3347.2237753298696, -790...</td>\n",
       "    </tr>\n",
       "    <tr>\n",
       "      <th>4</th>\n",
       "      <td>5</td>\n",
       "      <td>gray</td>\n",
       "      <td>(0.015811388300841896, 0.018200274723201296)</td>\n",
       "      <td>7</td>\n",
       "      <td>[2529.153916172539, -244.41432629859284, -1652...</td>\n",
       "    </tr>\n",
       "  </tbody>\n",
       "</table>\n",
       "</div>"
      ],
      "text/plain": [
       "   band channel                           magnitude_endpoints  \\\n",
       "0     1    gray                   (0.0, 0.007905694150420948)   \n",
       "1     2    gray  (0.009013878188659973, 0.010606601717798213)   \n",
       "2     3    gray  (0.011180339887498949, 0.012747548783981964)   \n",
       "3     4    gray   (0.013462912017836262, 0.01520690632574555)   \n",
       "4     5    gray  (0.015811388300841896, 0.018200274723201296)   \n",
       "\n",
       "   unique_magnitudes                                               data  \n",
       "0                  8  [-236246.84936129604, -92253.20943942029, 5440...  \n",
       "1                  4  [2278.665535828136, -8032.458520327632, -1979....  \n",
       "2                  3  [-1814.8950446699823, -3093.395631401825, 4344...  \n",
       "3                  5  [-2430.297845347779, -3347.2237753298696, -790...  \n",
       "4                  7  [2529.153916172539, -244.41432629859284, -1652...  "
      ]
     },
     "execution_count": 9,
     "metadata": {},
     "output_type": "execute_result"
    }
   ],
   "source": [
    "channel = \"gray\"\n",
    "\n",
    "channel_fr = convert_to_fourier_basis(data_dir, channel, split_list = splits, debug = True, image_opener = npz_opener)\n",
    "pd.to_pickle(channel_fr, os.path.join(ROOT_DIR, \"transformed-data\", f\"{FINAL_DATA_NAME}-{channel}-df.pickle\"))\n",
    "\n",
    "\n",
    "min_group, max_group = 2, max(channel_fr['band'])\n",
    "group_data_map = dict()\n",
    "group_data_map_size = dict()\n",
    "for group in np.arange(min_group, max_group + 1):\n",
    "    data = channel_fr[(channel_fr['band'] == group)]['data'].iloc[0]\n",
    "    group_data_map[group] = np.sort(data)[np.round(np.linspace(0, data.size - 1, min(data.size, CONSTANT_SAMPLE_SIZE))).astype(int)] \n",
    "    group_data_map_size[group] = data.size\n",
    "    \n",
    "    pd.to_pickle(group_data_map, os.path.join(ROOT_DIR, \"transformed-data\", f\"{FINAL_DATA_NAME}-{channel}.pickle\"))\n",
    "    pd.to_pickle(group_data_map_size, os.path.join(ROOT_DIR, \"transformed-data\", f\"{FINAL_DATA_NAME}-{channel}-size.pickle\"))\n",
    "\n",
    "channel_fr.head()"
   ]
  },
  {
   "cell_type": "markdown",
   "metadata": {},
   "source": [
    "# Wavelet"
   ]
  },
  {
   "cell_type": "code",
   "execution_count": 10,
   "metadata": {},
   "outputs": [],
   "source": [
    "FINAL_DATA_NAME = 'approx1e5-spaceNet-wavelet'"
   ]
  },
  {
   "cell_type": "code",
   "execution_count": 11,
   "metadata": {},
   "outputs": [
    {
     "name": "stdout",
     "output_type": "stream",
     "text": [
      "9 layers being used\n"
     ]
    },
    {
     "name": "stderr",
     "output_type": "stream",
     "text": [
      "100%|██████████| 3401/3401 [00:15<00:00, 216.53it/s]\n"
     ]
    },
    {
     "data": {
      "text/html": [
       "<div>\n",
       "<style scoped>\n",
       "    .dataframe tbody tr th:only-of-type {\n",
       "        vertical-align: middle;\n",
       "    }\n",
       "\n",
       "    .dataframe tbody tr th {\n",
       "        vertical-align: top;\n",
       "    }\n",
       "\n",
       "    .dataframe thead th {\n",
       "        text-align: right;\n",
       "    }\n",
       "</style>\n",
       "<table border=\"1\" class=\"dataframe\">\n",
       "  <thead>\n",
       "    <tr style=\"text-align: right;\">\n",
       "      <th></th>\n",
       "      <th>channel</th>\n",
       "      <th>layer</th>\n",
       "      <th>orientation</th>\n",
       "      <th>data</th>\n",
       "    </tr>\n",
       "  </thead>\n",
       "  <tbody>\n",
       "    <tr>\n",
       "      <th>0</th>\n",
       "      <td>red</td>\n",
       "      <td>1</td>\n",
       "      <td>L1</td>\n",
       "      <td>[-349.4748, -412.14923, -153.14236, -178.68024...</td>\n",
       "    </tr>\n",
       "    <tr>\n",
       "      <th>1</th>\n",
       "      <td>red</td>\n",
       "      <td>2</td>\n",
       "      <td>D</td>\n",
       "      <td>[-9.341484, -2.1819797, 15.11049, -0.8711033, ...</td>\n",
       "    </tr>\n",
       "    <tr>\n",
       "      <th>2</th>\n",
       "      <td>red</td>\n",
       "      <td>2</td>\n",
       "      <td>H</td>\n",
       "      <td>[-6.1401796, -7.297671, 37.47995, -29.74427, -...</td>\n",
       "    </tr>\n",
       "    <tr>\n",
       "      <th>3</th>\n",
       "      <td>red</td>\n",
       "      <td>2</td>\n",
       "      <td>V</td>\n",
       "      <td>[3.1901398, 6.8437805, -76.04518, 4.831299, -2...</td>\n",
       "    </tr>\n",
       "    <tr>\n",
       "      <th>4</th>\n",
       "      <td>red</td>\n",
       "      <td>3</td>\n",
       "      <td>D</td>\n",
       "      <td>[5.267269, 2.4196525, -4.462354, 0.0, -11.5988...</td>\n",
       "    </tr>\n",
       "  </tbody>\n",
       "</table>\n",
       "</div>"
      ],
      "text/plain": [
       "  channel  layer orientation  \\\n",
       "0     red      1          L1   \n",
       "1     red      2           D   \n",
       "2     red      2           H   \n",
       "3     red      2           V   \n",
       "4     red      3           D   \n",
       "\n",
       "                                                data  \n",
       "0  [-349.4748, -412.14923, -153.14236, -178.68024...  \n",
       "1  [-9.341484, -2.1819797, 15.11049, -0.8711033, ...  \n",
       "2  [-6.1401796, -7.297671, 37.47995, -29.74427, -...  \n",
       "3  [3.1901398, 6.8437805, -76.04518, 4.831299, -2...  \n",
       "4  [5.267269, 2.4196525, -4.462354, 0.0, -11.5988...  "
      ]
     },
     "execution_count": 11,
     "metadata": {},
     "output_type": "execute_result"
    }
   ],
   "source": [
    "channel = \"red\"\n",
    "\n",
    "channel_wv = convert_to_wavelet_basis(data_dir, channel, debug = True, image_opener = npz_opener)\n",
    "pd.to_pickle(channel_wv, os.path.join(ROOT_DIR, \"transformed-data\", f\"{FINAL_DATA_NAME}-{channel}-df.pickle\"))\n",
    "\n",
    "min_group, max_group = 2, max(channel_wv['layer'])\n",
    "group_data_map = dict()\n",
    "group_data_map_size = dict()\n",
    "for group in np.arange(min_group, max_group + 1):\n",
    "    data = np.append(channel_wv[(channel_wv['orientation'] == 'H') & (channel_wv['layer'] == group)]['data'].iloc[0],\n",
    "                     channel_wv[(channel_wv['orientation'] == 'V') & (channel_wv['layer'] == group)]['data'].iloc[0])\n",
    "    group_data_map[group] = np.sort(data)[np.round(np.linspace(0, data.size - 1, min(data.size, CONSTANT_SAMPLE_SIZE))).astype(int)] \n",
    "    group_data_map_size[group] = data.size\n",
    "    \n",
    "    pd.to_pickle(group_data_map, os.path.join(ROOT_DIR, \"transformed-data\", f\"{FINAL_DATA_NAME}-{channel}.pickle\"))\n",
    "    pd.to_pickle(group_data_map_size, os.path.join(ROOT_DIR, \"transformed-data\", f\"{FINAL_DATA_NAME}-{channel}-size.pickle\"))\n",
    "\n",
    "channel_wv.head()"
   ]
  },
  {
   "cell_type": "code",
   "execution_count": 12,
   "metadata": {},
   "outputs": [
    {
     "name": "stdout",
     "output_type": "stream",
     "text": [
      "9 layers being used\n"
     ]
    },
    {
     "name": "stderr",
     "output_type": "stream",
     "text": [
      "100%|██████████| 3401/3401 [00:15<00:00, 214.72it/s]\n"
     ]
    },
    {
     "data": {
      "text/html": [
       "<div>\n",
       "<style scoped>\n",
       "    .dataframe tbody tr th:only-of-type {\n",
       "        vertical-align: middle;\n",
       "    }\n",
       "\n",
       "    .dataframe tbody tr th {\n",
       "        vertical-align: top;\n",
       "    }\n",
       "\n",
       "    .dataframe thead th {\n",
       "        text-align: right;\n",
       "    }\n",
       "</style>\n",
       "<table border=\"1\" class=\"dataframe\">\n",
       "  <thead>\n",
       "    <tr style=\"text-align: right;\">\n",
       "      <th></th>\n",
       "      <th>channel</th>\n",
       "      <th>layer</th>\n",
       "      <th>orientation</th>\n",
       "      <th>data</th>\n",
       "    </tr>\n",
       "  </thead>\n",
       "  <tbody>\n",
       "    <tr>\n",
       "      <th>0</th>\n",
       "      <td>green</td>\n",
       "      <td>1</td>\n",
       "      <td>L1</td>\n",
       "      <td>[-385.90704, -469.3062, -156.88853, -187.33362...</td>\n",
       "    </tr>\n",
       "    <tr>\n",
       "      <th>1</th>\n",
       "      <td>green</td>\n",
       "      <td>2</td>\n",
       "      <td>D</td>\n",
       "      <td>[-12.025617, -5.4726, 25.631062, 3.5453205, -5...</td>\n",
       "    </tr>\n",
       "    <tr>\n",
       "      <th>2</th>\n",
       "      <td>green</td>\n",
       "      <td>2</td>\n",
       "      <td>H</td>\n",
       "      <td>[-15.197045, -14.697875, 92.54941, -66.88221, ...</td>\n",
       "    </tr>\n",
       "    <tr>\n",
       "      <th>3</th>\n",
       "      <td>green</td>\n",
       "      <td>2</td>\n",
       "      <td>V</td>\n",
       "      <td>[-8.203781, -2.4738922, -158.98032, 8.666351, ...</td>\n",
       "    </tr>\n",
       "    <tr>\n",
       "      <th>4</th>\n",
       "      <td>green</td>\n",
       "      <td>3</td>\n",
       "      <td>D</td>\n",
       "      <td>[2.2284045, 0.9220028, -10.2436075, 0.0, -17.7...</td>\n",
       "    </tr>\n",
       "  </tbody>\n",
       "</table>\n",
       "</div>"
      ],
      "text/plain": [
       "  channel  layer orientation  \\\n",
       "0   green      1          L1   \n",
       "1   green      2           D   \n",
       "2   green      2           H   \n",
       "3   green      2           V   \n",
       "4   green      3           D   \n",
       "\n",
       "                                                data  \n",
       "0  [-385.90704, -469.3062, -156.88853, -187.33362...  \n",
       "1  [-12.025617, -5.4726, 25.631062, 3.5453205, -5...  \n",
       "2  [-15.197045, -14.697875, 92.54941, -66.88221, ...  \n",
       "3  [-8.203781, -2.4738922, -158.98032, 8.666351, ...  \n",
       "4  [2.2284045, 0.9220028, -10.2436075, 0.0, -17.7...  "
      ]
     },
     "execution_count": 12,
     "metadata": {},
     "output_type": "execute_result"
    }
   ],
   "source": [
    "channel = \"green\"\n",
    "\n",
    "channel_wv = convert_to_wavelet_basis(data_dir, channel, debug = True, image_opener = npz_opener)\n",
    "pd.to_pickle(channel_wv, os.path.join(ROOT_DIR, \"transformed-data\", f\"{FINAL_DATA_NAME}-{channel}-df.pickle\"))\n",
    "\n",
    "min_group, max_group = 2, max(channel_wv['layer'])\n",
    "group_data_map = dict()\n",
    "group_data_map_size = dict()\n",
    "for group in np.arange(min_group, max_group + 1):\n",
    "    data = np.append(channel_wv[(channel_wv['orientation'] == 'H') & (channel_wv['layer'] == group)]['data'].iloc[0],\n",
    "                     channel_wv[(channel_wv['orientation'] == 'V') & (channel_wv['layer'] == group)]['data'].iloc[0])\n",
    "    group_data_map[group] = np.sort(data)[np.round(np.linspace(0, data.size - 1, min(data.size, CONSTANT_SAMPLE_SIZE))).astype(int)] \n",
    "    group_data_map_size[group] = data.size\n",
    "    \n",
    "    pd.to_pickle(group_data_map, os.path.join(ROOT_DIR, \"transformed-data\", f\"{FINAL_DATA_NAME}-{channel}.pickle\"))\n",
    "    pd.to_pickle(group_data_map_size, os.path.join(ROOT_DIR, \"transformed-data\", f\"{FINAL_DATA_NAME}-{channel}-size.pickle\"))\n",
    "\n",
    "channel_wv.head()"
   ]
  },
  {
   "cell_type": "code",
   "execution_count": 13,
   "metadata": {},
   "outputs": [
    {
     "name": "stdout",
     "output_type": "stream",
     "text": [
      "9 layers being used\n"
     ]
    },
    {
     "name": "stderr",
     "output_type": "stream",
     "text": [
      "100%|██████████| 3401/3401 [00:15<00:00, 220.88it/s]\n"
     ]
    },
    {
     "data": {
      "text/html": [
       "<div>\n",
       "<style scoped>\n",
       "    .dataframe tbody tr th:only-of-type {\n",
       "        vertical-align: middle;\n",
       "    }\n",
       "\n",
       "    .dataframe tbody tr th {\n",
       "        vertical-align: top;\n",
       "    }\n",
       "\n",
       "    .dataframe thead th {\n",
       "        text-align: right;\n",
       "    }\n",
       "</style>\n",
       "<table border=\"1\" class=\"dataframe\">\n",
       "  <thead>\n",
       "    <tr style=\"text-align: right;\">\n",
       "      <th></th>\n",
       "      <th>channel</th>\n",
       "      <th>layer</th>\n",
       "      <th>orientation</th>\n",
       "      <th>data</th>\n",
       "    </tr>\n",
       "  </thead>\n",
       "  <tbody>\n",
       "    <tr>\n",
       "      <th>0</th>\n",
       "      <td>blue</td>\n",
       "      <td>1</td>\n",
       "      <td>L1</td>\n",
       "      <td>[-361.13248, -419.4332, -173.27464, -189.19716...</td>\n",
       "    </tr>\n",
       "    <tr>\n",
       "      <th>1</th>\n",
       "      <td>blue</td>\n",
       "      <td>2</td>\n",
       "      <td>D</td>\n",
       "      <td>[-11.974765, -2.9182286, 18.865301, 9.202546, ...</td>\n",
       "    </tr>\n",
       "    <tr>\n",
       "      <th>2</th>\n",
       "      <td>blue</td>\n",
       "      <td>2</td>\n",
       "      <td>H</td>\n",
       "      <td>[-5.257434, -8.668823, 30.574945, -33.569096, ...</td>\n",
       "    </tr>\n",
       "    <tr>\n",
       "      <th>3</th>\n",
       "      <td>blue</td>\n",
       "      <td>2</td>\n",
       "      <td>V</td>\n",
       "      <td>[-6.958252, 1.7785034, -74.50586, -2.6109161, ...</td>\n",
       "    </tr>\n",
       "    <tr>\n",
       "      <th>4</th>\n",
       "      <td>blue</td>\n",
       "      <td>3</td>\n",
       "      <td>D</td>\n",
       "      <td>[4.985283, 1.2361693, -4.2360106, 0.0, -9.5215...</td>\n",
       "    </tr>\n",
       "  </tbody>\n",
       "</table>\n",
       "</div>"
      ],
      "text/plain": [
       "  channel  layer orientation  \\\n",
       "0    blue      1          L1   \n",
       "1    blue      2           D   \n",
       "2    blue      2           H   \n",
       "3    blue      2           V   \n",
       "4    blue      3           D   \n",
       "\n",
       "                                                data  \n",
       "0  [-361.13248, -419.4332, -173.27464, -189.19716...  \n",
       "1  [-11.974765, -2.9182286, 18.865301, 9.202546, ...  \n",
       "2  [-5.257434, -8.668823, 30.574945, -33.569096, ...  \n",
       "3  [-6.958252, 1.7785034, -74.50586, -2.6109161, ...  \n",
       "4  [4.985283, 1.2361693, -4.2360106, 0.0, -9.5215...  "
      ]
     },
     "execution_count": 13,
     "metadata": {},
     "output_type": "execute_result"
    }
   ],
   "source": [
    "channel = \"blue\"\n",
    "\n",
    "channel_wv = convert_to_wavelet_basis(data_dir, channel, debug = True, image_opener = npz_opener)\n",
    "pd.to_pickle(channel_wv, os.path.join(ROOT_DIR, \"transformed-data\", f\"{FINAL_DATA_NAME}-{channel}-df.pickle\"))\n",
    "\n",
    "min_group, max_group = 2, max(channel_wv['layer'])\n",
    "group_data_map = dict()\n",
    "group_data_map_size = dict()\n",
    "for group in np.arange(min_group, max_group + 1):\n",
    "    data = np.append(channel_wv[(channel_wv['orientation'] == 'H') & (channel_wv['layer'] == group)]['data'].iloc[0],\n",
    "                     channel_wv[(channel_wv['orientation'] == 'V') & (channel_wv['layer'] == group)]['data'].iloc[0])\n",
    "    group_data_map[group] = np.sort(data)[np.round(np.linspace(0, data.size - 1, min(data.size, CONSTANT_SAMPLE_SIZE))).astype(int)] \n",
    "    group_data_map_size[group] = data.size\n",
    "    \n",
    "    pd.to_pickle(group_data_map, os.path.join(ROOT_DIR, \"transformed-data\", f\"{FINAL_DATA_NAME}-{channel}.pickle\"))\n",
    "    pd.to_pickle(group_data_map_size, os.path.join(ROOT_DIR, \"transformed-data\", f\"{FINAL_DATA_NAME}-{channel}-size.pickle\"))\n",
    "\n",
    "channel_wv.head()"
   ]
  },
  {
   "cell_type": "code",
   "execution_count": 14,
   "metadata": {},
   "outputs": [
    {
     "name": "stdout",
     "output_type": "stream",
     "text": [
      "9 layers being used\n"
     ]
    },
    {
     "name": "stderr",
     "output_type": "stream",
     "text": [
      "100%|██████████| 3401/3401 [00:27<00:00, 121.60it/s]\n"
     ]
    },
    {
     "data": {
      "text/html": [
       "<div>\n",
       "<style scoped>\n",
       "    .dataframe tbody tr th:only-of-type {\n",
       "        vertical-align: middle;\n",
       "    }\n",
       "\n",
       "    .dataframe tbody tr th {\n",
       "        vertical-align: top;\n",
       "    }\n",
       "\n",
       "    .dataframe thead th {\n",
       "        text-align: right;\n",
       "    }\n",
       "</style>\n",
       "<table border=\"1\" class=\"dataframe\">\n",
       "  <thead>\n",
       "    <tr style=\"text-align: right;\">\n",
       "      <th></th>\n",
       "      <th>channel</th>\n",
       "      <th>layer</th>\n",
       "      <th>orientation</th>\n",
       "      <th>data</th>\n",
       "    </tr>\n",
       "  </thead>\n",
       "  <tbody>\n",
       "    <tr>\n",
       "      <th>0</th>\n",
       "      <td>gray</td>\n",
       "      <td>1</td>\n",
       "      <td>L1</td>\n",
       "      <td>[-372.15462396419593, -446.4896740360303, -157...</td>\n",
       "    </tr>\n",
       "    <tr>\n",
       "      <th>1</th>\n",
       "      <td>gray</td>\n",
       "      <td>2</td>\n",
       "      <td>D</td>\n",
       "      <td>[-11.216330078354718, -4.197303143703039, 21.7...</td>\n",
       "    </tr>\n",
       "    <tr>\n",
       "      <th>2</th>\n",
       "      <td>gray</td>\n",
       "      <td>2</td>\n",
       "      <td>H</td>\n",
       "      <td>[-11.355308667362424, -11.797163014680148, 69....</td>\n",
       "    </tr>\n",
       "    <tr>\n",
       "      <th>3</th>\n",
       "      <td>gray</td>\n",
       "      <td>2</td>\n",
       "      <td>V</td>\n",
       "      <td>[-4.655338206871477, 0.7961775032794094, -124....</td>\n",
       "    </tr>\n",
       "    <tr>\n",
       "      <th>4</th>\n",
       "      <td>gray</td>\n",
       "      <td>3</td>\n",
       "      <td>D</td>\n",
       "      <td>[3.4507869283297907, 1.4053817386343432, -7.82...</td>\n",
       "    </tr>\n",
       "  </tbody>\n",
       "</table>\n",
       "</div>"
      ],
      "text/plain": [
       "  channel  layer orientation  \\\n",
       "0    gray      1          L1   \n",
       "1    gray      2           D   \n",
       "2    gray      2           H   \n",
       "3    gray      2           V   \n",
       "4    gray      3           D   \n",
       "\n",
       "                                                data  \n",
       "0  [-372.15462396419593, -446.4896740360303, -157...  \n",
       "1  [-11.216330078354718, -4.197303143703039, 21.7...  \n",
       "2  [-11.355308667362424, -11.797163014680148, 69....  \n",
       "3  [-4.655338206871477, 0.7961775032794094, -124....  \n",
       "4  [3.4507869283297907, 1.4053817386343432, -7.82...  "
      ]
     },
     "execution_count": 14,
     "metadata": {},
     "output_type": "execute_result"
    }
   ],
   "source": [
    "channel = \"gray\"\n",
    "\n",
    "channel_wv = convert_to_wavelet_basis(data_dir, channel, debug = True, image_opener = npz_opener)\n",
    "pd.to_pickle(channel_wv, os.path.join(ROOT_DIR, \"transformed-data\", f\"{FINAL_DATA_NAME}-{channel}-df.pickle\"))\n",
    "\n",
    "min_group, max_group = 2, max(channel_wv['layer'])\n",
    "group_data_map = dict()\n",
    "group_data_map_size = dict()\n",
    "for group in np.arange(min_group, max_group + 1):\n",
    "    data = np.append(channel_wv[(channel_wv['orientation'] == 'H') & (channel_wv['layer'] == group)]['data'].iloc[0],\n",
    "                     channel_wv[(channel_wv['orientation'] == 'V') & (channel_wv['layer'] == group)]['data'].iloc[0])\n",
    "    group_data_map[group] = np.sort(data)[np.round(np.linspace(0, data.size - 1, min(data.size, CONSTANT_SAMPLE_SIZE))).astype(int)] \n",
    "    group_data_map_size[group] = data.size\n",
    "    \n",
    "    pd.to_pickle(group_data_map, os.path.join(ROOT_DIR, \"transformed-data\", f\"{FINAL_DATA_NAME}-{channel}.pickle\"))\n",
    "    pd.to_pickle(group_data_map_size, os.path.join(ROOT_DIR, \"transformed-data\", f\"{FINAL_DATA_NAME}-{channel}-size.pickle\"))\n",
    "\n",
    "channel_wv.head()"
   ]
  },
  {
   "cell_type": "code",
   "execution_count": null,
   "metadata": {},
   "outputs": [],
   "source": []
  }
 ],
 "metadata": {
  "interpreter": {
   "hash": "26f46df99c92824998f7c0f025f59877ecc4414f4acde0109b9ec8a8b8d773e9"
  },
  "kernelspec": {
   "display_name": "Python 3.10.14 64-bit ('NewResearch': conda)",
   "name": "python3"
  },
  "language_info": {
   "codemirror_mode": {
    "name": "ipython",
    "version": 3
   },
   "file_extension": ".py",
   "mimetype": "text/x-python",
   "name": "python",
   "nbconvert_exporter": "python",
   "pygments_lexer": "ipython3",
   "version": "3.10.14"
  },
  "orig_nbformat": 4
 },
 "nbformat": 4,
 "nbformat_minor": 2
}
