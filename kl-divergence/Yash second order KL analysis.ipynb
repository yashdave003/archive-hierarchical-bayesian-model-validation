{
 "cells": [
  {
   "cell_type": "code",
   "execution_count": 1,
   "metadata": {},
   "outputs": [],
   "source": [
    "import numpy as np\n",
    "import pandas as pd\n",
    "import scipy\n",
    "import seaborn as sns\n",
    "from scipy import integrate, interpolate, special\n",
    "from scipy.special import psi\n",
    "from scipy.stats import gengamma, laplace, norm, kstwo, ks_1samp\n",
    "import matplotlib.pyplot as plt\n",
    "import pickle\n",
    "import os\n",
    "import math\n",
    "from scipy.linalg import svd\n",
    "import matplotlib.pyplot as plt\n",
    "from scipy.misc import derivative\n",
    "import matplotlib.patches as patches"
   ]
  },
  {
   "cell_type": "code",
   "execution_count": 2,
   "metadata": {},
   "outputs": [
    {
     "data": {
      "text/plain": [
       "-inf"
      ]
     },
     "execution_count": 2,
     "metadata": {},
     "output_type": "execute_result"
    }
   ],
   "source": [
    "psi(0)"
   ]
  },
  {
   "cell_type": "code",
   "execution_count": 3,
   "metadata": {},
   "outputs": [],
   "source": [
    "\n",
    "def derivative_r(r, eta, scale=1):\n",
    "    beta = (eta + 1.5) / r\n",
    "\n",
    "    def gauss_density(theta, x):\n",
    "        return (1. / (np.sqrt(2 * np.pi) * theta)) * np.exp(-0.5 * (x / theta) ** 2)\n",
    "\n",
    "    def gen_gamma_density(theta):\n",
    "        return (r / scipy.special.gamma(beta)) * (1 / scale) * (theta / scale) ** (r * beta - 1) * np.exp(-(theta / scale) ** r)\n",
    "\n",
    "    def integrand_up(theta, x):\n",
    "        return gauss_density(theta, x) * gen_gamma_density(theta) * math.log(theta) * theta ** r\n",
    "\n",
    "    def integrand_down(theta, x):\n",
    "        return gauss_density(theta, x) * gen_gamma_density(theta)\n",
    "\n",
    "    def integral_up(x):\n",
    "        result, error = scipy.integrate.quad(lambda theta: integrand_up(theta, x), 0, np.inf)\n",
    "        return result\n",
    "\n",
    "    def integral_down(x):\n",
    "        result, error = scipy.integrate.quad(lambda theta: integrand_down(theta, x), 0, np.inf)\n",
    "        return result\n",
    "\n",
    "    def integral_ratio(x):\n",
    "        up = integral_up(x)\n",
    "        down = integral_down(x)\n",
    "        return up / down if down != 0 else float('inf')  # Avoid division by zero\n",
    "\n",
    "    psi_value = scipy.special.psi((eta + 0.5) / r) * ((eta + 0.5) / r**2)\n",
    "\n",
    "    return lambda x: r**-1 + psi_value - integral_ratio(x)\n"
   ]
  },
  {
   "cell_type": "code",
   "execution_count": 4,
   "metadata": {},
   "outputs": [],
   "source": [
    "def derivative_eta(r, eta, scale=1):\n",
    "    beta = (eta + 1.5) / r\n",
    "\n",
    "    def gauss_density(theta, x):\n",
    "        return (1. / (np.sqrt(2 * np.pi) * theta)) * np.exp(-0.5 * (x / theta) ** 2)\n",
    "\n",
    "    def gen_gamma_density(theta):\n",
    "        return (r / scipy.special.gamma(beta)) * (1 / scale) * (theta / scale) ** (r * beta - 1) * np.exp(-(theta / scale) ** r)\n",
    "\n",
    "    def integrand_up(theta, x):\n",
    "        return gauss_density(theta, x) * gen_gamma_density(theta) * math.log(theta)\n",
    "\n",
    "    def integrand_down(theta, x):\n",
    "        return gauss_density(theta, x) * gen_gamma_density(theta)\n",
    "\n",
    "    def integral_up(x):\n",
    "        result, error = scipy.integrate.quad(lambda theta: integrand_up(theta, x), 0, np.inf)\n",
    "        return result\n",
    "\n",
    "    def integral_down(x):\n",
    "        result, error = scipy.integrate.quad(lambda theta: integrand_down(theta, x), 0, np.inf)\n",
    "        return result\n",
    "\n",
    "    def integral_ratio(x):\n",
    "        up = integral_up(x)\n",
    "        down = integral_down(x)\n",
    "        return up / down if down != 0 else float('inf')  # Avoid division by zero\n",
    "\n",
    "    psi_value = - scipy.special.psi((eta + 0.5) / r) * (1 / r)\n",
    "\n",
    "    return lambda x: psi_value + integral_ratio(x)\n",
    "\n"
   ]
  },
  {
   "cell_type": "code",
   "execution_count": 5,
   "metadata": {},
   "outputs": [],
   "source": [
    "def integrate_function_r_eta(r, eta, scale=1):\n",
    "    # Create instances of the functions that depend on x\n",
    "    dr_func = derivative_r(r, eta, scale)\n",
    "    de_func = derivative_eta(r, eta, scale)\n",
    "    \n",
    "    # Define the function for integrate_with_respect_to_theta_down from derivative_r\n",
    "    # (Should ideally be the same in both derivative_r and derivative_eta to avoid duplication)\n",
    "    def integral_down(x):\n",
    "        beta = (eta + 1.5) / r\n",
    "        def gauss_density(theta, x):\n",
    "            return (1. / (np.sqrt(2 * np.pi) * theta)) * np.exp(-0.5 * (x / theta) ** 2)\n",
    "        def gen_gamma_density(theta):\n",
    "            return (r / scipy.special.gamma(beta)) * (1 / scale) * (theta / scale) ** (r * beta - 1) * np.exp(-(theta / scale) ** r)\n",
    "        def integrand_down(theta, x):\n",
    "            return gauss_density(theta, x) * gen_gamma_density(theta)\n",
    "        result, error = scipy.integrate.quad(lambda theta: integrand_down(theta, x), 0, np.inf)\n",
    "        return result\n",
    "    \n",
    "    # Define the function to be integrated over x\n",
    "    def integrand(x):\n",
    "        dr_val = dr_func(x)\n",
    "        de_val = de_func(x)\n",
    "        down_val = integral_down(x)\n",
    "        if down_val != 0:\n",
    "            return (dr_val * de_val) * down_val\n",
    "        else:\n",
    "            return 0  # Handle division by zero if necessary\n",
    "\n",
    "    # Perform the integration from -inf to inf\n",
    "    result, error = scipy.integrate.quad(integrand, -np.inf, np.inf)\n",
    "    return result\n"
   ]
  },
  {
   "cell_type": "code",
   "execution_count": 6,
   "metadata": {},
   "outputs": [],
   "source": [
    "def integrate_function_r_r(r, eta, scale=1):\n",
    "    # Create instances of the functions that depend on x\n",
    "    dr_func = derivative_r(r, eta, scale)\n",
    "    de_func = derivative_eta(r, eta, scale)\n",
    "    \n",
    "    # Define the function for integrate_with_respect_to_theta_down from derivative_r\n",
    "    # (Should ideally be the same in both derivative_r and derivative_eta to avoid duplication)\n",
    "    def integral_down(x):\n",
    "        beta = (eta + 1.5) / r\n",
    "        def gauss_density(theta, x):\n",
    "            return (1. / (np.sqrt(2 * np.pi) * theta)) * np.exp(-0.5 * (x / theta) ** 2)\n",
    "        def gen_gamma_density(theta):\n",
    "            return (r / scipy.special.gamma(beta)) * (1 / scale) * (theta / scale) ** (r * beta - 1) * np.exp(-(theta / scale) ** r)\n",
    "        def integrand_down(theta, x):\n",
    "            return gauss_density(theta, x) * gen_gamma_density(theta)\n",
    "        result, error = scipy.integrate.quad(lambda theta: integrand_down(theta, x), 0, np.inf)\n",
    "        return result\n",
    "    \n",
    "    # Define the function to be integrated over x\n",
    "    def integrand(x):\n",
    "        dr_val = dr_func(x)\n",
    "        down_val = integral_down(x)\n",
    "        if down_val != 0:\n",
    "            return (dr_val * dr_val) * down_val\n",
    "        else:\n",
    "            return 0  # Handle division by zero if necessary\n",
    "\n",
    "    # Perform the integration from -inf to inf\n",
    "    result, error = scipy.integrate.quad(integrand, -np.inf, np.inf)\n",
    "    return result"
   ]
  },
  {
   "cell_type": "code",
   "execution_count": 7,
   "metadata": {},
   "outputs": [],
   "source": [
    "def integrate_function_eta_eta(r, eta, scale=1):\n",
    "    # Create instances of the functions that depend on x\n",
    "    dr_func = derivative_r(r, eta, scale)\n",
    "    de_func = derivative_eta(r, eta, scale)\n",
    "    \n",
    "    # Define the function for integrate_with_respect_to_theta_down from derivative_r\n",
    "    # (Should ideally be the same in both derivative_r and derivative_eta to avoid duplication)\n",
    "    def integral_down(x):\n",
    "        beta = (eta + 1.5) / r\n",
    "        def gauss_density(theta, x):\n",
    "            return (1. / (np.sqrt(2 * np.pi) * theta)) * np.exp(-0.5 * (x / theta) ** 2)\n",
    "        def gen_gamma_density(theta):\n",
    "            return (r / scipy.special.gamma(beta)) * (1 / scale) * (theta / scale) ** (r * beta - 1) * np.exp(-(theta / scale) ** r)\n",
    "        def integrand_down(theta, x):\n",
    "            return gauss_density(theta, x) * gen_gamma_density(theta)\n",
    "        result, error = scipy.integrate.quad(lambda theta: integrand_down(theta, x), 0, np.inf)\n",
    "        return result\n",
    "    \n",
    "    # Define the function to be integrated over x\n",
    "    def integrand(x):\n",
    "        de_val = de_func(x)\n",
    "        down_val = integral_down(x)\n",
    "        if down_val != 0:\n",
    "            return (de_val * de_val) * down_val\n",
    "        else:\n",
    "            return 0  # Handle division by zero if necessary\n",
    "\n",
    "    # Perform the integration from -inf to inf\n",
    "    result, error = scipy.integrate.quad(integrand, -np.inf, np.inf)\n",
    "    return result"
   ]
  },
  {
   "cell_type": "code",
   "execution_count": 17,
   "metadata": {},
   "outputs": [
    {
     "name": "stderr",
     "output_type": "stream",
     "text": [
      "C:\\Users\\yashd\\AppData\\Local\\Temp\\ipykernel_29520\\3582664690.py:2: RuntimeWarning: invalid value encountered in scalar divide\n",
      "  return scipy.special.gamma((eta+2.5)/r) / scipy.special.gamma((eta+1.5)/r)\n"
     ]
    },
    {
     "data": {
      "text/plain": [
       "([array([ 1.        ,  1.35935639,  1.8478498 ,  2.51188643,  3.41454887,\n",
       "          4.64158883,  6.30957344,  8.57695899, 11.65914401, 15.84893192]),\n",
       "  array([ 1.        ,  1.35935639,  1.8478498 ,  2.51188643,  3.41454887,\n",
       "          4.64158883,  6.30957344,  8.57695899, 11.65914401, 15.84893192]),\n",
       "  array([ 1.        ,  1.35935639,  1.8478498 ,  2.51188643,  3.41454887,\n",
       "          4.64158883,  6.30957344,  8.57695899, 11.65914401, 15.84893192])],\n",
       " [array([5.00000000e-01, 2.15741096e+00, 5.56050289e+00, 1.35674838e+01,\n",
       "         3.61046093e+01, 1.16170902e+02, 5.01613278e+02,            nan,\n",
       "                    nan,            nan]),\n",
       "  array([  1.5       ,   4.72604205,  12.98746788,  38.92148393,\n",
       "         145.0783664 , 761.11415274,          nan,          nan,\n",
       "                  nan,          nan]),\n",
       "  array([  2.5       ,   7.62418192,  22.86297558,  80.96909039,\n",
       "         387.94284349,          nan,          nan,          nan,\n",
       "                  nan,          nan])])"
      ]
     },
     "execution_count": 17,
     "metadata": {},
     "output_type": "execute_result"
    }
   ],
   "source": [
    "def gen_gamma_mean(r, eta):\n",
    "    return scipy.special.gamma((eta+2.5)/r) / scipy.special.gamma((eta+1.5)/r)\n",
    "\n",
    "def gen_gamma_variance(r, eta):\n",
    "    mean = gen_gamma_mean(r, eta)\n",
    "    second_moment = scipy.special.gamma((eta+3.5)/r) / scipy.special.gamma((eta+1.5)/r)\n",
    "    return second_moment - mean**2\n",
    "\n",
    "def find_eta_for_target_mean(r, target_mean):\n",
    "    def objective(eta):\n",
    "        return (gen_gamma_mean(r, eta) - target_mean)**2\n",
    "    result = scipy.optimize.minimize_scalar(objective)\n",
    "    return result.x\n",
    "\n",
    "all_r_vals = []\n",
    "all_eta_vals = []\n",
    "target_vars = np.round(np.arange(2, 5, 1), 2)\n",
    "\n",
    "for target_mean in target_vars:\n",
    "\n",
    "    r_values = []\n",
    "    eta_values = []\n",
    "    mean_values = []\n",
    "    variance_values = []\n",
    "\n",
    "    for r in np.logspace(0, 1.2, 10):  # r from 1 to 1000 np.arange(0,10,1):\n",
    "        eta = find_eta_for_target_mean(r, target_mean)\n",
    "        mean = gen_gamma_mean(r, eta)\n",
    "        variance = gen_gamma_variance(r, eta)\n",
    "        if variance == np.nan or mean == np.nan:\n",
    "            break\n",
    "        \n",
    "        r_values.append(r)\n",
    "        eta_values.append(eta)\n",
    "        mean_values.append(mean)\n",
    "        variance_values.append(variance)\n",
    "\n",
    "    all_r_vals.append(np.array(r_values))\n",
    "    all_eta_vals.append(np.array(eta_values))\n",
    "\n",
    "all_r_vals, all_eta_vals"
   ]
  },
  {
   "cell_type": "code",
   "execution_count": 51,
   "metadata": {},
   "outputs": [],
   "source": [
    "R, Eta = all_r_vals, all_eta_vals"
   ]
  },
  {
   "cell_type": "code",
   "execution_count": 52,
   "metadata": {},
   "outputs": [],
   "source": [
    "def hessian(r, eta):\n",
    "        # Hessian matrix\n",
    "    H = np.array([[integrate_function_r_r(r, eta), integrate_function_r_eta(r, eta)],\n",
    "                  [integrate_function_r_eta(r, eta), integrate_function_eta_eta(r, eta)]])\n",
    "    return H"
   ]
  },
  {
   "cell_type": "code",
   "execution_count": 53,
   "metadata": {},
   "outputs": [],
   "source": [
    "def is_pos_def(x):\n",
    "    return np.all(np.linalg.eigvals(x) > 0)"
   ]
  },
  {
   "cell_type": "code",
   "execution_count": 54,
   "metadata": {},
   "outputs": [
    {
     "data": {
      "text/plain": [
       "True"
      ]
     },
     "execution_count": 54,
     "metadata": {},
     "output_type": "execute_result"
    }
   ],
   "source": [
    "import math\n",
    "math.isnan(all_eta_vals[-1][-1])"
   ]
  },
  {
   "cell_type": "code",
   "execution_count": 55,
   "metadata": {},
   "outputs": [
    {
     "name": "stdout",
     "output_type": "stream",
     "text": [
      "1.0 0.5\n",
      "[[ 4.75283444 -2.13959997]\n",
      " [-2.13959997  1.24221068]]\n",
      "1.0 2.16\n",
      "[[10.54433594 -1.47205889]\n",
      " [-1.47205889  0.22283401]]\n",
      "1.0 5.56\n",
      "[[19.95574282 -1.01363521]\n",
      " [-1.01363521  0.05289705]]\n",
      "1.0 13.57\n",
      "[[ 3.51168827e+01 -6.38090854e-01]\n",
      " [-6.38090854e-01  1.16855145e-02]]\n",
      "1.0 36.1\n",
      "[[ 6.85492025e+03 -1.37995962e+02]\n",
      " [-1.37995962e+02  1.95210888e-03]]\n",
      "1.36 1.5\n",
      "[[ 1.94502644 -0.6240875 ]\n",
      " [-0.6240875   0.23374529]]\n",
      "1.36 4.73\n",
      "[[ 4.41320445 -0.41523161]\n",
      " [-0.41523161  0.04073461]]\n",
      "1.36 12.99\n",
      "[[ 8.72421774e+00 -2.49370539e-01]\n",
      " [-2.49370539e-01  7.19891286e-03]]\n",
      "1.36 38.92\n",
      "[[ 1.59742061e+01 -1.23066535e-01]\n",
      " [-1.23066535e-01  9.49679103e-04]]\n",
      "1.85 2.5\n",
      "[[ 0.63765188 -0.19995281]\n",
      " [-0.19995281  0.07063655]]\n",
      "1.85 7.62\n",
      "[[ 1.50430934 -0.12546276]\n",
      " [-0.12546276  0.01074553]]\n",
      "1.85 22.86\n",
      "[[ 3.07346045e+00 -6.65098579e-02]\n",
      " [-6.65098579e-02  1.44582606e-03]]\n",
      "1.85 80.97\n",
      "[[ 5.76478157e+00 -2.70844150e-02]\n",
      " [-2.70844150e-02  1.27319692e-04]]\n"
     ]
    },
    {
     "ename": "IndexError",
     "evalue": "list index out of range",
     "output_type": "error",
     "traceback": [
      "\u001b[1;31m---------------------------------------------------------------------------\u001b[0m",
      "\u001b[1;31mIndexError\u001b[0m                                Traceback (most recent call last)",
      "Cell \u001b[1;32mIn[55], line 20\u001b[0m\n\u001b[0;32m     18\u001b[0m \u001b[38;5;66;03m# Loop through R and Eta values\u001b[39;00m\n\u001b[0;32m     19\u001b[0m \u001b[38;5;28;01mfor\u001b[39;00m i, R \u001b[38;5;129;01min\u001b[39;00m \u001b[38;5;28menumerate\u001b[39m(all_r_vals[\u001b[38;5;241m0\u001b[39m]):\n\u001b[1;32m---> 20\u001b[0m     \u001b[38;5;28;01mfor\u001b[39;00m j, Eta \u001b[38;5;129;01min\u001b[39;00m \u001b[38;5;28menumerate\u001b[39m(\u001b[43mall_eta_vals\u001b[49m\u001b[43m[\u001b[49m\u001b[38;5;28;43mmin\u001b[39;49m\u001b[43m(\u001b[49m\u001b[43mi\u001b[49m\u001b[43m,\u001b[49m\u001b[43m \u001b[49m\u001b[38;5;28;43mlen\u001b[39;49m\u001b[43m(\u001b[49m\u001b[43mall_eta_vals\u001b[49m\u001b[43m)\u001b[49m\u001b[43m)\u001b[49m\u001b[43m]\u001b[49m):\n\u001b[0;32m     21\u001b[0m         \u001b[38;5;28;01mif\u001b[39;00m math\u001b[38;5;241m.\u001b[39misnan(Eta) \u001b[38;5;129;01mor\u001b[39;00m math\u001b[38;5;241m.\u001b[39misnan(R):\n\u001b[0;32m     22\u001b[0m             \u001b[38;5;28;01mcontinue\u001b[39;00m \n",
      "\u001b[1;31mIndexError\u001b[0m: list index out of range"
     ]
    },
    {
     "data": {
      "image/png": "[encoded data removed]",
      "text/plain": [
       "<Figure size 640x480 with 1 Axes>"
      ]
     },
     "metadata": {},
     "output_type": "display_data"
    }
   ],
   "source": [
    "# Initialize the plot EDITED\n",
    "fig, ax = plt.subplots()\n",
    "ax.set_xlim(np.min(R), np.max(R))\n",
    "ax.set_ylim(np.nanmin(Eta), np.nanmax(Eta))\n",
    "\n",
    "\n",
    "scale_factor = 0.1\n",
    "pos_list = []\n",
    "# Compute and plot the ellipses\n",
    "# Define directories for storing Hessian matrices\n",
    "hessian_dir = 'hessian_matrices'\n",
    "os.makedirs(hessian_dir, exist_ok=True)\n",
    "\n",
    "# Function to generate a file path for a given (R, Eta) pair\n",
    "def get_hessian_path(r, eta):\n",
    "    return os.path.join(hessian_dir, f'hessian_R{r}_Eta{eta}.pkl')\n",
    "\n",
    "# Loop through R and Eta values\n",
    "for i, R in enumerate(all_r_vals[0]):\n",
    "    for j, Eta in enumerate(all_eta_vals[min(i, len(all_eta_vals))]):\n",
    "        if math.isnan(Eta) or math.isnan(R):\n",
    "            continue \n",
    "        R, Eta = np.round(R, 2), np.round(Eta, 2)\n",
    "        \n",
    "        hessian_path = get_hessian_path(R, Eta)\n",
    "        \n",
    "        # Check if the Hessian matrix is already stored\n",
    "        if os.path.exists(hessian_path):\n",
    "            with open(hessian_path, 'rb') as f:\n",
    "                H = pickle.load(f)\n",
    "        else:\n",
    "            # Calculate the Hessian matrix if not already stored\n",
    "            H = hessian(R, Eta)\n",
    "            # Store the Hessian matrix in a pickle file\n",
    "            with open(hessian_path, 'wb') as f:\n",
    "                pickle.dump(H, f)\n",
    "        if math.isnan(H[0][0]):\n",
    "            continue\n",
    "        \n",
    "        pos_list.append(is_pos_def(H))\n",
    "        print(R, Eta)\n",
    "        print(H)\n",
    "        \n",
    "        U, s, Vt = np.linalg.svd(H)\n",
    "        angle = np.arctan2(U[0, 1], U[0, 0]) * 180 / np.pi  # Convert radian to degree\n",
    "        width, height = scale_factor / np.sqrt(s[0]), scale_factor / np.sqrt(s[1])  # Axis lengths\n",
    "        ellipse = patches.Ellipse((R, Eta), width, height, angle=angle, edgecolor='blue', facecolor='none')\n",
    "        ax.add_patch(ellipse)\n",
    "\n",
    "print(pos_list)\n",
    "\n",
    "plt.title('Ellipses Representing the SVD of the Hessian')\n",
    "plt.xlabel('r')\n",
    "plt.ylabel('eta')\n",
    "plt.show()\n",
    "\n",
    "for i, (r_values, eta_values) in enumerate(zip(all_r_vals, all_eta_vals)):\n",
    "    all_beta_vals = np.divide((eta_values + 1.5), r_values)\n",
    "    sns.lineplot(x = r_values, \n",
    "                 y = eta_values,\n",
    "                 label = f'{target_vars[i]}'\n",
    "                 )\n",
    "plt.title(f'$\\\\eta$ as a function of $r$ for different target variances')\n",
    "plt.xlabel('r')\n",
    "plt.ylabel(f'$\\\\eta$')"
   ]
  },
  {
   "cell_type": "code",
   "execution_count": null,
   "metadata": {},
   "outputs": [
    {
     "data": {
      "text/plain": [
       "False"
      ]
     },
     "execution_count": 12,
     "metadata": {},
     "output_type": "execute_result"
    }
   ],
   "source": [
    "is_pos_def(np.array([[40.60756154,-31160.34090121],\n",
    "[-31160.34090121, 4902.34950896]]))"
   ]
  }
 ],
 "metadata": {
  "kernelspec": {
   "display_name": "Python 3",
   "language": "python",
   "name": "python3"
  },
  "language_info": {
   "codemirror_mode": {
    "name": "ipython",
    "version": 3
   },
   "file_extension": ".py",
   "mimetype": "text/x-python",
   "name": "python",
   "nbconvert_exporter": "python",
   "pygments_lexer": "ipython3",
   "version": "3.11.9"
  }
 },
 "nbformat": 4,
 "nbformat_minor": 2
}
