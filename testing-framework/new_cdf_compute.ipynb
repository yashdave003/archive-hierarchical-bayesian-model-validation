{
 "cells": [
  {
   "cell_type": "code",
   "execution_count": 1,
   "source": [
    "# Assign directory\n",
    "import os\n",
    "BRANDON = '/Users/brandonmarks/Desktop/Research Materials/hierarchical-bayesian-model-validation/'\n",
    "YASH = '/Users/yashd/Desktop/hierarchical-bayesian-model-validation/'\n",
    "\n",
    "ROOT_DIR = BRANDON\n",
    "os.chdir(ROOT_DIR + 'testing-framework/')\n",
    "\n",
    "DATA_NAME = 'toy-agriVision-red-wavelet'\n",
    "GROUP = 'layer'\n",
    "SKIP_OPTIMIZE_STEP = True\n",
    "\n",
    "# os.mkdir(DATA_NAME)\n",
    "# os.mkdir(os.path.join(DATA_NAME, \"CSVs\"))\n",
    "# os.mkdir(os.path.join(DATA_NAME, \"plots\"))"
   ],
   "outputs": [],
   "metadata": {}
  },
  {
   "cell_type": "code",
   "execution_count": 2,
   "source": [
    "from utilities import *\n",
    "from plot_utilities import *\n",
    "''' Comment out the below two lines if you do not have Matlab installed and opened'''\n",
    "import matlab.engine \n",
    "eng = matlab.engine.connect_matlab()"
   ],
   "outputs": [],
   "metadata": {}
  },
  {
   "cell_type": "code",
   "execution_count": 3,
   "source": [
    "def compute_prior_pdf(r, eta, n_samples = 10000, tail_bound = 0.05, tail_percent = 0.01, scale = 1, scipy_int=True, eng= None, debug=False):\n",
    "    \n",
    "    \"\"\"\n",
    "    Computes the prior probability density function (PDF) for given parameters r and eta.\n",
    "\n",
    "    Inputs:\n",
    "    - r (float): Shape parameter for the generalized gamma distribution, recommended r >= 0.4\n",
    "    - eta (float): Parameter related to the beta in the generalized gamma distribution, recommended eta >= 0\n",
    "    - n_samples (int, optional): Number of samples to generate. Default is 10000\n",
    "    - tail_bound (float, optional): Bound for the tail of the distribution. Default is 0.05\n",
    "    - tail_percent (float, optional): Percentage of samples to allocate to the tail. Default is 0.01\n",
    "    - scale (float, optional): Scale parameter for the distribution. Default is 1\n",
    "    - scipy_int (bool, optional): If True, uses SciPy for integration. If False, uses 'eng'. Default is True\n",
    "    - eng (object, optional): MATLAB engine for computation if scipy_int is False. Default is None\n",
    "    - debug (bool, optional): If True, prints debug information. Default is False\n",
    "\n",
    "    Outputs:\n",
    "    - xs (numpy.ndarray): Array of x values\n",
    "    - pdf (numpy.ndarray): Corresponding PDF values\n",
    "\n",
    "    Note: The function uses a combination of linear and logarithmic spacing for x values to capture both the central part and the tails of the distribution.\n",
    "    With 10000 samples and relatively large eta values, computed CDFs are reliable for r >= 0.4. For more robust CDFs, use MATLAB. \n",
    "    Though the distribution is defined for some values of eta < 0, this function does not reliably compute CDFs in this region.\n",
    "\n",
    "    \"\"\"\n",
    "\n",
    "    beta = (eta + 1.5)/r \n",
    "    var_prior = scale * scipy.special.gamma(beta + 1/r)/scipy.special.gamma(beta)\n",
    "    cheby = np.sqrt(var_prior/(tail_bound))\n",
    "    n_tail = int(n_samples*tail_percent)\n",
    "    \n",
    "    # introduced additional bound in case chebyshev is unwieldy\n",
    "    x_max = min(99, cheby) \n",
    "    if cheby < 120:\n",
    "        n_tail = 0\n",
    "        if debug:\n",
    "            print(f\"No tail\")\n",
    "    if debug:\n",
    "        print(f\"Chebyshev bound: {cheby}\")\n",
    "\n",
    "    xs = np.linspace(-x_max, x_max, n_samples-2*n_tail)\n",
    "    xs = np.append(-np.logspace(np.log10(cheby), 2, n_tail), xs)\n",
    "    xs = np.append(xs, np.logspace(2, np.log10(cheby), n_tail))\n",
    "\n",
    "    prior_pdf = np.full(xs.shape, np.nan)\n",
    "\n",
    "    for j, x in enumerate(xs):\n",
    "\n",
    "        # Note that theta = variance, np.sqrt(theta) = SD\n",
    "        def gauss_density(theta):\n",
    "            return (1./(np.sqrt(2*np.pi)*np.sqrt(theta))) * np.exp(-0.5*(x**2/theta))\n",
    "\n",
    "        def gen_gamma_density(theta):\n",
    "            return (np.abs(r)/scipy.special.gamma(beta)) * (1/scale) * (theta/scale)**(r*beta - 1) * np.exp(-(theta/scale)**r)\n",
    "\n",
    "        def integrand(theta):\n",
    "            return gauss_density(theta) * gen_gamma_density(theta)\n",
    "\n",
    "        if scipy_int:\n",
    "            prior_pdf[j] = integrate.quad(integrand, 0, np.inf)[0]\n",
    "        else:\n",
    "            prior_pdf[j] = eng.compute_prior(float(r), float(eta), float(x), nargout=1)\n",
    "    \n",
    "    return xs, prior_pdf"
   ],
   "outputs": [],
   "metadata": {}
  },
  {
   "cell_type": "code",
   "execution_count": null,
   "source": [
    "\n",
    "def gauss_density(theta):\n",
    "            return (1./(np.sqrt(2*np.pi)*np.sqrt(theta))) * np.exp(-0.5*(x**2/theta))\n",
    "\n",
    "def gen_gamma_density(theta):\n",
    "    return (np.abs(r)/scipy.special.gamma(beta)) * (1/scale) * (theta/scale)**(r*beta - 1) * np.exp(-(theta/scale)**r)\n",
    "\n",
    "def integrand(theta):\n",
    "    return gauss_density(theta) * gen_gamma_density(theta)\n",
    "\n"
   ],
   "outputs": [],
   "metadata": {}
  }
 ],
 "metadata": {
  "orig_nbformat": 4,
  "language_info": {
   "name": "python",
   "version": "3.10.14",
   "mimetype": "text/x-python",
   "codemirror_mode": {
    "name": "ipython",
    "version": 3
   },
   "pygments_lexer": "ipython3",
   "nbconvert_exporter": "python",
   "file_extension": ".py"
  },
  "kernelspec": {
   "name": "python3",
   "display_name": "Python 3.10.14 64-bit ('Research': conda)"
  },
  "interpreter": {
   "hash": "83635bb4831aedbea94bec2369092292994a8fbbb881bb3adfcb1b33cd30abe3"
  }
 },
 "nbformat": 4,
 "nbformat_minor": 2
}