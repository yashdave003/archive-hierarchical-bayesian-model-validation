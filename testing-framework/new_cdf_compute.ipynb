{
 "cells": [
  {
   "cell_type": "code",
   "execution_count": 1,
   "source": [
    "import git\n",
    "from pathlib import Path\n",
    "import os\n",
    "\n",
    "ROOT_DIR = Path(git.Repo('.', search_parent_directories=True).working_tree_dir)\n",
    "\n",
    "os.chdir(os.path.join(ROOT_DIR, \"utilities\"))\n",
    "from testing import * # If MATLAB is not installed, open utilities and set to False\n",
    "from plotting import *\n",
    "os.chdir(os.path.join(ROOT_DIR, \"testing-framework\"))"
   ],
   "outputs": [],
   "metadata": {}
  },
  {
   "cell_type": "code",
   "execution_count": 2,
   "source": [
    "def compute_cdf_vals(r, beta, xs, use_matlab = True, debug = False):\n",
    "    prior_cdf = np.zeros_like(xs)\n",
    "    if use_matlab:\n",
    "        if debug:\n",
    "            for j in tqdm(range(len(xs))):\n",
    "                prior_cdf[j] = eng.compute_cdf_using_gengamma(float(r), float(beta), float(xs[j]), nargout=1)\n",
    "        else:\n",
    "            for j, x in enumerate(xs):\n",
    "                prior_cdf[j] = eng.compute_cdf_using_gengamma(float(r), float(beta), float(x), nargout=1)\n",
    "    else:\n",
    "        def gauss_density(z, x):\n",
    "            return np.exp(-0.5 * (x/z)**2) / (np.sqrt(2*np.pi) * z)\n",
    "\n",
    "        def gen_gamma_cdf(x):\n",
    "            return prior_cdf.gammainc(beta, x**r)\n",
    "\n",
    "        def integrand(z, x):\n",
    "            return gauss_density(z, x) * (1 - gen_gamma_cdf((x/z)**2))\n",
    "        \n",
    "        for j, x in enumerate(xs):\n",
    "            res = integrate.quad(integrand, 0, np.inf, args=(x,))[0]\n",
    "            prior_cdf[j] = res\n",
    "    return prior_cdf\n",
    "    "
   ],
   "outputs": [],
   "metadata": {}
  },
  {
   "cell_type": "code",
   "execution_count": 84,
   "source": [
    "def compute_prior_cdf_using_gamma_cdf(r, eta, n_samples=1000, tail_bound=0.001, tail_percent=0.1, scale=1, use_matlab=True, eng=eng, enforce_assert=True, return_assert=False, return_xs=False, debug=False):\n",
    "    beta = (eta + 1.5) / r\n",
    "    var_prior = scale * special.gamma(beta + 1/r) / special.gamma(beta)\n",
    "    \n",
    "    cheby = np.sqrt(var_prior / tail_bound)\n",
    "    if np.isnan(var_prior) or np.isinf(var_prior):\n",
    "        cheby = 1e100\n",
    "    x_max = min(99, cheby)\n",
    "    n_tail = int(n_samples * tail_percent) if cheby >= 120 else 0\n",
    "\n",
    "    if debug:\n",
    "        print(f\"Params: {r}, {eta}\")\n",
    "        print(f\"Chebyshev bound: {cheby}\")\n",
    "        print(f\"{'No tail' if n_tail == 0 else f'Tail samples: {n_tail}'}\")\n",
    "\n",
    "    xs_minus = np.concatenate((-np.logspace(np.log10(cheby), 2, n_tail),\n",
    "                               np.linspace(-x_max, 0, n_samples//2-n_tail)))\n",
    "\n",
    "    prior_cdf_minus = compute_cdf_vals(r, beta, xs_minus, use_matlab = use_matlab, debug = debug)\n",
    "\n",
    "    print(\"Maximum Diff in y-values:\", max(abs(np.diff(prior_cdf_minus))))\n",
    "    if(max(abs(np.diff(prior_cdf_minus))) > 0.05 and eta < 0):\n",
    "        \n",
    "        idx = prior_cdf_minus > 1e-10\n",
    "        filtered_y = prior_cdf_minus[idx]\n",
    "        filttered_x = xs_minus[idx]\n",
    "\n",
    "        inv_linspline = interpolate.InterpolatedUnivariateSpline(x= filtered_y, y= filttered_x, k=1, ext='const')\n",
    "        xs_add = inv_linspline(np.linspace(0, 0.5, n_samples//2))\n",
    "        xs_minus = np.sort(np.unique(np.append(xs_minus, xs_add)))\n",
    "        prior_cdf_minus = compute_cdf_vals(r, beta, xs_minus, use_matlab = use_matlab, debug = debug)\n",
    "        print(\"Maximum Diff in y-values:\", max(abs(np.diff(prior_cdf_minus))))\n",
    "\n",
    "        \n",
    "        #return normal, inv_linspline\n",
    "        \n",
    "    xs_plus = -np.flip(xs_minus[:-1])\n",
    "    prior_cdf_plus = 1-np.flip(prior_cdf_minus[:-1])\n",
    "\n",
    "    xs = np.concatenate((xs_minus, xs_plus))\n",
    "    prior_cdf = np.concatenate((prior_cdf_minus, prior_cdf_plus))\n",
    "\n",
    "    if debug:\n",
    "        print(f\"First CDF value: {prior_cdf[0]}\")\n",
    "        print(f\"Last CDF value: {prior_cdf[-1]}\")\n",
    "        print(f\"Tail bound: {tail_bound}\")\n",
    "\n",
    "    if return_assert or enforce_assert:\n",
    "        eps = tail_bound\n",
    "        if not (-eps < prior_cdf[0] < eps and 1 - eps < prior_cdf[-1] < 1 + eps):\n",
    "            if return_assert:\n",
    "                return (xs, None) if return_xs else None\n",
    "            elif enforce_assert:\n",
    "                raise AssertionError(\"CDF bounds not satisfied\")\n",
    "        \n",
    "    xs = np.concatenate(([1.01 * xs[0]], xs, [1.01 * xs[-1]]))\n",
    "    prior_cdf = np.concatenate(([0], prior_cdf, [1]))\n",
    "    cdf_spline = interpolate.InterpolatedUnivariateSpline(x=xs, y=prior_cdf, k=3, ext='const')\n",
    "\n",
    "    if return_assert or enforce_assert:\n",
    "        x = np.sort(sample_prior(r, eta, 10000))\n",
    "        res = stats.ks_1samp(x, cdf_spline)\n",
    "        if debug:\n",
    "            print(res)\n",
    "        if not 0 <= res.statistic <= 0.2:\n",
    "            if return_assert:\n",
    "                return (xs, None) if return_xs else None\n",
    "            elif enforce_assert:\n",
    "                raise AssertionError(\"KS test failed\")\n",
    "\n",
    "    return (xs, cdf_spline) if return_xs else cdf_spline"
   ],
   "outputs": [],
   "metadata": {}
  },
  {
   "cell_type": "code",
   "execution_count": 85,
   "source": [
    "num_samples = 2000\n",
    "xs, cdf = compute_prior_cdf_using_gamma_cdf(2, -1.2, n_samples=num_samples, tail_percent=.1, tail_bound= 0.0001, debug = True, use_matlab=True, eng = eng, return_xs = True)"
   ],
   "outputs": [
    {
     "output_type": "stream",
     "name": "stdout",
     "text": [
      "Params: 2, -1.2\n",
      "Chebyshev bound: 47.1832705300383\n",
      "No tail\n"
     ]
    },
    {
     "output_type": "stream",
     "name": "stderr",
     "text": [
      "100%|██████████| 1000/1000 [00:02<00:00, 492.55it/s]\n"
     ]
    },
    {
     "output_type": "stream",
     "name": "stdout",
     "text": [
      "Maximum Diff in y-values: 0.14818938854516533\n"
     ]
    },
    {
     "output_type": "stream",
     "name": "stderr",
     "text": [
      "100%|██████████| 1998/1998 [00:03<00:00, 553.26it/s]"
     ]
    },
    {
     "output_type": "stream",
     "name": "stdout",
     "text": [
      "Maximum Diff in y-values: 0.00583035552345712\n",
      "First CDF value: 3.135672835957437e-109\n",
      "Last CDF value: 1.0\n",
      "Tail bound: 0.0001\n",
      "KstestResult(statistic=0.004592879571237163, pvalue=0.9836439542742375, statistic_location=-0.0019439831280956689, statistic_sign=1)\n"
     ]
    },
    {
     "output_type": "stream",
     "name": "stderr",
     "text": [
      "\n"
     ]
    }
   ],
   "metadata": {}
  },
  {
   "cell_type": "code",
   "execution_count": 66,
   "source": [
    "num_samples = 2000\n",
    "xs, cdf = compute_prior_cdf_using_gamma_cdf(0.7, -1.3, n_samples=num_samples, tail_percent=.1, tail_bound= 0.0001, debug = True, use_matlab=True, eng = eng, return_xs = True)"
   ],
   "outputs": [
    {
     "output_type": "stream",
     "name": "stdout",
     "text": [
      "Params: 0.7, -1.3\n",
      "Chebyshev bound: 53.7979596021394\n",
      "No tail\n"
     ]
    },
    {
     "output_type": "stream",
     "name": "stderr",
     "text": [
      "100%|██████████| 1000/1000 [00:01<00:00, 516.49it/s]\n"
     ]
    },
    {
     "output_type": "stream",
     "name": "stdout",
     "text": [
      "Maximum Diff in y-values: 0.22967925909739367\n"
     ]
    },
    {
     "output_type": "stream",
     "name": "stderr",
     "text": [
      "100%|██████████| 1998/1998 [00:03<00:00, 530.25it/s]"
     ]
    },
    {
     "output_type": "stream",
     "name": "stdout",
     "text": [
      "Maximum Diff in y-values: 0.02181151261613712\n",
      "First CDF value: 1.3675910528521007e-19\n",
      "Last CDF value: 1.0\n",
      "Tail bound: 0.0001\n",
      "KstestResult(statistic=0.009675061263809126, pvalue=0.304522854627459, statistic_location=1.3393855504942772e-05, statistic_sign=1)\n"
     ]
    },
    {
     "output_type": "stream",
     "name": "stderr",
     "text": [
      "\n"
     ]
    }
   ],
   "metadata": {}
  },
  {
   "cell_type": "code",
   "execution_count": 7,
   "source": [
    "num_samples = 2000\n",
    "xs, cdf = compute_prior_cdf_using_gamma_cdf(0.2, -1.2, n_samples=num_samples, tail_percent=.1, tail_bound= 0.0001, debug = True, use_matlab=True, eng = eng, return_xs = True)\n"
   ],
   "outputs": [
    {
     "output_type": "stream",
     "name": "stdout",
     "text": [
      "Params: 0.2, -1.2\n",
      "Chebyshev bound: 1802.3422261046876\n",
      "Tail samples: 200\n"
     ]
    },
    {
     "output_type": "stream",
     "name": "stderr",
     "text": [
      "100%|██████████| 1000/1000 [00:02<00:00, 447.54it/s]"
     ]
    },
    {
     "output_type": "stream",
     "name": "stdout",
     "text": [
      "Maximum Diff in y-values: 0.12402221240804673\n",
      "First CDF value: 1.1421707478468223e-07\n",
      "Last CDF value: 0.9999998857829252\n",
      "Tail bound: 0.0001\n",
      "KstestResult(statistic=0.033953687126430654, pvalue=1.8849454802278461e-10, statistic_location=-0.03255459264506995, statistic_sign=-1)\n"
     ]
    },
    {
     "output_type": "stream",
     "name": "stderr",
     "text": [
      "\n"
     ]
    }
   ],
   "metadata": {}
  },
  {
   "cell_type": "code",
   "execution_count": 8,
   "source": [
    "num_samples = 2000\n",
    "xs, cdf = compute_prior_cdf_using_gamma_cdf(1, -1, n_samples=num_samples, tail_percent=.1, tail_bound= 0.0001, debug = True, use_matlab=True, eng = eng, return_xs = True)"
   ],
   "outputs": [
    {
     "output_type": "stream",
     "name": "stdout",
     "text": [
      "Params: 1, -1\n",
      "Chebyshev bound: 70.71067811865476\n",
      "No tail\n"
     ]
    },
    {
     "output_type": "stream",
     "name": "stderr",
     "text": [
      "100%|██████████| 1000/1000 [00:02<00:00, 349.45it/s]"
     ]
    },
    {
     "output_type": "stream",
     "name": "stdout",
     "text": [
      "Maximum Diff in y-values: 0.10899164277965956\n",
      "First CDF value: 9.422099208085137e-50\n",
      "Last CDF value: 1.0\n",
      "Tail bound: 0.0001\n",
      "KstestResult(statistic=0.012246535130841285, pvalue=0.09879347834683971, statistic_location=0.030141566453624, statistic_sign=1)\n"
     ]
    },
    {
     "output_type": "stream",
     "name": "stderr",
     "text": [
      "\n"
     ]
    }
   ],
   "metadata": {}
  },
  {
   "cell_type": "code",
   "execution_count": 18,
   "source": [
    "half_samples = num_samples // 2\n",
    "mid = int(0.2*half_samples)\n",
    "x = xs[half_samples - mid: half_samples + mid]\n",
    "y = cdf(xs)[half_samples - mid: half_samples + mid]\n",
    "plt.scatter(x, y)\n",
    "plt.show()\n",
    "\n",
    "linspline = interpolate.InterpolatedUnivariateSpline(x=x, y=y, k=3, ext='const')\n",
    "invcdf = interpolate.InterpolatedUnivariateSpline(x=y, y=x, k=3, ext='const')"
   ],
   "outputs": [
    {
     "output_type": "display_data",
     "data": {
      "image/png": "[encoded data removed]",
      "text/plain": [
       "<Figure size 640x480 with 1 Axes>"
      ]
     },
     "metadata": {}
    }
   ],
   "metadata": {}
  },
  {
   "cell_type": "code",
   "execution_count": 80,
   "source": [
    "y_test = cdf(xs)\n",
    "idx = y_test<1-1e-10\n",
    "filtered_y = y_test[idx]\n",
    "filttered_x = xs[idx]\n",
    "\n",
    "linspline = interpolate.InterpolatedUnivariateSpline(x=filttered_x, y=filtered_y, k=3, ext='const')\n",
    "invcdf = interpolate.InterpolatedUnivariateSpline(x=filtered_y, y=filttered_x, k=3, ext='const')"
   ],
   "outputs": [],
   "metadata": {}
  },
  {
   "cell_type": "code",
   "execution_count": 83,
   "source": [
    "xx = np.arange(0, 1, 0.01)\n",
    "yy = cdf(invcdf(xx))\n",
    "plt.plot(xx, yy, label = \"invcdf(cdf(x))\")\n",
    "plt.plot(xx, xx, label = 'identity')\n",
    "plt.legend()"
   ],
   "outputs": [
    {
     "output_type": "execute_result",
     "data": {
      "text/plain": [
       "<matplotlib.legend.Legend at 0x7fb698cafc70>"
      ]
     },
     "metadata": {},
     "execution_count": 83
    },
    {
     "output_type": "display_data",
     "data": {
      "image/png": "[encoded data removed]",
      "text/plain": [
       "<Figure size 640x480 with 1 Axes>"
      ]
     },
     "metadata": {}
    }
   ],
   "metadata": {}
  },
  {
   "cell_type": "code",
   "execution_count": null,
   "source": [],
   "outputs": [],
   "metadata": {}
  },
  {
   "cell_type": "code",
   "execution_count": 148,
   "source": [
    "y = np.array([10, 13, 14, 18, 24, 25, 30])\n",
    "cutoffs = np.append(True, np.diff(y) > 2)\n",
    "y[cutoffs]\n",
    "\n",
    "# Strategy: Find all diffs, filter and form array where diffs are greater than threshold\n",
    "# Create linear interplant in those regions"
   ],
   "outputs": [
    {
     "output_type": "execute_result",
     "data": {
      "text/plain": [
       "array([10, 13, 18, 24, 30])"
      ]
     },
     "metadata": {},
     "execution_count": 148
    }
   ],
   "metadata": {}
  }
 ],
 "metadata": {
  "kernelspec": {
   "name": "python3",
   "display_name": "Python 3.10.14 64-bit ('NewResearch': conda)"
  },
  "language_info": {
   "codemirror_mode": {
    "name": "ipython",
    "version": 3
   },
   "file_extension": ".py",
   "mimetype": "text/x-python",
   "name": "python",
   "nbconvert_exporter": "python",
   "pygments_lexer": "ipython3",
   "version": "3.10.14"
  },
  "orig_nbformat": 4,
  "interpreter": {
   "hash": "26f46df99c92824998f7c0f025f59877ecc4414f4acde0109b9ec8a8b8d773e9"
  }
 },
 "nbformat": 4,
 "nbformat_minor": 2
}