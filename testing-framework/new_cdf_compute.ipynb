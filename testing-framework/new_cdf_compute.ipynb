{
 "cells": [
  {
   "cell_type": "code",
   "execution_count": 1,
   "source": [
    "import git\n",
    "from pathlib import Path\n",
    "import os\n",
    "\n",
    "ROOT_DIR = Path(git.Repo('.', search_parent_directories=True).working_tree_dir)\n",
    "\n",
    "os.chdir(os.path.join(ROOT_DIR, \"utilities\"))\n",
    "from testing import * # If MATLAB is not installed, open utilities and set to False\n",
    "from plotting import *\n",
    "os.chdir(os.path.join(ROOT_DIR, \"testing-framework\"))"
   ],
   "outputs": [],
   "metadata": {}
  },
  {
   "cell_type": "code",
   "execution_count": 23,
   "source": [
    "def compute_cdf_vals(r, beta, xs, use_matlab = True, debug = False):\n",
    "    prior_cdf = np.zeros_like(xs)\n",
    "    if use_matlab:\n",
    "        if debug:\n",
    "            for j in tqdm(range(len(xs))):\n",
    "                prior_cdf[j] = eng.compute_cdf_using_gengamma(float(r), float(beta), float(xs[j]), nargout=1)\n",
    "        else:\n",
    "            for j, x in enumerate(xs):\n",
    "                prior_cdf[j] = eng.compute_cdf_using_gengamma(float(r), float(beta), float(x), nargout=1)\n",
    "    else:\n",
    "        def gauss_density(z, x):\n",
    "            return np.exp(-0.5 * (x/z)**2) / (np.sqrt(2*np.pi) * z)\n",
    "\n",
    "        def gen_gamma_cdf(x):\n",
    "            return prior_cdf.gammainc(beta, x**r)\n",
    "\n",
    "        def integrand(z, x):\n",
    "            return gauss_density(z, x) * (1 - gen_gamma_cdf((x/z)**2))\n",
    "        \n",
    "        for j, x in enumerate(xs):\n",
    "            res = integrate.quad(integrand, 0, np.inf, args=(x,))[0]\n",
    "            prior_cdf[j] = res\n",
    "    return prior_cdf\n",
    "    "
   ],
   "outputs": [],
   "metadata": {}
  },
  {
   "cell_type": "code",
   "execution_count": 24,
   "source": [
    "def compute_prior_cdf_using_gamma_cdf(r, eta, n_samples=1000, tail_bound=0.001, tail_percent=0.1, scale=1, use_matlab=True, eng=eng, enforce_assert=True, return_assert=False, return_xs=False, debug=False):\n",
    "    beta = (eta + 1.5) / r\n",
    "    var_prior = scale * special.gamma(beta + 1/r) / special.gamma(beta)\n",
    "    \n",
    "    cheby = np.sqrt(var_prior / tail_bound)\n",
    "    if np.isnan(var_prior) or np.isinf(var_prior):\n",
    "        cheby = 1e100\n",
    "    x_max = min(99, cheby)\n",
    "    n_tail = int(n_samples * tail_percent) if cheby >= 120 else 0\n",
    "\n",
    "    if debug:\n",
    "        print(f\"Params: {r}, {eta}\")\n",
    "        print(f\"Chebyshev bound: {cheby}\")\n",
    "        print(f\"{'No tail' if n_tail == 0 else f'Tail samples: {n_tail}'}\")\n",
    "\n",
    "    xs_minus = np.concatenate((-np.logspace(np.log10(cheby), 2, n_tail),\n",
    "                               np.linspace(-x_max, 0, n_samples//2-n_tail)))\n",
    "\n",
    "    prior_cdf_minus = compute_cdf_vals(r, beta, xs_minus, use_matlab = use_matlab, debug = debug)\n",
    "\n",
    "    if debug:\n",
    "        print(\"Maximum Diff in y-values:\", max(abs(np.diff(prior_cdf_minus))))\n",
    "    if(max(abs(np.diff(prior_cdf_minus))) > 0.02 and eta < 0):\n",
    "        \n",
    "        while max(abs(np.diff(prior_cdf_minus))) > 0.02:\n",
    "            filtered_y, idx = np.unique(prior_cdf_minus, return_index = True)\n",
    "            filtered_x = xs_minus[idx]\n",
    "            idx2 = filtered_y > 1e-15\n",
    "            filtered_y = filtered_y[idx2]\n",
    "            filtered_x = filtered_x[idx2]\n",
    "\n",
    "            inv_linspline = interpolate.InterpolatedUnivariateSpline(x= filtered_y, y= filtered_x, k=1, ext='const')\n",
    "            xs_add = inv_linspline(np.linspace(0, 0.5, n_samples//2))\n",
    "            prior_cdf_add = compute_cdf_vals(r, beta, xs_add, use_matlab = use_matlab, debug = debug)\n",
    "\n",
    "            xs_minus, idx_merge = np.unique(np.append(xs_minus, xs_add), return_index = True)\n",
    "            prior_cdf_minus = np.sort(np.append(prior_cdf_minus, prior_cdf_add)[idx_merge])\n",
    "            if debug:\n",
    "                print(\"Maximum Diff in y-values with new points:\", max(abs(np.diff(prior_cdf_minus))))\n",
    "\n",
    "        \n",
    "        \n",
    "    xs_plus = -np.flip(xs_minus[:-1])\n",
    "    prior_cdf_plus = 1-np.flip(prior_cdf_minus[:-1])\n",
    "\n",
    "    xs = np.concatenate((xs_minus, xs_plus))\n",
    "    prior_cdf = np.concatenate((prior_cdf_minus, prior_cdf_plus))\n",
    "\n",
    "    if debug:\n",
    "        print(f\"First CDF value: {prior_cdf[0]}\")\n",
    "        print(f\"Last CDF value: {prior_cdf[-1]}\")\n",
    "        print(f\"Tail bound: {tail_bound}\")\n",
    "\n",
    "    if return_assert or enforce_assert:\n",
    "        eps = tail_bound\n",
    "        if not (-eps < prior_cdf[0] < eps and 1 - eps < prior_cdf[-1] < 1 + eps):\n",
    "            if return_assert:\n",
    "                return (xs, None) if return_xs else None\n",
    "            elif enforce_assert:\n",
    "                raise AssertionError(\"CDF bounds not satisfied\")\n",
    "        \n",
    "    xs = np.concatenate(([1.01 * xs[0]], xs, [1.01 * xs[-1]]))\n",
    "    prior_cdf = np.concatenate(([0], prior_cdf, [1]))\n",
    "    cdf_spline = interpolate.InterpolatedUnivariateSpline(x=xs, y=prior_cdf, k=3, ext='const')\n",
    "\n",
    "    if return_assert or enforce_assert:\n",
    "        x = np.sort(sample_prior(r, eta, 10000))\n",
    "        res = stats.ks_1samp(x, cdf_spline)\n",
    "        if debug:\n",
    "            print(res)\n",
    "        if not 0 <= res.statistic <= 0.2:\n",
    "            if return_assert:\n",
    "                return (xs, None) if return_xs else None\n",
    "            elif enforce_assert:\n",
    "                raise AssertionError(\"KS test failed\")\n",
    "\n",
    "    return (xs, cdf_spline) if return_xs else cdf_spline"
   ],
   "outputs": [],
   "metadata": {}
  },
  {
   "cell_type": "code",
   "execution_count": 4,
   "source": [
    "num_samples = 2000\n",
    "xs, cdf = compute_prior_cdf_using_gamma_cdf(0.41, 5.6, n_samples=num_samples, tail_percent=.01, tail_bound= 1e-5, debug = True, use_matlab=True, eng = eng, return_xs = True)"
   ],
   "outputs": [
    {
     "output_type": "stream",
     "name": "stdout",
     "text": [
      "Params: 0.41, 5.6\n",
      "Chebyshev bound: 10753.73999905624\n",
      "Tail samples: 20\n"
     ]
    },
    {
     "output_type": "stream",
     "name": "stderr",
     "text": [
      "100%|██████████| 1000/1000 [00:01<00:00, 520.19it/s]"
     ]
    },
    {
     "output_type": "stream",
     "name": "stdout",
     "text": [
      "Maximum Diff in y-values: 0.0036085728296606015\n",
      "First CDF value: 0.0\n",
      "Last CDF value: 1.0\n",
      "Tail bound: 1e-05\n",
      "KstestResult(statistic=0.01287378976639808, pvalue=0.07206259957793826, statistic_location=-2.5778430858113266, statistic_sign=1)\n"
     ]
    },
    {
     "output_type": "stream",
     "name": "stderr",
     "text": [
      "\n"
     ]
    }
   ],
   "metadata": {}
  },
  {
   "cell_type": "code",
   "execution_count": 19,
   "source": [
    "num_samples = 2000\n",
    "xs, cdf = compute_prior_cdf_using_gamma_cdf(0.7, -1.3, n_samples=num_samples, tail_percent=.1, tail_bound= 0.0001, debug = True, use_matlab=True, eng = eng, return_xs = True)"
   ],
   "outputs": [
    {
     "output_type": "stream",
     "name": "stdout",
     "text": [
      "Params: 0.7, -1.3\n",
      "Chebyshev bound: 53.7979596021394\n",
      "No tail\n"
     ]
    },
    {
     "output_type": "stream",
     "name": "stderr",
     "text": [
      "100%|██████████| 1000/1000 [00:01<00:00, 544.02it/s]\n"
     ]
    },
    {
     "output_type": "stream",
     "name": "stdout",
     "text": [
      "Maximum Diff in y-values: 0.22967925909739367\n"
     ]
    },
    {
     "output_type": "stream",
     "name": "stderr",
     "text": [
      "100%|██████████| 1000/1000 [00:01<00:00, 538.06it/s]\n"
     ]
    },
    {
     "output_type": "stream",
     "name": "stdout",
     "text": [
      "Maximum Diff in y-values with new points: 0.02181151261613712\n"
     ]
    },
    {
     "output_type": "stream",
     "name": "stderr",
     "text": [
      "100%|██████████| 1000/1000 [00:01<00:00, 536.00it/s]"
     ]
    },
    {
     "output_type": "stream",
     "name": "stdout",
     "text": [
      "Maximum Diff in y-values with new points: 0.004829885605780182\n",
      "First CDF value: 1.3675910528521007e-19\n",
      "Last CDF value: 1.0\n",
      "Tail bound: 0.0001\n",
      "KstestResult(statistic=0.01090982827554221, pvalue=0.18352624337829881, statistic_location=0.008563934653946455, statistic_sign=-1)\n"
     ]
    },
    {
     "output_type": "stream",
     "name": "stderr",
     "text": [
      "\n"
     ]
    }
   ],
   "metadata": {}
  },
  {
   "cell_type": "code",
   "execution_count": 150,
   "source": [
    "num_samples = 2000\n",
    "xs, cdf = compute_prior_cdf_using_gamma_cdf(0.2, -1.4, n_samples=num_samples, tail_percent=.1, tail_bound= 0.0001, debug = True, use_matlab=True, eng = eng, return_xs = True)\n"
   ],
   "outputs": [
    {
     "output_type": "stream",
     "name": "stdout",
     "text": [
      "Params: 0.2, -1.4\n",
      "Chebyshev bound: 543.4266279821043\n",
      "Tail samples: 200\n"
     ]
    },
    {
     "output_type": "stream",
     "name": "stderr",
     "text": [
      "100%|██████████| 1000/1000 [00:01<00:00, 615.36it/s]\n"
     ]
    },
    {
     "output_type": "stream",
     "name": "stdout",
     "text": [
      "Maximum Diff in y-values: 0.3526562508462122\n"
     ]
    },
    {
     "output_type": "stream",
     "name": "stderr",
     "text": [
      "100%|██████████| 1000/1000 [00:01<00:00, 654.69it/s]\n"
     ]
    },
    {
     "output_type": "stream",
     "name": "stdout",
     "text": [
      "Maximum Diff in y-values with new points: 0.11477273097619267\n"
     ]
    },
    {
     "output_type": "stream",
     "name": "stderr",
     "text": [
      "100%|██████████| 1000/1000 [00:01<00:00, 673.96it/s]\n"
     ]
    },
    {
     "output_type": "stream",
     "name": "stdout",
     "text": [
      "Maximum Diff in y-values with new points: 0.039332649151598176\n"
     ]
    },
    {
     "output_type": "stream",
     "name": "stderr",
     "text": [
      "100%|██████████| 1000/1000 [00:01<00:00, 674.66it/s]"
     ]
    },
    {
     "output_type": "stream",
     "name": "stdout",
     "text": [
      "Maximum Diff in y-values with new points: 0.016460724351531064\n",
      "First CDF value: 1.2352968124844238e-06\n",
      "Last CDF value: 0.9999987647031875\n",
      "Tail bound: 0.0001\n",
      "KstestResult(statistic=0.014219480759506964, pvalue=0.03472474628742295, statistic_location=1.7924366552651403e-09, statistic_sign=1)\n"
     ]
    },
    {
     "output_type": "stream",
     "name": "stderr",
     "text": [
      "\n"
     ]
    }
   ],
   "metadata": {}
  },
  {
   "cell_type": "code",
   "execution_count": 107,
   "source": [
    "num_samples = 2000\n",
    "xs, cdf = compute_prior_cdf_using_gamma_cdf(1, -1, n_samples=num_samples, tail_percent=.1, tail_bound= 0.0001, debug = True, use_matlab=True, eng = eng, return_xs = True)"
   ],
   "outputs": [
    {
     "output_type": "stream",
     "name": "stdout",
     "text": [
      "Params: 1, -1\n",
      "Chebyshev bound: 70.71067811865476\n",
      "No tail\n"
     ]
    },
    {
     "output_type": "stream",
     "name": "stderr",
     "text": [
      "100%|██████████| 1000/1000 [00:01<00:00, 529.46it/s]\n"
     ]
    },
    {
     "output_type": "stream",
     "name": "stdout",
     "text": [
      "Maximum Diff in y-values: 0.10899164277965956\n"
     ]
    },
    {
     "output_type": "stream",
     "name": "stderr",
     "text": [
      "100%|██████████| 1998/1998 [00:03<00:00, 589.64it/s]"
     ]
    },
    {
     "output_type": "stream",
     "name": "stdout",
     "text": [
      "Maximum Diff in y-values: 0.0012877300519729684\n",
      "First CDF value: 9.422099208085137e-50\n",
      "Last CDF value: 1.0\n",
      "Tail bound: 0.0001\n",
      "KstestResult(statistic=0.006284798475034381, pvalue=0.8220470013100174, statistic_location=0.3755609160691396, statistic_sign=1)\n"
     ]
    },
    {
     "output_type": "stream",
     "name": "stderr",
     "text": [
      "\n"
     ]
    }
   ],
   "metadata": {}
  },
  {
   "cell_type": "code",
   "execution_count": 18,
   "source": [
    "half_samples = num_samples // 2\n",
    "mid = int(0.2*half_samples)\n",
    "x = xs[half_samples - mid: half_samples + mid]\n",
    "y = cdf(xs)[half_samples - mid: half_samples + mid]\n",
    "plt.scatter(x, y)\n",
    "plt.show()\n",
    "\n",
    "linspline = interpolate.InterpolatedUnivariateSpline(x=x, y=y, k=3, ext='const')\n",
    "invcdf = interpolate.InterpolatedUnivariateSpline(x=y, y=x, k=3, ext='const')"
   ],
   "outputs": [
    {
     "output_type": "display_data",
     "data": {
      "image/png": "[encoded data removed]",
      "text/plain": [
       "<Figure size 640x480 with 1 Axes>"
      ]
     },
     "metadata": {}
    }
   ],
   "metadata": {}
  },
  {
   "cell_type": "markdown",
   "source": [
    "## Before"
   ],
   "metadata": {}
  },
  {
   "cell_type": "code",
   "execution_count": 17,
   "source": [
    "plt.scatter(xs, cdf(xs))\n",
    "plt.show()"
   ],
   "outputs": [
    {
     "output_type": "display_data",
     "data": {
      "image/png": "[encoded data removed]",
      "text/plain": [
       "<Figure size 640x480 with 1 Axes>"
      ]
     },
     "metadata": {}
    }
   ],
   "metadata": {}
  },
  {
   "cell_type": "markdown",
   "source": [
    "## After"
   ],
   "metadata": {}
  },
  {
   "cell_type": "code",
   "execution_count": 13,
   "source": [
    "plt.scatter(xs, cdf(xs))\n",
    "plt.show()"
   ],
   "outputs": [
    {
     "output_type": "display_data",
     "data": {
      "image/png": "[encoded data removed]",
      "text/plain": [
       "<Figure size 640x480 with 1 Axes>"
      ]
     },
     "metadata": {}
    }
   ],
   "metadata": {}
  },
  {
   "cell_type": "code",
   "execution_count": 120,
   "source": [
    "y_test = cdf(xs)\n",
    "idx = y_test<1-1e-10\n",
    "filtered_y = y_test[idx]\n",
    "filttered_x = xs[idx]\n",
    "\n",
    "linspline = interpolate.InterpolatedUnivariateSpline(x=filttered_x, y=filtered_y, k=3, ext='const')\n",
    "invcdf = interpolate.InterpolatedUnivariateSpline(x=filtered_y, y=filttered_x, k=3, ext='const')"
   ],
   "outputs": [],
   "metadata": {}
  },
  {
   "cell_type": "code",
   "execution_count": 151,
   "source": [
    "y_test = cdf(xs)\n",
    "idx = y_test<1-1e-10\n",
    "filtered_y = y_test[idx]\n",
    "filttered_x = xs[idx]\n",
    "\n",
    "linspline = interpolate.InterpolatedUnivariateSpline(x=filttered_x, y=filtered_y, k=3, ext='const')\n",
    "invcdf = interpolate.InterpolatedUnivariateSpline(x=filtered_y, y=filttered_x, k=3, ext='const')\n",
    "\n",
    "xx = np.arange(0, 1, 0.1)\n",
    "yy = cdf(invcdf(xx))\n",
    "plt.plot(xx, yy, label = \"invcdf(cdf(x))\")\n",
    "plt.plot(xx, xx, label = 'identity')\n",
    "plt.legend()"
   ],
   "outputs": [
    {
     "output_type": "execute_result",
     "data": {
      "text/plain": [
       "<matplotlib.legend.Legend at 0x7fb6cb73e2c0>"
      ]
     },
     "metadata": {},
     "execution_count": 151
    },
    {
     "output_type": "display_data",
     "data": {
      "image/png": "[encoded data removed]",
      "text/plain": [
       "<Figure size 640x480 with 1 Axes>"
      ]
     },
     "metadata": {}
    }
   ],
   "metadata": {}
  },
  {
   "cell_type": "markdown",
   "source": [
    "# Before"
   ],
   "metadata": {}
  },
  {
   "cell_type": "code",
   "execution_count": 181,
   "source": [
    "plt.plot(xs, cdf.derivative()(xs))\n",
    "plt.xlim([-3, 3])"
   ],
   "outputs": [
    {
     "output_type": "execute_result",
     "data": {
      "text/plain": [
       "(-3.0, 3.0)"
      ]
     },
     "metadata": {},
     "execution_count": 181
    },
    {
     "output_type": "display_data",
     "data": {
      "image/png": "[encoded data removed]",
      "text/plain": [
       "<Figure size 640x480 with 1 Axes>"
      ]
     },
     "metadata": {}
    }
   ],
   "metadata": {}
  },
  {
   "cell_type": "markdown",
   "source": [
    "# After"
   ],
   "metadata": {}
  },
  {
   "cell_type": "code",
   "execution_count": 21,
   "source": [
    "plt.plot(xs, cdf.derivative()(xs))\n",
    "plt.xlim([-0.00005, 0.00005])"
   ],
   "outputs": [
    {
     "output_type": "execute_result",
     "data": {
      "text/plain": [
       "(-5e-05, 5e-05)"
      ]
     },
     "metadata": {},
     "execution_count": 21
    },
    {
     "output_type": "display_data",
     "data": {
      "image/png": "[encoded data removed]",
      "text/plain": [
       "<Figure size 640x480 with 1 Axes>"
      ]
     },
     "metadata": {}
    }
   ],
   "metadata": {}
  },
  {
   "cell_type": "code",
   "execution_count": 148,
   "source": [
    "y = np.array([10, 13, 14, 18, 24, 25, 30])\n",
    "cutoffs = np.append(True, np.diff(y) > 2)\n",
    "y[cutoffs]\n",
    "\n",
    "# Strategy: Find all diffs, filter and form array where diffs are greater than threshold\n",
    "# Create linear interplant in those regions"
   ],
   "outputs": [
    {
     "output_type": "execute_result",
     "data": {
      "text/plain": [
       "array([10, 13, 18, 24, 30])"
      ]
     },
     "metadata": {},
     "execution_count": 148
    }
   ],
   "metadata": {}
  }
 ],
 "metadata": {
  "kernelspec": {
   "name": "python3",
   "display_name": "Python 3.10.14 64-bit ('NewResearch': conda)"
  },
  "language_info": {
   "codemirror_mode": {
    "name": "ipython",
    "version": 3
   },
   "file_extension": ".py",
   "mimetype": "text/x-python",
   "name": "python",
   "nbconvert_exporter": "python",
   "pygments_lexer": "ipython3",
   "version": "3.10.14"
  },
  "orig_nbformat": 4,
  "interpreter": {
   "hash": "26f46df99c92824998f7c0f025f59877ecc4414f4acde0109b9ec8a8b8d773e9"
  }
 },
 "nbformat": 4,
 "nbformat_minor": 2
}