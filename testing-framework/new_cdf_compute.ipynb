{
 "cells": [
  {
   "cell_type": "code",
   "execution_count": 7,
   "metadata": {},
   "outputs": [],
   "source": [
    "import git\n",
    "from pathlib import Path\n",
    "import os\n",
    "\n",
    "ROOT_DIR = Path(git.Repo('.', search_parent_directories=True).working_tree_dir)\n",
    "\n",
    "os.chdir(os.path.join(ROOT_DIR, \"utilities\"))\n",
    "from testing import * # If MATLAB is not installed, open utilities and set to False\n",
    "from plotting import *\n",
    "os.chdir(os.path.join(ROOT_DIR, \"testing-framework\"))"
   ]
  },
  {
   "cell_type": "code",
   "execution_count": 9,
   "metadata": {},
   "outputs": [],
   "source": [
    "def compute_cdf_vals(r, beta, xs, use_matlab = True, debug = False):\n",
    "    prior_cdf = np.zeros_like(xs)\n",
    "    if use_matlab:\n",
    "        if debug:\n",
    "            for j in tqdm(range(len(xs))):\n",
    "                prior_cdf[j] = eng.compute_cdf_using_gengamma(float(r), float(beta), float(xs[j]), nargout=1)\n",
    "        else:\n",
    "            for j, x in enumerate(xs):\n",
    "                prior_cdf[j] = eng.compute_cdf_using_gengamma(float(r), float(beta), float(x), nargout=1)\n",
    "    else:\n",
    "        def gauss_density(z, x):\n",
    "            return np.exp(-0.5 * (x/z)**2) / (np.sqrt(2*np.pi) * z)\n",
    "\n",
    "        def gen_gamma_cdf(x):\n",
    "            return prior_cdf.gammainc(beta, x**r)\n",
    "\n",
    "        def integrand(z, x):\n",
    "            return gauss_density(z, x) * (1 - gen_gamma_cdf((x/z)**2))\n",
    "        \n",
    "        for j, x in enumerate(xs):\n",
    "            res = integrate.quad(integrand, 0, np.inf, args=(x,))[0]\n",
    "            prior_cdf[j] = res\n",
    "    return prior_cdf\n",
    "    "
   ]
  },
  {
   "cell_type": "code",
   "execution_count": 118,
   "metadata": {},
   "outputs": [],
   "source": [
    "def compute_prior_cdf_using_gamma_cdf(r, eta, n_samples=1000, tail_bound=0.001, tail_percent=0.1, scale=1, use_matlab=True, eng=eng, enforce_assert=True, return_assert=False, return_xs=False, debug=False):\n",
    "    beta = (eta + 1.5) / r\n",
    "    var_prior = scale * special.gamma(beta + 1/r) / special.gamma(beta)\n",
    "    \n",
    "    cheby = np.sqrt(var_prior / tail_bound)\n",
    "    if np.isnan(var_prior) or np.isinf(var_prior):\n",
    "        cheby = 1e100\n",
    "    x_max = min(99, cheby)\n",
    "    n_tail = int(n_samples * tail_percent) if cheby >= 120 else 0\n",
    "\n",
    "    if debug:\n",
    "        print(f\"Params: {r}, {eta}\")\n",
    "        print(f\"Chebyshev bound: {cheby}\")\n",
    "        print(f\"{'No tail' if n_tail == 0 else f'Tail samples: {n_tail}'}\")\n",
    "\n",
    "    xs_minus = np.concatenate((-np.logspace(np.log10(cheby), 2, n_tail),\n",
    "                               np.linspace(-x_max, 0, n_samples//2-n_tail)))\n",
    "\n",
    "    prior_cdf_minus = compute_cdf_vals(r, beta, xs_minus, use_matlab = use_matlab, debug = debug)\n",
    "\n",
    "    print(\"Maximum Diff in y-values:\", max(abs(np.diff(prior_cdf_minus))))\n",
    "    \n",
    "    if(max(abs(np.diff(prior_cdf_minus)))):\n",
    "        inv_linspline = interpolate.InterpolatedUnivariateSpline(x= prior_cdf_minus, y= xs_minus, k=1, ext='const')\n",
    "        normal = interpolate.InterpolatedUnivariateSpline(x= xs_minus, y= prior_cdf_minus, k=1, ext='const')\n",
    "        #return normal, inv_linspline\n",
    "        \n",
    "    xs_plus = -np.flip(xs_minus[:-1])\n",
    "    prior_cdf_plus = 1-np.flip(prior_cdf_minus[:-1])\n",
    "\n",
    "    xs = np.concatenate((xs_minus, xs_plus))\n",
    "    prior_cdf = np.concatenate((prior_cdf_minus, prior_cdf_plus))\n",
    "\n",
    "    if debug:\n",
    "        print(f\"First CDF value: {prior_cdf[0]}\")\n",
    "        print(f\"Last CDF value: {prior_cdf[-1]}\")\n",
    "        print(f\"Tail bound: {tail_bound}\")\n",
    "\n",
    "    if return_assert or enforce_assert:\n",
    "        eps = tail_bound\n",
    "        if not (-eps < prior_cdf[0] < eps and 1 - eps < prior_cdf[-1] < 1 + eps):\n",
    "            if return_assert:\n",
    "                return (xs, None) if return_xs else None\n",
    "            elif enforce_assert:\n",
    "                raise AssertionError(\"CDF bounds not satisfied\")\n",
    "        \n",
    "    xs = np.concatenate(([1.01 * xs[0]], xs, [1.01 * xs[-1]]))\n",
    "    prior_cdf = np.concatenate(([0], prior_cdf, [1]))\n",
    "    cdf_spline = interpolate.InterpolatedUnivariateSpline(x=xs, y=prior_cdf, k=3, ext='const')\n",
    "\n",
    "    if return_assert or enforce_assert:\n",
    "        x = np.sort(sample_prior(r, eta, 10000))\n",
    "        res = stats.ks_1samp(x, cdf_spline)\n",
    "        if debug:\n",
    "            print(res)\n",
    "        if not 0 <= res.statistic <= 0.2:\n",
    "            if return_assert:\n",
    "                return (xs, None) if return_xs else None\n",
    "            elif enforce_assert:\n",
    "                raise AssertionError(\"KS test failed\")\n",
    "\n",
    "    return (xs, cdf_spline) if return_xs else cdf_spline"
   ]
  },
  {
   "cell_type": "code",
   "execution_count": 119,
   "metadata": {},
   "outputs": [
    {
     "name": "stdout",
     "output_type": "stream",
     "text": [
      "Params: 2, -1.2\n",
      "Chebyshev bound: 47.1832705300383\n",
      "No tail\n"
     ]
    },
    {
     "name": "stderr",
     "output_type": "stream",
     "text": [
      "100%|██████████| 1000/1000 [00:07<00:00, 138.24it/s]"
     ]
    },
    {
     "name": "stdout",
     "output_type": "stream",
     "text": [
      "Maximum Diff in y-values: 0.14818938854516533\n",
      "First CDF value: 3.135672835957437e-109\n",
      "Last CDF value: 1.0\n",
      "Tail bound: 0.0001\n",
      "KstestResult(statistic=0.0322823643729922, pvalue=1.7289205146195637e-09, statistic_location=-0.009051331725637943, statistic_sign=-1)\n"
     ]
    },
    {
     "name": "stderr",
     "output_type": "stream",
     "text": [
      "\n"
     ]
    }
   ],
   "source": [
    "num_samples = 2000\n",
    "xs, cdf = compute_prior_cdf_using_gamma_cdf(2, -1.2, n_samples=num_samples, tail_percent=.1, tail_bound= 0.0001, debug = True, use_matlab=True, eng = eng, return_xs = True)"
   ]
  },
  {
   "cell_type": "code",
   "execution_count": 120,
   "metadata": {},
   "outputs": [
    {
     "name": "stdout",
     "output_type": "stream",
     "text": [
      "Params: 2, -1.2\n",
      "Chebyshev bound: 47.1832705300383\n",
      "No tail\n"
     ]
    },
    {
     "name": "stderr",
     "output_type": "stream",
     "text": [
      "100%|██████████| 1000/1000 [00:06<00:00, 150.99it/s]"
     ]
    },
    {
     "name": "stdout",
     "output_type": "stream",
     "text": [
      "Maximum Diff in y-values: 0.14818938854516533\n",
      "First CDF value: 3.135672835957437e-109\n",
      "Last CDF value: 1.0\n",
      "Tail bound: 0.0001\n",
      "KstestResult(statistic=0.0408050215105481, pvalue=6.633405983999476e-15, statistic_location=-0.01101913607518822, statistic_sign=-1)\n"
     ]
    },
    {
     "name": "stderr",
     "output_type": "stream",
     "text": [
      "\n"
     ]
    }
   ],
   "source": [
    "num_samples = 2000\n",
    "xs, cdf = compute_prior_cdf_using_gamma_cdf(2, -1.2, n_samples=num_samples, tail_percent=.1, tail_bound= 0.0001, debug = True, use_matlab=True, eng = eng, return_xs = True)"
   ]
  },
  {
   "cell_type": "code",
   "execution_count": 121,
   "metadata": {},
   "outputs": [
    {
     "name": "stdout",
     "output_type": "stream",
     "text": [
      "Params: 0.2, -1.2\n",
      "Chebyshev bound: 1802.3422261046876\n",
      "Tail samples: 200\n"
     ]
    },
    {
     "name": "stderr",
     "output_type": "stream",
     "text": [
      "100%|██████████| 1000/1000 [00:06<00:00, 150.68it/s]"
     ]
    },
    {
     "name": "stdout",
     "output_type": "stream",
     "text": [
      "Maximum Diff in y-values: 0.12402221240804673\n",
      "First CDF value: 1.1421707478468224e-07\n",
      "Last CDF value: 0.9999998857829252\n",
      "Tail bound: 0.0001\n",
      "KstestResult(statistic=0.033348259582123285, pvalue=4.261513639749797e-10, statistic_location=0.031418826443873255, statistic_sign=1)\n"
     ]
    },
    {
     "name": "stderr",
     "output_type": "stream",
     "text": [
      "\n"
     ]
    }
   ],
   "source": [
    "num_samples = 2000\n",
    "xs, cdf = compute_prior_cdf_using_gamma_cdf(0.2, -1.2, n_samples=num_samples, tail_percent=.1, tail_bound= 0.0001, debug = True, use_matlab=True, eng = eng, return_xs = True)\n"
   ]
  },
  {
   "cell_type": "code",
   "execution_count": 122,
   "metadata": {},
   "outputs": [
    {
     "name": "stdout",
     "output_type": "stream",
     "text": [
      "Params: 1, -1\n",
      "Chebyshev bound: 70.71067811865476\n",
      "No tail\n"
     ]
    },
    {
     "name": "stderr",
     "output_type": "stream",
     "text": [
      "100%|██████████| 1000/1000 [00:06<00:00, 145.84it/s]"
     ]
    },
    {
     "name": "stdout",
     "output_type": "stream",
     "text": [
      "Maximum Diff in y-values: 0.10899164277965956\n",
      "First CDF value: 9.422099208085135e-50\n",
      "Last CDF value: 1.0\n",
      "Tail bound: 0.0001\n",
      "KstestResult(statistic=0.017376153423910967, pvalue=0.004713506932028012, statistic_location=0.03180606547112178, statistic_sign=1)\n"
     ]
    },
    {
     "name": "stderr",
     "output_type": "stream",
     "text": [
      "\n"
     ]
    }
   ],
   "source": [
    "num_samples = 2000\n",
    "xs, cdf = compute_prior_cdf_using_gamma_cdf(1, -1, n_samples=num_samples, tail_percent=.1, tail_bound= 0.0001, debug = True, use_matlab=True, eng = eng, return_xs = True)"
   ]
  },
  {
   "cell_type": "code",
   "execution_count": 137,
   "metadata": {},
   "outputs": [
    {
     "data": {
      "image/png": "[encoded data removed]",
      "text/plain": [
       "<Figure size 640x480 with 1 Axes>"
      ]
     },
     "metadata": {},
     "output_type": "display_data"
    }
   ],
   "source": [
    "half_samples = num_samples // 2\n",
    "mid = int(0.2*half_samples)\n",
    "x = xs[half_samples - mid: half_samples + mid]\n",
    "y = cdf(xs)[half_samples - mid: half_samples + mid]\n",
    "plt.scatter(x, y)\n",
    "plt.show()\n",
    "\n",
    "linspline = interpolate.InterpolatedUnivariateSpline(x=x, y=y, k=3, ext='const')\n",
    "invcdf = interpolate.InterpolatedUnivariateSpline(x=y, y=x, k=3, ext='const')"
   ]
  },
  {
   "cell_type": "code",
   "execution_count": 136,
   "metadata": {},
   "outputs": [
    {
     "data": {
      "text/plain": [
       "<matplotlib.legend.Legend at 0x211285705d0>"
      ]
     },
     "execution_count": 136,
     "metadata": {},
     "output_type": "execute_result"
    },
    {
     "data": {
      "image/png": "[encoded data removed]",
      "text/plain": [
       "<Figure size 640x480 with 1 Axes>"
      ]
     },
     "metadata": {},
     "output_type": "display_data"
    }
   ],
   "source": [
    "xx = np.arange(0, 1, 0.1)\n",
    "yy = cdf(invcdf(xx))\n",
    "plt.plot(xx, yy, label = \"invcdf(cdf(x))\")\n",
    "plt.plot(xx, xx, label = 'identity')\n",
    "plt.legend()"
   ]
  },
  {
   "cell_type": "code",
   "execution_count": 145,
   "metadata": {},
   "outputs": [
    {
     "data": {
      "text/plain": [
       "array([10, 13, 18])"
      ]
     },
     "execution_count": 145,
     "metadata": {},
     "output_type": "execute_result"
    }
   ],
   "source": [
    "y = np.array([10, 13, 14, 18])\n",
    "cutoffs = np.append(True, np.diff(y) > 2)\n",
    "y[cutoffs]\n",
    "\n",
    "# Strategy: Find all diffs, filter and form array where diffs are greater than threshold\n",
    "# Create linear interplant in those regions"
   ]
  }
 ],
 "metadata": {
  "kernelspec": {
   "display_name": "hbmv_backup2",
   "language": "python",
   "name": "python3"
  },
  "language_info": {
   "codemirror_mode": {
    "name": "ipython",
    "version": 3
   },
   "file_extension": ".py",
   "mimetype": "text/x-python",
   "name": "python",
   "nbconvert_exporter": "python",
   "pygments_lexer": "ipython3",
   "version": "3.11.9"
  },
  "orig_nbformat": 4
 },
 "nbformat": 4,
 "nbformat_minor": 2
}
