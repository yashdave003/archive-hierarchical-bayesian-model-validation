{
 "cells": [
  {
   "cell_type": "code",
   "execution_count": 101,
   "source": [
    "# Assign directory\n",
    "import os\n",
    "BRANDON = '/Users/brandonmarks/Desktop/Research Materials/hierarchical-bayesian-model-validation/'\n",
    "YASH = '/Users/yashd/Desktop/hierarchical-bayesian-model-validation/'\n",
    "\n",
    "ROOT_DIR = BRANDON\n",
    "# os.mkdir(DATA_NAME)\n",
    "# os.mkdir(os.path.join(DATA_NAME, \"CSVs\"))\n",
    "# os.mkdir(os.path.join(DATA_NAME, \"plots\"))"
   ],
   "outputs": [],
   "metadata": {}
  },
  {
   "cell_type": "code",
   "execution_count": 102,
   "source": [
    "from utilities import *\n",
    "from plot_utilities import *\n",
    "''' Comment out the below two lines if you do not have Matlab installed and opened'''\n",
    "import matlab.engine \n",
    "eng = matlab.engine.connect_matlab()"
   ],
   "outputs": [],
   "metadata": {}
  },
  {
   "cell_type": "code",
   "execution_count": 106,
   "source": [
    "prior_cdf = compute_prior_cdf(0.7, -1.3, n_samples= 1000, tail_percent=.1, tail_bound= 0.0001, debug = True, use_matlab=True, eng = eng)"
   ],
   "outputs": [
    {
     "output_type": "stream",
     "name": "stdout",
     "text": [
      "Params: 0.7, -1.3\n",
      "Chebyshev bound: 53.7979596021394\n",
      "No tail\n"
     ]
    },
    {
     "output_type": "stream",
     "name": "stderr",
     "text": [
      "100%|██████████| 500/500 [00:01<00:00, 309.81it/s]"
     ]
    },
    {
     "output_type": "stream",
     "name": "stdout",
     "text": [
      "First CDF value: 1.3675910528521007e-19\n",
      "Last CDF value: 1.0\n",
      "Tail bound: 0.0001\n",
      "KstestResult(statistic=0.0970047122813592, pvalue=2.3411783641783283e-82, statistic_location=0.019505011866983404, statistic_sign=1)\n"
     ]
    },
    {
     "output_type": "stream",
     "name": "stderr",
     "text": [
      "\n"
     ]
    }
   ],
   "metadata": {}
  },
  {
   "cell_type": "code",
   "execution_count": 96,
   "source": [
    "sampled = sample_prior(0.7, -1.3, size = 10000)"
   ],
   "outputs": [],
   "metadata": {}
  },
  {
   "cell_type": "code",
   "execution_count": 97,
   "source": [
    "kstest_custom(sampled, prior_cdf)"
   ],
   "outputs": [
    {
     "output_type": "execute_result",
     "data": {
      "text/plain": [
       "(0.015985331671690084, 0.01193471758452639)"
      ]
     },
     "metadata": {},
     "execution_count": 97
    }
   ],
   "metadata": {}
  },
  {
   "cell_type": "code",
   "execution_count": 123,
   "source": [
    "def compute_cdf_vals(r, beta, xs, use_matlab = True, debug = False):\n",
    "    prior_cdf = np.zeros_like(xs)\n",
    "    if use_matlab:\n",
    "        if debug:\n",
    "            for j in tqdm(range(len(xs))):\n",
    "                prior_cdf[j] = eng.compute_cdf_using_gengamma(float(r), float(beta), float(xs[j]), nargout=1)\n",
    "        else:\n",
    "            for j, x in enumerate(xs):\n",
    "                prior_cdf[j] = eng.compute_cdf_using_gengamma(float(r), float(beta), float(x), nargout=1)\n",
    "    else:\n",
    "        def gauss_density(z, x):\n",
    "            return np.exp(-0.5 * (x/z)**2) / (np.sqrt(2*np.pi) * z)\n",
    "\n",
    "        def gen_gamma_cdf(x):\n",
    "            return prior_cdf.gammainc(beta, x**r)\n",
    "\n",
    "        def integrand(z, x):\n",
    "            return gauss_density(z, x) * (1 - gen_gamma_cdf((x/z)**2))\n",
    "        \n",
    "        for j, x in enumerate(xs):\n",
    "            res = integrate.quad(integrand, 0, np.inf, args=(x,))[0]\n",
    "            prior_cdf[j] = res\n",
    "    return prior_cdf\n",
    "    "
   ],
   "outputs": [],
   "metadata": {}
  },
  {
   "cell_type": "code",
   "execution_count": 178,
   "source": [
    "def compute_prior_cdf_using_gamma_cdf(r, eta, n_samples=1000, tail_bound=0.001, tail_percent=0.1, scale=1, use_matlab=True, eng=eng, enforce_assert=True, return_assert=False, return_xs=False, debug=False):\n",
    "    beta = (eta + 1.5) / r\n",
    "    var_prior = scale * special.gamma(beta + 1/r) / special.gamma(beta)\n",
    "    \n",
    "    cheby = np.sqrt(var_prior / tail_bound)\n",
    "    if np.isnan(var_prior) or np.isinf(var_prior):\n",
    "        cheby = 1e100\n",
    "    x_max = min(99, cheby)\n",
    "    n_tail = int(n_samples * tail_percent) if cheby >= 120 else 0\n",
    "\n",
    "    if debug:\n",
    "        print(f\"Params: {r}, {eta}\")\n",
    "        print(f\"Chebyshev bound: {cheby}\")\n",
    "        print(f\"{'No tail' if n_tail == 0 else f'Tail samples: {n_tail}'}\")\n",
    "\n",
    "    xs_minus = np.concatenate((-np.logspace(np.log10(cheby), 2, n_tail),\n",
    "                               np.linspace(-x_max, 0, n_samples//2-n_tail)))\n",
    "\n",
    "    prior_cdf_minus = np.zeros_like(xs_minus)\n",
    "\n",
    "\n",
    "    prior_cdf_minus = compute_cdf_vals(r, beta, xs_minus, use_matlab = use_matlab, debug = debug)\n",
    "\n",
    "\n",
    "    print(prior_cdf_minus)\n",
    "    if(max(abs(np.diff(prior_cdf_minus)))):\n",
    "        inv_linspline = interpolate.InterpolatedUnivariateSpline(x= prior_cdf_minus, y= xs_minus, k=1, ext='const')\n",
    "        normal = interpolate.InterpolatedUnivariateSpline(x= xs_minus, y= prior_cdf_minus, k=1, ext='const')\n",
    "        #return normal, inv_linspline\n",
    "        \n",
    "    xs_plus = -np.flip(xs_minus[:-1])\n",
    "    prior_cdf_plus = 1-np.flip(prior_cdf_minus[:-1])\n",
    "\n",
    "    xs = np.concatenate((xs_minus, xs_plus))\n",
    "    prior_cdf = np.concatenate((prior_cdf_minus, prior_cdf_plus))\n",
    "\n",
    "    if debug:\n",
    "        print(f\"First CDF value: {prior_cdf[0]}\")\n",
    "        print(f\"Last CDF value: {prior_cdf[-1]}\")\n",
    "        print(f\"Tail bound: {tail_bound}\")\n",
    "\n",
    "    if return_assert or enforce_assert:\n",
    "        eps = tail_bound\n",
    "        if not (-eps < prior_cdf[0] < eps and 1 - eps < prior_cdf[-1] < 1 + eps):\n",
    "            if return_assert:\n",
    "                return (xs, None) if return_xs else None\n",
    "            elif enforce_assert:\n",
    "                raise AssertionError(\"CDF bounds not satisfied\")\n",
    "        \n",
    "    xs = np.concatenate(([1.01 * xs[0]], xs, [1.01 * xs[-1]]))\n",
    "    prior_cdf = np.concatenate(([0], prior_cdf, [1]))\n",
    "    cdf_spline = interpolate.InterpolatedUnivariateSpline(x=xs, y=prior_cdf, k=3, ext='const')\n",
    "\n",
    "    if return_assert or enforce_assert:\n",
    "        x = np.sort(sample_prior(r, eta, 10000))\n",
    "        res = stats.ks_1samp(x, cdf_spline)\n",
    "        if debug:\n",
    "            print(res)\n",
    "        if not 0 <= res.statistic <= 0.08:\n",
    "            if return_assert:\n",
    "                return (xs, None) if return_xs else None\n",
    "            elif enforce_assert:\n",
    "                raise AssertionError(\"KS test failed\")\n",
    "\n",
    "    return (xs, cdf_spline) if return_xs else cdf_spline"
   ],
   "outputs": [],
   "metadata": {}
  },
  {
   "cell_type": "code",
   "execution_count": 179,
   "source": [
    "xs, cdf = compute_prior_cdf_using_gamma_cdf(0.5, -0.5, n_samples= 1000, tail_percent=.1, tail_bound= 0.0001, debug = True, use_matlab=True, eng = eng, return_xs = True)\n"
   ],
   "outputs": [
    {
     "output_type": "stream",
     "name": "stdout",
     "text": [
      "Params: 0.5, -0.5\n",
      "Chebyshev bound: 244.94897427831782\n",
      "Tail samples: 100\n"
     ]
    },
    {
     "output_type": "stream",
     "name": "stderr",
     "text": [
      "100%|██████████| 500/500 [00:01<00:00, 371.57it/s]"
     ]
    },
    {
     "output_type": "stream",
     "name": "stdout",
     "text": [
      "[4.94635600e-25 7.00243611e-25 9.49441417e-25 1.96697354e-24\n",
      " 2.43314615e-24 3.09774679e-24 4.70026482e-24 5.94840166e-24\n",
      " 9.64129232e-24 1.32282402e-23 1.84598541e-23 2.63147005e-23\n",
      " 3.57753275e-23 5.37530680e-23 7.27784015e-23 9.70117145e-23\n",
      " 1.33963704e-22 2.07470370e-22 2.73106681e-22 3.57719560e-22\n",
      " 4.98296056e-22 6.57557052e-22 8.92873782e-22 1.19582265e-21\n",
      " 1.74576627e-21 2.31217118e-21 3.04368826e-21 4.15984697e-21\n",
      " 5.58017311e-21 7.43916075e-21 9.86760316e-21 1.32590548e-20\n",
      " 1.82575188e-20 2.39629576e-20 3.15597896e-20 4.21334409e-20\n",
      " 5.58341384e-20 7.35391797e-20 9.70649392e-20 1.27468144e-19\n",
      " 1.67283463e-19 2.22223638e-19 2.89888189e-19 3.77634749e-19\n",
      " 4.95175831e-19 6.45638696e-19 8.39380185e-19 1.08863201e-18\n",
      " 1.41406241e-18 1.83079041e-18 2.36510022e-18 3.06490549e-18\n",
      " 3.94580678e-18 5.07218368e-18 6.52291777e-18 8.36835885e-18\n",
      " 1.07168388e-17 1.37111537e-17 1.75047088e-17 2.23174819e-17\n",
      " 2.84223449e-17 3.61677787e-17 4.58927278e-17 5.81657787e-17\n",
      " 7.36478165e-17 9.30817388e-17 1.17480959e-16 1.48041843e-16\n",
      " 1.86333507e-16 2.34170670e-16 2.93865535e-16 3.68364325e-16\n",
      " 4.60952243e-16 5.76046410e-16 7.18963062e-16 8.96043775e-16\n",
      " 1.11524424e-15 1.38614732e-15 1.72067805e-15 2.13302481e-15\n",
      " 2.64078885e-15 3.26482143e-15 4.03117903e-15 4.97113293e-15\n",
      " 6.12202855e-15 7.52995447e-15 9.24976456e-15 1.13477405e-14\n",
      " 1.39042648e-14 1.70155350e-14 2.07965779e-14 2.53863696e-14\n",
      " 3.09510081e-14 3.76892425e-14 4.58385510e-14 5.56821958e-14\n",
      " 6.75591161e-14 8.18708058e-14 9.90961264e-14 1.19804471e-13\n",
      " 1.47709175e-13 1.55601745e-13 1.63922838e-13 1.72695809e-13\n",
      " 1.81946602e-13 1.91700287e-13 2.01985480e-13 2.12831001e-13\n",
      " 2.24268469e-13 2.36330340e-13 2.49051489e-13 2.62468598e-13\n",
      " 2.76620102e-13 2.91547101e-13 3.07292543e-13 3.23902569e-13\n",
      " 3.41424941e-13 3.59910596e-13 3.79413866e-13 3.99990918e-13\n",
      " 4.21702606e-13 4.44612339e-13 4.68786689e-13 4.94297437e-13\n",
      " 5.21219628e-13 5.49632233e-13 5.79619718e-13 6.11270193e-13\n",
      " 6.44678056e-13 6.79942118e-13 7.17167500e-13 7.56464995e-13\n",
      " 7.97952189e-13 8.41752780e-13 8.87998491e-13 9.36827482e-13\n",
      " 9.88386552e-13 1.04283211e-12 1.10032730e-12 1.16104673e-12\n",
      " 1.22517350e-12 1.29290308e-12 1.36444092e-12 1.44000415e-12\n",
      " 1.51982471e-12 1.60414575e-12 1.69322592e-12 1.78733832e-12\n",
      " 1.88677149e-12 1.99183286e-12 2.10284554e-12 2.22015300e-12\n",
      " 2.34411883e-12 2.47512714e-12 2.61358579e-12 2.75992517e-12\n",
      " 2.91460313e-12 3.07810223e-12 3.25093425e-12 3.43364248e-12\n",
      " 3.62680109e-12 3.83101877e-12 4.04693903e-12 4.27524663e-12\n",
      " 4.51666451e-12 4.77195757e-12 5.04193947e-12 5.32746973e-12\n",
      " 5.62946129e-12 5.94888005e-12 6.28674973e-12 6.64415639e-12\n",
      " 7.02225004e-12 7.42225143e-12 7.84545171e-12 8.29322197e-12\n",
      " 8.76701557e-12 9.26837326e-12 9.79892876e-12 1.03604131e-11\n",
      " 1.09546647e-11 1.15836301e-11 1.22493766e-11 1.29540940e-11\n",
      " 1.37001098e-11 1.44898878e-11 1.53260443e-11 1.62113544e-11\n",
      " 1.71487627e-11 1.81413944e-11 1.91925648e-11 2.03057923e-11\n",
      " 2.14848113e-11 2.27335853e-11 2.40563202e-11 2.54574809e-11\n",
      " 2.69418087e-11 2.85143374e-11 3.01804075e-11 3.19456933e-11\n",
      " 3.38162184e-11 3.57983810e-11 3.78989751e-11 4.01252143e-11\n",
      " 4.24847655e-11 4.49857675e-11 4.76368695e-11 5.04472607e-11\n",
      " 5.34266991e-11 5.65855585e-11 5.99348599e-11 6.34863156e-11\n",
      " 6.72523734e-11 7.12462605e-11 7.54820418e-11 7.99746631e-11\n",
      " 8.47400135e-11 8.97949875e-11 9.51575484e-11 1.00846795e-10\n",
      " 1.06883035e-10 1.13287872e-10 1.20084273e-10 1.27296674e-10\n",
      " 1.34951064e-10 1.43075096e-10 1.51698181e-10 1.60851617e-10\n",
      " 1.70568705e-10 1.80884880e-10 1.91837859e-10 2.03467774e-10\n",
      " 2.15817350e-10 2.28932063e-10 2.42860325e-10 2.57653677e-10\n",
      " 2.73367000e-10 2.90058729e-10 3.07791091e-10 3.26630360e-10\n",
      " 3.46647124e-10 3.67916572e-10 3.90518795e-10 4.14539129e-10\n",
      " 4.40068482e-10 4.67203731e-10 4.96048104e-10 5.26711618e-10\n",
      " 5.59311526e-10 5.93972816e-10 6.30828721e-10 6.70021281e-10\n",
      " 7.11701940e-10 7.56032172e-10 8.03184187e-10 8.53341629e-10\n",
      " 9.06700376e-10 9.63469365e-10 1.02387149e-09 1.08814453e-09\n",
      " 1.15654221e-09 1.22933527e-09 1.30681264e-09 1.38928267e-09\n",
      " 1.47707450e-09 1.57053947e-09 1.67005267e-09 1.77601459e-09\n",
      " 1.88885285e-09 2.00902410e-09 2.13701607e-09 2.27334968e-09\n",
      " 2.41858139e-09 2.57330568e-09 2.73815771e-09 2.91381616e-09\n",
      " 3.10100633e-09 3.30050335e-09 3.51313575e-09 3.73978922e-09\n",
      " 3.98141061e-09 4.23901234e-09 4.51367697e-09 4.80656224e-09\n",
      " 5.11890641e-09 5.45203400e-09 5.80736192e-09 6.18640618e-09\n",
      " 6.59078887e-09 7.02224588e-09 7.48263504e-09 7.97394492e-09\n",
      " 8.49830428e-09 9.05799218e-09 9.65544894e-09 1.02932878e-08\n",
      " 1.09743075e-08 1.17015057e-08 1.24780939e-08 1.33075124e-08\n",
      " 1.41934479e-08 1.51398507e-08 1.61509550e-08 1.72312990e-08\n",
      " 1.83857480e-08 1.96195181e-08 2.09382025e-08 2.23477996e-08\n",
      " 2.38547428e-08 2.54659332e-08 2.71887746e-08 2.90312108e-08\n",
      " 3.10017666e-08 3.31095910e-08 3.53645044e-08 3.77770494e-08\n",
      " 4.03585454e-08 4.31211472e-08 4.60779086e-08 4.92428511e-08\n",
      " 5.26310373e-08 5.62586504e-08 6.01430806e-08 6.43030171e-08\n",
      " 6.87585485e-08 7.35312701e-08 7.86444009e-08 8.41229091e-08\n",
      " 8.99936474e-08 9.62855003e-08 1.03029542e-07 1.10259206e-07\n",
      " 1.18010475e-07 1.26322073e-07 1.35235686e-07 1.44796198e-07\n",
      " 1.55051935e-07 1.66054947e-07 1.77861298e-07 1.90531384e-07\n",
      " 2.04130286e-07 2.18728137e-07 2.34400530e-07 2.51228956e-07\n",
      " 2.69301280e-07 2.88712254e-07 3.09564076e-07 3.31966992e-07\n",
      " 3.56039953e-07 3.81911324e-07 4.09719651e-07 4.39614498e-07\n",
      " 4.71757355e-07 5.06322614e-07 5.43498639e-07 5.83488923e-07\n",
      " 6.26513342e-07 6.72809524e-07 7.22634324e-07 7.76265438e-07\n",
      " 8.34003155e-07 8.96172251e-07 9.63124064e-07 1.03523874e-06\n",
      " 1.11292767e-06 1.19663616e-06 1.28684634e-06 1.38408028e-06\n",
      " 1.48890345e-06 1.60192845e-06 1.72381907e-06 1.85529475e-06\n",
      " 1.99713539e-06 2.15018664e-06 2.31536564e-06 2.49366729e-06\n",
      " 2.68617108e-06 2.89404859e-06 3.11857161e-06 3.36112106e-06\n",
      " 3.62319671e-06 3.90642779e-06 4.21258465e-06 4.54359139e-06\n",
      " 4.90153981e-06 5.28870457e-06 5.70755983e-06 6.16079742e-06\n",
      " 6.65134683e-06 7.18239698e-06 7.75742018e-06 8.38019834e-06\n",
      " 9.05485171e-06 9.78587046e-06 1.05781492e-05 1.14370252e-05\n",
      " 1.23683196e-05 1.33783839e-05 1.44741496e-05 1.56631843e-05\n",
      " 1.69537517e-05 1.83548795e-05 1.98764320e-05 2.15291924e-05\n",
      " 2.33249511e-05 2.52766049e-05 2.73982650e-05 2.97053771e-05\n",
      " 3.22148531e-05 3.49452173e-05 3.79167667e-05 4.11517494e-05\n",
      " 4.46745608e-05 4.85119611e-05 5.26933155e-05 5.72508604e-05\n",
      " 6.22199982e-05 6.76396238e-05 7.35524862e-05 8.00055905e-05\n",
      " 8.70506429e-05 9.47445456e-05 1.03149946e-04 1.12335848e-04\n",
      " 1.22378291e-04 1.33361104e-04 1.45376753e-04 1.58527273e-04\n",
      " 1.72925314e-04 1.88695312e-04 2.05974788e-04 2.24915804e-04\n",
      " 2.45686589e-04 2.68473355e-04 2.93482340e-04 3.20942084e-04\n",
      " 3.51105989e-04 3.84255187e-04 4.20701764e-04 4.60792378e-04\n",
      " 5.04912336e-04 5.53490170e-04 6.07002810e-04 6.65981401e-04\n",
      " 7.31017878e-04 8.02772392e-04 8.81981705e-04 9.69468696e-04\n",
      " 1.06615313e-03 1.17306388e-03 1.29135281e-03 1.42231050e-03\n",
      " 1.56738428e-03 1.72819863e-03 1.90657853e-03 2.10457618e-03\n",
      " 2.32450144e-03 2.56895684e-03 2.84087770e-03 3.14357814e-03\n",
      " 3.48080419e-03 3.85679487e-03 4.27635276e-03 4.74492567e-03\n",
      " 5.26870117e-03 5.85471646e-03 6.51098607e-03 7.24665083e-03\n",
      " 8.07215183e-03 8.99943419e-03 1.00421863e-02 1.12161212e-02\n",
      " 1.25393092e-02 1.40325706e-02 1.57199432e-02 1.76292382e-02\n",
      " 1.97927046e-02 2.22478277e-02 2.50382888e-02 2.82151285e-02\n",
      " 3.18381588e-02 3.59776890e-02 4.07166460e-02 4.61531935e-02\n",
      " 5.24039914e-02 5.96082796e-02 6.79330386e-02 7.75795694e-02\n",
      " 8.87919731e-02 1.01868208e-01 1.17174710e-01 1.35166042e-01\n",
      " 1.56411823e-01 1.81634512e-01 2.11764046e-01 2.48019948e-01\n",
      " 2.92041416e-01 3.46109929e-01 4.13581737e-01 5.00000000e-01]\n",
      "First CDF value: 4.946356001183811e-25\n",
      "Last CDF value: 1.0\n",
      "Tail bound: 0.0001\n",
      "KstestResult(statistic=0.006412310054918158, pvalue=0.8029386249516295, statistic_location=1.6967470445285557, statistic_sign=-1)\n"
     ]
    },
    {
     "output_type": "stream",
     "name": "stderr",
     "text": [
      "\n"
     ]
    }
   ],
   "metadata": {}
  },
  {
   "cell_type": "code",
   "execution_count": 180,
   "source": [
    "plt.plot(xs, cdf(xs))\n",
    "plt.scatter(xs, cdf(xs))"
   ],
   "outputs": [
    {
     "output_type": "execute_result",
     "data": {
      "text/plain": [
       "<matplotlib.collections.PathCollection at 0x7f7cca2f7430>"
      ]
     },
     "metadata": {},
     "execution_count": 180
    },
    {
     "output_type": "display_data",
     "data": {
      "image/png": "[encoded data removed]",
      "text/plain": [
       "<Figure size 640x480 with 1 Axes>"
      ]
     },
     "metadata": {}
    }
   ],
   "metadata": {}
  },
  {
   "cell_type": "code",
   "execution_count": null,
   "source": [],
   "outputs": [],
   "metadata": {}
  },
  {
   "cell_type": "code",
   "execution_count": null,
   "source": [],
   "outputs": [],
   "metadata": {}
  }
 ],
 "metadata": {
  "orig_nbformat": 4,
  "language_info": {
   "name": "python",
   "version": "3.10.14",
   "mimetype": "text/x-python",
   "codemirror_mode": {
    "name": "ipython",
    "version": 3
   },
   "pygments_lexer": "ipython3",
   "nbconvert_exporter": "python",
   "file_extension": ".py"
  },
  "kernelspec": {
   "name": "python3",
   "display_name": "Python 3.10.14 64-bit ('NewResearch': conda)"
  },
  "interpreter": {
   "hash": "26f46df99c92824998f7c0f025f59877ecc4414f4acde0109b9ec8a8b8d773e9"
  }
 },
 "nbformat": 4,
 "nbformat_minor": 2
}