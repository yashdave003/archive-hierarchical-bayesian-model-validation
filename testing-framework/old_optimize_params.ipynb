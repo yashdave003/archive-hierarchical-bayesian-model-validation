{
 "cells": [
  {
   "cell_type": "code",
   "execution_count": 1,
   "metadata": {},
   "outputs": [],
   "source": [
    "from utilities import *\n",
    "from plot_utilities import *"
   ]
  },
  {
   "cell_type": "code",
   "execution_count": null,
   "metadata": {},
   "outputs": [],
   "source": [
    "def compute_prior_cdf(r, eta, n_samples = 1000, tail_bound = 0.05, n_tail = 5, scale = 1):\n",
    "    \n",
    "    r = np.round(r, 3)\n",
    "    eta = np.round(eta, 3)\n",
    "    if os.path.isfile(f'CDFs/optimize_cdfs_{n_samples}.pickle'):\n",
    "        with open(f'CDFs/optimize_cdfs_{n_samples}.pickle', 'rb') as handle:\n",
    "            cdfs = pickle.load(handle)\n",
    "        if (r, eta) in cdfs:\n",
    "            return cdfs[(r, eta)]\n",
    "    else:\n",
    "        cdfs = dict()\n",
    "\n",
    "    beta = (eta + 1.5)/r \n",
    "    var_prior = scale * scipy.special.gamma((eta + 1.5 + 1/2)/r)/scipy.special.gamma(beta)\n",
    "    x_max = min(100, np.round(var_prior/tail_bound)) \n",
    "    xs = np.linspace(-x_max, x_max, n_samples-2*n_tail)\n",
    "    xs = np.append(np.linspace(-(x_max+100), -(x_max+20), n_tail), xs)\n",
    "    xs = np.append(xs, np.linspace(x_max + 20, x_max + 100, n_tail))\n",
    "    prior_pdf = np.full(xs.shape, np.nan)\n",
    "\n",
    "    # Loop over xs\n",
    "    for j, x in enumerate(xs):\n",
    "\n",
    "        # Define integrands\n",
    "        def gauss_density(theta):\n",
    "            return (1./(np.sqrt(2*np.pi)*theta)) * np.exp(-0.5*(x/theta)**2)\n",
    "\n",
    "        def gen_gamma_density(theta):\n",
    "            return (r/scipy.special.gamma(beta)) * (1/scale) * (theta/scale)**(r*beta - 1) * np.exp(-(theta/scale)**r)\n",
    "\n",
    "        def integrand(theta):\n",
    "            return gauss_density(theta) * gen_gamma_density(theta)\n",
    "\n",
    "        # Integrate \n",
    "        prior_pdf[j] = integrate.quad(integrand, 0, np.inf)[0]\n",
    "\n",
    "    prior_cdf = np.zeros_like(prior_pdf)\n",
    "    for i in range(len(xs) - 1):\n",
    "        prior_cdf[i] = np.trapz(prior_pdf[:i+1], xs[:i+1]) \n",
    "    prior_cdf = np.append(prior_cdf[:-1], 1)\n",
    "\n",
    "    poly = interpolate.CubicSpline(x = xs, y = prior_cdf)\n",
    "    \n",
    "    cdfs[(r, eta)] = poly\n",
    "    with open(f'CDFs/optimize_cdfs_{n_samples}.pickle', 'wb') as handle:\n",
    "        pickle.dump(cdfs, handle)\n",
    "    return poly\n"
   ]
  },
  {
   "cell_type": "code",
   "execution_count": 6,
   "metadata": {},
   "outputs": [],
   "source": [
    "cdfs_name = 'cdfs_100000_0.1-2.9-0.1_0-4-0.2'\n",
    "\n",
    "with open(f'CDFs/{cdfs_name}.pickle', 'rb') as handle:\n",
    "    all_cdfs = pickle.load(handle)\n",
    "with open(f'panoptic/obs_x_dict.pickle', 'rb') as handle:\n",
    "    obs_x_dict = pickle.load(handle)\n",
    "with open(f'panoptic/df_dict_{cdfs_name}.pickle', 'rb') as handle:\n",
    "    df_dict = pickle.load(handle)\n"
   ]
  },
  {
   "cell_type": "code",
   "execution_count": null,
   "metadata": {},
   "outputs": [],
   "source": [
    "fixed_x = obs_x_dict[3]\n",
    "n = len(fixed_x)\n",
    "\n",
    "def kstest_stat(params):\n",
    "    r = params[0]\n",
    "    eta = params[1]\n",
    "    cdf = compute_prior_cdf(r, eta, 1000)\n",
    "    cdfvals = cdf(fixed_x)\n",
    "    dplus, dminus = np.max(np.arange(1.0, n + 1) / n - cdfvals), np.max(cdfvals - np.arange(0.0, n)/n)\n",
    "    return max(dplus, dminus)\n",
    "kstest_params()"
   ]
  },
  {
   "cell_type": "code",
   "execution_count": 3,
   "metadata": {},
   "outputs": [],
   "source": [
    "from scipy import optimize"
   ]
  },
  {
   "cell_type": "code",
   "execution_count": null,
   "metadata": {},
   "outputs": [],
   "source": [
    "optimize.minimize"
   ]
  },
  {
   "cell_type": "code",
   "execution_count": null,
   "metadata": {},
   "outputs": [],
   "source": []
  }
 ],
 "metadata": {
  "kernelspec": {
   "display_name": "Python 3",
   "language": "python",
   "name": "python3"
  },
  "language_info": {
   "codemirror_mode": {
    "name": "ipython",
    "version": 3
   },
   "file_extension": ".py",
   "mimetype": "text/x-python",
   "name": "python",
   "nbconvert_exporter": "python",
   "pygments_lexer": "ipython3",
   "version": "3.12.1"
  }
 },
 "nbformat": 4,
 "nbformat_minor": 2
}
