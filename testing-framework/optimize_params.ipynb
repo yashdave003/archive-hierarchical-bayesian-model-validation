{
 "cells": [
  {
   "cell_type": "code",
   "execution_count": 1,
   "metadata": {},
   "outputs": [],
   "source": [
    "from utilities import *\n",
    "from plot_utilities import *"
   ]
  },
  {
   "cell_type": "markdown",
   "metadata": {},
   "source": [
    "1. given best guess x0\n",
    "2. do a 1d search along r with decimal point precision 1 within general area where eta was nice\n",
    "3. do precision 1 search along eta \n",
    "4. precision 2 search along r\n",
    "5. \n"
   ]
  },
  {
   "cell_type": "code",
   "execution_count": 14,
   "metadata": {},
   "outputs": [],
   "source": [
    "def compute_prior_cdf(r, eta, n_samples = 10000, tail_bound = 0.05, tail_percent = 0.01, scale = 1, scipy_int=True, support = False):\n",
    "\n",
    "    '''\n",
    "    Returns PPoly-type function that approximates the prior CDF of the signal x\n",
    "    r : shape parameter controlling rate of exponentional decay\n",
    "    eta : controls roundedness of peak, and hence sparsity\n",
    "    scale : scale parameter\n",
    "    n_samples : number of points used to numerically approximate CDF\n",
    "    tail_bound : Uses Chebyshev's Inequality to bound the region of the CDF that is outside the coverage of xs\n",
    "    n_tail : Sets the number of points tha lie outside the coverage of xs to approximate tails if need be\n",
    "\n",
    "    Usage:\n",
    "    new_cdf = compute_prior_cdf(r = 0.1, eta = 0.001)\n",
    "    new_cdf(0.5343) returns CDF\n",
    "    Can also accept arrays\n",
    "    '''\n",
    "    \n",
    "    beta = (eta + 1.5)/r \n",
    "    var_prior = scale * scipy.special.gamma((eta + 1.5 + 2)/r)/scipy.special.gamma(beta)\n",
    "    cheby = np.sqrt(np.round(var_prior/(tail_bound)))\n",
    "    \n",
    "\n",
    "    n_tail = int(n_samples*tail_percent)\n",
    "    \n",
    "    x_max = min(99, cheby) # introduced additional bound in case chebyshev is unwieldy\n",
    "    if cheby < 120:\n",
    "        n_tail = 0\n",
    "        print(\"No Tail\")\n",
    "    \n",
    "\n",
    "    xs = np.linspace(-x_max, x_max, n_samples-2*n_tail)\n",
    "    xs = np.append(-np.logspace(np.log10(cheby), 2, n_tail), xs)\n",
    "    xs = np.append(xs, np.logspace(2, np.log10(cheby), n_tail))\n",
    "    prior_pdf = np.full(xs.shape, np.nan)\n",
    "\n",
    "    for j, x in enumerate(xs):\n",
    "\n",
    "        def gauss_density(theta):\n",
    "            return (1./(np.sqrt(2*np.pi)*theta)) * np.exp(-0.5*(x/theta)**2)\n",
    "\n",
    "        def gen_gamma_density(theta):\n",
    "            return (r/scipy.special.gamma(beta)) * (1/scale) * (theta/scale)**(r*beta - 1) * np.exp(-(theta/scale)**r)\n",
    "\n",
    "        def integrand(theta):\n",
    "            return gauss_density(theta) * gen_gamma_density(theta)\n",
    "\n",
    "        if scipy_int:\n",
    "            prior_pdf[j] = integrate.quad(integrand, 0, np.inf)[0]\n",
    "        else:\n",
    "            prior_pdf[j] = eng.compute_prior(float(r), float(eta), float(x), nargout=1)\n",
    "\n",
    "    prior_cdf = np.zeros_like(prior_pdf)\n",
    "    prior_cdf[0] = 0\n",
    "    for i in range(1, len(xs)):\n",
    "        prior_cdf[i] = (interpolate.CubicSpline(x = xs[:i+1], y = prior_pdf[:i+1])).integrate(xs[0], xs[i])+0\n",
    "\n",
    "        # Alternative with Simpson's: prior_cdf[i] = integrate.simps(prior_pdf[:i+1], xs[:i+1])\n",
    "    normalizer = prior_cdf[-1]\n",
    "    first = prior_cdf[1]\n",
    "    assert 1.05 > normalizer > 0.95\n",
    "    assert 0.05 > first > -0.05\n",
    "    prior_cdf = prior_cdf/normalizer   \n",
    "\n",
    "    k = int(0.01*n_samples)\n",
    "    zero_padding = np.zeros(k)\n",
    "    ones_padding = np.ones(k)\n",
    "\n",
    "    pad_max = max(10e5, np.round(cheby ** 2))\n",
    "\n",
    "\n",
    "    prior_cdf = np.append(zero_padding, prior_cdf)\n",
    "    xs_pad = np.append(np.linspace(-pad_max, xs[0] - 1e-5, k), xs)\n",
    "\n",
    "    prior_cdf = np.append(prior_cdf, ones_padding)\n",
    "    xs_pad = np.append(xs_pad, np.linspace(xs[-1] + 1e-5, pad_max, k))\n",
    "\n",
    "    poly = interpolate.CubicSpline(x = xs_pad, y = prior_cdf)\n",
    "    \n",
    "    if support:\n",
    "        return xs, poly\n",
    "    else:\n",
    "        return poly"
   ]
  },
  {
   "cell_type": "code",
   "execution_count": 34,
   "metadata": {},
   "outputs": [],
   "source": [
    "def kstest_brute(params, *other):\n",
    "    r, eta = params\n",
    "    x, layer, return_loc= other\n",
    "    cdf = compute_prior_cdf(r, eta, 10000)\n",
    "    print(r, eta)\n",
    "    with open(os.path.join(os.getcwd(),f'CDFs\\\\layer{layer}_10000\\\\{r}_{eta}.pickle'), 'wb') as handle:\n",
    "        pickle.dump(cdf, handle)\n",
    "    return kstest_custom(x, cdf, return_loc)\n"
   ]
  },
  {
   "cell_type": "code",
   "execution_count": 2,
   "metadata": {},
   "outputs": [],
   "source": [
    "def line_search(obs_x, x0, layer, along_r = True, precision = 1):\n",
    "    cdfs = dict()\n",
    "    \n",
    "    layer_cdfs = combine_pickles(f'layer{layer}_10000')\n",
    "    \n",
    "    if along_r:\n",
    "        eta = x0[1]\n",
    "        min_r = x0[0]\n",
    "        min_dist, max_pval = kstest_custom(obs_x, compute_prior_cdf(min_r, eta, 10000))\n",
    "        unit = 10**(-precision)\n",
    "\n",
    "        r_range = np.arange(max(min_r - 10*unit, 0), min_r + 11*unit, unit)\n",
    "        for r in r_range:\n",
    "            r = round_to_sigfigs(r, precision + 3)\n",
    "            if (r, eta) in layer_cdfs:\n",
    "                cdf = layer_cdfs[(r, eta)]\n",
    "            else:\n",
    "                cdf = compute_prior_cdf(r, eta, 10000)\n",
    "                with open(os.path.join(os.getcwd(),f'CDFs\\\\layer{layer}_10000\\\\{r}_{eta}-{eta}.pickle'), 'wb') as handle:\n",
    "                    pickle.dump(cdf, handle)\n",
    "            dist, pval = kstest_custom(obs_x, cdf)\n",
    "            if dist < min_dist:\n",
    "                min_dist = min(min_dist, dist)\n",
    "                min_r = r\n",
    "                max_pval = pval\n",
    "                print(r)\n",
    "        return (min_r, eta), min_dist, max_pval\n",
    "    else:\n",
    "        r = x0[0]\n",
    "        min_eta = x0[1]\n",
    "        min_dist, max_pval = kstest_custom(obs_x, compute_prior_cdf(r, min_eta, 10000))\n",
    "        unit = 10**(-precision)\n",
    "        eta_start = round_to_sigfigs(max(min_eta - 10*unit, 0), precision + 3)\n",
    "        eta_end = round_to_sigfigs(max(min_eta + 11*unit, 0), precision + 3)\n",
    "        eta_range = np.arange(eta_start, eta_end, unit)\n",
    "        eta_cdfs = dict()\n",
    "        for eta in eta_range:\n",
    "            eta = round_to_sigfigs(eta, precision + 3)\n",
    "            if (r, eta) in layer_cdfs:\n",
    "                cdf = layer_cdfs[(r, eta)]\n",
    "            else:\n",
    "                cdf = compute_prior_cdf(r, eta, 10000)\n",
    "                \n",
    "            dist, pval = kstest_custom(obs_x, cdf)\n",
    "            if dist < min_dist:\n",
    "                min_dist = min(min_dist, dist)\n",
    "                min_eta = eta\n",
    "                max_pval = pval\n",
    "                print(eta)\n",
    "            with open(os.path.join(os.getcwd(),f'CDFs\\\\layer{layer}_10000\\\\{r}_{eta_start}-{eta_end}'), 'wb') as handle:\n",
    "                pickle.dump(eta_cdfs, handle)\n",
    "                \n",
    "        return (r, min_eta), min_dist, max_pval"
   ]
  },
  {
   "cell_type": "code",
   "execution_count": 6,
   "metadata": {},
   "outputs": [
    {
     "data": {
      "text/plain": [
       "{2: array([-1.63935755, -8.7064424 , -7.57802165, ..., 63.2686166 ,\n",
       "        -0.29168582, 11.5387479 ]),\n",
       " 3: array([-5.13484135, -6.0903256 , 20.42968093, ..., -8.61188087,\n",
       "         3.52167733,  2.64876462]),\n",
       " 4: array([-3.91081923, -2.58042207, -4.2417638 , ..., -5.34614355,\n",
       "        -2.38210087, 20.68395628]),\n",
       " 5: array([-10.92873517,   1.11953819,   0.13805116, ...,  -3.32864995,\n",
       "          3.50594918,   5.956682  ]),\n",
       " 6: array([-0.78670251, -2.77615214, -0.59759133, ...,  1.50418374,\n",
       "         0.10866727,  1.42983245]),\n",
       " 7: array([ 0.82452475, -0.9606848 , -0.10590226, ...,  0.99516339,\n",
       "         1.15530462,  1.07523401]),\n",
       " 8: array([ 0.37822236,  0.12103116, -0.46899573, ...,  0.18301855,\n",
       "         0.25165051,  0.38891443])}"
      ]
     },
     "execution_count": 6,
     "metadata": {},
     "output_type": "execute_result"
    }
   ],
   "source": [
    "obs_x_dict"
   ]
  },
  {
   "cell_type": "code",
   "execution_count": 5,
   "metadata": {},
   "outputs": [
    {
     "ename": "TypeError",
     "evalue": "unsupported operand type(s) for |: 'dict' and 'CubicSpline'",
     "output_type": "error",
     "traceback": [
      "\u001b[1;31m---------------------------------------------------------------------------\u001b[0m",
      "\u001b[1;31mTypeError\u001b[0m                                 Traceback (most recent call last)",
      "Cell \u001b[1;32mIn[5], line 2\u001b[0m\n\u001b[0;32m      1\u001b[0m obs_x_dict \u001b[38;5;241m=\u001b[39m pd\u001b[38;5;241m.\u001b[39mread_pickle(\u001b[38;5;124m'\u001b[39m\u001b[38;5;124mpanoptic\u001b[39m\u001b[38;5;130;01m\\\\\u001b[39;00m\u001b[38;5;124mobs_x_dict.pickle\u001b[39m\u001b[38;5;124m'\u001b[39m)\n\u001b[1;32m----> 2\u001b[0m \u001b[43mline_search\u001b[49m\u001b[43m(\u001b[49m\u001b[43mobs_x_dict\u001b[49m\u001b[43m[\u001b[49m\u001b[38;5;241;43m2\u001b[39;49m\u001b[43m]\u001b[49m\u001b[43m,\u001b[49m\u001b[43m \u001b[49m\u001b[43m[\u001b[49m\u001b[38;5;241;43m0.601\u001b[39;49m\u001b[43m,\u001b[49m\u001b[43m \u001b[49m\u001b[38;5;241;43m3.16\u001b[39;49m\u001b[43m]\u001b[49m\u001b[43m,\u001b[49m\u001b[43m \u001b[49m\u001b[38;5;241;43m2\u001b[39;49m\u001b[43m,\u001b[49m\u001b[43m \u001b[49m\u001b[43mprecision\u001b[49m\u001b[43m \u001b[49m\u001b[38;5;241;43m=\u001b[39;49m\u001b[43m \u001b[49m\u001b[38;5;241;43m5\u001b[39;49m\u001b[43m)\u001b[49m\n",
      "Cell \u001b[1;32mIn[2], line 4\u001b[0m, in \u001b[0;36mline_search\u001b[1;34m(obs_x, x0, layer, along_r, precision)\u001b[0m\n\u001b[0;32m      1\u001b[0m \u001b[38;5;28;01mdef\u001b[39;00m \u001b[38;5;21mline_search\u001b[39m(obs_x, x0, layer, along_r \u001b[38;5;241m=\u001b[39m \u001b[38;5;28;01mTrue\u001b[39;00m, precision \u001b[38;5;241m=\u001b[39m \u001b[38;5;241m1\u001b[39m):\n\u001b[0;32m      2\u001b[0m     cdfs \u001b[38;5;241m=\u001b[39m \u001b[38;5;28mdict\u001b[39m()\n\u001b[1;32m----> 4\u001b[0m     layer_cdfs \u001b[38;5;241m=\u001b[39m \u001b[43mcombine_pickles\u001b[49m\u001b[43m(\u001b[49m\u001b[38;5;124;43mf\u001b[39;49m\u001b[38;5;124;43m'\u001b[39;49m\u001b[38;5;124;43mlayer\u001b[39;49m\u001b[38;5;132;43;01m{\u001b[39;49;00m\u001b[43mlayer\u001b[49m\u001b[38;5;132;43;01m}\u001b[39;49;00m\u001b[38;5;124;43m_10000\u001b[39;49m\u001b[38;5;124;43m'\u001b[39;49m\u001b[43m)\u001b[49m\n\u001b[0;32m      6\u001b[0m     \u001b[38;5;28;01mif\u001b[39;00m along_r:\n\u001b[0;32m      7\u001b[0m         eta \u001b[38;5;241m=\u001b[39m x0[\u001b[38;5;241m1\u001b[39m]\n",
      "File \u001b[1;32mc:\\Users\\yashd\\Desktop\\hierarchical-bayesian-model-validation\\testing-framework\\utilities.py:310\u001b[0m, in \u001b[0;36mcombine_pickles\u001b[1;34m(dir_name)\u001b[0m\n\u001b[0;32m    308\u001b[0m     \u001b[38;5;28;01mwith\u001b[39;00m \u001b[38;5;28mopen\u001b[39m(pkl_path, \u001b[38;5;124m'\u001b[39m\u001b[38;5;124mrb\u001b[39m\u001b[38;5;124m'\u001b[39m) \u001b[38;5;28;01mas\u001b[39;00m handle:\n\u001b[0;32m    309\u001b[0m         new_cdf \u001b[38;5;241m=\u001b[39m pickle\u001b[38;5;241m.\u001b[39mload(handle)\n\u001b[1;32m--> 310\u001b[0m     cdfs \u001b[38;5;241m=\u001b[39m \u001b[43mcdfs\u001b[49m\u001b[43m \u001b[49m\u001b[38;5;241;43m|\u001b[39;49m\u001b[43m \u001b[49m\u001b[43mnew_cdf\u001b[49m\n\u001b[0;32m    311\u001b[0m \u001b[38;5;28;01mwith\u001b[39;00m \u001b[38;5;28mopen\u001b[39m(combined_path, \u001b[38;5;124m'\u001b[39m\u001b[38;5;124mwb\u001b[39m\u001b[38;5;124m'\u001b[39m) \u001b[38;5;28;01mas\u001b[39;00m handle:\n\u001b[0;32m    312\u001b[0m     pickle\u001b[38;5;241m.\u001b[39mdump(cdfs, handle)\n",
      "\u001b[1;31mTypeError\u001b[0m: unsupported operand type(s) for |: 'dict' and 'CubicSpline'"
     ]
    }
   ],
   "source": [
    "obs_x_dict = pd.read_pickle('panoptic\\\\obs_x_dict.pickle')\n",
    "line_search(obs_x_dict[2], [0.601, 3.16], 2, precision = 5)"
   ]
  },
  {
   "cell_type": "code",
   "execution_count": 54,
   "metadata": {},
   "outputs": [
    {
     "name": "stdout",
     "output_type": "stream",
     "text": [
      "-5.232436036682703e-44 1.0\n",
      "-5.232573095986627e-44 1.0\n",
      "-5.232630928198872e-44 1.0\n",
      "-5.232688760889354e-44 1.0\n",
      "-5.232746594058049e-44 1.0\n",
      "-5.232804427704925e-44 1.0\n",
      "-5.232146895589987e-44 1.0\n",
      "-5.232204722852148e-44 1.0\n",
      "-5.23226255059255e-44 1.0\n",
      "-5.232320378811095e-44 1.0\n",
      "-5.232378207507842e-44 1.0\n",
      "3.16\n",
      "-5.231778579714465e-44 1.0\n",
      "-5.231836402505374e-44 1.0\n",
      "-5.231894225774576e-44 1.0\n",
      "-5.231952049521846e-44 1.0\n",
      "-5.232009873747225e-44 1.0\n",
      "-5.232067690656568e-44 1.0\n",
      "-5.231410308822711e-44 1.0\n",
      "-5.231468120011727e-44 1.0\n",
      "-5.231525938812957e-44 1.0\n",
      "-5.231583758092222e-44 1.0\n",
      "-5.231641577849569e-44 1.0\n"
     ]
    },
    {
     "data": {
      "text/plain": [
       "((0.601, 3.16), 0.0370990182590879, 0.0003074596006262201)"
      ]
     },
     "execution_count": 54,
     "metadata": {},
     "output_type": "execute_result"
    }
   ],
   "source": [
    "line_search(obs_x_dict[2], [0.601, 3.16], 2, precision = 5, along_r = False)"
   ]
  },
  {
   "cell_type": "code",
   "execution_count": null,
   "metadata": {},
   "outputs": [],
   "source": [
    "def coord_descent(x0)"
   ]
  },
  {
   "cell_type": "code",
   "execution_count": null,
   "metadata": {},
   "outputs": [],
   "source": [
    "def finer_optimize(x0, axis = 'r', precision = 2):\n",
    "\n",
    "    all_r = np.arange(0.59, 0.61, 0.001)\n",
    "    all_eta = np.arange(3.14, 3.18, 0.01)\n",
    "    num_points = 10000\n",
    "    add_cdfs(r_range = all_r, eta_range = all_eta, n_samples = num_points, scipy_int=True, folder_name='layer2_')"
   ]
  },
  {
   "cell_type": "code",
   "execution_count": 24,
   "metadata": {},
   "outputs": [],
   "source": [
    "all_cdfs = combine_pickles('100')\n",
    "\n",
    "with open(f'panoptic\\\\obs_x_dict.pickle', 'rb') as handle:\n",
    "    obs_x_dict = pickle.load(handle)\n",
    "with open(f'panoptic\\\\df_dict_cdfs_100000_0.1-2.9-0.1_0-4-0.2.pickle', 'rb') as handle:\n",
    "    df_dict = pickle.load(handle)\n"
   ]
  },
  {
   "cell_type": "code",
   "execution_count": 85,
   "metadata": {},
   "outputs": [
    {
     "data": {
      "text/html": [
       "<div>\n",
       "<style scoped>\n",
       "    .dataframe tbody tr th:only-of-type {\n",
       "        vertical-align: middle;\n",
       "    }\n",
       "\n",
       "    .dataframe tbody tr th {\n",
       "        vertical-align: top;\n",
       "    }\n",
       "\n",
       "    .dataframe thead th {\n",
       "        text-align: right;\n",
       "    }\n",
       "</style>\n",
       "<table border=\"1\" class=\"dataframe\">\n",
       "  <thead>\n",
       "    <tr style=\"text-align: right;\">\n",
       "      <th></th>\n",
       "      <th>num_samples</th>\n",
       "      <th>r</th>\n",
       "      <th>eta</th>\n",
       "      <th>kstest_stat</th>\n",
       "      <th>kstest_pval</th>\n",
       "    </tr>\n",
       "    <tr>\n",
       "      <th>layer</th>\n",
       "      <th></th>\n",
       "      <th></th>\n",
       "      <th></th>\n",
       "      <th></th>\n",
       "      <th></th>\n",
       "    </tr>\n",
       "  </thead>\n",
       "  <tbody>\n",
       "    <tr>\n",
       "      <th>2.0</th>\n",
       "      <td>3180.0</td>\n",
       "      <td>0.6</td>\n",
       "      <td>3.2</td>\n",
       "      <td>0.037981</td>\n",
       "      <td>2.016182e-04</td>\n",
       "    </tr>\n",
       "    <tr>\n",
       "      <th>3.0</th>\n",
       "      <td>12720.0</td>\n",
       "      <td>0.7</td>\n",
       "      <td>3.6</td>\n",
       "      <td>0.021390</td>\n",
       "      <td>1.736009e-05</td>\n",
       "    </tr>\n",
       "    <tr>\n",
       "      <th>4.0</th>\n",
       "      <td>50880.0</td>\n",
       "      <td>0.8</td>\n",
       "      <td>3.0</td>\n",
       "      <td>0.011778</td>\n",
       "      <td>1.468903e-06</td>\n",
       "    </tr>\n",
       "    <tr>\n",
       "      <th>5.0</th>\n",
       "      <td>203520.0</td>\n",
       "      <td>0.9</td>\n",
       "      <td>1.6</td>\n",
       "      <td>0.003276</td>\n",
       "      <td>2.527426e-02</td>\n",
       "    </tr>\n",
       "    <tr>\n",
       "      <th>6.0</th>\n",
       "      <td>814080.0</td>\n",
       "      <td>1.0</td>\n",
       "      <td>0.2</td>\n",
       "      <td>0.008452</td>\n",
       "      <td>6.021976e-51</td>\n",
       "    </tr>\n",
       "    <tr>\n",
       "      <th>7.0</th>\n",
       "      <td>3256320.0</td>\n",
       "      <td>4.6</td>\n",
       "      <td>0.0</td>\n",
       "      <td>0.024893</td>\n",
       "      <td>0.000000e+00</td>\n",
       "    </tr>\n",
       "    <tr>\n",
       "      <th>8.0</th>\n",
       "      <td>13025280.0</td>\n",
       "      <td>5.8</td>\n",
       "      <td>0.0</td>\n",
       "      <td>0.171258</td>\n",
       "      <td>0.000000e+00</td>\n",
       "    </tr>\n",
       "  </tbody>\n",
       "</table>\n",
       "</div>"
      ],
      "text/plain": [
       "       num_samples    r  eta  kstest_stat   kstest_pval\n",
       "layer                                                  \n",
       "2.0         3180.0  0.6  3.2     0.037981  2.016182e-04\n",
       "3.0        12720.0  0.7  3.6     0.021390  1.736009e-05\n",
       "4.0        50880.0  0.8  3.0     0.011778  1.468903e-06\n",
       "5.0       203520.0  0.9  1.6     0.003276  2.527426e-02\n",
       "6.0       814080.0  1.0  0.2     0.008452  6.021976e-51\n",
       "7.0      3256320.0  4.6  0.0     0.024893  0.000000e+00\n",
       "8.0     13025280.0  5.8  0.0     0.171258  0.000000e+00"
      ]
     },
     "execution_count": 85,
     "metadata": {},
     "output_type": "execute_result"
    }
   ],
   "source": [
    "old_best = pd.read_csv(os.path.join(os.getcwd(), 'panoptic\\\\CSVs\\\\best_params_df_cdfs_100000_0.1-2.9-0.1_0-4-0.2.csv')).set_index('layer')\n",
    "old_best"
   ]
  },
  {
   "cell_type": "code",
   "execution_count": 7,
   "metadata": {},
   "outputs": [
    {
     "data": {
      "text/html": [
       "<div>\n",
       "<style scoped>\n",
       "    .dataframe tbody tr th:only-of-type {\n",
       "        vertical-align: middle;\n",
       "    }\n",
       "\n",
       "    .dataframe tbody tr th {\n",
       "        vertical-align: top;\n",
       "    }\n",
       "\n",
       "    .dataframe thead th {\n",
       "        text-align: right;\n",
       "    }\n",
       "</style>\n",
       "<table border=\"1\" class=\"dataframe\">\n",
       "  <thead>\n",
       "    <tr style=\"text-align: right;\">\n",
       "      <th></th>\n",
       "      <th>num_samples</th>\n",
       "      <th>r</th>\n",
       "      <th>eta</th>\n",
       "      <th>kstest_stat</th>\n",
       "      <th>kstest_pval</th>\n",
       "    </tr>\n",
       "    <tr>\n",
       "      <th>layer</th>\n",
       "      <th></th>\n",
       "      <th></th>\n",
       "      <th></th>\n",
       "      <th></th>\n",
       "      <th></th>\n",
       "    </tr>\n",
       "  </thead>\n",
       "  <tbody>\n",
       "    <tr>\n",
       "      <th>2.0</th>\n",
       "      <td>3180.0</td>\n",
       "      <td>0.601</td>\n",
       "      <td>3.18</td>\n",
       "      <td>0.036228</td>\n",
       "      <td>4.619069e-04</td>\n",
       "    </tr>\n",
       "    <tr>\n",
       "      <th>3.0</th>\n",
       "      <td>12720.0</td>\n",
       "      <td>0.705</td>\n",
       "      <td>3.63</td>\n",
       "      <td>0.018491</td>\n",
       "      <td>3.295114e-04</td>\n",
       "    </tr>\n",
       "    <tr>\n",
       "      <th>4.0</th>\n",
       "      <td>50880.0</td>\n",
       "      <td>0.790</td>\n",
       "      <td>0.24</td>\n",
       "      <td>0.218044</td>\n",
       "      <td>0.000000e+00</td>\n",
       "    </tr>\n",
       "    <tr>\n",
       "      <th>5.0</th>\n",
       "      <td>203520.0</td>\n",
       "      <td>0.904</td>\n",
       "      <td>1.62</td>\n",
       "      <td>0.003040</td>\n",
       "      <td>4.637489e-02</td>\n",
       "    </tr>\n",
       "    <tr>\n",
       "      <th>6.0</th>\n",
       "      <td>814080.0</td>\n",
       "      <td>0.990</td>\n",
       "      <td>0.24</td>\n",
       "      <td>0.005327</td>\n",
       "      <td>1.720600e-20</td>\n",
       "    </tr>\n",
       "  </tbody>\n",
       "</table>\n",
       "</div>"
      ],
      "text/plain": [
       "       num_samples      r   eta  kstest_stat   kstest_pval\n",
       "layer                                                     \n",
       "2.0         3180.0  0.601  3.18     0.036228  4.619069e-04\n",
       "3.0        12720.0  0.705  3.63     0.018491  3.295114e-04\n",
       "4.0        50880.0  0.790  0.24     0.218044  0.000000e+00\n",
       "5.0       203520.0  0.904  1.62     0.003040  4.637489e-02\n",
       "6.0       814080.0  0.990  0.24     0.005327  1.720600e-20"
      ]
     },
     "execution_count": 7,
     "metadata": {},
     "output_type": "execute_result"
    }
   ],
   "source": [
    "best_params_df = pd.read_csv(os.path.join(os.getcwd(), 'panoptic\\\\CSVs\\\\best_params_df_finer_grid.csv')).set_index(['layer']).sort_index()\n",
    "best_params_df"
   ]
  },
  {
   "cell_type": "code",
   "execution_count": null,
   "metadata": {},
   "outputs": [],
   "source": [
    "all_cdfs = combine_pickles(f'layer{layer}_10000')"
   ]
  },
  {
   "cell_type": "code",
   "execution_count": null,
   "metadata": {},
   "outputs": [],
   "source": [
    "layer = 2\n",
    "layer_cdfs = combine_pickles(f'layer{layer}_10000')\n",
    "layer_df = pd.DataFrame({'(r,eta),cdf' : all_cdfs.items()})\n",
    "layer_df['r'] = pd.Series(layer_df[\"(r,eta),cdf\"].str[0].str[0])\n",
    "layer_df['eta'] = pd.Series(layer_df[\"(r,eta),cdf\"].str[0].str[1])\n",
    "layer_df['cdf'] = pd.Series(layer_df[\"(r,eta),cdf\"].str[1])\n",
    "\n"
   ]
  },
  {
   "cell_type": "code",
   "execution_count": 17,
   "metadata": {},
   "outputs": [],
   "source": [
    "from scipy import optimize\n",
    "\n",
    "def minimize_kstest_stat(layer = None, best_params_df = None, x = [0], x0 = [0, 0]):\n",
    "    if layer:\n",
    "        x = np.sort(obs_x_dict[layer])\n",
    "        x0 = [best_params_df.loc[layer]['r'], best_params_df.loc[layer]['eta']]\n",
    "    print(x, x0)\n",
    "    n = len(x)\n",
    "    history = []\n",
    "\n",
    "    def kstest_stat(params):\n",
    "        r = params[0]\n",
    "        eta = params[1]\n",
    "        cdf = compute_prior_cdf(r, eta, 10000)\n",
    "        history.append((r, eta))\n",
    "        print(r, eta)\n",
    "        cdfvals = cdf(x)\n",
    "        dplus, dminus = np.max(np.arange(1.0, n + 1) / n - cdfvals), np.max(cdfvals - np.arange(0.0, n)/n)\n",
    "        return max(dplus, dminus)\n",
    "    \n",
    "    print(x0, bounds=[(x0[0]-0.1, x0[0]+0.1), (x[1]-0.2, x[1]+0.2)])\n",
    "    optimized = optimize.minimize(kstest_stat, x0, bounds=[(x0[0]-0.1, x0[0]+0.1), (x[1]-0.2, x[1]+0.2)], tol=1e-3)\n",
    "    x_prime = optimized['x']\n",
    "    msg = optimized['message']\n",
    "    return x_prime, msg, history"
   ]
  },
  {
   "cell_type": "code",
   "execution_count": 18,
   "metadata": {},
   "outputs": [
    {
     "name": "stdout",
     "output_type": "stream",
     "text": [
      "[-76.13432886 -63.02074639 -60.52416619 ...  65.19608846  65.26965934\n",
      "  69.44498554] [0.7, 3.6]\n"
     ]
    },
    {
     "ename": "ValueError",
     "evalue": "`x` must be strictly increasing sequence.",
     "output_type": "error",
     "traceback": [
      "\u001b[1;31m---------------------------------------------------------------------------\u001b[0m",
      "\u001b[1;31mValueError\u001b[0m                                Traceback (most recent call last)",
      "Cell \u001b[1;32mIn[18], line 1\u001b[0m\n\u001b[1;32m----> 1\u001b[0m params, hist \u001b[38;5;241m=\u001b[39m \u001b[43mminimize_kstest_stat\u001b[49m\u001b[43m(\u001b[49m\u001b[43mlayer\u001b[49m\u001b[43m \u001b[49m\u001b[38;5;241;43m=\u001b[39;49m\u001b[43m \u001b[49m\u001b[38;5;241;43m3\u001b[39;49m\u001b[43m,\u001b[49m\u001b[43m \u001b[49m\u001b[43mbest_params_df\u001b[49m\u001b[38;5;241;43m=\u001b[39;49m\u001b[43mbest_params_df\u001b[49m\u001b[43m)\u001b[49m\n\u001b[0;32m      2\u001b[0m params\n",
      "Cell \u001b[1;32mIn[17], line 20\u001b[0m, in \u001b[0;36mminimize_kstest_stat\u001b[1;34m(layer, best_params_df, x, x0)\u001b[0m\n\u001b[0;32m     17\u001b[0m     dplus, dminus \u001b[38;5;241m=\u001b[39m np\u001b[38;5;241m.\u001b[39mmax(np\u001b[38;5;241m.\u001b[39marange(\u001b[38;5;241m1.0\u001b[39m, n \u001b[38;5;241m+\u001b[39m \u001b[38;5;241m1\u001b[39m) \u001b[38;5;241m/\u001b[39m n \u001b[38;5;241m-\u001b[39m cdfvals), np\u001b[38;5;241m.\u001b[39mmax(cdfvals \u001b[38;5;241m-\u001b[39m np\u001b[38;5;241m.\u001b[39marange(\u001b[38;5;241m0.0\u001b[39m, n)\u001b[38;5;241m/\u001b[39mn)\n\u001b[0;32m     18\u001b[0m     \u001b[38;5;28;01mreturn\u001b[39;00m \u001b[38;5;28mmax\u001b[39m(dplus, dminus)\n\u001b[1;32m---> 20\u001b[0m x_prime \u001b[38;5;241m=\u001b[39m \u001b[43moptimize\u001b[49m\u001b[38;5;241;43m.\u001b[39;49m\u001b[43mminimize\u001b[49m\u001b[43m(\u001b[49m\u001b[43mkstest_stat\u001b[49m\u001b[43m,\u001b[49m\u001b[43m \u001b[49m\u001b[43mx0\u001b[49m\u001b[43m,\u001b[49m\u001b[43m \u001b[49m\u001b[43mbounds\u001b[49m\u001b[38;5;241;43m=\u001b[39;49m\u001b[43m[\u001b[49m\u001b[43m(\u001b[49m\u001b[43mx0\u001b[49m\u001b[43m[\u001b[49m\u001b[38;5;241;43m0\u001b[39;49m\u001b[43m]\u001b[49m\u001b[38;5;241;43m-\u001b[39;49m\u001b[38;5;241;43m0.1\u001b[39;49m\u001b[43m,\u001b[49m\u001b[43m \u001b[49m\u001b[43mx0\u001b[49m\u001b[43m[\u001b[49m\u001b[38;5;241;43m0\u001b[39;49m\u001b[43m]\u001b[49m\u001b[38;5;241;43m+\u001b[39;49m\u001b[38;5;241;43m0.1\u001b[39;49m\u001b[43m)\u001b[49m\u001b[43m,\u001b[49m\u001b[43m \u001b[49m\u001b[43m(\u001b[49m\u001b[43mx\u001b[49m\u001b[43m[\u001b[49m\u001b[38;5;241;43m1\u001b[39;49m\u001b[43m]\u001b[49m\u001b[38;5;241;43m-\u001b[39;49m\u001b[38;5;241;43m0.2\u001b[39;49m\u001b[43m,\u001b[49m\u001b[43m \u001b[49m\u001b[43mx\u001b[49m\u001b[43m[\u001b[49m\u001b[38;5;241;43m1\u001b[39;49m\u001b[43m]\u001b[49m\u001b[38;5;241;43m+\u001b[39;49m\u001b[38;5;241;43m0.2\u001b[39;49m\u001b[43m)\u001b[49m\u001b[43m]\u001b[49m\u001b[43m,\u001b[49m\u001b[43m \u001b[49m\u001b[43mtol\u001b[49m\u001b[38;5;241;43m=\u001b[39;49m\u001b[38;5;241;43m1e-3\u001b[39;49m\u001b[43m)\u001b[49m[\u001b[38;5;124m'\u001b[39m\u001b[38;5;124mx\u001b[39m\u001b[38;5;124m'\u001b[39m]\n\u001b[0;32m     21\u001b[0m \u001b[38;5;28;01mreturn\u001b[39;00m x_prime, history\n",
      "File \u001b[1;32mc:\\Users\\yashd\\AppData\\Local\\Programs\\Python\\Python312\\Lib\\site-packages\\scipy\\optimize\\_minimize.py:710\u001b[0m, in \u001b[0;36mminimize\u001b[1;34m(fun, x0, args, method, jac, hess, hessp, bounds, constraints, tol, callback, options)\u001b[0m\n\u001b[0;32m    707\u001b[0m     res \u001b[38;5;241m=\u001b[39m _minimize_newtoncg(fun, x0, args, jac, hess, hessp, callback,\n\u001b[0;32m    708\u001b[0m                              \u001b[38;5;241m*\u001b[39m\u001b[38;5;241m*\u001b[39moptions)\n\u001b[0;32m    709\u001b[0m \u001b[38;5;28;01melif\u001b[39;00m meth \u001b[38;5;241m==\u001b[39m \u001b[38;5;124m'\u001b[39m\u001b[38;5;124ml-bfgs-b\u001b[39m\u001b[38;5;124m'\u001b[39m:\n\u001b[1;32m--> 710\u001b[0m     res \u001b[38;5;241m=\u001b[39m \u001b[43m_minimize_lbfgsb\u001b[49m\u001b[43m(\u001b[49m\u001b[43mfun\u001b[49m\u001b[43m,\u001b[49m\u001b[43m \u001b[49m\u001b[43mx0\u001b[49m\u001b[43m,\u001b[49m\u001b[43m \u001b[49m\u001b[43margs\u001b[49m\u001b[43m,\u001b[49m\u001b[43m \u001b[49m\u001b[43mjac\u001b[49m\u001b[43m,\u001b[49m\u001b[43m \u001b[49m\u001b[43mbounds\u001b[49m\u001b[43m,\u001b[49m\n\u001b[0;32m    711\u001b[0m \u001b[43m                           \u001b[49m\u001b[43mcallback\u001b[49m\u001b[38;5;241;43m=\u001b[39;49m\u001b[43mcallback\u001b[49m\u001b[43m,\u001b[49m\u001b[43m \u001b[49m\u001b[38;5;241;43m*\u001b[39;49m\u001b[38;5;241;43m*\u001b[39;49m\u001b[43moptions\u001b[49m\u001b[43m)\u001b[49m\n\u001b[0;32m    712\u001b[0m \u001b[38;5;28;01melif\u001b[39;00m meth \u001b[38;5;241m==\u001b[39m \u001b[38;5;124m'\u001b[39m\u001b[38;5;124mtnc\u001b[39m\u001b[38;5;124m'\u001b[39m:\n\u001b[0;32m    713\u001b[0m     res \u001b[38;5;241m=\u001b[39m _minimize_tnc(fun, x0, args, jac, bounds, callback\u001b[38;5;241m=\u001b[39mcallback,\n\u001b[0;32m    714\u001b[0m                         \u001b[38;5;241m*\u001b[39m\u001b[38;5;241m*\u001b[39moptions)\n",
      "File \u001b[1;32mc:\\Users\\yashd\\AppData\\Local\\Programs\\Python\\Python312\\Lib\\site-packages\\scipy\\optimize\\_lbfgsb_py.py:307\u001b[0m, in \u001b[0;36m_minimize_lbfgsb\u001b[1;34m(fun, x0, args, jac, bounds, disp, maxcor, ftol, gtol, eps, maxfun, maxiter, iprint, callback, maxls, finite_diff_rel_step, **unknown_options)\u001b[0m\n\u001b[0;32m    304\u001b[0m     \u001b[38;5;28;01melse\u001b[39;00m:\n\u001b[0;32m    305\u001b[0m         iprint \u001b[38;5;241m=\u001b[39m disp\n\u001b[1;32m--> 307\u001b[0m sf \u001b[38;5;241m=\u001b[39m \u001b[43m_prepare_scalar_function\u001b[49m\u001b[43m(\u001b[49m\u001b[43mfun\u001b[49m\u001b[43m,\u001b[49m\u001b[43m \u001b[49m\u001b[43mx0\u001b[49m\u001b[43m,\u001b[49m\u001b[43m \u001b[49m\u001b[43mjac\u001b[49m\u001b[38;5;241;43m=\u001b[39;49m\u001b[43mjac\u001b[49m\u001b[43m,\u001b[49m\u001b[43m \u001b[49m\u001b[43margs\u001b[49m\u001b[38;5;241;43m=\u001b[39;49m\u001b[43margs\u001b[49m\u001b[43m,\u001b[49m\u001b[43m \u001b[49m\u001b[43mepsilon\u001b[49m\u001b[38;5;241;43m=\u001b[39;49m\u001b[43meps\u001b[49m\u001b[43m,\u001b[49m\n\u001b[0;32m    308\u001b[0m \u001b[43m                              \u001b[49m\u001b[43mbounds\u001b[49m\u001b[38;5;241;43m=\u001b[39;49m\u001b[43mnew_bounds\u001b[49m\u001b[43m,\u001b[49m\n\u001b[0;32m    309\u001b[0m \u001b[43m                              \u001b[49m\u001b[43mfinite_diff_rel_step\u001b[49m\u001b[38;5;241;43m=\u001b[39;49m\u001b[43mfinite_diff_rel_step\u001b[49m\u001b[43m)\u001b[49m\n\u001b[0;32m    311\u001b[0m func_and_grad \u001b[38;5;241m=\u001b[39m sf\u001b[38;5;241m.\u001b[39mfun_and_grad\n\u001b[0;32m    313\u001b[0m fortran_int \u001b[38;5;241m=\u001b[39m _lbfgsb\u001b[38;5;241m.\u001b[39mtypes\u001b[38;5;241m.\u001b[39mintvar\u001b[38;5;241m.\u001b[39mdtype\n",
      "File \u001b[1;32mc:\\Users\\yashd\\AppData\\Local\\Programs\\Python\\Python312\\Lib\\site-packages\\scipy\\optimize\\_optimize.py:383\u001b[0m, in \u001b[0;36m_prepare_scalar_function\u001b[1;34m(fun, x0, jac, args, bounds, epsilon, finite_diff_rel_step, hess)\u001b[0m\n\u001b[0;32m    379\u001b[0m     bounds \u001b[38;5;241m=\u001b[39m (\u001b[38;5;241m-\u001b[39mnp\u001b[38;5;241m.\u001b[39minf, np\u001b[38;5;241m.\u001b[39minf)\n\u001b[0;32m    381\u001b[0m \u001b[38;5;66;03m# ScalarFunction caches. Reuse of fun(x) during grad\u001b[39;00m\n\u001b[0;32m    382\u001b[0m \u001b[38;5;66;03m# calculation reduces overall function evaluations.\u001b[39;00m\n\u001b[1;32m--> 383\u001b[0m sf \u001b[38;5;241m=\u001b[39m \u001b[43mScalarFunction\u001b[49m\u001b[43m(\u001b[49m\u001b[43mfun\u001b[49m\u001b[43m,\u001b[49m\u001b[43m \u001b[49m\u001b[43mx0\u001b[49m\u001b[43m,\u001b[49m\u001b[43m \u001b[49m\u001b[43margs\u001b[49m\u001b[43m,\u001b[49m\u001b[43m \u001b[49m\u001b[43mgrad\u001b[49m\u001b[43m,\u001b[49m\u001b[43m \u001b[49m\u001b[43mhess\u001b[49m\u001b[43m,\u001b[49m\n\u001b[0;32m    384\u001b[0m \u001b[43m                    \u001b[49m\u001b[43mfinite_diff_rel_step\u001b[49m\u001b[43m,\u001b[49m\u001b[43m \u001b[49m\u001b[43mbounds\u001b[49m\u001b[43m,\u001b[49m\u001b[43m \u001b[49m\u001b[43mepsilon\u001b[49m\u001b[38;5;241;43m=\u001b[39;49m\u001b[43mepsilon\u001b[49m\u001b[43m)\u001b[49m\n\u001b[0;32m    386\u001b[0m \u001b[38;5;28;01mreturn\u001b[39;00m sf\n",
      "File \u001b[1;32mc:\\Users\\yashd\\AppData\\Local\\Programs\\Python\\Python312\\Lib\\site-packages\\scipy\\optimize\\_differentiable_functions.py:158\u001b[0m, in \u001b[0;36mScalarFunction.__init__\u001b[1;34m(self, fun, x0, args, grad, hess, finite_diff_rel_step, finite_diff_bounds, epsilon)\u001b[0m\n\u001b[0;32m    155\u001b[0m     \u001b[38;5;28mself\u001b[39m\u001b[38;5;241m.\u001b[39mf \u001b[38;5;241m=\u001b[39m fun_wrapped(\u001b[38;5;28mself\u001b[39m\u001b[38;5;241m.\u001b[39mx)\n\u001b[0;32m    157\u001b[0m \u001b[38;5;28mself\u001b[39m\u001b[38;5;241m.\u001b[39m_update_fun_impl \u001b[38;5;241m=\u001b[39m update_fun\n\u001b[1;32m--> 158\u001b[0m \u001b[38;5;28;43mself\u001b[39;49m\u001b[38;5;241;43m.\u001b[39;49m\u001b[43m_update_fun\u001b[49m\u001b[43m(\u001b[49m\u001b[43m)\u001b[49m\n\u001b[0;32m    160\u001b[0m \u001b[38;5;66;03m# Gradient evaluation\u001b[39;00m\n\u001b[0;32m    161\u001b[0m \u001b[38;5;28;01mif\u001b[39;00m \u001b[38;5;28mcallable\u001b[39m(grad):\n",
      "File \u001b[1;32mc:\\Users\\yashd\\AppData\\Local\\Programs\\Python\\Python312\\Lib\\site-packages\\scipy\\optimize\\_differentiable_functions.py:251\u001b[0m, in \u001b[0;36mScalarFunction._update_fun\u001b[1;34m(self)\u001b[0m\n\u001b[0;32m    249\u001b[0m \u001b[38;5;28;01mdef\u001b[39;00m \u001b[38;5;21m_update_fun\u001b[39m(\u001b[38;5;28mself\u001b[39m):\n\u001b[0;32m    250\u001b[0m     \u001b[38;5;28;01mif\u001b[39;00m \u001b[38;5;129;01mnot\u001b[39;00m \u001b[38;5;28mself\u001b[39m\u001b[38;5;241m.\u001b[39mf_updated:\n\u001b[1;32m--> 251\u001b[0m         \u001b[38;5;28;43mself\u001b[39;49m\u001b[38;5;241;43m.\u001b[39;49m\u001b[43m_update_fun_impl\u001b[49m\u001b[43m(\u001b[49m\u001b[43m)\u001b[49m\n\u001b[0;32m    252\u001b[0m         \u001b[38;5;28mself\u001b[39m\u001b[38;5;241m.\u001b[39mf_updated \u001b[38;5;241m=\u001b[39m \u001b[38;5;28;01mTrue\u001b[39;00m\n",
      "File \u001b[1;32mc:\\Users\\yashd\\AppData\\Local\\Programs\\Python\\Python312\\Lib\\site-packages\\scipy\\optimize\\_differentiable_functions.py:155\u001b[0m, in \u001b[0;36mScalarFunction.__init__.<locals>.update_fun\u001b[1;34m()\u001b[0m\n\u001b[0;32m    154\u001b[0m \u001b[38;5;28;01mdef\u001b[39;00m \u001b[38;5;21mupdate_fun\u001b[39m():\n\u001b[1;32m--> 155\u001b[0m     \u001b[38;5;28mself\u001b[39m\u001b[38;5;241m.\u001b[39mf \u001b[38;5;241m=\u001b[39m \u001b[43mfun_wrapped\u001b[49m\u001b[43m(\u001b[49m\u001b[38;5;28;43mself\u001b[39;49m\u001b[38;5;241;43m.\u001b[39;49m\u001b[43mx\u001b[49m\u001b[43m)\u001b[49m\n",
      "File \u001b[1;32mc:\\Users\\yashd\\AppData\\Local\\Programs\\Python\\Python312\\Lib\\site-packages\\scipy\\optimize\\_differentiable_functions.py:137\u001b[0m, in \u001b[0;36mScalarFunction.__init__.<locals>.fun_wrapped\u001b[1;34m(x)\u001b[0m\n\u001b[0;32m    133\u001b[0m \u001b[38;5;28mself\u001b[39m\u001b[38;5;241m.\u001b[39mnfev \u001b[38;5;241m+\u001b[39m\u001b[38;5;241m=\u001b[39m \u001b[38;5;241m1\u001b[39m\n\u001b[0;32m    134\u001b[0m \u001b[38;5;66;03m# Send a copy because the user may overwrite it.\u001b[39;00m\n\u001b[0;32m    135\u001b[0m \u001b[38;5;66;03m# Overwriting results in undefined behaviour because\u001b[39;00m\n\u001b[0;32m    136\u001b[0m \u001b[38;5;66;03m# fun(self.x) will change self.x, with the two no longer linked.\u001b[39;00m\n\u001b[1;32m--> 137\u001b[0m fx \u001b[38;5;241m=\u001b[39m \u001b[43mfun\u001b[49m\u001b[43m(\u001b[49m\u001b[43mnp\u001b[49m\u001b[38;5;241;43m.\u001b[39;49m\u001b[43mcopy\u001b[49m\u001b[43m(\u001b[49m\u001b[43mx\u001b[49m\u001b[43m)\u001b[49m\u001b[43m,\u001b[49m\u001b[43m \u001b[49m\u001b[38;5;241;43m*\u001b[39;49m\u001b[43margs\u001b[49m\u001b[43m)\u001b[49m\n\u001b[0;32m    138\u001b[0m \u001b[38;5;66;03m# Make sure the function returns a true scalar\u001b[39;00m\n\u001b[0;32m    139\u001b[0m \u001b[38;5;28;01mif\u001b[39;00m \u001b[38;5;129;01mnot\u001b[39;00m np\u001b[38;5;241m.\u001b[39misscalar(fx):\n",
      "Cell \u001b[1;32mIn[17], line 13\u001b[0m, in \u001b[0;36mminimize_kstest_stat.<locals>.kstest_stat\u001b[1;34m(params)\u001b[0m\n\u001b[0;32m     11\u001b[0m r \u001b[38;5;241m=\u001b[39m params[\u001b[38;5;241m0\u001b[39m]\n\u001b[0;32m     12\u001b[0m eta \u001b[38;5;241m=\u001b[39m params[\u001b[38;5;241m1\u001b[39m]\n\u001b[1;32m---> 13\u001b[0m cdf \u001b[38;5;241m=\u001b[39m \u001b[43mcompute_prior_cdf\u001b[49m\u001b[43m(\u001b[49m\u001b[43mr\u001b[49m\u001b[43m,\u001b[49m\u001b[43m \u001b[49m\u001b[43meta\u001b[49m\u001b[43m,\u001b[49m\u001b[43m \u001b[49m\u001b[38;5;241;43m10000\u001b[39;49m\u001b[43m)\u001b[49m\n\u001b[0;32m     14\u001b[0m history\u001b[38;5;241m.\u001b[39mappend((r, eta))\n\u001b[0;32m     15\u001b[0m \u001b[38;5;28mprint\u001b[39m(r, eta)\n",
      "Cell \u001b[1;32mIn[7], line 40\u001b[0m, in \u001b[0;36mcompute_prior_cdf\u001b[1;34m(r, eta, n_samples, tail_bound, n_tail, scale)\u001b[0m\n\u001b[0;32m     37\u001b[0m     prior_cdf[i] \u001b[38;5;241m=\u001b[39m np\u001b[38;5;241m.\u001b[39mtrapz(prior_pdf[:i\u001b[38;5;241m+\u001b[39m\u001b[38;5;241m1\u001b[39m], xs[:i\u001b[38;5;241m+\u001b[39m\u001b[38;5;241m1\u001b[39m]) \n\u001b[0;32m     38\u001b[0m prior_cdf \u001b[38;5;241m=\u001b[39m np\u001b[38;5;241m.\u001b[39mappend(prior_cdf[:\u001b[38;5;241m-\u001b[39m\u001b[38;5;241m1\u001b[39m], \u001b[38;5;241m1\u001b[39m)\n\u001b[1;32m---> 40\u001b[0m poly \u001b[38;5;241m=\u001b[39m \u001b[43minterpolate\u001b[49m\u001b[38;5;241;43m.\u001b[39;49m\u001b[43mCubicSpline\u001b[49m\u001b[43m(\u001b[49m\u001b[43mx\u001b[49m\u001b[43m \u001b[49m\u001b[38;5;241;43m=\u001b[39;49m\u001b[43m \u001b[49m\u001b[43mxs\u001b[49m\u001b[43m,\u001b[49m\u001b[43m \u001b[49m\u001b[43my\u001b[49m\u001b[43m \u001b[49m\u001b[38;5;241;43m=\u001b[39;49m\u001b[43m \u001b[49m\u001b[43mprior_cdf\u001b[49m\u001b[43m)\u001b[49m\n\u001b[0;32m     42\u001b[0m cdfs[(r, eta)] \u001b[38;5;241m=\u001b[39m poly\n\u001b[0;32m     43\u001b[0m \u001b[38;5;28;01mwith\u001b[39;00m \u001b[38;5;28mopen\u001b[39m(\u001b[38;5;124mf\u001b[39m\u001b[38;5;124m'\u001b[39m\u001b[38;5;124mCDFs/optimize_cdfs_\u001b[39m\u001b[38;5;132;01m{\u001b[39;00mn_samples\u001b[38;5;132;01m}\u001b[39;00m\u001b[38;5;124m.pickle\u001b[39m\u001b[38;5;124m'\u001b[39m, \u001b[38;5;124m'\u001b[39m\u001b[38;5;124mwb\u001b[39m\u001b[38;5;124m'\u001b[39m) \u001b[38;5;28;01mas\u001b[39;00m handle:\n",
      "File \u001b[1;32mc:\\Users\\yashd\\AppData\\Local\\Programs\\Python\\Python312\\Lib\\site-packages\\scipy\\interpolate\\_cubic.py:636\u001b[0m, in \u001b[0;36mCubicSpline.__init__\u001b[1;34m(self, x, y, axis, bc_type, extrapolate)\u001b[0m\n\u001b[0;32m    635\u001b[0m \u001b[38;5;28;01mdef\u001b[39;00m \u001b[38;5;21m__init__\u001b[39m(\u001b[38;5;28mself\u001b[39m, x, y, axis\u001b[38;5;241m=\u001b[39m\u001b[38;5;241m0\u001b[39m, bc_type\u001b[38;5;241m=\u001b[39m\u001b[38;5;124m'\u001b[39m\u001b[38;5;124mnot-a-knot\u001b[39m\u001b[38;5;124m'\u001b[39m, extrapolate\u001b[38;5;241m=\u001b[39m\u001b[38;5;28;01mNone\u001b[39;00m):\n\u001b[1;32m--> 636\u001b[0m     x, dx, y, axis, _ \u001b[38;5;241m=\u001b[39m \u001b[43mprepare_input\u001b[49m\u001b[43m(\u001b[49m\u001b[43mx\u001b[49m\u001b[43m,\u001b[49m\u001b[43m \u001b[49m\u001b[43my\u001b[49m\u001b[43m,\u001b[49m\u001b[43m \u001b[49m\u001b[43maxis\u001b[49m\u001b[43m)\u001b[49m\n\u001b[0;32m    637\u001b[0m     n \u001b[38;5;241m=\u001b[39m \u001b[38;5;28mlen\u001b[39m(x)\n\u001b[0;32m    639\u001b[0m     bc, y \u001b[38;5;241m=\u001b[39m \u001b[38;5;28mself\u001b[39m\u001b[38;5;241m.\u001b[39m_validate_bc(bc_type, y, y\u001b[38;5;241m.\u001b[39mshape[\u001b[38;5;241m1\u001b[39m:], axis)\n",
      "File \u001b[1;32mc:\\Users\\yashd\\AppData\\Local\\Programs\\Python\\Python312\\Lib\\site-packages\\scipy\\interpolate\\_cubic.py:61\u001b[0m, in \u001b[0;36mprepare_input\u001b[1;34m(x, y, axis, dydx)\u001b[0m\n\u001b[0;32m     59\u001b[0m dx \u001b[38;5;241m=\u001b[39m np\u001b[38;5;241m.\u001b[39mdiff(x)\n\u001b[0;32m     60\u001b[0m \u001b[38;5;28;01mif\u001b[39;00m np\u001b[38;5;241m.\u001b[39many(dx \u001b[38;5;241m<\u001b[39m\u001b[38;5;241m=\u001b[39m \u001b[38;5;241m0\u001b[39m):\n\u001b[1;32m---> 61\u001b[0m     \u001b[38;5;28;01mraise\u001b[39;00m \u001b[38;5;167;01mValueError\u001b[39;00m(\u001b[38;5;124m\"\u001b[39m\u001b[38;5;124m`x` must be strictly increasing sequence.\u001b[39m\u001b[38;5;124m\"\u001b[39m)\n\u001b[0;32m     63\u001b[0m y \u001b[38;5;241m=\u001b[39m np\u001b[38;5;241m.\u001b[39mmoveaxis(y, axis, \u001b[38;5;241m0\u001b[39m)\n\u001b[0;32m     64\u001b[0m \u001b[38;5;28;01mif\u001b[39;00m dydx \u001b[38;5;129;01mis\u001b[39;00m \u001b[38;5;129;01mnot\u001b[39;00m \u001b[38;5;28;01mNone\u001b[39;00m:\n",
      "\u001b[1;31mValueError\u001b[0m: `x` must be strictly increasing sequence."
     ]
    }
   ],
   "source": [
    "params, msg, hist = minimize_kstest_stat(layer = 3, best_params_df=best_params_df)\n",
    "params, msg"
   ]
  },
  {
   "cell_type": "code",
   "execution_count": 18,
   "metadata": {},
   "outputs": [],
   "source": [
    "\n",
    "\n",
    "for layer in np.arange(2,9):\n",
    "    \n",
    "    fixed_x = np.sort(obs_x_dict[layer])\n",
    "    n = len(fixed_x)\n",
    "    history_dict = dict()\n",
    "\n",
    "    def kstest_stat(params):\n",
    "        r = params[0]\n",
    "        eta = params[1]\n",
    "        cdf = compute_prior_cdf(r, eta, 10000)\n",
    "        history_dict[layer].append((r, eta))\n",
    "        print(r, eta)\n",
    "        cdfvals = cdf(fixed_x)\n",
    "        dplus, dminus = np.max(np.arange(1.0, n + 1) / n - cdfvals), np.max(cdfvals - np.arange(0.0, n)/n)\n",
    "        return max(dplus, dminus)\n",
    "\n",
    "optimize.minimize(kstest_stat, [0.7, 3.6], bounds=[(0.5, 0.9), (3.5, 3.6)], tol=1e-5)\n",
    "    \n"
   ]
  },
  {
   "cell_type": "code",
   "execution_count": 39,
   "metadata": {},
   "outputs": [
    {
     "name": "stdout",
     "output_type": "stream",
     "text": [
      "0.7 3.6\n",
      "0.70000001 3.6\n",
      "0.7 3.60000001\n"
     ]
    },
    {
     "data": {
      "text/plain": [
       "array([0.7, 3.6])"
      ]
     },
     "execution_count": 39,
     "metadata": {},
     "output_type": "execute_result"
    }
   ],
   "source": [
    "from scipy import optimize\n",
    "optimize.minimize(kstest_stat, [0.7, 3.6], bounds=[(0.5, 0.9), (3.4, 3.8)], tol=1)['x']"
   ]
  },
  {
   "cell_type": "code",
   "execution_count": null,
   "metadata": {},
   "outputs": [],
   "source": []
  }
 ],
 "metadata": {
  "kernelspec": {
   "display_name": "Python 3",
   "language": "python",
   "name": "python3"
  },
  "language_info": {
   "codemirror_mode": {
    "name": "ipython",
    "version": 3
   },
   "file_extension": ".py",
   "mimetype": "text/x-python",
   "name": "python",
   "nbconvert_exporter": "python",
   "pygments_lexer": "ipython3",
   "version": "3.12.1"
  }
 },
 "nbformat": 4,
 "nbformat_minor": 2
}
