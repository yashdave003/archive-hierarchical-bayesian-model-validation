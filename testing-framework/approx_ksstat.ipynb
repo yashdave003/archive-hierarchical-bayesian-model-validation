{
 "cells": [
  {
   "cell_type": "code",
   "execution_count": 1,
   "metadata": {},
   "outputs": [],
   "source": [
    "from utilities import *\n",
    "from plot_utilities import *"
   ]
  },
  {
   "cell_type": "code",
   "execution_count": 31,
   "metadata": {},
   "outputs": [],
   "source": [
    "sample_dict = pd.read_pickle('full-pastis-gray-wavelet/obs_x_dict.pickle')\n",
    "all_cdfs = combine_pickles('scipy_10000') | combine_pickles('mtlb_10000')"
   ]
  },
  {
   "cell_type": "code",
   "execution_count": 82,
   "metadata": {},
   "outputs": [
    {
     "data": {
      "text/plain": [
       "RangeIndex(start=0, stop=0, step=1)"
      ]
     },
     "execution_count": 82,
     "metadata": {},
     "output_type": "execute_result"
    }
   ],
   "source": [
    "sample_dict[6].size #// 10**6\n",
    "ksstats_df = pd.DataFrame(columns = ['subsample_size', 'ksstat', '% error'])\n",
    "stats.ks_1samp(compute_moving_metric(sample_dict[2], 10, np.mean), all_cdfs[(0.6, 3.2)])\n",
    "stats.ks_1samp(sample_dict[2], all_cdfs[(0.4, 4)])"
   ]
  },
  {
   "cell_type": "code",
   "execution_count": 105,
   "metadata": {},
   "outputs": [],
   "source": [
    "def compute_moving_metric(sample, k, metric):\n",
    "    n = len(sample)\n",
    "    return metric(np.array_split(np.sort(sample), n//k), axis = 1)\n",
    "\n",
    "ksstats_df = pd.DataFrame(columns = ['subsample_size', 'percent_sample', 'ksstat', 'abs_error', 'rel_error'])\n",
    "x = sample_dict[8]\n",
    "cdf = compute_prior_cdf(5, 0)\n"
   ]
  },
  {
   "cell_type": "code",
   "execution_count": 106,
   "metadata": {},
   "outputs": [
    {
     "name": "stdout",
     "output_type": "stream",
     "text": [
      "True Stat: 0.22743338834433255\n"
     ]
    },
    {
     "data": {
      "text/html": [
       "<div>\n",
       "<style scoped>\n",
       "    .dataframe tbody tr th:only-of-type {\n",
       "        vertical-align: middle;\n",
       "    }\n",
       "\n",
       "    .dataframe tbody tr th {\n",
       "        vertical-align: top;\n",
       "    }\n",
       "\n",
       "    .dataframe thead th {\n",
       "        text-align: right;\n",
       "    }\n",
       "</style>\n",
       "<table border=\"1\" class=\"dataframe\">\n",
       "  <thead>\n",
       "    <tr style=\"text-align: right;\">\n",
       "      <th></th>\n",
       "      <th>subsample_size</th>\n",
       "      <th>percent_sample</th>\n",
       "      <th>ksstat</th>\n",
       "      <th>abs_error</th>\n",
       "      <th>rel_error</th>\n",
       "    </tr>\n",
       "  </thead>\n",
       "  <tbody>\n",
       "    <tr>\n",
       "      <th>0</th>\n",
       "      <td>100.0</td>\n",
       "      <td>0.000768</td>\n",
       "      <td>0.265662</td>\n",
       "      <td>0.038229</td>\n",
       "      <td>16.809000</td>\n",
       "    </tr>\n",
       "    <tr>\n",
       "      <th>1</th>\n",
       "      <td>1000.0</td>\n",
       "      <td>0.007677</td>\n",
       "      <td>0.241894</td>\n",
       "      <td>0.014460</td>\n",
       "      <td>6.358100</td>\n",
       "    </tr>\n",
       "    <tr>\n",
       "      <th>2</th>\n",
       "      <td>10000.0</td>\n",
       "      <td>0.076770</td>\n",
       "      <td>0.228540</td>\n",
       "      <td>0.001106</td>\n",
       "      <td>0.486470</td>\n",
       "    </tr>\n",
       "    <tr>\n",
       "      <th>3</th>\n",
       "      <td>100000.0</td>\n",
       "      <td>0.767700</td>\n",
       "      <td>0.227708</td>\n",
       "      <td>0.000274</td>\n",
       "      <td>0.120630</td>\n",
       "    </tr>\n",
       "    <tr>\n",
       "      <th>4</th>\n",
       "      <td>1000000.0</td>\n",
       "      <td>7.677000</td>\n",
       "      <td>0.227390</td>\n",
       "      <td>-0.000044</td>\n",
       "      <td>0.019142</td>\n",
       "    </tr>\n",
       "    <tr>\n",
       "      <th>5</th>\n",
       "      <td>10000000.0</td>\n",
       "      <td>76.770000</td>\n",
       "      <td>0.227379</td>\n",
       "      <td>-0.000054</td>\n",
       "      <td>0.023952</td>\n",
       "    </tr>\n",
       "    <tr>\n",
       "      <th>6</th>\n",
       "      <td>100000000.0</td>\n",
       "      <td>767.700000</td>\n",
       "      <td>0.227433</td>\n",
       "      <td>0.000000</td>\n",
       "      <td>0.000000</td>\n",
       "    </tr>\n",
       "  </tbody>\n",
       "</table>\n",
       "</div>"
      ],
      "text/plain": [
       "   subsample_size  percent_sample    ksstat  abs_error  rel_error\n",
       "0           100.0        0.000768  0.265662   0.038229  16.809000\n",
       "1          1000.0        0.007677  0.241894   0.014460   6.358100\n",
       "2         10000.0        0.076770  0.228540   0.001106   0.486470\n",
       "3        100000.0        0.767700  0.227708   0.000274   0.120630\n",
       "4       1000000.0        7.677000  0.227390  -0.000044   0.019142\n",
       "5      10000000.0       76.770000  0.227379  -0.000054   0.023952\n",
       "6     100000000.0      767.700000  0.227433   0.000000   0.000000"
      ]
     },
     "execution_count": 106,
     "metadata": {},
     "output_type": "execute_result"
    }
   ],
   "source": [
    "true_stat = stats.ks_1samp(x, cdf).statistic\n",
    "print(\"True Stat:\", true_stat)\n",
    "i = 0\n",
    "n = x.size\n",
    "for k in np.logspace(2, np.ceil(np.log10(n)), int(np.ceil(np.log10(n))) - 1):\n",
    "    subsample = np.sort(x[np.random.permutation(n)[:int(min(k, n))]])\n",
    "    ksstat = stats.ks_1samp(subsample, cdf).statistic\n",
    "    ksstats_df.loc[i] = k, round_to_sigfigs(k/n*100, 4), ksstat, round_to_sigfigs(ksstat - true_stat), round_to_sigfigs(np.abs(ksstat - true_stat)/true_stat * 100)\n",
    "    i += 1\n",
    "    \n",
    "ksstats_df"
   ]
  },
  {
   "cell_type": "code",
   "execution_count": 103,
   "metadata": {},
   "outputs": [
    {
     "data": {
      "text/plain": [
       "KstestResult(statistic=0.034997237265525505, pvalue=0.0, statistic_location=0.4601189090764415, statistic_sign=1)"
      ]
     },
     "execution_count": 103,
     "metadata": {},
     "output_type": "execute_result"
    }
   ],
   "source": [
    "stats.ks_1samp(sample_dict[6], all_cdfs[(1, 1)])"
   ]
  },
  {
   "cell_type": "code",
   "execution_count": null,
   "metadata": {},
   "outputs": [],
   "source": [
    "def compute_ksstat(sample, cdf, sorted_sample = True):\n",
    "    '''\n",
    "    Computes the KS-Test Statistic, assumes that the sample is already sorted\n",
    "    '''\n",
    "    if not sorted_sample:\n",
    "        sample = np.sort(sample)\n",
    "\n",
    "    if isinstance(cdf, tuple):\n",
    "        r = cdf[0]\n",
    "        eta = cdf[1]\n",
    "        cdf = compute_prior_cdf(r, eta, 10000)\n",
    "    \n",
    "    n = len(sample)\n",
    "    cdfvals = cdf(sample)\n",
    "    dplus, dminus = (np.arange(1.0, n + 1) / n - cdfvals), (cdfvals - np.arange(0.0, n)/n)\n",
    "    return np.max(np.append(dplus, dminus))\n",
    "\n",
    "def approx_ksstat(sample, cdf):\n",
    "    "
   ]
  }
 ],
 "metadata": {
  "kernelspec": {
   "display_name": "hbmv",
   "language": "python",
   "name": "python3"
  },
  "language_info": {
   "codemirror_mode": {
    "name": "ipython",
    "version": 3
   },
   "file_extension": ".py",
   "mimetype": "text/x-python",
   "name": "python",
   "nbconvert_exporter": "python",
   "pygments_lexer": "ipython3",
   "version": "3.11.9"
  }
 },
 "nbformat": 4,
 "nbformat_minor": 2
}
