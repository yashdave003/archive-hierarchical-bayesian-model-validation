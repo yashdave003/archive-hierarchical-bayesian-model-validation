{
 "cells": [
  {
   "cell_type": "code",
   "execution_count": 1,
   "metadata": {},
   "outputs": [],
   "source": [
    "import os\n",
    "BRANDON = '/Users/brandonmarks/Desktop/Research Materials/hierarchical-bayesian-model-validation/'\n",
    "YASH = '/Users/yashd/Desktop/hierarchical-bayesian-model-validation/'\n",
    "HANNAH = ''\n",
    "ZIXUN = ''\n",
    "\n",
    "ROOT_DIR = YASH\n",
    "os.chdir(ROOT_DIR + 'testing-framework/')\n",
    "\n",
    "from utilities import *\n",
    "from plot_utilities import *\n",
    "\n",
    "from scipy import special\n",
    "np.random.seed(42)\n",
    "from tqdm import tqdm\n",
    "import sys"
   ]
  },
  {
   "cell_type": "code",
   "execution_count": 2,
   "metadata": {},
   "outputs": [],
   "source": [
    "import matlab.engine \n",
    "eng = matlab.engine.connect_matlab()"
   ]
  },
  {
   "cell_type": "code",
   "execution_count": 3,
   "metadata": {},
   "outputs": [],
   "source": [
    "def compute_prior_cdf_using_gamma_cdf(r, eta, n_samples = 2000, tail_bound = 0.01, tail_percent = 0.1, scale = 1, use_matlab=False, eng= None, enforce_assert=True, return_assert = False, return_xs=False, debug=False):\n",
    "    \n",
    "    beta = (eta + 1.5)/r \n",
    "    var_prior = scale * scipy.special.gamma(beta + 1/r)/scipy.special.gamma(beta)\n",
    "        \n",
    "    cheby = np.sqrt(var_prior/(tail_bound))\n",
    "    if np.isnan(var_prior):\n",
    "        cheby = 1e100\n",
    "    n_tail = int(n_samples*tail_percent)\n",
    "    \n",
    "    # introduced additional bound in case chebyshev is unwieldy\n",
    "    x_max = min(99, cheby) \n",
    "    if cheby < 120:\n",
    "        n_tail = 0\n",
    "        if debug:\n",
    "            print(f\"No tail\")\n",
    "    if debug:\n",
    "        print(f\"Chebyshev bound: {cheby}\")\n",
    "\n",
    "    xs = np.linspace(-x_max, x_max, n_samples-2*n_tail)\n",
    "    xs = np.append(-np.logspace(np.log10(cheby), 2, n_tail), xs)\n",
    "    xs = np.append(xs, np.logspace(2, np.log10(cheby), n_tail))\n",
    "\n",
    "    prior_cdf = np.full(xs.shape, np.nan)\n",
    "\n",
    "    if debug:\n",
    "        loop = tqdm(range(len(xs)))\n",
    "    else:\n",
    "        loop = range(len(xs))\n",
    "    for j in loop:\n",
    "\n",
    "        x = xs[j]\n",
    "        # Note that theta = variance, np.sqrt(theta) = SD\n",
    "        def gauss_density(z):\n",
    "            return (1/(np.sqrt(2*np.pi)) * np.exp(-0.5*(x**2)))\n",
    "\n",
    "        def gen_gamma_cdf(x):\n",
    "            return scipy.special.gammainc(beta, x**r)\n",
    "\n",
    "        def integrand(z):\n",
    "            return gauss_density(z) * (1-gen_gamma_cdf((x/z)**2))\n",
    "\n",
    "        if use_matlab:\n",
    "            prior_cdf[j] = eng.compute_cdf_using_gengamma(float(r), float(eta), float(x), nargout=1)  \n",
    "        else:\n",
    "            res = integrate.quad(integrand, 0, np.inf)[0]\n",
    "            if x > 0:\n",
    "                res = 1-res\n",
    "            prior_cdf[j] = res\n",
    "        \n",
    "    last = prior_cdf[-1]\n",
    "    first = prior_cdf[1]\n",
    "\n",
    "    if debug:\n",
    "        print(\"First CDF value:\", first)\n",
    "        print(\"Last CDF value:\", last)\n",
    "\n",
    "    eps = tail_bound\n",
    "    if return_assert:\n",
    "        if not -eps < first < eps:\n",
    "            return None\n",
    "        if not 1 - eps < last < 1 + eps:\n",
    "            return None    \n",
    "\n",
    "    if enforce_assert:\n",
    "        assert -eps < first < eps    \n",
    "        assert 1 - eps < last < 1 + eps\n",
    "\n",
    "    xs = np.concatenate([[1.1 * xs[0]], xs, [1.1 * xs[-1]]])\n",
    "    prior_cdf = np.concatenate([[0], prior_cdf, [1]])\n",
    "    cdf_spline = interpolate.InterpolatedUnivariateSpline(x=xs, y=prior_cdf, k=3, ext='const')\n",
    "\n",
    "    if enforce_assert:\n",
    "        x = np.sort(sample_prior(r, eta, 100000))\n",
    "        res = stats.ks_1samp(x, cdf_spline)\n",
    "        if debug:\n",
    "            print(res)\n",
    "        assert 0 <= res.statistic <= .1\n",
    "\n",
    "    if return_assert:\n",
    "        x = np.sort(sample_prior(r, eta, 100000))\n",
    "        res = stats.ks_1samp(x, cdf_spline)\n",
    "        if debug:\n",
    "            print(res)\n",
    "        if not 0 <= res.statistic <= .1:\n",
    "            return None\n",
    "\n",
    "    if return_xs:\n",
    "        return xs, cdf_spline\n",
    "    else:\n",
    "        return cdf_spline"
   ]
  },
  {
   "cell_type": "code",
   "execution_count": 4,
   "metadata": {},
   "outputs": [
    {
     "name": "stdout",
     "output_type": "stream",
     "text": [
      "Chebyshev bound: 5.303970058521906e+18\n"
     ]
    },
    {
     "name": "stderr",
     "output_type": "stream",
     "text": [
      "100%|██████████| 1000/1000 [00:07<00:00, 126.92it/s]\n"
     ]
    },
    {
     "name": "stdout",
     "output_type": "stream",
     "text": [
      "First CDF value: 0.0015423807919352696\n",
      "Last CDF value: 0.9993659242234904\n",
      "KstestResult(statistic=0.004254658934789879, pvalue=0.053389598228911095, statistic_location=-1.6577144261030678e+16, statistic_sign=1)\n"
     ]
    }
   ],
   "source": [
    "xs, cdf = compute_prior_cdf_using_gamma_cdf(0.05, 1, 1000, eng=eng, use_matlab=True, debug=True, return_xs=True)"
   ]
  },
  {
   "cell_type": "code",
   "execution_count": 5,
   "metadata": {},
   "outputs": [],
   "source": [
    "def compute_prior_cdf_using_gamma_cdf_efficient(r, eta, n_samples = 2000, tail_bound = 0.01, tail_percent = 0.1, scale = 1, use_matlab=False, eng= None, enforce_assert=True, return_assert = False, return_xs=False, debug=False):\n",
    "    \n",
    "    beta = (eta + 1.5)/r \n",
    "    var_prior = scale * scipy.special.gamma(beta + 1/r)/scipy.special.gamma(beta)\n",
    "        \n",
    "    cheby = np.sqrt(var_prior/(tail_bound))\n",
    "    if np.isnan(var_prior):\n",
    "        cheby = 1e100\n",
    "    n_tail = int(n_samples*tail_percent)\n",
    "    \n",
    "    # introduced additional bound in case chebyshev is unwieldy\n",
    "    x_max = min(99, cheby) \n",
    "    if cheby < 120:\n",
    "        n_tail = 0\n",
    "        if debug:\n",
    "            print(f\"No tail\")\n",
    "    if debug:\n",
    "        print(f\"Chebyshev bound: {cheby}\")\n",
    "\n",
    "    xs_minus = np.linspace(-x_max, 0, n_samples//2-n_tail) \n",
    "    xs_minus = np.append(-np.logspace(np.log10(cheby), 2, n_tail), xs_minus)\n",
    "\n",
    "    prior_cdf_minus = np.full(xs_minus.shape, np.nan)\n",
    "\n",
    "    if debug:\n",
    "        loop = tqdm(range(len(xs_minus)))\n",
    "    else:\n",
    "        loop = range(len(xs_minus))\n",
    "    for j in loop:\n",
    "\n",
    "        x = xs_minus[j]\n",
    "        # Note that theta = variance, np.sqrt(theta) = SD\n",
    "        def gauss_density(z):\n",
    "            return (1/(np.sqrt(2*np.pi)) * np.exp(-0.5*(x**2)))\n",
    "\n",
    "        def gen_gamma_cdf(x):\n",
    "            return scipy.special.gammainc(beta, x**r)\n",
    "\n",
    "        def integrand(z):\n",
    "            return gauss_density(z) * (1-gen_gamma_cdf((x/z)**2))\n",
    "\n",
    "        if use_matlab:\n",
    "            prior_cdf_minus[j] = eng.compute_cdf_using_gengamma(float(r), float(eta), float(x), nargout=1)  \n",
    "        else:\n",
    "            res = integrate.quad(integrand, 0, np.inf)[0]\n",
    "            if x > 0:\n",
    "                res = 1-res\n",
    "            prior_cdf_minus[j] = res\n",
    "        \n",
    "    xs_plus = -xs_minus.copy()[:-1][::-1]\n",
    "    prior_cdf_plus = 1 - prior_cdf_minus[:-1][::-1]\n",
    "\n",
    "    xs = np.hstack((xs_minus, xs_plus))\n",
    "    prior_cdf = np.hstack((prior_cdf_minus, prior_cdf_plus))\n",
    "    first = prior_cdf[0]\n",
    "    last = prior_cdf[-1]\n",
    "\n",
    "    if debug:\n",
    "        print(\"First CDF value:\", first)\n",
    "        print(\"Last CDF value:\", last)\n",
    "\n",
    "    eps = tail_bound\n",
    "    if return_assert:\n",
    "        if not -eps < first < eps:\n",
    "            return None\n",
    "        if not 1 - eps < last < 1 + eps:\n",
    "            return None    \n",
    "\n",
    "    if enforce_assert:\n",
    "        assert -eps < first < eps    \n",
    "        assert 1 - eps < last < 1 + eps\n",
    "\n",
    "    xs = np.concatenate([[1.1 * xs[0]], xs, [1.1 * xs[-1]]])\n",
    "    prior_cdf = np.concatenate([[0], prior_cdf, [1]])\n",
    "    cdf_spline = interpolate.InterpolatedUnivariateSpline(x=xs, y=prior_cdf, k=3, ext='const')\n",
    "\n",
    "    if enforce_assert:\n",
    "        x = np.sort(sample_prior(r, eta, 100000))\n",
    "        res = stats.ks_1samp(x, cdf_spline)\n",
    "        if debug:\n",
    "            print(res)\n",
    "        assert 0 <= res.statistic <= .1\n",
    "\n",
    "    if return_assert:\n",
    "        x = np.sort(sample_prior(r, eta, 100000))\n",
    "        res = stats.ks_1samp(x, cdf_spline)\n",
    "        if debug:\n",
    "            print(res)\n",
    "        if not 0 <= res.statistic <= .1:\n",
    "            return None\n",
    "\n",
    "    if return_xs:\n",
    "        return xs, cdf_spline\n",
    "    else:\n",
    "        return cdf_spline"
   ]
  },
  {
   "cell_type": "code",
   "execution_count": 7,
   "metadata": {},
   "outputs": [
    {
     "name": "stdout",
     "output_type": "stream",
     "text": [
      "Chebyshev bound: 5.303970058521906e+18\n"
     ]
    },
    {
     "name": "stderr",
     "output_type": "stream",
     "text": [
      "100%|██████████| 500/500 [00:01<00:00, 316.39it/s]"
     ]
    },
    {
     "name": "stdout",
     "output_type": "stream",
     "text": [
      "First CDF value: 0.0006340757765096742\n",
      "Last CDF value: 0.9993659242234904\n",
      "KstestResult(statistic=0.003452302550463582, pvalue=0.18385408424306438, statistic_location=3.613196671342725e+16, statistic_sign=1)\n"
     ]
    },
    {
     "name": "stderr",
     "output_type": "stream",
     "text": [
      "\n"
     ]
    }
   ],
   "source": [
    "xs, cdf = compute_prior_cdf_using_gamma_cdf_efficient(0.05, 1, 1000, eng=eng, use_matlab=True, debug=True, return_xs=True)"
   ]
  },
  {
   "cell_type": "code",
   "execution_count": 41,
   "metadata": {},
   "outputs": [],
   "source": [
    "@lru_cache(maxsize=None)\n",
    "def compute_prior_cdf_using_gamma_cdf_efficienter(r, eta, n_samples=2000, tail_bound=0.001, tail_percent=0.1, scale=1, use_matlab=True, eng=eng, enforce_assert=True, return_assert=False, return_xs=False, debug=False):\n",
    "    beta = (eta + 1.5) / r\n",
    "    var_prior = scale * special.gamma(beta + 1/r) / special.gamma(beta)\n",
    "    \n",
    "    cheby = np.sqrt(var_prior / tail_bound)\n",
    "    x_max = min(99, cheby)\n",
    "    n_tail = int(n_samples * tail_percent) if cheby >= 120 else 0\n",
    "    \n",
    "    if debug:\n",
    "        print(f\"Chebyshev bound: {cheby}\")\n",
    "        print(f\"{'No tail' if n_tail == 0 else f'Tail samples: {n_tail}'}\")\n",
    "\n",
    "    xs_minus = np.concatenate((-np.logspace(np.log10(cheby), 2, n_tail),\n",
    "                               np.linspace(-x_max, 0, n_samples//2-n_tail)))\n",
    "\n",
    "    prior_cdf_minus = np.zeros_like(xs_minus)\n",
    "\n",
    "    def gauss_density(z, x):\n",
    "        return np.exp(-0.5 * (x/z)**2) / (np.sqrt(2*np.pi) * z)\n",
    "\n",
    "    def gen_gamma_cdf(x):\n",
    "        return special.gammainc(beta, x**r)\n",
    "\n",
    "    def integrand(z, x):\n",
    "        return gauss_density(z, x) * (1 - gen_gamma_cdf((x/z)**2))\n",
    "\n",
    "    if debug:\n",
    "        for j in tqdm(range(len(xs_minus))):\n",
    "            x = xs_minus[j]\n",
    "            if use_matlab:\n",
    "                prior_cdf_minus[j] = eng.compute_cdf_using_gengamma(float(r), float(eta), float(x), nargout=1)\n",
    "            else:\n",
    "                res = integrate.quad(integrand, 0, np.inf, args=(x,))[0]\n",
    "                prior_cdf_minus[j] = res\n",
    "    else:\n",
    "        for j, x in enumerate(xs_minus):\n",
    "            if use_matlab:\n",
    "                prior_cdf_minus[j] = eng.compute_cdf_using_gengamma(float(r), float(eta), float(x), nargout=1)\n",
    "            else:\n",
    "                res = integrate.quad(integrand, 0, np.inf, args=(x,))[0]\n",
    "                prior_cdf_minus[j] = res\n",
    "\n",
    "    xs_plus = -np.flip(xs_minus[:-1])\n",
    "    prior_cdf_plus = 1-np.flip(prior_cdf_minus[:-1])\n",
    "\n",
    "    xs = np.concatenate((xs_minus, xs_plus))\n",
    "    prior_cdf = np.concatenate((prior_cdf_minus, prior_cdf_plus))\n",
    "\n",
    "    if debug:\n",
    "        print(f\"First CDF value: {prior_cdf[0]}\")\n",
    "        print(f\"Last CDF value: {prior_cdf[-1]}\")\n",
    "\n",
    "    if return_assert or enforce_assert:\n",
    "        eps = tail_bound\n",
    "        if not (-eps < prior_cdf[0] < eps and 1 - eps < prior_cdf[-1] < 1 + eps):\n",
    "            return None if return_assert else AssertionError(\"CDF bounds not satisfied\")\n",
    "        \n",
    "    xs = np.concatenate(([1.01 * xs[0]], xs, [1.01 * xs[-1]]))\n",
    "    prior_cdf = np.concatenate(([0], prior_cdf, [1]))\n",
    "    cdf_spline = interpolate.InterpolatedUnivariateSpline(x=xs, y=prior_cdf, k=3, ext='const')\n",
    "\n",
    "    if return_assert or enforce_assert:\n",
    "        x = np.sort(sample_prior(r, eta, 100000))\n",
    "        res = stats.ks_1samp(x, cdf_spline)\n",
    "        if debug:\n",
    "            print(res)\n",
    "        if not 0 <= res.statistic <= 0.1:\n",
    "            return None if return_assert else AssertionError(\"KS test failed\")\n",
    "\n",
    "    return (xs, cdf_spline) if return_xs else cdf_spline\n"
   ]
  },
  {
   "cell_type": "code",
   "execution_count": 58,
   "metadata": {},
   "outputs": [],
   "source": [
    "xs, cdf = compute_prior_cdf_using_gamma_cdf_efficienter(0.05, 1, 1000, eng=eng, use_matlab=True, debug=False, return_xs=True)"
   ]
  },
  {
   "cell_type": "code",
   "execution_count": 59,
   "metadata": {},
   "outputs": [
    {
     "data": {
      "text/plain": [
       "[<matplotlib.lines.Line2D at 0x2d2700886d0>]"
      ]
     },
     "execution_count": 59,
     "metadata": {},
     "output_type": "execute_result"
    },
    {
     "data": {
      "image/png": "[encoded data removed]",
      "text/plain": [
       "<Figure size 640x480 with 1 Axes>"
      ]
     },
     "metadata": {},
     "output_type": "display_data"
    }
   ],
   "source": [
    "big = 1e18\n",
    "xx = np.sort(np.append(-np.linspace(-big, big, 100000), np.linspace(-big, big, 100000)))\n",
    "plt.plot(xx, cdf.derivative()(xx))"
   ]
  },
  {
   "cell_type": "code",
   "execution_count": 4,
   "metadata": {},
   "outputs": [],
   "source": [
    "def compute_prior_cdf_using_phi(r, eta, n_samples = 10000, tail_bound = 0.05, tail_percent = 0.01, scale = 1, scipy_int=True, eng= None, enforce_assert=True, return_assert = False, return_xs=False, debug=False):\n",
    "    \n",
    "    beta = (eta + 1.5)/r \n",
    "    var_prior = scale * scipy.special.gamma(beta + 1/r)/scipy.special.gamma(beta)\n",
    "    cheby = np.sqrt(var_prior/(tail_bound))\n",
    "    n_tail = int(n_samples*tail_percent)\n",
    "    \n",
    "    # introduced additional bound in case chebyshev is unwieldy\n",
    "    x_max = min(99, cheby) \n",
    "    if cheby < 120:\n",
    "        n_tail = 0\n",
    "        if debug:\n",
    "            print(f\"No tail\")\n",
    "    if debug:\n",
    "        print(f\"Chebyshev bound: {cheby}\")\n",
    "\n",
    "    xs = np.linspace(-x_max, x_max, n_samples-2*n_tail)\n",
    "    xs = np.append(-np.logspace(np.log10(cheby), 2, n_tail), xs)\n",
    "    xs = np.append(xs, np.logspace(2, np.log10(cheby), n_tail))\n",
    "\n",
    "    prior_cdf = np.full(xs.shape, np.nan)\n",
    "\n",
    "    for j in tqdm(range(len(xs))):\n",
    "\n",
    "        x = xs[j]\n",
    "        # Note that theta = variance, np.sqrt(theta) = SD\n",
    "    \n",
    "\n",
    "        def gen_gamma_density(theta):\n",
    "            return (np.abs(r)/scipy.special.gamma(beta)) * (1/scale) * (theta/scale)**(r*beta - 1) * np.exp(-(theta/scale)**r)\n",
    "\n",
    "        def integrand(theta):\n",
    "            return stats.norm.cdf(x/np.sqrt(theta)) * gen_gamma_density(theta)\n",
    "\n",
    "        if scipy_int:\n",
    "            prior_cdf[j] = integrate.quad(integrand, 0, np.inf)[0]\n",
    "        else:\n",
    "            prior_cdf[j] = eng.compute_cdf_using_phi(float(r), float(eta), float(x), nargout=1)\n",
    "    \n",
    "    \n",
    "    normalizer = prior_cdf[-1]\n",
    "    first = prior_cdf[1]\n",
    "\n",
    "    if debug:\n",
    "        print(\"First CDF value:\", first)\n",
    "        print(\"Last CDF value:\", normalizer)\n",
    "\n",
    "    if return_assert:\n",
    "        if not 0.05 > first > -0.05:\n",
    "            return None\n",
    "        if not 1.05 > normalizer > 0.95:\n",
    "            return None    \n",
    "\n",
    "    if enforce_assert:\n",
    "        assert 0.05 > first > -0.05    \n",
    "        assert 1.05 > normalizer > 0.95\n",
    "    \n",
    "    prior_cdf = prior_cdf/normalizer   \n",
    "\n",
    "    k = int(0.01*len(xs))\n",
    "    zero_padding = np.zeros(k)\n",
    "    ones_padding = np.ones(k)\n",
    "\n",
    "    pad_max = max(10e5, np.round(max(np.abs(xs)) ** 2))\n",
    "    if debug:\n",
    "        print(f\"0, 1 padding bounds: {pad_max}\")\n",
    "\n",
    "    prior_cdf_padded = np.concatenate([zero_padding, prior_cdf, ones_padding])\n",
    "    xs_padded = np.concatenate([\n",
    "        np.linspace(-pad_max, xs[0] - 1e-5, k),\n",
    "        xs,\n",
    "        np.linspace(xs[-1] + 1e-5, pad_max, k)\n",
    "    ])\n",
    "\n",
    "    cdf_spline = interpolate.CubicSpline(x=xs_padded, y=prior_cdf_padded)\n",
    "\n",
    "    \n",
    "    if return_xs:\n",
    "        return xs, cdf_spline\n",
    "    else:\n",
    "        return cdf_spline"
   ]
  },
  {
   "cell_type": "code",
   "execution_count": 6,
   "metadata": {},
   "outputs": [
    {
     "name": "stdout",
     "output_type": "stream",
     "text": [
      "No tail\n",
      "Chebyshev bound: 33.46640106136302\n"
     ]
    },
    {
     "name": "stderr",
     "output_type": "stream",
     "text": [
      "100%|██████████| 1000/1000 [00:01<00:00, 613.33it/s]"
     ]
    },
    {
     "name": "stdout",
     "output_type": "stream",
     "text": [
      "First CDF value: 0.0005094475396235131\n",
      "Last CDF value: 0.9994977384915893\n",
      "0, 1 padding bounds: 1000000.0\n"
     ]
    },
    {
     "name": "stderr",
     "output_type": "stream",
     "text": [
      "\n"
     ]
    }
   ],
   "source": [
    "xs, prior_cdf = compute_prior_cdf_using_phi(r = 0.5, eta = 2, n_samples= 1000, eng= eng, scipy_int= False, return_xs=True, debug = True)"
   ]
  },
  {
   "cell_type": "code",
   "execution_count": 7,
   "metadata": {},
   "outputs": [
    {
     "data": {
      "text/plain": [
       "[<matplotlib.lines.Line2D at 0x15bdb2d10>]"
      ]
     },
     "execution_count": 7,
     "metadata": {},
     "output_type": "execute_result"
    },
    {
     "data": {
      "image/png": "[encoded data removed]",
      "text/plain": [
       "<Figure size 640x480 with 1 Axes>"
      ]
     },
     "metadata": {},
     "output_type": "display_data"
    }
   ],
   "source": [
    "plt.plot(xs, prior_cdf(xs))"
   ]
  },
  {
   "cell_type": "code",
   "execution_count": 8,
   "metadata": {},
   "outputs": [
    {
     "name": "stdout",
     "output_type": "stream",
     "text": [
      "No tail\n",
      "Chebyshev bound: 33.46640106136302\n"
     ]
    },
    {
     "name": "stderr",
     "output_type": "stream",
     "text": [
      "100%|██████████| 100/100 [00:01<00:00, 58.29it/s]"
     ]
    },
    {
     "name": "stdout",
     "output_type": "stream",
     "text": [
      "First CDF value: 0.0005797445120281317\n",
      "Last CDF value: 0.9994977384921377\n",
      "0, 1 padding bounds: 1000000.0\n"
     ]
    },
    {
     "name": "stderr",
     "output_type": "stream",
     "text": [
      "\n"
     ]
    }
   ],
   "source": [
    "xs, prior_cdf = compute_prior_cdf_using_phi(r = 0.5, eta = 2, n_samples= 100, return_xs=True, debug = True)"
   ]
  },
  {
   "cell_type": "code",
   "execution_count": 10,
   "metadata": {},
   "outputs": [
    {
     "name": "stdout",
     "output_type": "stream",
     "text": [
      "Chebyshev bound: 7459.90595617666\n"
     ]
    },
    {
     "name": "stderr",
     "output_type": "stream",
     "text": [
      "100%|██████████| 10000/10000 [00:19<00:00, 524.28it/s]"
     ]
    },
    {
     "name": "stdout",
     "output_type": "stream",
     "text": [
      "First CDF value: 0.002186880240124085\n",
      "Last CDF value: 0.9981871279581372\n",
      "0, 1 padding bounds: 55650197.0\n"
     ]
    },
    {
     "name": "stderr",
     "output_type": "stream",
     "text": [
      "\n"
     ]
    }
   ],
   "source": [
    "xs, prior_cdf = compute_prior_cdf_using_phi(r = 0.2, eta = 2,  n_samples= 10000, eng= eng, scipy_int= False, return_xs=True, debug = True)"
   ]
  },
  {
   "cell_type": "code",
   "execution_count": 11,
   "metadata": {},
   "outputs": [
    {
     "name": "stdout",
     "output_type": "stream",
     "text": [
      "Chebyshev bound: 7459.90595617666\n"
     ]
    },
    {
     "name": "stderr",
     "output_type": "stream",
     "text": [
      " 27%|██▋       | 2711/10000 [00:06<00:19, 382.08it/s]/var/folders/0c/5hhs4r6n7pnc4jcl295d7j_c0000gn/T/ipykernel_77579/77987860.py:36: IntegrationWarning: The algorithm does not converge.  Roundoff error is detected\n",
      "  in the extrapolation table.  It is assumed that the requested tolerance\n",
      "  cannot be achieved, and that the returned result (if full_output = 1) is \n",
      "  the best which can be obtained.\n",
      "  prior_cdf[j] = integrate.quad(integrand, 0, np.inf)[0]\n",
      " 30%|██▉       | 2996/10000 [00:15<03:05, 37.75it/s]/var/folders/0c/5hhs4r6n7pnc4jcl295d7j_c0000gn/T/ipykernel_77579/77987860.py:36: IntegrationWarning: The integral is probably divergent, or slowly convergent.\n",
      "  prior_cdf[j] = integrate.quad(integrand, 0, np.inf)[0]\n",
      "100%|██████████| 10000/10000 [02:33<00:00, 64.96it/s]\n"
     ]
    },
    {
     "name": "stdout",
     "output_type": "stream",
     "text": [
      "First CDF value: 0.0\n",
      "Last CDF value: -3.6279876221888623e-10\n"
     ]
    },
    {
     "ename": "AssertionError",
     "evalue": "",
     "output_type": "error",
     "traceback": [
      "\u001b[0;31m---------------------------------------------------------------------------\u001b[0m",
      "\u001b[0;31mAssertionError\u001b[0m                            Traceback (most recent call last)",
      "Cell \u001b[0;32mIn[11], line 1\u001b[0m\n\u001b[0;32m----> 1\u001b[0m xs, prior_cdf \u001b[38;5;241m=\u001b[39m \u001b[43mcompute_prior_cdf_using_phi\u001b[49m\u001b[43m(\u001b[49m\u001b[43mr\u001b[49m\u001b[43m \u001b[49m\u001b[38;5;241;43m=\u001b[39;49m\u001b[43m \u001b[49m\u001b[38;5;241;43m0.2\u001b[39;49m\u001b[43m,\u001b[49m\u001b[43m \u001b[49m\u001b[43meta\u001b[49m\u001b[43m \u001b[49m\u001b[38;5;241;43m=\u001b[39;49m\u001b[43m \u001b[49m\u001b[38;5;241;43m2\u001b[39;49m\u001b[43m,\u001b[49m\u001b[43m  \u001b[49m\u001b[43mn_samples\u001b[49m\u001b[38;5;241;43m=\u001b[39;49m\u001b[43m \u001b[49m\u001b[38;5;241;43m10000\u001b[39;49m\u001b[43m,\u001b[49m\u001b[43m \u001b[49m\u001b[43meng\u001b[49m\u001b[38;5;241;43m=\u001b[39;49m\u001b[43m \u001b[49m\u001b[43meng\u001b[49m\u001b[43m,\u001b[49m\u001b[43m \u001b[49m\u001b[43mscipy_int\u001b[49m\u001b[38;5;241;43m=\u001b[39;49m\u001b[43m \u001b[49m\u001b[38;5;28;43;01mTrue\u001b[39;49;00m\u001b[43m,\u001b[49m\u001b[43m \u001b[49m\u001b[43mreturn_xs\u001b[49m\u001b[38;5;241;43m=\u001b[39;49m\u001b[38;5;28;43;01mTrue\u001b[39;49;00m\u001b[43m,\u001b[49m\u001b[43m \u001b[49m\u001b[43mdebug\u001b[49m\u001b[43m \u001b[49m\u001b[38;5;241;43m=\u001b[39;49m\u001b[43m \u001b[49m\u001b[38;5;28;43;01mTrue\u001b[39;49;00m\u001b[43m)\u001b[49m\n",
      "Cell \u001b[0;32mIn[4], line 56\u001b[0m, in \u001b[0;36mcompute_prior_cdf_using_phi\u001b[0;34m(r, eta, n_samples, tail_bound, tail_percent, scale, scipy_int, eng, enforce_assert, return_assert, return_xs, debug)\u001b[0m\n\u001b[1;32m     54\u001b[0m \u001b[38;5;28;01mif\u001b[39;00m enforce_assert:\n\u001b[1;32m     55\u001b[0m     \u001b[38;5;28;01massert\u001b[39;00m \u001b[38;5;241m0.05\u001b[39m \u001b[38;5;241m>\u001b[39m first \u001b[38;5;241m>\u001b[39m \u001b[38;5;241m-\u001b[39m\u001b[38;5;241m0.05\u001b[39m    \n\u001b[0;32m---> 56\u001b[0m     \u001b[38;5;28;01massert\u001b[39;00m \u001b[38;5;241m1.05\u001b[39m \u001b[38;5;241m>\u001b[39m normalizer \u001b[38;5;241m>\u001b[39m \u001b[38;5;241m0.95\u001b[39m\n\u001b[1;32m     58\u001b[0m prior_cdf \u001b[38;5;241m=\u001b[39m prior_cdf\u001b[38;5;241m/\u001b[39mnormalizer   \n\u001b[1;32m     60\u001b[0m k \u001b[38;5;241m=\u001b[39m \u001b[38;5;28mint\u001b[39m(\u001b[38;5;241m0.01\u001b[39m\u001b[38;5;241m*\u001b[39m\u001b[38;5;28mlen\u001b[39m(xs))\n",
      "\u001b[0;31mAssertionError\u001b[0m: "
     ]
    }
   ],
   "source": [
    "xs, prior_cdf = compute_prior_cdf_using_phi(r = 0.2, eta = 2,  n_samples= 10000, eng= eng, scipy_int= True, return_xs=True, debug = True)"
   ]
  },
  {
   "cell_type": "code",
   "execution_count": 14,
   "metadata": {},
   "outputs": [
    {
     "name": "stdout",
     "output_type": "stream",
     "text": [
      "Chebyshev bound: 2199047.5643201894\n"
     ]
    },
    {
     "name": "stderr",
     "output_type": "stream",
     "text": [
      "100%|██████████| 1000/1000 [00:02<00:00, 420.05it/s]"
     ]
    },
    {
     "name": "stdout",
     "output_type": "stream",
     "text": [
      "First CDF value: 0.0\n",
      "Last CDF value: 0.9972493653036226\n",
      "0, 1 padding bounds: 4835810190143.0\n"
     ]
    },
    {
     "name": "stderr",
     "output_type": "stream",
     "text": [
      "\n"
     ]
    }
   ],
   "source": [
    "xs, prior_cdf = compute_prior_cdf_using_phi(r = 0.13, eta = 2,  n_samples= 1000, eng= eng, scipy_int= False, return_xs=True, debug = True)"
   ]
  },
  {
   "cell_type": "code",
   "execution_count": 166,
   "metadata": {},
   "outputs": [],
   "source": [
    "def compute_prior_cdf_using_gamma_cdf(r, eta, n_samples = 10000, tail_bound = 0.05, tail_percent = 0.01, scale = 1, scipy_int=True, eng= None, enforce_assert=True, return_assert = False, return_xs=False, debug=False):\n",
    "    \n",
    "    beta = (eta + 1.5)/r \n",
    "    var_prior = scale * scipy.special.gamma(beta + 1/r)/scipy.special.gamma(beta)\n",
    "        \n",
    "    cheby = np.sqrt(var_prior/(tail_bound))\n",
    "    if np.isnan(var_prior):\n",
    "        cheby = 1e100\n",
    "    n_tail = int(n_samples*tail_percent)\n",
    "    \n",
    "    # introduced additional bound in case chebyshev is unwieldy\n",
    "    x_max = min(99, cheby) \n",
    "    if cheby < 120:\n",
    "        n_tail = 0\n",
    "        if debug:\n",
    "            print(f\"No tail\")\n",
    "    if debug:\n",
    "        print(f\"Chebyshev bound: {cheby}\")\n",
    "\n",
    "    xs = np.linspace(-x_max, x_max, n_samples-2*n_tail)\n",
    "    xs = np.append(-np.logspace(np.log10(cheby), 2, n_tail), xs)\n",
    "    xs = np.append(xs, np.logspace(2, np.log10(cheby), n_tail))\n",
    "\n",
    "    prior_cdf = np.full(xs.shape, np.nan)\n",
    "\n",
    "    if debug:\n",
    "        loop = tqdm(range(len(xs)))\n",
    "    else:\n",
    "        loop = range(len(xs))\n",
    "    for j in loop:\n",
    "\n",
    "        x = xs[j]\n",
    "        # Note that theta = variance, np.sqrt(theta) = SD\n",
    "        def gauss_density(z):\n",
    "            return (1/(np.sqrt(2*np.pi)) * np.exp(-0.5*(x**2)))\n",
    "\n",
    "        def gen_gamma_cdf(x):\n",
    "            return special.gammainc(beta, x**r)\n",
    "\n",
    "        def integrand(z):\n",
    "            return gauss_density(z) * (1-gen_gamma_cdf((x/z)**2))\n",
    "\n",
    "        if scipy_int:\n",
    "            res = integrate.quad(integrand, 0, np.inf)[0]\n",
    "            if x > 0:\n",
    "                res = 1-res\n",
    "            prior_cdf[j] = res\n",
    "        else:\n",
    "            prior_cdf[j] = eng.compute_cdf_using_gengamma(float(r), float(eta), float(x), nargout=1)\n",
    "        \n",
    "    normalizer = prior_cdf[-1]\n",
    "    first = prior_cdf[1]\n",
    "\n",
    "    if debug:\n",
    "        print(\"First CDF value:\", first)\n",
    "        print(\"Last CDF value:\", normalizer)\n",
    "\n",
    "    if return_assert:\n",
    "        if not 0.05 > first > -0.05:\n",
    "            return None\n",
    "        if not 1.05 > normalizer > 0.95:\n",
    "            return None    \n",
    "\n",
    "    if enforce_assert:\n",
    "        assert 0.01 > first > -0.01    \n",
    "        assert 1.01 > normalizer > 0.99\n",
    "    \n",
    "    prior_cdf = (prior_cdf - first)\n",
    "    normalizer_new = prior_cdf[-1]\n",
    "    prior_cdf = prior_cdf/normalizer_new\n",
    "\n",
    "    if cheby > 1e10:\n",
    "        k = 10\n",
    "    else:\n",
    "        k = int(0.01*len(xs))\n",
    "   \n",
    "\n",
    "    zero_padding = np.zeros(k)\n",
    "    ones_padding = np.ones(k)\n",
    "    \n",
    "    pad_max = max(10e5, np.round(max(np.abs(xs)) ** 2))\n",
    "    step_size = (pad_max - xs[0]/2)/k\n",
    "    \n",
    "    if debug:\n",
    "        print(f\"0, 1 padding bounds: {pad_max}\")\n",
    "\n",
    "    prior_cdf_padded = np.concatenate([zero_padding, prior_cdf, ones_padding])\n",
    "    xs_padded = np.concatenate([\n",
    "        np.arange(-pad_max, xs[0]/2, step_size),\n",
    "        xs,\n",
    "        np.arange(xs[-1] *2, pad_max, step_size)\n",
    "    ])\n",
    "\n",
    "    cdf_spline = interpolate.CubicSpline(x=xs_padded, y=prior_cdf_padded, bc_type=((1, 0.0), (1, 0.0)))\n",
    "\n",
    "    if enforce_assert:\n",
    "        x = np.sort(sample_prior(r, eta, 100000))\n",
    "        res = stats.ks_1samp(x, cdf_spline)\n",
    "        assert 0 <= res.statistic <= 1\n",
    "        if res.pvalue < 0.01:\n",
    "            assert np.abs(res.statistic_location) > cheby\n",
    "    if return_assert:\n",
    "        x = np.sort(sample_prior(r, eta, 100000))\n",
    "        res = stats.ks_1samp(x, cdf_spline)\n",
    "        if not 0 <= res.statistic <= 1:\n",
    "            return None\n",
    "        if res.pvalue < 0.01:\n",
    "            if not np.abs(res.statistic_location) > cheby:\n",
    "                return None\n",
    "\n",
    "    if return_xs:\n",
    "        return xs, cdf_spline\n",
    "    else:\n",
    "        return cdf_spline"
   ]
  },
  {
   "cell_type": "code",
   "execution_count": 170,
   "metadata": {},
   "outputs": [
    {
     "name": "stdout",
     "output_type": "stream",
     "text": [
      "Chebyshev bound: 1.046890876954065e+36\n"
     ]
    },
    {
     "name": "stderr",
     "output_type": "stream",
     "text": [
      "100%|██████████| 2000/2000 [00:02<00:00, 846.28it/s]\n"
     ]
    },
    {
     "name": "stdout",
     "output_type": "stream",
     "text": [
      "First CDF value: 0.006108396893790122\n",
      "Last CDF value: 0.996881370891471\n",
      "0, 1 padding bounds: 1.0959805082496425e+72\n"
     ]
    }
   ],
   "source": [
    "xs, prior_cdf = compute_prior_cdf_using_gamma_cdf(r = 0.03, eta = 2, n_samples= 2000, scipy_int=False, eng = eng, debug = True, return_xs = True, tail_percent = 0.1)"
   ]
  },
  {
   "cell_type": "code",
   "execution_count": 171,
   "metadata": {},
   "outputs": [
    {
     "data": {
      "text/plain": [
       "KstestResult(statistic=0.028796557006413037, pvalue=1.7887647680746212e-72, statistic_location=1.3625808802812387e+37, statistic_sign=1)"
      ]
     },
     "execution_count": 171,
     "metadata": {},
     "output_type": "execute_result"
    }
   ],
   "source": [
    "x = np.sort(sample_prior(0.03, 2, 100000))\n",
    "stats.ks_1samp(x, prior_cdf)"
   ]
  },
  {
   "cell_type": "code",
   "execution_count": 148,
   "metadata": {},
   "outputs": [
    {
     "data": {
      "text/plain": [
       "array(0.65773499)"
      ]
     },
     "execution_count": 148,
     "metadata": {},
     "output_type": "execute_result"
    }
   ],
   "source": [
    "prior_cdf(6.0961567* 1e33)"
   ]
  },
  {
   "cell_type": "code",
   "execution_count": 61,
   "metadata": {},
   "outputs": [
    {
     "data": {
      "text/plain": [
       "[<matplotlib.lines.Line2D at 0x15c8245e0>]"
      ]
     },
     "execution_count": 61,
     "metadata": {},
     "output_type": "execute_result"
    },
    {
     "data": {
      "image/png": "[encoded data removed]",
      "text/plain": [
       "<Figure size 640x480 with 1 Axes>"
      ]
     },
     "metadata": {},
     "output_type": "display_data"
    }
   ],
   "source": [
    "plt.plot(xs, prior_cdf(xs))\n"
   ]
  },
  {
   "cell_type": "code",
   "execution_count": 129,
   "metadata": {},
   "outputs": [
    {
     "data": {
      "text/plain": [
       "array(1.)"
      ]
     },
     "execution_count": 129,
     "metadata": {},
     "output_type": "execute_result"
    }
   ],
   "source": [
    "prior_cdf(1e10)"
   ]
  },
  {
   "cell_type": "code",
   "execution_count": null,
   "metadata": {},
   "outputs": [],
   "source": []
  }
 ],
 "metadata": {
  "interpreter": {
   "hash": "83635bb4831aedbea94bec2369092292994a8fbbb881bb3adfcb1b33cd30abe3"
  },
  "kernelspec": {
   "display_name": "Python 3.10.14 64-bit ('Research': conda)",
   "name": "python3"
  },
  "language_info": {
   "codemirror_mode": {
    "name": "ipython",
    "version": 3
   },
   "file_extension": ".py",
   "mimetype": "text/x-python",
   "name": "python",
   "nbconvert_exporter": "python",
   "pygments_lexer": "ipython3",
   "version": "3.11.9"
  },
  "orig_nbformat": 4
 },
 "nbformat": 4,
 "nbformat_minor": 2
}
