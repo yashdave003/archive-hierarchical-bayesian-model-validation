{
 "cells": [
  {
   "cell_type": "code",
   "execution_count": 1,
   "source": [
    "from utilities import *\n",
    "import matlab.engine \n",
    "eng = matlab.engine.start_matlab()"
   ],
   "outputs": [],
   "metadata": {}
  },
  {
   "cell_type": "code",
   "execution_count": 2,
   "source": [
    "x = 100\n",
    "r = 1.2\n",
    "eta = 1.2\n",
    "beta = (eta + 1.5)/r \n",
    "scale = 1\n",
    "def gauss_density(theta):\n",
    "            return (1./(np.sqrt(2*np.pi)*theta)) * np.exp(-0.5*(x/theta)**2)\n",
    "\n",
    "def gen_gamma_density(theta):\n",
    "    return (r/scipy.special.gamma(beta)) * (1/scale) * (theta/scale)**(r*beta - 1) * np.exp(-(theta/scale)**r)\n",
    "\n",
    "def integrand(theta):\n",
    "    return gauss_density(theta) * gen_gamma_density(theta)\n",
    "\n",
    "# Integrate \n",
    "integrate.quad(integrand, 0, np.inf, limit = 5000)[0]"
   ],
   "outputs": [
    {
     "output_type": "execute_result",
     "data": {
      "text/plain": [
       "1.8713946977040587e-20"
      ]
     },
     "metadata": {},
     "execution_count": 2
    }
   ],
   "metadata": {}
  },
  {
   "cell_type": "code",
   "execution_count": 3,
   "source": [
    "\n",
    "#eng.quit()"
   ],
   "outputs": [],
   "metadata": {}
  },
  {
   "cell_type": "code",
   "execution_count": 10,
   "source": [
    "def compute_prior_pdf(r, eta, n_samples = 10000, tail_bound = 0.05, n_tail = 5, scale = 1, scipy_int=True):\n",
    "\n",
    "    '''\n",
    "    Returns support and pdf for prior distribution\n",
    "    r : shape parameter controlling rate of exponentional decay\n",
    "    eta : controls roundedness of peak, and hence sparsity\n",
    "    scale : scale parameter\n",
    "    n_samples : number of points used to numerically approximate CDF\n",
    "    tail_bound : Uses Chebyshev's Inequality to bound the region of the CDF that is outside the coverage of xs\n",
    "    n_tail : Sets the number of points tha lie outside the coverage of xs to approximate tails if need be\n",
    "\n",
    "    Usage:\n",
    "    new_pdf = compute_prior_cdf(r = 0.1, eta = 0.001)\n",
    "    new_pdf(0.5343) returns CDF\n",
    "    Can also accept arrays\n",
    "    '''\n",
    "    \n",
    "    beta = (eta + 1.5)/r \n",
    "    var_prior = scale * scipy.special.gamma((eta + 1.5 + 2)/r)/scipy.special.gamma(beta)\n",
    "    cheby = np.sqrt(np.round(var_prior/(tail_bound)))\n",
    "    x_max = min(99, cheby) # introduced additional bound in case chebyshev is unwieldy\n",
    "    if cheby <= 99:\n",
    "        n_tail = 0\n",
    "        print(\"No Tail\")\n",
    "        \n",
    "    xs = np.linspace(-x_max, x_max, n_samples-2*n_tail)\n",
    "    xs = np.append(-np.logspace(np.log10(cheby), 2, n_tail), xs)\n",
    "    xs = np.append(xs, np.logspace(2, np.log10(cheby), n_tail))\n",
    "    prior_pdf = np.full(xs.shape, np.nan)\n",
    "\n",
    "    # Loop over xs\n",
    "    for j, x in enumerate(xs):\n",
    "\n",
    "        # Define integrands\n",
    "        def gauss_density(theta):\n",
    "            return (1./(np.sqrt(2*np.pi)*theta)) * np.exp(-0.5*(x/theta)**2)\n",
    "\n",
    "        def gen_gamma_density(theta):\n",
    "            return (r/scipy.special.gamma(beta)) * (1/scale) * (theta/scale)**(r*beta - 1) * np.exp(-(theta/scale)**r)\n",
    "\n",
    "        def integrand(theta):\n",
    "            return gauss_density(theta) * gen_gamma_density(theta)\n",
    "\n",
    "        # Integrate \n",
    "        if scipy_int:\n",
    "            prior_pdf[j] = integrate.quad(integrand, 0, np.inf)[0]\n",
    "        else:\n",
    "            prior_pdf[j] = eng.testIntegrals(float(r), float(eta), float(x), nargout=1)\n",
    "    return xs, prior_pdf"
   ],
   "outputs": [],
   "metadata": {}
  },
  {
   "cell_type": "code",
   "execution_count": 22,
   "source": [
    "xs, prior_vals = compute_prior_pdf(r =.2, eta= 1.4, n_samples = 10000, n_tail = 100, tail_bound = 0.01, scipy_int = False)"
   ],
   "outputs": [],
   "metadata": {}
  },
  {
   "cell_type": "code",
   "execution_count": 20,
   "source": [
    "plt.plot(xs, prior_vals)\n",
    "plt.title(\"\")\n",
    "#plt.xlim([-1000,1000])\n"
   ],
   "outputs": [
    {
     "output_type": "execute_result",
     "data": {
      "text/plain": [
       "Text(0.5, 1.0, '')"
      ]
     },
     "metadata": {},
     "execution_count": 20
    },
    {
     "output_type": "display_data",
     "data": {
      "image/png": "[encoded data removed]",
      "text/plain": [
       "<Figure size 432x288 with 1 Axes>"
      ]
     },
     "metadata": {
      "needs_background": "light"
     }
    }
   ],
   "metadata": {}
  },
  {
   "cell_type": "code",
   "execution_count": null,
   "source": [],
   "outputs": [],
   "metadata": {}
  },
  {
   "cell_type": "code",
   "execution_count": 21,
   "source": [
    "#sum(prior_vals) * 200"
   ],
   "outputs": [],
   "metadata": {}
  },
  {
   "cell_type": "code",
   "execution_count": 22,
   "source": [
    "np.trapz(prior_vals, xs) \n"
   ],
   "outputs": [
    {
     "output_type": "execute_result",
     "data": {
      "text/plain": [
       "0.996091458032099"
      ]
     },
     "metadata": {},
     "execution_count": 22
    }
   ],
   "metadata": {}
  },
  {
   "cell_type": "code",
   "execution_count": 8,
   "source": [
    "k = 6\n",
    "eng.testIntegrals(0.1, 1.4, float(10**k), nargout=1)"
   ],
   "outputs": [
    {
     "output_type": "execute_result",
     "data": {
      "text/plain": [
       "3.917253393090709e-20"
      ]
     },
     "metadata": {},
     "execution_count": 8
    }
   ],
   "metadata": {}
  },
  {
   "cell_type": "code",
   "execution_count": 9,
   "source": [
    "type(10**7)"
   ],
   "outputs": [
    {
     "output_type": "execute_result",
     "data": {
      "text/plain": [
       "int"
      ]
     },
     "metadata": {},
     "execution_count": 9
    }
   ],
   "metadata": {}
  },
  {
   "cell_type": "markdown",
   "source": [
    "eng.testIntegrals(0.2, 1.4, 10e6, nargout=1) "
   ],
   "metadata": {}
  },
  {
   "cell_type": "code",
   "execution_count": 17,
   "source": [
    "def compute_prior_cdf(r, eta, n_samples = 1000, tail_bound = 0.05, n_tail = 5, scale = 1, scipy_int=True):\n",
    "\n",
    "    '''\n",
    "    Returns PPoly-type function that approximates the prior CDF of the signal x\n",
    "    r : shape parameter controlling rate of exponentional decay\n",
    "    eta : controls roundedness of peak, and hence sparsity\n",
    "    scale : scale parameter\n",
    "    n_samples : number of points used to numerically approximate CDF\n",
    "    tail_bound : Uses Chebyshev's Inequality to bound the region of the CDF that is outside the coverage of xs\n",
    "    n_tail : Sets the number of points tha lie outside the coverage of xs to approximate tails if need be\n",
    "\n",
    "    Usage:\n",
    "    new_cdf = compute_prior_cdf(r = 0.1, eta = 0.001)\n",
    "    new_cdf(0.5343) returns CDF\n",
    "    Can also accept arrays\n",
    "    '''\n",
    "    \n",
    "    beta = (eta + 1.5)/r \n",
    "    var_prior = scale * scipy.special.gamma((eta + 1.5 + 2)/r)/scipy.special.gamma(beta)\n",
    "    cheby = np.sqrt(np.round(var_prior/(tail_bound)))\n",
    "    \n",
    "    x_max = min(99, cheby) # introduced additional bound in case chebyshev is unwieldy\n",
    "    if cheby <= 99:\n",
    "        n_tail = 0\n",
    "        print(\"No Tail\")\n",
    "    \n",
    "    print(cheby)\n",
    "    xs = np.linspace(-x_max, x_max, n_samples-2*n_tail)\n",
    "    xs = np.append(-np.logspace(np.log10(cheby), 2, n_tail), xs)\n",
    "    xs = np.append(xs, np.logspace(2, np.log10(cheby), n_tail))\n",
    "    prior_pdf = np.full(xs.shape, np.nan)\n",
    "\n",
    "    # Loop over xs\n",
    "    for j, x in enumerate(xs):\n",
    "\n",
    "        # Define integrands\n",
    "        def gauss_density(theta):\n",
    "            return (1./(np.sqrt(2*np.pi)*theta)) * np.exp(-0.5*(x/theta)**2)\n",
    "\n",
    "        def gen_gamma_density(theta):\n",
    "            return (r/scipy.special.gamma(beta)) * (1/scale) * (theta/scale)**(r*beta - 1) * np.exp(-(theta/scale)**r)\n",
    "\n",
    "        def integrand(theta):\n",
    "            return gauss_density(theta) * gen_gamma_density(theta)\n",
    "\n",
    "        # Integrate \n",
    "        if scipy_int:\n",
    "            prior_pdf[j] = integrate.quad(integrand, 0, np.inf)[0]\n",
    "        else:\n",
    "            prior_pdf[j] = prior_pdf[j] = eng.testIntegrals(float(r), float(eta), x, nargout=1)\n",
    "\n",
    "    prior_cdf = np.zeros_like(prior_pdf)\n",
    "    for i in range(len(xs) - 1):\n",
    "        prior_cdf[i] = np.trapz(prior_pdf[:i+1], xs[:i+1]) \n",
    "    prior_cdf = np.append(prior_cdf[:-1], 1)\n",
    "    poly = interpolate.CubicSpline(x = xs, y = prior_cdf)\n",
    "    return poly"
   ],
   "outputs": [],
   "metadata": {}
  },
  {
   "cell_type": "code",
   "execution_count": 23,
   "source": [
    "pcdf = compute_prior_cdf(r = .2, eta= 1.4, n_samples = 10000, n_tail = 100, tail_bound = 0.01, scipy_int=False)"
   ],
   "outputs": [
    {
     "output_type": "stream",
     "name": "stdout",
     "text": [
      "23357984.570025407\n"
     ]
    }
   ],
   "metadata": {}
  },
  {
   "cell_type": "code",
   "execution_count": 24,
   "source": [
    "plt.plot(xs, pcdf(xs))"
   ],
   "outputs": [
    {
     "output_type": "execute_result",
     "data": {
      "text/plain": [
       "[<matplotlib.lines.Line2D at 0x7f9ca0f03b20>]"
      ]
     },
     "metadata": {},
     "execution_count": 24
    },
    {
     "output_type": "display_data",
     "data": {
      "image/png": "[encoded data removed]",
      "text/plain": [
       "<Figure size 432x288 with 1 Axes>"
      ]
     },
     "metadata": {
      "needs_background": "light"
     }
    }
   ],
   "metadata": {}
  },
  {
   "cell_type": "code",
   "execution_count": 51,
   "source": [
    "pcdf(22)"
   ],
   "outputs": [
    {
     "output_type": "execute_result",
     "data": {
      "text/plain": [
       "array(0.75479706)"
      ]
     },
     "metadata": {},
     "execution_count": 51
    }
   ],
   "metadata": {}
  },
  {
   "cell_type": "code",
   "execution_count": 42,
   "source": [
    "pcdf(-40)"
   ],
   "outputs": [
    {
     "output_type": "execute_result",
     "data": {
      "text/plain": [
       "array(0.00012358)"
      ]
     },
     "metadata": {},
     "execution_count": 42
    }
   ],
   "metadata": {}
  },
  {
   "cell_type": "code",
   "execution_count": null,
   "source": [],
   "outputs": [],
   "metadata": {}
  }
 ],
 "metadata": {
  "orig_nbformat": 4,
  "language_info": {
   "name": "python",
   "version": "3.8.8",
   "mimetype": "text/x-python",
   "codemirror_mode": {
    "name": "ipython",
    "version": 3
   },
   "pygments_lexer": "ipython3",
   "nbconvert_exporter": "python",
   "file_extension": ".py"
  },
  "kernelspec": {
   "name": "python3",
   "display_name": "Python 3.8.8 64-bit ('base': conda)"
  },
  "interpreter": {
   "hash": "7e5f984cc8cd8c47dcd3acda73327432e6be76c353527f01c56663ba6bbc3ba9"
  }
 },
 "nbformat": 4,
 "nbformat_minor": 2
}