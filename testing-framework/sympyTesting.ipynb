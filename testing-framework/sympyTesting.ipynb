{
 "cells": [
  {
   "cell_type": "code",
   "execution_count": 7,
   "source": [
    "import os\n",
    "BRANDON = '/Users/brandonmarks/Desktop/Research Materials/hierarchical-bayesian-model-validation/'\n",
    "YASH = '/Users/yashd/Desktop/hierarchical-bayesian-model-validation/'\n",
    "HANNAH = ''\n",
    "ZIXUN = ''\n",
    "\n",
    "ROOT_DIR = BRANDON\n",
    "os.chdir(ROOT_DIR + 'testing-framework/')\n",
    "\n",
    "from utilities import *\n",
    "from plot_utilities import *\n",
    "\n",
    "from scipy import special\n",
    "np.random.seed(42)\n",
    "from tqdm import tqdm\n",
    "import sys\n",
    "from sympy import *"
   ],
   "outputs": [],
   "metadata": {}
  },
  {
   "cell_type": "code",
   "execution_count": 15,
   "source": [
    "r = 0.2\n",
    "x =  0\n",
    "beta = 3\n",
    "z = symbols('z')"
   ],
   "outputs": [],
   "metadata": {}
  },
  {
   "cell_type": "code",
   "execution_count": 67,
   "source": [
    "gauss = (sympy.sqrt(2*sympy.pi))**(-1)* E** (-1/2 * z**2) \n",
    "gauss"
   ],
   "outputs": [
    {
     "output_type": "execute_result",
     "data": {
      "text/latex": [
       "$\\displaystyle \\frac{\\sqrt{2} e^{- 0.5 z^{2}}}{2 \\sqrt{\\pi}}$"
      ],
      "text/plain": [
       "sqrt(2)*exp(-0.5*z**2)/(2*sqrt(pi))"
      ]
     },
     "metadata": {},
     "execution_count": 67
    }
   ],
   "metadata": {}
  },
  {
   "cell_type": "code",
   "execution_count": 68,
   "source": [
    "gengamma = functions.special.gamma_functions.lowergamma(beta, ((x/z)**2)**r).evalf()*1/gamma(beta)\n",
    "gengamma"
   ],
   "outputs": [
    {
     "output_type": "execute_result",
     "data": {
      "text/latex": [
       "$\\displaystyle 0$"
      ],
      "text/plain": [
       "0"
      ]
     },
     "metadata": {},
     "execution_count": 68
    }
   ],
   "metadata": {}
  },
  {
   "cell_type": "code",
   "execution_count": 69,
   "source": [
    "integrate(gauss*(1-gengamma), (z, -oo, 0)).evalf()"
   ],
   "outputs": [
    {
     "output_type": "execute_result",
     "data": {
      "text/latex": [
       "$\\displaystyle 0.5$"
      ],
      "text/plain": [
       "0.500000000000000"
      ]
     },
     "metadata": {},
     "execution_count": 69
    }
   ],
   "metadata": {}
  },
  {
   "cell_type": "code",
   "execution_count": 73,
   "source": [
    "r = 0.2\n",
    "x =  2\n",
    "beta = 3\n",
    "z = symbols('z')\n",
    "gauss = (sqrt(2*pi))**(-1)* E** (-1/2 * z**2) \n",
    "gengamma = functions.special.gamma_functions.lowergamma(beta, ((x/z)**2)**r).evalf()*1/gamma(beta)\n",
    "res = integrate(gauss*(1-gengamma), (z, -oo, 0)).evalf()\n",
    "if x > 0:\n",
    "    res = 1 - res   \n",
    "res"
   ],
   "outputs": [
    {
     "output_type": "execute_result",
     "data": {
      "text/latex": [
       "$\\displaystyle 0.638130961974377$"
      ],
      "text/plain": [
       "0.638130961974377"
      ]
     },
     "metadata": {},
     "execution_count": 73
    }
   ],
   "metadata": {}
  },
  {
   "cell_type": "code",
   "execution_count": 56,
   "source": [
    "24-393/np.exp(3)"
   ],
   "outputs": [
    {
     "output_type": "execute_result",
     "data": {
      "text/plain": [
       "4.433682131429471"
      ]
     },
     "metadata": {},
     "execution_count": 56
    }
   ],
   "metadata": {}
  },
  {
   "cell_type": "code",
   "execution_count": null,
   "source": [],
   "outputs": [],
   "metadata": {}
  }
 ],
 "metadata": {
  "orig_nbformat": 4,
  "language_info": {
   "name": "python",
   "version": "3.10.14",
   "mimetype": "text/x-python",
   "codemirror_mode": {
    "name": "ipython",
    "version": 3
   },
   "pygments_lexer": "ipython3",
   "nbconvert_exporter": "python",
   "file_extension": ".py"
  },
  "kernelspec": {
   "name": "python3",
   "display_name": "Python 3.10.14 64-bit ('NewResearch': conda)"
  },
  "interpreter": {
   "hash": "26f46df99c92824998f7c0f025f59877ecc4414f4acde0109b9ec8a8b8d773e9"
  }
 },
 "nbformat": 4,
 "nbformat_minor": 2
}