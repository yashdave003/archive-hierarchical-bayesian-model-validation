{
 "cells": [
  {
   "cell_type": "code",
   "execution_count": 10,
   "source": [
    "from utilities import *\n",
    "from plot_utilities import *\n",
    "import matlab.engine \n",
    "eng = matlab.engine.start_matlab()"
   ],
   "outputs": [],
   "metadata": {}
  },
  {
   "cell_type": "code",
   "execution_count": 68,
   "source": [
    "def compute_prior_cdf(r, eta, n_samples = 1000, tail_bound = 0.05, n_tail = 5, scale = 1, scipy_int=True, support = False):\n",
    "\n",
    "    '''\n",
    "    Returns PPoly-type function that approximates the prior CDF of the signal x\n",
    "    r : shape parameter controlling rate of exponentional decay\n",
    "    eta : controls roundedness of peak, and hence sparsity\n",
    "    scale : scale parameter\n",
    "    n_samples : number of points used to numerically approximate CDF\n",
    "    tail_bound : Uses Chebyshev's Inequality to bound the region of the CDF that is outside the coverage of xs\n",
    "    n_tail : Sets the number of points tha lie outside the coverage of xs to approximate tails if need be\n",
    "\n",
    "    Usage:\n",
    "    new_cdf = compute_prior_cdf(r = 0.1, eta = 0.001)\n",
    "    new_cdf(0.5343) returns CDF\n",
    "    Can also accept arrays\n",
    "    '''\n",
    "    \n",
    "    beta = (eta + 1.5)/r \n",
    "    var_prior = scale * scipy.special.gamma((eta + 1.5 + 2)/r)/scipy.special.gamma(beta)\n",
    "    cheby = np.sqrt(np.round(var_prior/(tail_bound)))\n",
    "    \n",
    "    x_max = min(99, cheby) # introduced additional bound in case chebyshev is unwieldy\n",
    "    if cheby < 120:\n",
    "        n_tail = 0\n",
    "        print(\"No Tail\")\n",
    "    \n",
    "    print(cheby)\n",
    "    xs = np.linspace(-x_max, x_max, n_samples-2*n_tail)\n",
    "    xs = np.append(-np.logspace(np.log10(cheby), 2, n_tail), xs)\n",
    "    xs = np.append(xs, np.logspace(2, np.log10(cheby), n_tail))\n",
    "    prior_pdf = np.full(xs.shape, np.nan)\n",
    "\n",
    "    # Loop over xs\n",
    "    for j, x in enumerate(xs):\n",
    "\n",
    "        # Define integrands\n",
    "        def gauss_density(theta):\n",
    "            return (1./(np.sqrt(2*np.pi)*theta)) * np.exp(-0.5*(x/theta)**2)\n",
    "\n",
    "        def gen_gamma_density(theta):\n",
    "            return (r/scipy.special.gamma(beta)) * (1/scale) * (theta/scale)**(r*beta - 1) * np.exp(-(theta/scale)**r)\n",
    "\n",
    "        def integrand(theta):\n",
    "            return gauss_density(theta) * gen_gamma_density(theta)\n",
    "\n",
    "        # Integrate \n",
    "        if scipy_int:\n",
    "            prior_pdf[j] = integrate.quad(integrand, 0, np.inf)[0]\n",
    "        else:\n",
    "            prior_pdf[j] = prior_pdf[j] = eng.testIntegrals(float(r), float(eta), x, nargout=1)\n",
    "\n",
    "    prior_cdf = np.zeros_like(prior_pdf)\n",
    "    prior_cdf[0] = 0\n",
    "    for i in range(1, len(xs)):\n",
    "        prior_cdf[i] = (interpolate.CubicSpline(x = xs[:i+1], y = prior_pdf[:i+1])).integrate(xs[0], xs[i])+0\n",
    "        #prior_cdf[i] = integrate.simps(prior_pdf[:i+1], xs[:i+1])\n",
    "    normalizer = prior_cdf[-2:-1][0]\n",
    "    #print(len(xs), len(prior_cdf))\n",
    "    prior_cdf = prior_cdf/normalizer\n",
    "    #prior_cdf = np.append(prior_cdf[:-1], 1)\n",
    "    \n",
    "   \n",
    "    poly = interpolate.CubicSpline(x = xs, y = prior_cdf)\n",
    "    if support:\n",
    "        return  xs, poly\n",
    "    else:\n",
    "        return poly"
   ],
   "outputs": [],
   "metadata": {}
  },
  {
   "cell_type": "code",
   "execution_count": 7,
   "source": [
    "xs, prior_cdf = compute_prior_cdf(1.4, 1.2, n_samples = 10000, tail_bound = 0.01, n_tail = 100, scipy_int=False, support = True)"
   ],
   "outputs": [
    {
     "output_type": "stream",
     "name": "stdout",
     "text": [
      "No Tail\n",
      "17.11724276862369\n"
     ]
    }
   ],
   "metadata": {}
  },
  {
   "cell_type": "code",
   "execution_count": 8,
   "source": [
    "plt.plot(xs, prior_cdf(xs))"
   ],
   "outputs": [
    {
     "output_type": "execute_result",
     "data": {
      "text/plain": [
       "[<matplotlib.lines.Line2D at 0x7fcb0045f9d0>]"
      ]
     },
     "metadata": {},
     "execution_count": 8
    },
    {
     "output_type": "display_data",
     "data": {
      "image/png": "[encoded data removed]",
      "text/plain": [
       "<Figure size 432x288 with 1 Axes>"
      ]
     },
     "metadata": {
      "needs_background": "light"
     }
    }
   ],
   "metadata": {}
  },
  {
   "cell_type": "code",
   "execution_count": 9,
   "source": [
    "n = 10\n",
    "sample_prior(1.4, 1.2, size = n)"
   ],
   "outputs": [
    {
     "output_type": "execute_result",
     "data": {
      "text/plain": [
       "array([ 0.90800331,  3.51524229,  2.5456226 ,  1.48343366, -1.32071774,\n",
       "        0.01676714,  1.44763284,  1.51873594, -0.26162569,  1.97698289])"
      ]
     },
     "metadata": {},
     "execution_count": 9
    }
   ],
   "metadata": {}
  },
  {
   "cell_type": "code",
   "execution_count": 25,
   "source": [
    "def visualize_cdfs(obs_x, null_cdf,  save_plot : bool = False):\n",
    "    \"\"\"\n",
    "    Visualize the gap between the empirical CDF and the true CDF.\n",
    "    \n",
    "    Args:\n",
    "        obs_x (np.ndarray): Observed data.\n",
    "        r (float): r value.\n",
    "        eta (float): eta value.\n",
    "        all_cdfs (dict): Dictionary containing true CDFs.\n",
    "        \n",
    "    Returns:\n",
    "        distance (float): The Kolmogorov-Smirnov statistic.\n",
    "        location (float): The location of the maximum deviation between the empirical and true CDFs.\n",
    "    \"\"\"\n",
    "    xs = np.linspace(np.min(obs_x), np.max(obs_x), 10000)\n",
    "    obs_x = np.sort(obs_x)\n",
    "    n = len(obs_x)\n",
    "    plt.plot(obs_x, np.arange(1, n+1)/n, label='Empirical CDF')\n",
    "    plt.plot(xs, null_cdf(xs), label='True CDF')\n",
    "\n",
    "    distance, pvalue = kstest_custom(obs_x, null_cdf)\n",
    "    location = kstest_custom(obs_x, null_cdf, return_loc = True)\n",
    "    emp_cdf_at_loc = np.searchsorted(obs_x, location, side='right') / n\n",
    "    true_cdf_at_loc = null_cdf(location)\n",
    "    plt.vlines(location, emp_cdf_at_loc, true_cdf_at_loc, linestyles='--', label=f'Maximum Deviation: {np.round(distance, 6)}')\n",
    "    \n",
    "\n",
    "\n",
    "    plt.title(f'Empirical CDF vs True CDF  \\n with p-value:{np.round(pvalue, 8)}')\n",
    "    plt.legend()\n",
    "    plt.show()\n",
    "\n",
    "    if save_plot:\n",
    "        plt.savefig(f'panoptic/plots/ecdf_vs_true_with_{r}_and_{eta}(n={n}).png', dpi = 300, bbox_inches = 'tight')\n",
    "    \n",
    "    return distance, location"
   ],
   "outputs": [],
   "metadata": {}
  },
  {
   "cell_type": "code",
   "execution_count": 65,
   "source": [
    "n = 10000\n",
    "obs_x = sample_prior(1.4, 1.2, size = n)"
   ],
   "outputs": [],
   "metadata": {}
  },
  {
   "cell_type": "code",
   "execution_count": 66,
   "source": [
    "visualize_cdfs(obs_x, prior_cdf)"
   ],
   "outputs": [
    {
     "output_type": "display_data",
     "data": {
      "image/png": "[encoded data removed]",
      "text/plain": [
       "<Figure size 432x288 with 1 Axes>"
      ]
     },
     "metadata": {
      "needs_background": "light"
     }
    },
    {
     "output_type": "execute_result",
     "data": {
      "text/plain": [
       "(0.007132395361185373, 0.915300980140586)"
      ]
     },
     "metadata": {},
     "execution_count": 66
    }
   ],
   "metadata": {}
  },
  {
   "cell_type": "code",
   "execution_count": 73,
   "source": [
    "n = 10000\n",
    "r = 0.2\n",
    "eta = 1.4\n",
    "obs_x = sample_prior(r, eta, size = n)\n",
    "prior_cdf = compute_prior_cdf(r, eta, n_samples = 10000, tail_bound = 0.01, n_tail = 100, scipy_int=False, support = False)"
   ],
   "outputs": [
    {
     "output_type": "stream",
     "name": "stdout",
     "text": [
      "23357984.570025407\n"
     ]
    }
   ],
   "metadata": {}
  },
  {
   "cell_type": "code",
   "execution_count": 74,
   "source": [
    "visualize_cdfs(obs_x, prior_cdf)"
   ],
   "outputs": [
    {
     "output_type": "display_data",
     "data": {
      "image/png": "[encoded data removed]",
      "text/plain": [
       "<Figure size 432x288 with 1 Axes>"
      ]
     },
     "metadata": {
      "needs_background": "light"
     }
    },
    {
     "output_type": "execute_result",
     "data": {
      "text/plain": [
       "(0.02583166677529325, 3202646.20598558)"
      ]
     },
     "metadata": {},
     "execution_count": 74
    }
   ],
   "metadata": {}
  },
  {
   "cell_type": "code",
   "execution_count": null,
   "source": [],
   "outputs": [],
   "metadata": {}
  }
 ],
 "metadata": {
  "orig_nbformat": 4,
  "language_info": {
   "name": "python",
   "version": "3.8.8",
   "mimetype": "text/x-python",
   "codemirror_mode": {
    "name": "ipython",
    "version": 3
   },
   "pygments_lexer": "ipython3",
   "nbconvert_exporter": "python",
   "file_extension": ".py"
  },
  "kernelspec": {
   "name": "python3",
   "display_name": "Python 3.8.8 64-bit ('base': conda)"
  },
  "interpreter": {
   "hash": "7e5f984cc8cd8c47dcd3acda73327432e6be76c353527f01c56663ba6bbc3ba9"
  }
 },
 "nbformat": 4,
 "nbformat_minor": 2
}